{
  "nbformat": 4,
  "nbformat_minor": 0,
  "metadata": {
    "colab": {
      "name": "Teste de Hipótese Com Uma Amostra - Parte 2.ipynb",
      "provenance": [],
      "collapsed_sections": []
    },
    "kernelspec": {
      "name": "python3",
      "display_name": "Python 3"
    },
    "language_info": {
      "name": "python"
    }
  },
  "cells": [
    {
      "cell_type": "markdown",
      "source": [
        "# Teste de hipótese com uma amostra (Parte 2/3)\n",
        "\n",
        "#### Na Parte 1 mostrou-se quais são as principais distribuições de densidade de probabilidade da Estatística. Agora veremos como implementar intervalos de confiança para testes z, t e qui-quadrado usando a biblioteca estatística Scipy.\n",
        "\n",
        "#### A teoria por trás do funcionamento de um intervalo de confiança para um parâmetro populacional específico está muito bem explicada no link a seguir: https://pt.wikipedia.org/wiki/Intervalo_de_confian%C3%A7a\n",
        "\n",
        "#### Obs: Para os três tipos de intervalos de confiança explanados aqui só é válido análise sobre amostras de populações normalmente distribuídas e/ou com tamanho de pelo menos 30 elementos (Teorema do Limite Central)."
      ],
      "metadata": {
        "id": "nt2883A4Tkv8"
      }
    },
    {
      "cell_type": "code",
      "execution_count": 1,
      "metadata": {
        "id": "2UqNiAyJ7faZ"
      },
      "outputs": [],
      "source": [
        "# Visualização.\n",
        "import matplotlib.pyplot as plt \n",
        "import seaborn as sns\n",
        "\n",
        "# Operações matemáticas.\n",
        "import numpy as np"
      ]
    },
    {
      "cell_type": "code",
      "source": [
        "# Semente de reprodução.\n",
        "np.random.seed(0)\n",
        "\n",
        "# Estilização.\n",
        "sns.set(color_codes=True)\n",
        "sns.set(rc={'figure.figsize': (13,8)})\n",
        "sns.set_style('whitegrid')\n",
        "\n",
        "plt.rc('axes', titlesize=10)  # Título\n",
        "plt.rc('axes', labelsize=18)  # Rótulos de x e y\n",
        "plt.rc('xtick', labelsize=15) # Valores em x\n",
        "plt.rc('ytick', labelsize=15) # Valores em y\n",
        "plt.rc('legend', fontsize=20) # Legenda"
      ],
      "metadata": {
        "id": "OKRYHoVLgBLl"
      },
      "execution_count": 2,
      "outputs": []
    },
    {
      "cell_type": "markdown",
      "source": [
        "### Distribuição Normal Padrão (z)\n",
        "\n",
        "#### A Distribuição Normal Padrão é um caso especial de Distribuição Normal em que a média da distribuição é zero (μ = 0) e o desvio é 1 (σ = 1). Como já vimos, a definição matemática de uma Distribuição Normal é dada por:\n",
        "\n",
        "$$ X \\sim N(\\mu, \\sigma^2): f(x; \\mu, \\sigma) = \\dfrac{1}{\\sigma\\sqrt{2\\pi}} e^{-\\dfrac{1}{2}\\left(\\dfrac{x-\\mu}{\\sigma}\\right)^2} $$\n",
        "\n",
        "#### Substituindo μ = 0 e σ = 1 temos:\n",
        "\n",
        "$$ f(x; 0, 1) = \\dfrac{1}{1\\sqrt{2\\pi}} e^{-\\dfrac{1}{2}\\left(\\dfrac{x-0}{1}\\right)^2} = \\dfrac{1}{\\sqrt{2\\pi}} e^{-\\dfrac{x^2}{2}} $$\n",
        "\n",
        "#### Portanto:\n",
        "\n",
        "$$ Z \\sim N(0, 1): f(z) = \\dfrac{1}{\\sqrt{2\\pi}} e^{-\\dfrac{z^2}{2}} $$\n",
        "\n",
        "\n",
        "#### O método Scipy de distribuições que retorna o valor f(z) é o pdf(z), vejamos:"
      ],
      "metadata": {
        "id": "HuzMzdbR8kgt"
      }
    },
    {
      "cell_type": "code",
      "source": [
        "from scipy.stats import norm"
      ],
      "metadata": {
        "id": "MRCb2M1O7bRv"
      },
      "execution_count": 3,
      "outputs": []
    },
    {
      "cell_type": "code",
      "source": [
        "# Definindo uma distribuição normal com norm(). \n",
        "# No ponto igual a 1 o método pdf(1) deve retornar: f(1) = norm.pdf(1) = [e^-(1²/2)]/sqrt(2*pi) ~ 0.24197\n",
        "\n",
        "norm.pdf(1)"
      ],
      "metadata": {
        "colab": {
          "base_uri": "https://localhost:8080/"
        },
        "id": "4W-4IC_e977F",
        "outputId": "099d7269-0a53-4dd5-87f6-c6459ab5e714"
      },
      "execution_count": 4,
      "outputs": [
        {
          "output_type": "execute_result",
          "data": {
            "text/plain": [
              "0.24197072451914337"
            ]
          },
          "metadata": {},
          "execution_count": 4
        }
      ]
    },
    {
      "cell_type": "markdown",
      "source": [
        "#### A integral da função f(x) é a função densidade acumulada da curva até o ponto x:\n",
        "\n",
        "$$ \\large FDA(x; \\mu, \\sigma) = \\int_{-\\infty}^{x} \\dfrac{1}{\\sigma\\sqrt{2\\pi}} e^{-\\dfrac{1}{2}\\left(\\dfrac{x-\\mu}{\\sigma}\\right)^{\\huge 2}}dx = \\dfrac{1}{2}\\left(1 + \\textrm{erf}\\left(\\dfrac{x - \\mu}{\\sigma \\sqrt{2}}\\right)\\right) $$\n",
        "\n",
        "#### A função *erf* é chamada de Error Function (Função Erro) e é uma função não-elementar, ou seja, ela não pode ser escrita em termos de funções matemáticas elementares como funções trigonométricas, logarítmicas, exponenciais e etc. Essa função é definida como:\n",
        "\n",
        "$$ \\large \\textrm{erf}(x) = \\dfrac{2}{\\sqrt{\\pi}} \\int_{0}^{x} e^{-t^2}dt$$\n",
        "\n",
        "#### Ela é diferenciável para todos os pontos x, logo podemos fazer uma aproximação usando a Série de Taylor:\n",
        "\n",
        "$$ \\large \\textrm{erf}(x) \\approx \\dfrac{2}{\\sqrt{\\pi}} \\sum_{n=0}^{\\infty}\\dfrac{x}{2n+1} \\prod_{k=1}^n\\dfrac{-x^2}{k}$$\n",
        "\n",
        "#### Aplicando a Função Erro à curva Z:\n",
        "\n",
        "$$ \\large FDA(z) = \\dfrac{1}{2}\\left(1 + \\textrm{erf}\\dfrac{z}{\\sqrt{2}}\\right) $$\n",
        "\n",
        "#### O método Scipy para a densidade acumulada até o ponto z é cdf(z).\n"
      ],
      "metadata": {
        "id": "muBGku1x1F0H"
      }
    },
    {
      "cell_type": "code",
      "source": [
        "# Da tabela z temos que FDA(-1.645) ~ 0.05\n",
        "\n",
        "norm.cdf(-1.645)"
      ],
      "metadata": {
        "colab": {
          "base_uri": "https://localhost:8080/"
        },
        "id": "rIhapJaJ7mAy",
        "outputId": "14bf53a2-84ba-4800-8f4a-888d9c339770"
      },
      "execution_count": 5,
      "outputs": [
        {
          "output_type": "execute_result",
          "data": {
            "text/plain": [
              "0.049984905539121376"
            ]
          },
          "metadata": {},
          "execution_count": 5
        }
      ]
    },
    {
      "cell_type": "code",
      "source": [
        "# Por simples complemento de área, a probabilidade acumulada à direita de z é 1 - norm.cdf(z), já que a área total é 1.\n",
        "# A biblioteca Scipy também implementa um método para esse cálculo, sf(z).\n",
        "\n",
        "# Tabela z: FDA(0.675) ~ 0.25\n",
        "\n",
        "norm.sf(0.675), np.allclose(1 - norm.cdf(0.675), norm.sf(0.675))"
      ],
      "metadata": {
        "colab": {
          "base_uri": "https://localhost:8080/"
        },
        "id": "Mom9tK02892P",
        "outputId": "c11287f7-fa35-4769-87ed-1174ae6084a7"
      },
      "execution_count": 6,
      "outputs": [
        {
          "output_type": "execute_result",
          "data": {
            "text/plain": [
              "(0.24983788247177702, True)"
            ]
          },
          "metadata": {},
          "execution_count": 6
        }
      ]
    },
    {
      "cell_type": "markdown",
      "source": [
        "#### Se fizermos a inversa de FDA então teremos uma função que retorna o valor z para uma dada probabilidade acumulada. Essa função no entanto não pode ser expressa por funções elementares, logo seu cálculo é feito por métodos de aproximação numéricos. O método Scipy para essa função inversa é o ppf(q), sendo q a probabilidade acumulada à esquerda. O complemento também está disponível pelo método isf(q)."
      ],
      "metadata": {
        "id": "lFrTYEU14jQa"
      }
    },
    {
      "cell_type": "code",
      "source": [
        "# Tabela z: inv(FDA(0.1)) ~ -1.28\n",
        "\n",
        "norm.ppf(0.1)"
      ],
      "metadata": {
        "colab": {
          "base_uri": "https://localhost:8080/"
        },
        "id": "O2-FJ0pqCVL7",
        "outputId": "9133155f-17f2-478b-af4b-866425d2c2b1"
      },
      "execution_count": 7,
      "outputs": [
        {
          "output_type": "execute_result",
          "data": {
            "text/plain": [
              "-1.2815515655446004"
            ]
          },
          "metadata": {},
          "execution_count": 7
        }
      ]
    },
    {
      "cell_type": "code",
      "source": [
        "# Tabela z: 1 - inv(FDA(0.2)) ~ 0.84\n",
        "\n",
        "norm.isf(0.2)"
      ],
      "metadata": {
        "colab": {
          "base_uri": "https://localhost:8080/"
        },
        "id": "xEeVMmZKC73X",
        "outputId": "82033241-9d0c-4112-ea79-2edcc6819385"
      },
      "execution_count": 8,
      "outputs": [
        {
          "output_type": "execute_result",
          "data": {
            "text/plain": [
              "0.8416212335729142"
            ]
          },
          "metadata": {},
          "execution_count": 8
        }
      ]
    },
    {
      "cell_type": "markdown",
      "source": [
        "#### Os extremos do intervalo com nível de confiança α são calculados usando o método interval(α). Perceba que os extremos são, para um intervalo de teste bilateral, opostos um ao outro."
      ],
      "metadata": {
        "id": "8jA5IALe6hnv"
      }
    },
    {
      "cell_type": "code",
      "source": [
        "# Tabela z: c = 0.90 --> ~(-1.645, 1.645)\n",
        "\n",
        "norm.interval(0.90)"
      ],
      "metadata": {
        "colab": {
          "base_uri": "https://localhost:8080/"
        },
        "id": "zNyRHwZfDV5z",
        "outputId": "48d39e4b-4449-4115-be07-a35bb40b4e93"
      },
      "execution_count": 9,
      "outputs": [
        {
          "output_type": "execute_result",
          "data": {
            "text/plain": [
              "(-1.6448536269514729, 1.6448536269514722)"
            ]
          },
          "metadata": {},
          "execution_count": 9
        }
      ]
    },
    {
      "cell_type": "markdown",
      "source": [
        "#### Para calcular os escores-z de todos os valores de uma amostra usa-se a função zscore.\n",
        "\n",
        "#### O escore-z representa quantos desvios padrão um valor específico se encontra distante da média:\n",
        "\n",
        "$$ z = \\dfrac{x - \\mu}{\\sigma}$$"
      ],
      "metadata": {
        "id": "fVhqqzTB7f2h"
      }
    },
    {
      "cell_type": "code",
      "source": [
        "from scipy.stats import zscore"
      ],
      "metadata": {
        "id": "2GfVwnL4E5a8"
      },
      "execution_count": 10,
      "outputs": []
    },
    {
      "cell_type": "code",
      "source": [
        "amostra = np.arange(10)\n",
        "amostra"
      ],
      "metadata": {
        "colab": {
          "base_uri": "https://localhost:8080/"
        },
        "id": "yqQ68TrTE8d1",
        "outputId": "dd8927c4-ec22-4316-a40f-7589711e1a84"
      },
      "execution_count": 11,
      "outputs": [
        {
          "output_type": "execute_result",
          "data": {
            "text/plain": [
              "array([0, 1, 2, 3, 4, 5, 6, 7, 8, 9])"
            ]
          },
          "metadata": {},
          "execution_count": 11
        }
      ]
    },
    {
      "cell_type": "code",
      "source": [
        "zscore(amostra, ddof=1)"
      ],
      "metadata": {
        "colab": {
          "base_uri": "https://localhost:8080/"
        },
        "id": "kmJx98emFCce",
        "outputId": "ec71deba-1574-48e9-a53c-c77933b24e5f"
      },
      "execution_count": 12,
      "outputs": [
        {
          "output_type": "execute_result",
          "data": {
            "text/plain": [
              "array([-1.48630108, -1.15601195, -0.82572282, -0.49543369, -0.16514456,\n",
              "        0.16514456,  0.49543369,  0.82572282,  1.15601195,  1.48630108])"
            ]
          },
          "metadata": {},
          "execution_count": 12
        }
      ]
    },
    {
      "cell_type": "code",
      "source": [
        "# Usando a definição.\n",
        "\n",
        "(amostra - amostra.mean())/amostra.std(ddof=1)"
      ],
      "metadata": {
        "colab": {
          "base_uri": "https://localhost:8080/"
        },
        "id": "lNs-e8nWFeW3",
        "outputId": "d5369e23-ddb0-4134-c9bd-60e1a3f57358"
      },
      "execution_count": 13,
      "outputs": [
        {
          "output_type": "execute_result",
          "data": {
            "text/plain": [
              "array([-1.48630108, -1.15601195, -0.82572282, -0.49543369, -0.16514456,\n",
              "        0.16514456,  0.49543369,  0.82572282,  1.15601195,  1.48630108])"
            ]
          },
          "metadata": {},
          "execution_count": 13
        }
      ]
    },
    {
      "cell_type": "markdown",
      "source": [
        "#### O Erro Padrão Populacional de uma amostra de tamanho n é definido como o desvio amostral das médias amostrais, e é calculado quando se tem o valor do desvio populacional:\n",
        "\n",
        "$$ \\sigma_\\bar{x} = \\dfrac{\\sigma}{\\sqrt{n}} $$\n",
        "\n",
        "#### O Erro Padrão Amostral por sua vez é calculado sobre o desvio amostral:\n",
        "\n",
        "$$ \\sigma_\\bar{x} = \\dfrac{s}{\\sqrt{n}} $$\n",
        "\n",
        "#### A função Scipy de Erro Padrão é a sem."
      ],
      "metadata": {
        "id": "Ukxdxt7q9bDd"
      }
    },
    {
      "cell_type": "code",
      "source": [
        "from scipy.stats import sem"
      ],
      "metadata": {
        "id": "JtF4f28IHMBO"
      },
      "execution_count": 14,
      "outputs": []
    },
    {
      "cell_type": "code",
      "source": [
        "# Erro Padrão de uma amostra. O Erro Padrão é o amostral por padrão (ddof=1).\n",
        "\n",
        "sem(amostra)"
      ],
      "metadata": {
        "colab": {
          "base_uri": "https://localhost:8080/"
        },
        "id": "bbk0vT8uGVME",
        "outputId": "c8b269ea-46b3-434c-9510-b9d6abe9132f"
      },
      "execution_count": 15,
      "outputs": [
        {
          "output_type": "execute_result",
          "data": {
            "text/plain": [
              "0.9574271077563381"
            ]
          },
          "metadata": {},
          "execution_count": 15
        }
      ]
    },
    {
      "cell_type": "code",
      "source": [
        "# Usando a definição.\n",
        "\n",
        "np.std(amostra, ddof=1)/np.sqrt(len(amostra))"
      ],
      "metadata": {
        "colab": {
          "base_uri": "https://localhost:8080/"
        },
        "id": "jjgBWsEvHSSL",
        "outputId": "34734e12-baad-42e5-9ef7-3677e6175527"
      },
      "execution_count": 16,
      "outputs": [
        {
          "output_type": "execute_result",
          "data": {
            "text/plain": [
              "0.9574271077563381"
            ]
          },
          "metadata": {},
          "execution_count": 16
        }
      ]
    },
    {
      "cell_type": "markdown",
      "source": [
        "#### Vamos agora implementar uma função que retorna as margens de erro para uma média populacional μ usando a média amostral x e o desvio padrão populacional σ, isto é, vamos usar o intervalo de confiança padrão z para criar um intervalo de confiança na grandeza da média populacional. Para isso vamos usar o simples conceito de que o erro nada mais é do que a quantidade de desvios que certo valor se encontra da média, que nesse caso é a própria média amostral. O erro E que deve ser adicionado e subtraído da média amostral para criar o intervalo é então: \n",
        "\n",
        "$$ E = z_c \\dfrac{\\sigma}{\\sqrt{n}} $$\n",
        "\n",
        "#### sendo z o valor crítico associado ao nível de confiança α do intervalo."
      ],
      "metadata": {
        "id": "JTcdhVMHKT-7"
      }
    },
    {
      "cell_type": "code",
      "source": [
        "# Parâmetros:\n",
        "# amostra: A estrutura de dados contendo os valores das amostras;\n",
        "# desvio: O desvio padrão da população que foi retirada a amostra;\n",
        "# alpha: Nível de confiança.\n",
        "\n",
        "def intervalo_z(amostra, desvio, alpha):\n",
        "\n",
        "    # O argumento loc centralizará o intervalo em torno do valor passado, e nesse caso queremos centralizar em torno da média amostral.\n",
        "    # Por sua vez, o argumento scale recebe o valor do erro padrão populacional, que é o nosso desvio das médias amostrais.\n",
        "    return norm.interval(alpha=alpha, loc=np.mean(amostra), scale=desvio/np.sqrt(len(amostra)))"
      ],
      "metadata": {
        "id": "WZmfnIWwHXaI"
      },
      "execution_count": 17,
      "outputs": []
    },
    {
      "cell_type": "code",
      "source": [
        "amostra = np.array('30 26 33 26 26 33 31 31 21 37 27 20 34 35 30 24 38 34 39 31 22 30 23 23 31 44 31 33 33 26 27 28 25 35 23 32 29 31 25 27'.split(), dtype=int)\n",
        "amostra"
      ],
      "metadata": {
        "colab": {
          "base_uri": "https://localhost:8080/"
        },
        "id": "Fx0jWr5OLEaC",
        "outputId": "6c0c67a5-4ed8-416c-8695-50f6f232a9b0"
      },
      "execution_count": 18,
      "outputs": [
        {
          "output_type": "execute_result",
          "data": {
            "text/plain": [
              "array([30, 26, 33, 26, 26, 33, 31, 31, 21, 37, 27, 20, 34, 35, 30, 24, 38,\n",
              "       34, 39, 31, 22, 30, 23, 23, 31, 44, 31, 33, 33, 26, 27, 28, 25, 35,\n",
              "       23, 32, 29, 31, 25, 27])"
            ]
          },
          "metadata": {},
          "execution_count": 18
        }
      ]
    },
    {
      "cell_type": "code",
      "source": [
        "intervalo_z(amostra, 7.9, 0.95)"
      ],
      "metadata": {
        "colab": {
          "base_uri": "https://localhost:8080/"
        },
        "id": "pkPjCUT1RkI3",
        "outputId": "4814dcce-dbdf-4e38-89dd-103aed25bc09"
      },
      "execution_count": 19,
      "outputs": [
        {
          "output_type": "execute_result",
          "data": {
            "text/plain": [
              "(27.151809622396982, 32.04819037760302)"
            ]
          },
          "metadata": {},
          "execution_count": 19
        }
      ]
    },
    {
      "cell_type": "code",
      "source": [
        "# Prova real usando a definição:\n",
        "# (limite inferior, limite superior) = (x - E, x + E), sendo E = z * σ/sqrt(n)\n",
        "\n",
        "\n",
        "alpha, n, desvio = 0.95, len(amostra), 7.9\n",
        "\n",
        "z = abs(norm.ppf((1 - alpha)/2)) # Lembrando, o teste é bilateral.\n",
        "erro_padrao = desvio/np.sqrt(n)\n",
        "E, media_amostral = z * erro_padrao, np.mean(amostra)\n",
        "lim_inf, lim_sup= media_amostral - E, media_amostral + E\n",
        "\n",
        "(lim_inf, lim_sup)"
      ],
      "metadata": {
        "colab": {
          "base_uri": "https://localhost:8080/"
        },
        "id": "z-HeRP2WRnNI",
        "outputId": "2816922d-0154-4cbc-a472-b7b13dd02e42"
      },
      "execution_count": 20,
      "outputs": [
        {
          "output_type": "execute_result",
          "data": {
            "text/plain": [
              "(27.151809622396982, 32.04819037760302)"
            ]
          },
          "metadata": {},
          "execution_count": 20
        }
      ]
    },
    {
      "cell_type": "markdown",
      "source": [
        "#### O intervalo de confiança para uma proporcão populacional também usa a Distribuição Normal Padrão como base, a unica diferença entre esse intervalo e o da média populacional é o erro padrão que usa o desvio dado por:\n",
        "\n",
        "$$ \\sigma_\\hat{p} = \\dfrac{\\sigma}{n} = \\dfrac{\\sqrt{npq}}{n} = \\sqrt{\\dfrac{npq}{n^2}} = \\sqrt{\\dfrac{pq}{n}} $$\n",
        "\n",
        "#### A igualdade σ² = npq vem da Distribuição Binomial, já apresentada na Parte 1. Com esse desvio padrão em mãos podemos calcular o erro E:\n",
        "\n",
        "$$ E = z_c \\sqrt{\\dfrac{pq}{n}} $$\n",
        "\n",
        "#### Novamente definiremos uma função."
      ],
      "metadata": {
        "id": "0qFnl6ipXeBY"
      }
    },
    {
      "cell_type": "code",
      "source": [
        "def intervalo_z_prop(p, n, alpha):\n",
        "\n",
        "    return norm.interval(alpha=alpha,             # Confiança\n",
        "                         loc=p,                   # Centralização\n",
        "                         scale=np.sqrt(p*(1-p)/n) # Erro padrão\n",
        "                         )"
      ],
      "metadata": {
        "id": "1HeG9EJrXYSw"
      },
      "execution_count": 21,
      "outputs": []
    },
    {
      "cell_type": "code",
      "source": [
        "intervalo_z_prop(0.372, 1000, 0.90)"
      ],
      "metadata": {
        "colab": {
          "base_uri": "https://localhost:8080/"
        },
        "id": "rZQB-uVdYfHR",
        "outputId": "fe6cd170-c070-44fb-9f5a-ac4902b26a5f"
      },
      "execution_count": 22,
      "outputs": [
        {
          "output_type": "execute_result",
          "data": {
            "text/plain": [
              "(0.3468592315238385, 0.3971407684761615)"
            ]
          },
          "metadata": {},
          "execution_count": 22
        }
      ]
    },
    {
      "cell_type": "code",
      "source": [
        "# Prova real usando a definição:\n",
        "\n",
        "p, q, n, alpha = 0.372, 1-0.372, 1000, 0.9\n",
        "z = abs(norm.ppf((1-alpha)/2))\n",
        "erro_padrao = np.sqrt(p*q/n)\n",
        "E = z * erro_padrao\n",
        "lim_inf, lim_sup = p - E, p + E\n",
        "\n",
        "lim_inf, lim_sup"
      ],
      "metadata": {
        "colab": {
          "base_uri": "https://localhost:8080/"
        },
        "id": "NahsIz6Dty9B",
        "outputId": "7b9f3e7b-5994-42af-9dca-de98f1c50564"
      },
      "execution_count": 23,
      "outputs": [
        {
          "output_type": "execute_result",
          "data": {
            "text/plain": [
              "(0.3468592315238385, 0.3971407684761615)"
            ]
          },
          "metadata": {},
          "execution_count": 23
        }
      ]
    },
    {
      "cell_type": "markdown",
      "source": [
        "### Distribuição t de Student\n",
        "\n",
        "#### A Distribuição t de Student, ou simplesmente Distribuição t, é uma família de curvas parametrizadas por graus de liberdade de forma que quanto maior for esse parâmetro (v) mais a Distribuição t se aproxima de uma Distribuição Normal. Portanto, já podemos afirmar que a média μ é zero. A variância (e o desvio consequentemente) no entanto depende do grau v de liberdade. O grau de liberdade é definido como sendo o tamanho da amostra menos um (v = n-1). A função densidade de probabilidade de uma Distribuição t é dada por:\n",
        "\n",
        "$$f(t)=\\dfrac{\\Gamma(\\frac{v+1}{2})}{\\Gamma(\\frac{v}{2})\\sqrt{v\\pi}}\\left(1+\\dfrac{t^2}{v}\\right)^{-(\\frac{v+1}{2})}$$\n",
        "\n",
        "#### A Distribuição t é usada no âmbito dos intervalos de confiança para criar intervalos para médias populacionais quando não se sabe o valor do desvio padrão populacional.\n",
        "\n",
        "#### Todos os métodos Scipy usados na classe norm() também são aplicáveis à classe que implementa a Distribuição t, t(), exceto que agora devemos passar também o grau de liberdade da distribuição para o argumento df (degrees of freedom)."
      ],
      "metadata": {
        "id": "HlyGBxULNshq"
      }
    },
    {
      "cell_type": "code",
      "source": [
        "from scipy.stats import t"
      ],
      "metadata": {
        "id": "bZ9GBcNRQeMN"
      },
      "execution_count": 24,
      "outputs": []
    },
    {
      "cell_type": "markdown",
      "source": [
        "#### Vamos visualizar algumas distribuições t, cada uma com um grau de liberdade diferente."
      ],
      "metadata": {
        "id": "46of3kxL0-tT"
      }
    },
    {
      "cell_type": "code",
      "source": [
        "# Grid 1x1.\n",
        "fig, ax = plt.subplots(1, 1)\n",
        "\n",
        "# 5 distribuições t com graus 2, 5, 10, 30 e 50, e cores magenta, roxa, vermelha, azul e verde respectivamente.\n",
        "for grau, cor in zip((3, 4, 5, 10, 30), ('magenta', 'purple', 'red', 'blue', 'green')):\n",
        "    \n",
        "    # O método rvs (random value sampling) faz uma amostragem de valores na distribuição t com grau df. \n",
        "    # Nesse caso estamos fazendo uma amostragem de 100000 elementos.\n",
        "    data_t = t.rvs(df=grau, size=100000)\n",
        "\n",
        "    # Kernel da Estimativa de Densidade das 5 curvas.\n",
        "    sns.kdeplot(data_t, ax=ax, color=cor, label=f'Grau: {grau}')\n",
        "\n",
        "# Vamos plotar a Distribuição Normal Padrão na cor preta para efeitos de comparação.\n",
        "sns.kdeplot(norm.rvs(size=100000), ax=ax, color='black', label='Normal')\n",
        "plt.xlim([-5, 5]) # Limites do eixo x.\n",
        "plt.legend()\n",
        "plt.show()"
      ],
      "metadata": {
        "colab": {
          "base_uri": "https://localhost:8080/",
          "height": 490
        },
        "id": "SJaNmm2mTKAU",
        "outputId": "77fc7800-6214-4ad4-8d62-72c9940e75c8"
      },
      "execution_count": 25,
      "outputs": [
        {
          "output_type": "display_data",
          "data": {
            "text/plain": [
              "<Figure size 936x576 with 1 Axes>"
            ],
            "image/png": "[encoded data removed]"
          },
          "metadata": {}
        }
      ]
    },
    {
      "cell_type": "markdown",
      "source": [
        "#### Nas extremidades das curvas t a densidade é maior e na parte central ela é menor, isso ocorre de forma a compensar a falta de informação de um desvio padrão populacional preciso. Quando aumentamos o tamanho da amostra aumentamos também o grau de liberdade (v = n-1) e isso aproxima a curva t da curva z, já que agora temos mais informações que nos levam a um desvio padrão populacional mais condizente com o real.\n",
        "\n",
        "#### O erro E segue a mesma lógica para uma distribuição t, só que agora em vez de usarmos o valor crítico z usamos o valor crítico t. O desvio padrão populacional também é substituído (já que não o sabemos) pelo desvio amostral:\n",
        "\n",
        "\n",
        "$$E=t_c\\dfrac{s}{\\sqrt{n}}$$\n",
        "\n",
        "#### Novamente construiremos uma função de intervalos, a testaremos e faremos a prova real usando a definição de intervalos."
      ],
      "metadata": {
        "id": "LbqeHdwQ3Y9N"
      }
    },
    {
      "cell_type": "code",
      "source": [
        "# Parâmetros:\n",
        "# amostra: A estrutura de dados contendo os valores das amostras;\n",
        "# alpha: Nível de confiança;\n",
        "\n",
        "def intervalo_t(amostra, alpha):\n",
        "\n",
        "    # Cálculo do erro padrão.\n",
        "    # Por default o método sem() (standard error of the mean) calcula o erro padrão amostral.\n",
        "    s = sem(amostra)\n",
        "\n",
        "    return t.interval(alpha=alpha,          # Confiança\n",
        "                      df=len(amostra) - 1,  # Graus de liberdade\n",
        "                      loc=np.mean(amostra), # Centralização\n",
        "                      scale=s)              # Erro Padrão"
      ],
      "metadata": {
        "id": "pV6MEMdmNun_"
      },
      "execution_count": 26,
      "outputs": []
    },
    {
      "cell_type": "code",
      "source": [
        "amostra = np.array('30 26 33 26 26 33 31 31 21 37 27 20 34 35 30 24 38 34 39 31 22 30 23 23 31 44 31 33 33 26 27 28 25 35 23 32 29 31 25 27'.split(), dtype=int)\n",
        "amostra"
      ],
      "metadata": {
        "colab": {
          "base_uri": "https://localhost:8080/"
        },
        "id": "rqwf7mrr9Nv2",
        "outputId": "026c85ba-5a5a-4807-8719-d8abca2cafc0"
      },
      "execution_count": 27,
      "outputs": [
        {
          "output_type": "execute_result",
          "data": {
            "text/plain": [
              "array([30, 26, 33, 26, 26, 33, 31, 31, 21, 37, 27, 20, 34, 35, 30, 24, 38,\n",
              "       34, 39, 31, 22, 30, 23, 23, 31, 44, 31, 33, 33, 26, 27, 28, 25, 35,\n",
              "       23, 32, 29, 31, 25, 27])"
            ]
          },
          "metadata": {},
          "execution_count": 27
        }
      ]
    },
    {
      "cell_type": "code",
      "source": [
        "intervalo_t(amostra, 0.8)"
      ],
      "metadata": {
        "colab": {
          "base_uri": "https://localhost:8080/"
        },
        "id": "Dpd8G_QZ9zQ4",
        "outputId": "13a69b03-adf7-4927-ec70-68902dd0d302"
      },
      "execution_count": 28,
      "outputs": [
        {
          "output_type": "execute_result",
          "data": {
            "text/plain": [
              "(28.51249859853268, 30.687501401467323)"
            ]
          },
          "metadata": {},
          "execution_count": 28
        }
      ]
    },
    {
      "cell_type": "code",
      "source": [
        "# Prova real usando a definição:\n",
        "\n",
        "alpha, n, df = 0.8, len(amostra), n-1\n",
        "media_amostral, erro_padrao = np.mean(amostra), sem(amostra)\n",
        "t_c = abs(t.ppf((1 - alpha)/2, df=df))\n",
        "E = t_c * erro_padrao\n",
        "lim_inf, lim_sup = media_amostral - E, media_amostral + E\n",
        "\n",
        "(lim_inf, lim_sup)"
      ],
      "metadata": {
        "colab": {
          "base_uri": "https://localhost:8080/"
        },
        "id": "uKCCwfV-93Nm",
        "outputId": "12fb1273-ac10-4f66-977d-3b95879a7bf2"
      },
      "execution_count": 29,
      "outputs": [
        {
          "output_type": "execute_result",
          "data": {
            "text/plain": [
              "(28.530216286450205, 30.669783713549798)"
            ]
          },
          "metadata": {},
          "execution_count": 29
        }
      ]
    },
    {
      "cell_type": "markdown",
      "source": [
        "### Distribuição Qui-quadrado\n",
        "\n",
        "#### A Distribuição Qui-quadrado é um caso especial da Distribuição Gama, e assim como a Distribuição t ela também representa uma família de infinitas curvas parametrizadas por graus de liberdade, sendo o grau de liberdade igual ao tamanho da amostra menos um (v = n - 1). A função densidade de probabilidade de uma função qui-quadrado é dada por:\n",
        "\n",
        "$$ f(x; v) = \\dfrac{1}{2^{v/2}\\Gamma(v/2)}x^{v/2-1}e^{-x/2} $$\n",
        "\n",
        "#### A função Γ (Gama) já foi abordada na Parte 1. \n",
        "#### Sendo essencialmente uma Distribuição Gama, a Distribuição Qui-quadrado é assimétrica à direita, de forma a não podermos aproveitar as propriedades reflexivas das distribuições normais em torno da média como fizemos com a distribuição z e t. Os intervalos de confiança gerados por uma Distribuição Qui-quadrado precisam necessariamente ser para parâmetros que apresentam comportamento quadrático, isto é, podemos usá-la para a variância populacional, e consequentemente para o desvio padrão populacional. A classe que implementa essa distribuição é a chi2()."
      ],
      "metadata": {
        "id": "wbeOlmwjfhSX"
      }
    },
    {
      "cell_type": "code",
      "source": [
        "from scipy.stats import chi2"
      ],
      "metadata": {
        "id": "24IJiBjtfmBX"
      },
      "execution_count": 30,
      "outputs": []
    },
    {
      "cell_type": "markdown",
      "source": [
        "#### Vejamos o comportamento da Distribuição Qui-quadrado conforme o grau de liberdade aumenta."
      ],
      "metadata": {
        "id": "O11mLJmjLSgq"
      }
    },
    {
      "cell_type": "code",
      "source": [
        "fig, ax = plt.subplots(1, 1)\n",
        "\n",
        "for grau, cor in zip((4, 5, 10, 30, 50), ('magenta', 'purple', 'red', 'blue', 'green')):\n",
        "\n",
        "    data_chi = chi2.rvs(df=grau, size=100000)\n",
        "    sns.kdeplot(data_chi, ax=ax, color=cor, label=f'Grau: {grau}')\n",
        "\n",
        "plt.legend()\n",
        "plt.show()"
      ],
      "metadata": {
        "colab": {
          "base_uri": "https://localhost:8080/",
          "height": 490
        },
        "id": "rh1chiO_fkbg",
        "outputId": "fee65ff7-2bda-4f75-d064-2d26f87009ad"
      },
      "execution_count": 31,
      "outputs": [
        {
          "output_type": "display_data",
          "data": {
            "text/plain": [
              "<Figure size 936x576 with 1 Axes>"
            ],
            "image/png": "[encoded data removed]"
          },
          "metadata": {}
        }
      ]
    },
    {
      "cell_type": "markdown",
      "source": [
        "#### Percebe-se que quanto maior o grau de liberdade mais a distribuição perde o caráter assimétrico, isto é, mais ela se aproxima de uma distribuição normal. A assimetria à direita também pode ser facilmente identificada nas plotagens.\n",
        "#### Diferentemente das outras duas distribuições que tinham um erro E com comportamento linear e podíamos encontrar facilmente os limites dos intervalos, agora teremos que adaptar esse método para contemplar o comportamento quadrático da distribuição de forma que os novos limites sejam iguais a:\n",
        "\n",
        "$$ l_{inf} = \\dfrac{(n-1)s^2}{X_r^2},  l_{sup}=\\dfrac{(n-1)s^2}{X_l^2}$$\n",
        "\n",
        "#### sendo os denominadores Xr² e Xl² os valores críticos à direita e à esquerda da distribuição para um dado nível de confiança respectivamente. Os valores s² e n são a variância e o tamanho da amostra. Como fizemos com as outras duas distribuições vamos implementar uma função e validá-la."
      ],
      "metadata": {
        "id": "GGoertN5MC5b"
      }
    },
    {
      "cell_type": "code",
      "source": [
        "# Parâmetros:\n",
        "# amostra: A estrutura de dados contendo os valores das amostras;\n",
        "# alpha: Nível de confiança;\n",
        "\n",
        "def intervalo_chi(amostra, alpha):\n",
        "\n",
        "    s= np.std(amostra, ddof=1) # Desvio amostral\n",
        "    df = len(amostra) - 1      # Graus de liberdade\n",
        "\n",
        "    # Calculando os valores críticos.\n",
        "    xl, xr = chi2.interval(alpha=alpha, # Nível de confiança\n",
        "                           df=df        # Graus de liberdade\n",
        "                           )\n",
        "\n",
        "    # Retorno com os valores extremos do intervalo de confiança para a variância populacional.\n",
        "    return (df*s**2/xr, df*s**2/xl)"
      ],
      "metadata": {
        "id": "WpM6zJ4IgqzQ"
      },
      "execution_count": 32,
      "outputs": []
    },
    {
      "cell_type": "code",
      "source": [
        "intervalo_chi(amostra, 0.99)"
      ],
      "metadata": {
        "colab": {
          "base_uri": "https://localhost:8080/"
        },
        "id": "uJwk9hKYE6CA",
        "outputId": "5c333aab-5cdb-4bf8-a837-352334f4c4b0"
      },
      "execution_count": 33,
      "outputs": [
        {
          "output_type": "execute_result",
          "data": {
            "text/plain": [
              "(16.580229618776773, 54.291216904851204)"
            ]
          },
          "metadata": {},
          "execution_count": 33
        }
      ]
    },
    {
      "cell_type": "code",
      "source": [
        "np.sqrt(intervalo_chi(amostra, 0.99)) # Intervalo de confiança para o desvio padrão populacional."
      ],
      "metadata": {
        "colab": {
          "base_uri": "https://localhost:8080/"
        },
        "id": "5fh2-hYMP_TH",
        "outputId": "0cc82e4b-ed7d-4167-e3ce-6a42d9e82c86"
      },
      "execution_count": 34,
      "outputs": [
        {
          "output_type": "execute_result",
          "data": {
            "text/plain": [
              "array([4.07188281, 7.36825739])"
            ]
          },
          "metadata": {},
          "execution_count": 34
        }
      ]
    }
  ]
}