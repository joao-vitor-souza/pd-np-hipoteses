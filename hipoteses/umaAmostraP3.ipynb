{
  "nbformat": 4,
  "nbformat_minor": 0,
  "metadata": {
    "colab": {
      "name": "Teste de Hipótese Com Uma Amostra - Parte 3.ipynb",
      "provenance": [],
      "collapsed_sections": []
    },
    "kernelspec": {
      "name": "python3",
      "display_name": "Python 3"
    },
    "language_info": {
      "name": "python"
    }
  },
  "cells": [
    {
      "cell_type": "markdown",
      "source": [
        "# Teste de hipótese com uma amostra (Parte 3/3)\n",
        "\n",
        "#### Na Parte 1 mostrou-se quais são as principais distribuições de densidade de probabilidade e na Parte 2 explanou-se os tipos de intervalos de confiança apresentando os principais métodos de cada distribuição. Agora veremos como implementar funções para testes de hipótese usando um teste z, t e qui-quadrado.\n",
        "\n",
        "#### Um teste de hipótese nada mais é do uma técnica estatística que usamos para rejeitar ou não uma hipótese. Para qualquer teste de hipótese devemos ter duas hipóteses, a hipótese nula (H0) contendo a igualdade da relação e a hipótese alternativa (Ha) que é o complemento de H0. Se uma hipótese é rejeitada a outra por exclusão necessariamente precisa ser aceita. Para decidir se rejeitamos ou não uma hipótese primeiro devemos assumir uma delas como verdadeira, e por convenção assume-se a hipótese nula. Uma vez estabelecida as duas hipótese podemos usar as estatísticas de teste para calcular um valor padronizado (estatística de teste padronizada) e um valor de área correspondende, chamado de valor p. Se o valor p encontrado é menor ou igual ao nível de significância α então devemos rejeitar a hipótese nula (aceitando Ha), caso contrário a aceitamos (rejeitando Ha).\n",
        "\n",
        "#### Obs: As amostras devem sempre serem de populações normalmente distribuídas e/ou com tamanho de pelo menos 30 elementos (Teorema do Limite Central)."
      ],
      "metadata": {
        "id": "wOv97Z9aYKyw"
      }
    },
    {
      "cell_type": "code",
      "source": [
        "# Operações matemáticas e estrutura de dados.\n",
        "import numpy as np\n",
        "\n",
        "# Distribuições.\n",
        "from scipy.stats import norm, t, chi2"
      ],
      "metadata": {
        "id": "wNZSj7rzs8yb"
      },
      "execution_count": 1,
      "outputs": []
    },
    {
      "cell_type": "markdown",
      "source": [
        "---\n",
        "## Teste z\n",
        "\n",
        "### O teste z é usado para testar hipóteses acerca da média populacional μ (com desvio padrão populacional σ conhecido) e da proporção populacional p."
      ],
      "metadata": {
        "id": "bGkclsr2U_3J"
      }
    },
    {
      "cell_type": "markdown",
      "source": [
        "### Média Populacional com Desvio Populacional Conhecido"
      ],
      "metadata": {
        "id": "cW99OnGiYQtN"
      }
    },
    {
      "cell_type": "code",
      "source": [
        "# Parâmetros:\n",
        "\n",
        "# amostra: Amostra de dados;\n",
        "# desvio: Desvio padrão populacional;\n",
        "# hip: Valor da hipótese nula;\n",
        "# alpha: Nível de significância;\n",
        "\n",
        "# tipo: Tipo de teste. As opções são:\n",
        "# - Unilateral à esquerda (e), quando a hipótese alternativa contém uma desigualdade com símbolo de menor;\n",
        "# - Unilateral à direita (d), quando a hipótese alternativa contém uma desigualdade com símbolo de maior;\n",
        "# - Bilateral (b), quando a hipótese nula é uma desigualdade com símbolo de diferente.\n",
        "\n",
        "def teste_media_z(amostra, desvio, hip, alpha, tipo):\n",
        "\n",
        "    # Estatística de teste padronizada usando a definição apresentada na Parte 2. \n",
        "    # Para testes de distribuições amostrais, que são nossos casos de estudo, devemos usar o erro padrão como o desvio das médias amostrais.\n",
        "    z = (np.mean(amostra) - hip)/(desvio/np.sqrt(len(amostra)))\n",
        "\n",
        "    # Módulo do valor crítico associado ao nível de confiança α. Perceba que num primeiro momento estamos assumindo que o teste é unilateral.\n",
        "    z_0 = norm.isf(alpha)\n",
        "\n",
        "    # Se o teste for unilateral à esquerda então o valor p será igual à área à esquerda da estatística de teste padronizada.\n",
        "    if tipo == 'e':\n",
        "        p = norm.cdf(z)\n",
        "\n",
        "    # Se for unilateral à direita então ele será igual à área à direita.\n",
        "    elif tipo == 'd':\n",
        "        p = norm.sf(z)\n",
        "\n",
        "    # Se for bilateral então o valor p será o dobro da área encontrada em alguma das caldas, nesse caso calculamos duas vezes a área à direita.\n",
        "    elif tipo == 'b':\n",
        "        p = norm.sf(abs(z))\n",
        "        p *= 2\n",
        "        # Atualiza-se o valor crítico para um teste bilateral. Cada metade do nível de confiança está em uma calda, por isso dividimos α por 2.\n",
        "        z_0 = norm.isf(alpha/2)\n",
        "    else:\n",
        "        print('Teste inválido!')\n",
        "        return None\n",
        "\n",
        "    # Output formatado.\n",
        "    print('Módulo do Valor Crítico (z0):', z_0)\n",
        "    print('Estatística de Teste Padronizada (z):', z)\n",
        "    print('Nível de Significância (alpha):', alpha)\n",
        "    print('Valor-p:', p)\n",
        "    \n",
        "    print('\\n----------------------------------------------\\n')\n",
        "\n",
        "    # Decisão.\n",
        "    if p <= alpha:\n",
        "        print('Decisão: Rejeitar Hipótese Nula')\n",
        "    else:\n",
        "        print('Decisão: Não Rejeitar Hipótese Nula')\n",
        "\n",
        "    print('\\n----------------------------------------------\\n')"
      ],
      "metadata": {
        "id": "JYvgPlkfYP8y"
      },
      "execution_count": 2,
      "outputs": []
    },
    {
      "cell_type": "markdown",
      "source": [
        "#### Vamos realizar um teste de hipótese para a média populacional μ com uma amostra de 120 elementos com média 49,5. O desvio padrão populacional σ é de 3,6, e o nível de significância α é de 5%. Devemos rejeitar ou não a hipótese que diz que μ é igual a 48,8 (teste bilateral)?\n",
        "\n",
        "$$ \\large\\begin{cases}H_0: \\mu = 48.8 \\\\ H_a: \\mu \\neq 48.8\\end{cases} $$"
      ],
      "metadata": {
        "id": "MQl7IPMmt1sK"
      }
    },
    {
      "cell_type": "code",
      "source": [
        "teste_media_z([49.5] * 120, 3.6, 48.8, 0.05, 'b')"
      ],
      "metadata": {
        "colab": {
          "base_uri": "https://localhost:8080/"
        },
        "id": "iJgtknSq8p2z",
        "outputId": "ee0de6c0-116c-4bd0-e357-6a9622a319eb"
      },
      "execution_count": 3,
      "outputs": [
        {
          "output_type": "stream",
          "name": "stdout",
          "text": [
            "Módulo do Valor Crítico (z0): 1.9599639845400545\n",
            "Estatística de Teste Padronizada (z): 2.1300321680756547\n",
            "Nível de Significância (alpha): 0.05\n",
            "Valor-p: 0.03316895769207681\n",
            "\n",
            "----------------------------------------------\n",
            "\n",
            "Decisão: Rejeitar Hipótese Nula\n",
            "\n",
            "----------------------------------------------\n",
            "\n"
          ]
        }
      ]
    },
    {
      "cell_type": "markdown",
      "source": [
        "#### Rejeitamos a hipótese nula. Portanto há evidência suficiente, ao nível de 95% de confiança (c = 1 - α), para concordar com a hipótese de que a média populacional é diferente de 48,8."
      ],
      "metadata": {
        "id": "L_h6GSxLwo05"
      }
    },
    {
      "cell_type": "markdown",
      "source": [
        "#### Testaremos uma hipótese para outra média populacional μ usando uma amostra de 100 elementos com:\n",
        "\n",
        "$$ \\large\\begin{cases}\\bar{x} = 9.9 \\\\ \\sigma = 2.1 \\\\ \\alpha = 0.08\\end{cases} $$\n",
        "\n",
        "#### A hipótese nula diz que μ é no máximo 10,3, devemos rejeitá-la ou não?\n",
        "\n",
        "$$ \\large\\begin{cases}H_0: \\mu \\le 10.3 \\\\ H_a: \\mu > 10.3\\end{cases} $$"
      ],
      "metadata": {
        "id": "7mSzgoDcvt1K"
      }
    },
    {
      "cell_type": "code",
      "source": [
        "teste_media_z([9.9] * 100, 2.1, 10.3, 0.08, 'd')"
      ],
      "metadata": {
        "colab": {
          "base_uri": "https://localhost:8080/"
        },
        "id": "E1zKJe-vjbQb",
        "outputId": "a277b892-0ead-4137-f219-d730c1b65d81"
      },
      "execution_count": 4,
      "outputs": [
        {
          "output_type": "stream",
          "name": "stdout",
          "text": [
            "Módulo do Valor Crítico (z0): 1.4050715603096329\n",
            "Estatística de Teste Padronizada (z): -1.9047619047619062\n",
            "Nível de Significância (alpha): 0.08\n",
            "Valor-p: 0.9715944860326363\n",
            "\n",
            "----------------------------------------------\n",
            "\n",
            "Decisão: Não Rejeitar Hipótese Nula\n",
            "\n",
            "----------------------------------------------\n",
            "\n"
          ]
        }
      ]
    },
    {
      "cell_type": "markdown",
      "source": [
        "#### Não rejeitaremos a hipótese nula, logo podemos concordar que a média populacional é no máximo 10,3 com 92% de confiança."
      ],
      "metadata": {
        "id": "HS08YwwLyaaY"
      }
    },
    {
      "cell_type": "markdown",
      "source": [
        "### Proporção Populacional"
      ],
      "metadata": {
        "id": "cPNXzXcaaJIh"
      }
    },
    {
      "cell_type": "code",
      "source": [
        "# Parâmetros:\n",
        "\n",
        "# x: Número de sucessos;\n",
        "# n: Tamanho da amostra;\n",
        "# hip: Valor da hipótese nula;\n",
        "# alpha: Nível de significância;\n",
        "# tipo: Tipo de teste.\n",
        "\n",
        "def teste_proporcao(x, n, hip, alpha, tipo):\n",
        "\n",
        "    # Verificando as condições que permitem uma aproximação normal da distribuição binomial.\n",
        "    # Os produtos np e nq = n(1-p) devem ser maior ou igual a 5.\n",
        "    if n*hip < 5 or n*(1-hip) < 5:\n",
        "        print('Não se pode realizar o teste z nessa amostra pois ela não pode ser aproximada por uma distribuição normal!!')\n",
        "        return None\n",
        "\n",
        "    # Estatística de teste.\n",
        "    p_est = x/n\n",
        "\n",
        "    # Estatística de teste padronizada.\n",
        "    z = (p_est - hip)/np.sqrt(hip*(1-hip)/n)\n",
        "\n",
        "    # Módulo do valor crítico.\n",
        "    z_0 = norm.isf(alpha)\n",
        "\n",
        "    # Tipos de teste.\n",
        "    if tipo == 'e':\n",
        "        p = norm.cdf(z)\n",
        "    elif tipo == 'd':\n",
        "        p = norm.sf(z)\n",
        "    elif tipo == 'b':\n",
        "        p = norm.sf(abs(z))\n",
        "        p *= 2\n",
        "        z_0 = norm.isf(alpha/2)\n",
        "    else:\n",
        "        print('Teste Inválido!')\n",
        "        return None\n",
        "\n",
        "    # Output formatado.\n",
        "    print('Estatística de Teste Padronizada (z):', z)\n",
        "    print('Módulo do Valor Crítico (z0):', z_0)\n",
        "    print('Valor-p:', p)\n",
        "    print('Nível de Significância (alpha):', alpha)\n",
        "\n",
        "    print('\\n----------------------------------------------\\n')\n",
        "\n",
        "    # Decisão.\n",
        "    if p <= alpha:\n",
        "        print('Decisão: Rejeitar Hipótese Nula')\n",
        "    else:\n",
        "        print('Decisão: Não Rejeitar Hipótese Nula')\n",
        "\n",
        "    print('\\n----------------------------------------------\\n')"
      ],
      "metadata": {
        "id": "zD6JBqEGOfCB"
      },
      "execution_count": 5,
      "outputs": []
    },
    {
      "cell_type": "markdown",
      "source": [
        "#### Em uma amostra de 200 elementos, 39 atenderam certa condição de sucesso, podemos dizer que, ao nível de 95% de confiança, a proporcão populacional de sucessos é de pelo menos 25%?\n",
        "\n",
        "$$ \\large\\begin{cases}H_0: p \\ge 0.25 \\\\ H_a: p < 0.25\\end{cases} $$"
      ],
      "metadata": {
        "id": "oxuqrsopz83g"
      }
    },
    {
      "cell_type": "code",
      "source": [
        "teste_proporcao(39, 200, 0.25, 0.05, 'e')"
      ],
      "metadata": {
        "colab": {
          "base_uri": "https://localhost:8080/"
        },
        "id": "WyLTfrvbcM41",
        "outputId": "c1d16864-1438-4094-8256-16a97cb32c7b"
      },
      "execution_count": 6,
      "outputs": [
        {
          "output_type": "stream",
          "name": "stdout",
          "text": [
            "Estatística de Teste Padronizada (z): -1.7962924780409972\n",
            "Módulo do Valor Crítico (z0): 1.6448536269514729\n",
            "Valor-p: 0.03622400676489357\n",
            "Nível de Significância (alpha): 0.05\n",
            "\n",
            "----------------------------------------------\n",
            "\n",
            "Decisão: Rejeitar Hipótese Nula\n",
            "\n",
            "----------------------------------------------\n",
            "\n"
          ]
        }
      ]
    },
    {
      "cell_type": "markdown",
      "source": [
        "#### Com 95% de confiança podemos rejeitar a hipótese que diz que a proporção populacional é maior ou igual a 25%."
      ],
      "metadata": {
        "id": "Wn3BJb-z0t1g"
      }
    },
    {
      "cell_type": "markdown",
      "source": [
        "---\n",
        "## Teste t\n",
        "\n",
        "### O teste t é usado para testar hipóteses para a média populacional μ quando não se sabe o valor do desvio padrão populacional σ."
      ],
      "metadata": {
        "id": "DYkkrZ8m06KR"
      }
    },
    {
      "cell_type": "markdown",
      "source": [
        "### Média Populacional com Desvio Populacional Desconhecido"
      ],
      "metadata": {
        "id": "gBSOS0y1HLic"
      }
    },
    {
      "cell_type": "code",
      "source": [
        "# Parâmetros:\n",
        "\n",
        "# amostra: Amostra de dados;\n",
        "# hip: Valor da hipótese nula;\n",
        "# alpha: Nível de significância;\n",
        "# tipo: Tipo de teste.\n",
        "\n",
        "def teste_media_t(amostra, hip, alpha, tipo):\n",
        "\n",
        "    # Desvio amostral.\n",
        "    s = np.std(amostra, ddof=1)\n",
        "\n",
        "    # Tamanho da amostra.\n",
        "    n = len(amostra)\n",
        "\n",
        "    # Graus de liberdade.\n",
        "    df = n-1\n",
        "\n",
        "    # Estatística de teste padronizada.\n",
        "    t_p = (np.mean(amostra) - hip)/(s/np.sqrt(n))\n",
        "\n",
        "    # Módulo do valor crítico.\n",
        "    t_0 = t.isf(alpha, df=df)\n",
        "\n",
        "    # Tipos de teste.\n",
        "    if tipo == 'e':\n",
        "        p = t.cdf(t_p, df=df)\n",
        "    elif tipo == 'd':\n",
        "        p = t.sf(t_p, df=df)\n",
        "    elif tipo == 'b':\n",
        "        p = t.sf(abs(t_p), df=df)\n",
        "        p *= 2\n",
        "        t_0 = t.isf(alpha/2, df=df)\n",
        "    else:\n",
        "        print('Teste Inválido!')\n",
        "        return None\n",
        "\n",
        "    # Output formatado.\n",
        "    print('Módulo do Valor Crítico (t0):', t_0)\n",
        "    print('Estatística de Teste Padronizada (t):', t_p)\n",
        "    print('Nível de Significância (alpha):', alpha)\n",
        "    print('Valor-p:', p)\n",
        "\n",
        "    print('\\n----------------------------------------------\\n')\n",
        "\n",
        "    # Decisão.\n",
        "    if p <= alpha:\n",
        "        print('Decisão: Rejeitar Hipótese Nula')\n",
        "    else:\n",
        "        print('Decisão: Não Rejeitar Hipótese Nula')\n",
        "\n",
        "    print('\\n----------------------------------------------\\n')"
      ],
      "metadata": {
        "id": "T0kQJeRZHWlt"
      },
      "execution_count": 7,
      "outputs": []
    },
    {
      "cell_type": "code",
      "source": [
        "amostra = np.array('24 36 44 35 44 34 29 40 39 43 41 32 33 29 29 43 25 39 25 42 29 22 22 25 14 15 14 29 25 27 22 24 18 17'.split(), \n",
        "                   dtype=float)\n",
        "amostra"
      ],
      "metadata": {
        "id": "bsvyVkNQzyWA",
        "colab": {
          "base_uri": "https://localhost:8080/"
        },
        "outputId": "d1c66f4f-bdb5-4df8-9c7b-e90f93b4e468"
      },
      "execution_count": 8,
      "outputs": [
        {
          "output_type": "execute_result",
          "data": {
            "text/plain": [
              "array([24., 36., 44., 35., 44., 34., 29., 40., 39., 43., 41., 32., 33.,\n",
              "       29., 29., 43., 25., 39., 25., 42., 29., 22., 22., 25., 14., 15.,\n",
              "       14., 29., 25., 27., 22., 24., 18., 17.])"
            ]
          },
          "metadata": {},
          "execution_count": 8
        }
      ]
    },
    {
      "cell_type": "markdown",
      "source": [
        "#### Dada a amostra acima, rejeitamos ou não a hipótese de que μ é igual a 33? Usar c = 90%.\n",
        "\n",
        "$$ \\large\\begin{cases}H_0: \\mu = 33 \\\\ H_a: \\mu \\neq 33\\end{cases} $$"
      ],
      "metadata": {
        "id": "Ze_SBNqG3x0D"
      }
    },
    {
      "cell_type": "code",
      "source": [
        "teste_media_t(amostra, 33, 0.1, 'b')"
      ],
      "metadata": {
        "colab": {
          "base_uri": "https://localhost:8080/"
        },
        "id": "cLnRtiWWIMpR",
        "outputId": "210d5214-57bd-4fc8-8c21-e1abd2adb3b0"
      },
      "execution_count": 9,
      "outputs": [
        {
          "output_type": "stream",
          "name": "stdout",
          "text": [
            "Módulo do Valor Crítico (t0): 1.6923603138485823\n",
            "Estatística de Teste Padronizada (t): -2.1146725229790633\n",
            "Nível de Significância (alpha): 0.1\n",
            "Valor-p: 0.04209623195922052\n",
            "\n",
            "----------------------------------------------\n",
            "\n",
            "Decisão: Rejeitar Hipótese Nula\n",
            "\n",
            "----------------------------------------------\n",
            "\n"
          ]
        }
      ]
    },
    {
      "cell_type": "markdown",
      "source": [
        "---\n",
        "## Teste chi-quadrado\n",
        "\n",
        "#### O teste qui-quadrado é usado para testar hipóteses para a variância populacional σ² e para o desvio padrão populacional σ. Diferente dos outros dois testes, na Distribuição Chi-quadrado a amostra precisa necessariamente ser de uma população normalmente distribuída, mesmo quando o tamanho da amostra é maior ou igual a 30, isso porque a Distribuição Gama, de onde se deriva a Distribuição Chi-quadrado, não é tão robusta para populações não-normais já que poucas variações são amplificadas por um fator de potência."
      ],
      "metadata": {
        "id": "Nyoupbrq4vun"
      }
    },
    {
      "cell_type": "markdown",
      "source": [
        "### Desvio e Variância Populacionais"
      ],
      "metadata": {
        "id": "ZRN_dunX9QEh"
      }
    },
    {
      "cell_type": "code",
      "source": [
        "# Parâmetros:\n",
        "\n",
        "# n: Tamanho da amostra;\n",
        "# s: Desvio padrão amostral;\n",
        "# hip: Valor da hipótese nula;\n",
        "# alpha: Nível de significância;\n",
        "# tipo: Tipo de teste.\n",
        "\n",
        "\n",
        "def teste_qui(n, s, hip, alpha, tipo):\n",
        "\n",
        "    # Graus de liberdade.\n",
        "    df = n-1\n",
        "\n",
        "    # Estatística de teste padronizada usando a definição apresentada na Parte 2.\n",
        "    qui = df*s**2/hip**2\n",
        "\n",
        "    print('Estatística de Teste Padronizada (X²):', qui)\n",
        "\n",
        "    # Como a Distribuição Chi-quadrado é assimétrica à direita devemos calcular separadamente os valores críticos.\n",
        "    if tipo == 'e':\n",
        "        p = chi2.cdf(qui, df)\n",
        "        x_0 = chi2.ppf(alpha, df)\n",
        "        print('Valor Crítico (X0):', x_0)\n",
        "    elif tipo == 'd':\n",
        "        p = chi2.sf(qui, df)\n",
        "        x_0 = chi2.isf(alpha, df)\n",
        "        print('Valor Crítico (X0):', x_0)\n",
        "    elif tipo == 'b':\n",
        "\n",
        "        # Se a estatística de teste padronizada for maior ou igual a mediana, que é o ponto mais alto da distribuição e que divide a área \n",
        "        # em duas partes iguais, então vamos calcular o valor p usando a área à direita da estatística de teste padronizada, caso contrário \n",
        "        # usaremos a área à esquerda.\n",
        "        if qui >= chi2.median(df):\n",
        "            p = chi2.sf(qui, df)\n",
        "        else:\n",
        "            p = chi2.cdf(qui, df)\n",
        "        p *= 2\n",
        "        xl, xr = chi2.interval(1-alpha, df)\n",
        "        print('Valores Críticos (Xl e Xr):', (xl, xr))\n",
        "    else:\n",
        "        print('Teste Inválido!')\n",
        "        return None\n",
        "\n",
        "    print('Valor-p:', p)\n",
        "    print('Nível de Significância (alpha):', alpha)\n",
        "\n",
        "    print('\\n----------------------------------------------\\n')\n",
        "\n",
        "    # Decisão.\n",
        "    if p <= alpha:\n",
        "        print('Decisão: Rejeitar Hipótese Nula')\n",
        "    else:\n",
        "        print('Decisão: Não Rejeitar Hipótese Nula')\n",
        "\n",
        "    print('\\n----------------------------------------------\\n')"
      ],
      "metadata": {
        "id": "2gyemTsC9arV"
      },
      "execution_count": 10,
      "outputs": []
    },
    {
      "cell_type": "markdown",
      "source": [
        "#### Usando uma amostra de tamanho 22 e com desvio 33,4, podemos rejeitar a hipótese de que a variância é no máximo 1296? Assumir α = 0.10\n",
        "\n",
        "$$ \\large\\begin{cases}H_0: \\sigma^2 \\le 1296 \\\\ H_a: \\sigma^2 < 1296\\end{cases} $$"
      ],
      "metadata": {
        "id": "Cr9cx-JL6vbr"
      }
    },
    {
      "cell_type": "code",
      "source": [
        "teste_qui(22, 33.4**2, 1296, 0.1, 'e')"
      ],
      "metadata": {
        "colab": {
          "base_uri": "https://localhost:8080/"
        },
        "id": "sJGn-c0FPKHW",
        "outputId": "279f66b5-57f0-4fbc-dd85-c50c560a0a7d"
      },
      "execution_count": 11,
      "outputs": [
        {
          "output_type": "stream",
          "name": "stdout",
          "text": [
            "Estatística de Teste Padronizada (X²): 15.559482873228164\n",
            "Valor Crítico (X0): 13.239597975395304\n",
            "Valor-p: 0.2061310480969814\n",
            "Nível de Significância (alpha): 0.1\n",
            "\n",
            "----------------------------------------------\n",
            "\n",
            "Decisão: Não Rejeitar Hipótese Nula\n",
            "\n",
            "----------------------------------------------\n",
            "\n"
          ]
        }
      ]
    },
    {
      "cell_type": "markdown",
      "source": [
        "#### Ao nível de 10% de significância não podemos rejeitar a hipótese de que a variância populacional é de no máximo 1296."
      ],
      "metadata": {
        "id": "P1zqkzSI7r44"
      }
    },
    {
      "cell_type": "markdown",
      "source": [
        "#### Agora testaremos uma hipótese para o desvio padrão populacional. Com uma amostra de 30 elementos e desvio igual a 12, ao nível de 7% de significância, pode-se concordar com a hipótese de que o desvio é igual a 15?\n",
        "\n",
        "$$ \\large\\begin{cases}H_0: \\sigma = 15 \\\\ H_a: \\sigma \\neq 15\\end{cases} $$"
      ],
      "metadata": {
        "id": "4tuAK8jn78Y4"
      }
    },
    {
      "cell_type": "code",
      "source": [
        "teste_qui(30, 12, 15, 0.07, 'b')"
      ],
      "metadata": {
        "colab": {
          "base_uri": "https://localhost:8080/"
        },
        "id": "aQYKjRiy6KT5",
        "outputId": "7e8f8869-574c-406c-9906-8d8b2879a908"
      },
      "execution_count": 12,
      "outputs": [
        {
          "output_type": "stream",
          "name": "stdout",
          "text": [
            "Estatística de Teste Padronizada (X²): 18.56\n",
            "Valores Críticos (Xl e Xr): (16.81341492198671, 44.21686758361134)\n",
            "Valor-p: 0.1358972079680338\n",
            "Nível de Significância (alpha): 0.07\n",
            "\n",
            "----------------------------------------------\n",
            "\n",
            "Decisão: Não Rejeitar Hipótese Nula\n",
            "\n",
            "----------------------------------------------\n",
            "\n"
          ]
        }
      ]
    }
  ]
}