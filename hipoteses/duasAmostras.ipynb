{
  "nbformat": 4,
  "nbformat_minor": 0,
  "metadata": {
    "colab": {
      "name": "Teste de Hipótese Com Duas Amostras.ipynb",
      "provenance": [],
      "collapsed_sections": []
    },
    "kernelspec": {
      "name": "python3",
      "display_name": "Python 3"
    },
    "language_info": {
      "name": "python"
    }
  },
  "cells": [
    {
      "cell_type": "markdown",
      "source": [
        "# Teste de hipótese com duas amostra (Teste A/B)\n",
        "\n",
        "#### O teste de hipótese com duas amostras, assim como o teste de hipótese com uma amostra, consiste em uma série de etapas lógicas envolvendo técnicas da Estatística que rejeitam ou não uma hipótese tida inicialmente como verdadeira. Geralmente no teste de hipótese com duas amostras assumimos como verdadeira a hipótese nula de que os parâmetros populacionais das duas amostras são iguais, e que portanto a sua diferença é zero. Por definição, a média das distribuições amostrais nesse caso será zero e poderemos usar uma estatística de teste padronizada da diferença das estatísticas amostrais para calcular um valor p. Para testar médias e proporções usa-se as distribuições t e z, já para as variâncias e desvios usa-se a distribuição F (que será discutida em outro documento).\n",
        "\n"
      ],
      "metadata": {
        "id": "J9zZQqNBtX5C"
      }
    },
    {
      "cell_type": "code",
      "execution_count": 1,
      "metadata": {
        "id": "ovougScHmMgG"
      },
      "outputs": [],
      "source": [
        "from scipy.stats import norm, t\n",
        "import numpy as np"
      ]
    },
    {
      "cell_type": "markdown",
      "source": [
        "---\n",
        "## Teste z"
      ],
      "metadata": {
        "id": "yaVWr4Ih0ZPe"
      }
    },
    {
      "cell_type": "markdown",
      "source": [
        "---\n",
        "### Médias Populacionais de Amostras Independentes (Desvios Populacionais Conhecidos)\n",
        "\n",
        "#### O teste z tanto para comparar médias populacionais quando proporções pode ser usado quando as amostras são independentes, isto é, as amostras não podem ser pareadas pois são constituídas de diferentes indivíduos, além disso elas precisam ser aleatórias e de populações normalmente distribuídas ou com pelo menos 30 elementos (Teorema do Limite Central). Assim como no teste de hipótese com uma amostra, precisamos calcular uma estatística de teste padronizada z, que é dada por:\n",
        "\n",
        "$$ \\large z = \\dfrac{(\\bar{x}_1 - \\bar{x}_2) - (\\mu_1 - \\mu_2)}{\\sqrt{\\dfrac{\\sigma^2_1}{n_1}+\\dfrac{\\sigma^2_2}{n_2}}}$$\n",
        "\n",
        "#### Com os x's sendo as médias amostrais e a diferença dos μ's a hipótese sobre as médias populacionais que normalmente é assumida como zero. O denominador é chamado de erro padrão e é composto pelos valores das variâncias populacionais σ² e do tamanho das amostras n. Assim como foi feito nos outros notebooks, definiremos uma função que facilitará a realização desse tipo de teste."
      ],
      "metadata": {
        "id": "ES9bK0QE0dLb"
      }
    },
    {
      "cell_type": "code",
      "source": [
        "# Parâmetros:\n",
        "\n",
        "# amostra_1 e amostra_2: As duas amostras de dados a serem comparadas;\n",
        "# desvio_1 e desvio_2: Os desvios populacionais;\n",
        "# alpha: Nível de significância do teste;\n",
        "# tipo: Unicaudal à esquerda (e), à direita (d) e bicaudal (b);\n",
        "# hip: Hipótese da diferença das médias populacionais, zero por padrão.\n",
        "\n",
        "def teste_z_media(amostra_1, amostra_2, desvio_1, desvio_2, alpha, tipo, hip=0):\n",
        "\n",
        "    # Cálculo das médias amostrais e tamanhos.\n",
        "    x_1, x_2 = np.mean(amostra_1), np.mean(amostra_2)\n",
        "    n_1, n_2 = len(amostra_1), len(amostra_2)\n",
        "\n",
        "    # Estatística de teste padronizada.\n",
        "    z = (x_1 - x_2 - hip)/np.sqrt((desvio_1**2/n_1) + (desvio_2**2/n_2))\n",
        "\n",
        "    # Valor crítico associado ao nível de significância α. Inicialmente assumimos que o teste é unicaudal.\n",
        "    z_0 = norm.isf(alpha)\n",
        "\n",
        "    # Valor p calculado para cada tipo de teste.\n",
        "    if tipo == 'd':\n",
        "        p = norm.sf(z)\n",
        "    elif tipo == 'e':\n",
        "        p = norm.cdf(z)\n",
        "    elif tipo == 'b':\n",
        "        p = norm.sf(abs(z))\n",
        "        p *= 2\n",
        "        # Atualizando o valor crítico para um teste bicaudal.\n",
        "        z_0 = norm.isf(alpha/2)\n",
        "    else:\n",
        "        print('Teste Inválido!')\n",
        "        return None\n",
        "\n",
        "    # Output formatado.\n",
        "    print('Estatística de Teste Padronizada (z):', z)\n",
        "    print('Módulo do Valor Crítico (z0):', z_0)\n",
        "    print('Nível de Significância (α):', alpha)\n",
        "    print('Valor p:', p)\n",
        "    print('\\n----------------------------------------\\n')\n",
        "\n",
        "    # Decisão.\n",
        "    if p > alpha:\n",
        "        print('Decisão: Não Rejeitar Hipótese Nula')\n",
        "    else:\n",
        "        print('Decisão: Rejeitar Hipótese Nula')\n",
        "    print('\\n----------------------------------------')"
      ],
      "metadata": {
        "id": "bQRTNxWrngaN"
      },
      "execution_count": 2,
      "outputs": []
    },
    {
      "cell_type": "markdown",
      "source": [
        "#### Todos as situações problema usadas para testar as funções foram retiradas do livro Estatística Aplicada (Larson & Farber) 6ªEd.\n",
        "\n",
        "#### Problema 1: Um sociólogo afirma que crianças entre 6 e 17 anos passavam mais tempo assistindo televisão em 1981 do que crianças de 6 a 17 anos passam hoje. Um estudo conduzido em 1981 relatou o tempo que crianças de 6 a 17 anos passavam assistindo televisão nos dias de semana. Os resultados (em horas por dia de semana) são mostrados na amostra_1. Suponha que o desvio padrão populacional é 0,6 hora. Recentemente, um estudo semelhante foi conduzido. Os resultados são mostrados na amostra_2. Suponha que o desvio padrão populacional é 0,5 hora. Para α = 0,05, você pode confirmar a afirmação do sociólogo? Suponha que as amostras são aleatórias e independentes, e que as populações são normalmente distribuídas (Adaptado de: University of Michigan’s Institute for Social Research.)"
      ],
      "metadata": {
        "id": "qXMMe-iP7uNv"
      }
    },
    {
      "cell_type": "code",
      "source": [
        "amostra_1 = np.array([2. , 2.5, 2.1, 2.3, 2.1, 1.6, 2.6, 2.1, 2.1, 2.4, 2.1, 2.1, 1.5, 1.7, 2.1, \n",
        "                      2.3, 2.5, 3.3, 2.2, 2.9, 1.5, 1.9, 2.4, 2.2, 1.2, 3. , 1. , 2.1, 1.9, 2.2])\n",
        "\n",
        "amostra_2 = np.array([2.9, 1.8, 0.9, 1.6, 2. , 1.7, 2.5, 1.1, 1.6, 2. , 1.4, 1.7, 1.7, 1.9, 1.6, \n",
        "                      1.7, 1.2, 2. , 2.6, 1.6, 1.5, 2.5, 1.6, 2.1, 1.7, 1.8, 1.1, 1.4, 1.2, 2.3])"
      ],
      "metadata": {
        "id": "OVl2gY50cR93"
      },
      "execution_count": 3,
      "outputs": []
    },
    {
      "cell_type": "markdown",
      "source": [
        "#### As hipóteses são:\n",
        "\n",
        "$$ \\large \\begin{cases}H_0: \\mu_{1981} \\le \\mu_{\\textsf{hoje}} \\\\ H_a: \\mu_{1981} > \\mu_{\\textsf{hoje}} \\end{cases} $$\n",
        "\n",
        "#### Sendo o teste unicaudal à direita com:\n",
        "\n",
        "$$ \\large \\begin{cases}\\sigma_1 = 0.6 \\\\ \\sigma_2 = 0.5 \\\\ \\alpha = 0.05 \\end{cases} $$"
      ],
      "metadata": {
        "id": "dbbVbN2h-YLQ"
      }
    },
    {
      "cell_type": "code",
      "source": [
        "desvio_1, desvio_2 = 0.6, 0.5\n",
        "alpha, tipo = 0.05, 'd'\n",
        "\n",
        "teste_z_media(amostra_1, amostra_2, desvio_1, desvio_2, alpha, tipo)"
      ],
      "metadata": {
        "colab": {
          "base_uri": "https://localhost:8080/"
        },
        "id": "D-EdDObJdtCg",
        "outputId": "fc51e91b-2971-48d4-ef6b-a9f8865514a9"
      },
      "execution_count": 4,
      "outputs": [
        {
          "output_type": "stream",
          "name": "stdout",
          "text": [
            "Estatística de Teste Padronizada (z): 2.6181376603882343\n",
            "Módulo do Valor Crítico (z0): 1.6448536269514729\n",
            "Nível de Significância (α): 0.05\n",
            "Valor p: 0.004420556521883835\n",
            "\n",
            "----------------------------------------\n",
            "\n",
            "Decisão: Rejeitar Hipótese Nula\n",
            "\n",
            "----------------------------------------\n"
          ]
        }
      ]
    },
    {
      "cell_type": "markdown",
      "source": [
        "#### Portanto, ao nível de 5% de significância, há evidência suficiente para apoiar a afirmação do sociólogo de que crianças entre 6 e 17 anos passavam mais tempo assistindo televisão em 1981 do que crianças de 6 a 17 anos passam hoje."
      ],
      "metadata": {
        "id": "LjJ91VNG_8y2"
      }
    },
    {
      "cell_type": "markdown",
      "source": [
        "---\n",
        "### Proporções Populacionais de Amostras Independentes\n",
        "\n",
        "#### Para testar proporções populacionais seguimos a mesma ideia, a única coisa que mudará será o erro padrão. A estatística de teste padronizada fica:\n",
        "\n",
        "$$ \\large z = \\dfrac{(\\hat{p}_1 - \\hat{p}_2) - (p_1 - p_2)}{\\sqrt{\\bar{p}\\bar{q}\\left(\\dfrac{1}{n_1}+\\dfrac{1}{n_2}\\right)}}$$\n",
        "\n",
        "#### sendo p-barra a estimativa ponderada da proporção amostral e q-barra seu complemento (1 - p-barra). Os cálculos de p-barra e das proporções amostrais seguem como:\n",
        "\n",
        "$$ \\large \\bar{p}=\\dfrac{x_1 + x_2}{n_1 + n_2}, \\hat{p_1}=\\dfrac{x_1}{n_1}, \\hat{p_2}=\\dfrac{x_2}{n_2}$$\n",
        "\n",
        "#### com x sendo o número de sucessos e n o tamanho da amostra respectiva."
      ],
      "metadata": {
        "id": "6L9etVenBTO8"
      }
    },
    {
      "cell_type": "code",
      "source": [
        "# Parâmetros:\n",
        "\n",
        "# x_1 e x_2: Número de sucessoas das duas amostras de dados;\n",
        "# n_1 e n_2: O tamanho das amostras;\n",
        "# alpha: Nível de significância do teste;\n",
        "# tipo: Unicaudal à esquerda (e), à direita (d) e bicaudal (b);\n",
        "# hip: Hipótese da diferença das proporções populacionais, zero por padrão.\n",
        "\n",
        "def teste_z_proporcao(x_1, x_2, n_1, n_2, alpha, tipo, hip=0):\n",
        "\n",
        "    # Proporções amostrais.\n",
        "    p_1 = x_1/n_1\n",
        "    p_2 = x_2/n_2\n",
        "\n",
        "    # Estimativa ponderada da proporção amostral.\n",
        "    p_ = (x_1 + x_2)/(n_1 + n_2)\n",
        "\n",
        "    # Estatística de teste padronizada.\n",
        "    z = (p_1 - p_2 - hip)/np.sqrt(p_*(1 - p_)*(1/n_1 + 1/n_2))\n",
        "\n",
        "    # Valor crítico associado ao nível de significância α. Inicialmente assumimos que o teste é unicaudal.\n",
        "    z_0 = norm.isf(alpha)\n",
        "\n",
        "    # Valor p calculado para cada tipo de teste.\n",
        "    if tipo == 'd':\n",
        "        p = norm.sf(z)\n",
        "    elif tipo == 'e':\n",
        "        p = norm.cdf(z)\n",
        "    elif tipo == 'b':\n",
        "        p = norm.sf(abs(z))\n",
        "        p *= 2\n",
        "        # Atualizando o valor crítico para um teste bicaudal.\n",
        "        z_0 = norm.isf(alpha/2)\n",
        "    else:\n",
        "        print('Teste Inválido!')\n",
        "        return None\n",
        "\n",
        "    # Output formatado.\n",
        "    print('Estatística de Teste Padronizada (z):', z)\n",
        "    print('Estimativa Ponderada (p-barra):', p_)\n",
        "    print('Módulo do Valor Crítico (z0):', z_0)\n",
        "    print('Nível de Significância (α):', alpha)\n",
        "    print('Valor p:', p)\n",
        "    print('\\n----------------------------------------\\n')\n",
        "\n",
        "    # Decisão.\n",
        "    if p > alpha:\n",
        "        print('Decisão: Não Rejeitar Hipótese Nula')\n",
        "    else:\n",
        "        print('Decisão: Rejeitar Hipótese Nula')\n",
        "    print('\\n----------------------------------------')"
      ],
      "metadata": {
        "id": "GG8xtSJIBSzP"
      },
      "execution_count": 5,
      "outputs": []
    },
    {
      "cell_type": "markdown",
      "source": [
        "#### Problema 2: Um estudo com 150 proprietários de carros de passageiros e 200 proprietários de caminhonetes, selecionados aleatoriamente, mostra que 86% dos ocupantes de carros de passageiros e 74% dos ocupantes de caminhonetes usam cinto de segurança. Com α = 0,10, você pode rejeitar a afirmação de que a proporção de pessoas que usam cinto de segurança é a mesma para os carros de passageiros e as caminhonetes? (Adaptado de: National Highway Traffic Safety Administration.)"
      ],
      "metadata": {
        "id": "uIQTfkkmT-AI"
      }
    },
    {
      "cell_type": "markdown",
      "source": [
        "#### Do enunciado do problema temos que:\n",
        "\n",
        "$$ \\large \\begin{cases}n_{\\textsf{carros}} = 150 \\\\ n_{\\textsf{caminhonetes}} = 200 \\\\ \\hat{p}_{\\textsf{carros}} = 0.86 \\\\ \\hat{p}_{\\textsf{caminhonetes}} = 0.74 \\\\ x_{\\textsf{carros}} = \\hat{p}_{\\textsf{carros}} * n_{\\textsf{carros}} = 0.86 * 150 = 129 \\\\ x_{\\textsf{caminhonetes}} = \\hat{p}_{\\textsf{caminhonetes}} * n_{\\textsf{caminhonetes}} = 0.74 * 200 = 148 \\end{cases}$$\n",
        "\n",
        "#### e as hipóteses são:\n",
        "\n",
        "$$ \\large \\begin{cases}H_0: p_{\\textsf{carros}} = p_{\\textsf{caminhonetes}} \\\\ H_a: p_{\\textsf{carros}} \\neq p_{\\textsf{caminhonetes}} \\end{cases} $$\n"
      ],
      "metadata": {
        "id": "MMZsNPaAUTc3"
      }
    },
    {
      "cell_type": "code",
      "source": [
        "teste_z_proporcao(129, 148, 150, 200, 0.1, 'b', 0)"
      ],
      "metadata": {
        "colab": {
          "base_uri": "https://localhost:8080/"
        },
        "id": "Fr4GsORmVkFN",
        "outputId": "1b8ee5df-8404-48ac-817f-e60bf3527b85"
      },
      "execution_count": 6,
      "outputs": [
        {
          "output_type": "stream",
          "name": "stdout",
          "text": [
            "Estatística de Teste Padronizada (z): 2.7344789277267605\n",
            "Estimativa Ponderada (p-barra): 0.7914285714285715\n",
            "Módulo do Valor Crítico (z0): 1.6448536269514729\n",
            "Nível de Significância (α): 0.1\n",
            "Valor p: 0.0062479094339719845\n",
            "\n",
            "----------------------------------------\n",
            "\n",
            "Decisão: Rejeitar Hipótese Nula\n",
            "\n",
            "----------------------------------------\n"
          ]
        }
      ]
    },
    {
      "cell_type": "markdown",
      "source": [
        "#### Portanto, estamos 90% confiantes para rejeitar a afirmação de que a proporção de pessoas que usam cinto de segurança é a mesma para carros de passeio e caminhonetes."
      ],
      "metadata": {
        "id": "kZDNhmgTWz5H"
      }
    },
    {
      "cell_type": "markdown",
      "source": [
        "---\n",
        "## Teste t"
      ],
      "metadata": {
        "id": "TDkdIa12XcNW"
      }
    },
    {
      "cell_type": "markdown",
      "source": [
        "---\n",
        "### Médias Populacionais de Amostras Independentes e Dependentes (Desvios Populacionais Desconhecidos)\n",
        "\n",
        "#### O teste t para duas amostras também segue a mesma linha de raciocínio do teste z para duas amostras, só que agora precisamos definir um grau de liberdade para a curva t. Esse tipo de teste permite que façamos testes com amostras dependentes, isto é, amostras sobre os mesmos indivíduos, de tamanhos iguais e que por consequência podem ser pareadas. Para amostras independentes com desvios desconhecidos a estatística de teste padronizada pode assumir dois valores dependendo se as variâncias populacionais são iguais ou não, e para sabermos isso precisamos realizar um teste F, que será discutido em outro documento. Por enquanto vamos fazer suposições a respeito das variâncias."
      ],
      "metadata": {
        "id": "ucOmSQtT0Wc7"
      }
    },
    {
      "cell_type": "markdown",
      "source": [
        "---\n",
        "### Amostras Independentes\n",
        "\n",
        "#### A estatística de teste padronizada para amostras independentes é:\n",
        "\n",
        "$$ \\large t = \\dfrac{(\\bar{x}_1 - \\bar{x}_2) - (\\mu_1 - \\mu_2)}{s_{\\bar{x}_1 - \\bar{x}_2}}$$\n",
        "\n",
        "#### sendo o denominador o erro padrão. \n",
        "\n",
        "#### Se as variâncias forem iguais então o erro padrão será:\n",
        "\n",
        "$$ \\large s_{\\bar{x}_1 - \\bar{x}_2} = \\hat{\\sigma}\\sqrt{\\dfrac{1}{n_1} + \\dfrac{1}{n_2}}$$\n",
        "\n",
        "#### O primeiro termo do produto é chamado de Estimativa Conjunta do Desvio e é calculado como:\n",
        "\n",
        "$$ \\large \\hat{\\sigma} = \\sqrt{\\dfrac{(n_1 - 1)s_1^2 + (n_2 - 1)s_2^2}{n_1 + n_2 - 2}}$$\n",
        "\n",
        "#### E o grau de liberdade nesse caso é:\n",
        "\n",
        "$$ \\large g.l. = n_1 + n_2 - 2 $$\n",
        "\n",
        "#### Já se as variâncias forem diferentes o erro padrão será:\n",
        "\n",
        "$$ \\large s_{\\bar{x}_1 - \\bar{x}_2} = \\sqrt{\\dfrac{s_1^2}{n_1} + \\dfrac{s_2^2}{n_2}}$$\n",
        "\n",
        "#### Com um grau de liberdade igual ao valor mínimo entre cada tamanho decrescido de uma unidade:\n",
        "\n",
        "$$ \\large g.l. = \\textsf{min}(n_1 - 1, n_2 - 1)$$"
      ],
      "metadata": {
        "id": "uqqZCUKF74WM"
      }
    },
    {
      "cell_type": "markdown",
      "source": [
        "---\n",
        "### Amostras Dependentes\n",
        "\n",
        "#### A estatística de teste padronizada para amostras dependentes de tamanho n é:\n",
        "\n",
        "$$ \\large t = \\dfrac{\\bar{d} - \\mu_\\bar{d}}{(\\dfrac{s_d}{\\sqrt{n}})}$$\n",
        "\n",
        "#### d-barra é a média das diferenças entre os valores das amostras emparelhadas:\n",
        "\n",
        "$$ \\large \\bar{d} = \\dfrac{\\sum{d_i}}{n}$$\n",
        "\n",
        "#### E o denominador é simplesmente a variância amostral das diferenças:\n",
        "\n",
        "$$ \\large s_\\bar{d} = \\sqrt{\\dfrac{\\sum{(d_i - \\bar{d})^2}}{n-1}} = \\sqrt{\\dfrac{\\sum{d_i^2} - \\dfrac{(\\sum{d_i})^2}{n}}{n-1}}$$\n",
        "\n",
        "#### Assim como em todos os outros testes, o termo μ no numerador da estatística de teste padronizada é a nossa hipótese, que nesse caso é para a média da diferença dos valores pareados.\n",
        "\n",
        "#### Construiremos uma função que analisará tanto amostras independentes quanto dependentes."
      ],
      "metadata": {
        "id": "oUHBDPER8MXs"
      }
    },
    {
      "cell_type": "code",
      "source": [
        "# Parâmetros:\n",
        "\n",
        "# alpha: Nível de significância do teste;\n",
        "# tipo: Tipo do teste;\n",
        "# var: Se as variâncias são iguais então var=1, se não var=0. Por padrão é 1;\n",
        "# hip: Hipótese da média populacional, zero por padrão;\n",
        "# amostra_1 e amostra_2: Podemos passar as estruturas de dados completas por meio desses argumentos. None (Nada) por padrão;\n",
        "# indep: Se as amostras são independentes então indep=1, se não indep=0. Por padrão é 1;\n",
        "# args*: Tupla que receberá todas as informações nos casos onde as amostras forem dependentes ou se as estruturas de dados não forem passadas.\n",
        "\n",
        "def teste_t_media(alpha, tipo, var=1, hip=0, amostra_1=None, amostra_2=None, indep=1, *args):\n",
        "\n",
        "    # Verificando se as as amostras são independentes.\n",
        "    if indep:\n",
        "        # Se sim, verificamos se foram passados valores para args.\n",
        "        if len(args):\n",
        "            # Se sim, abrimos os valores da tupla em variáveis.\n",
        "            x_1, x_2, s_1, s_2, n_1, n_2 = args\n",
        "        else:\n",
        "            # Se não, então as estruturas de dados serão usadas para calcular as estatísticas amostrais.\n",
        "            x_1, x_2 = np.mean(amostra_1), np.mean(amostra_2)\n",
        "            s_1, s_2 = np.std(amostra_1, ddof=1), np.std(amostra_2, ddof=1)\n",
        "            n_1, n_2 = len(amostra_1), len(amostra_2)\n",
        "\n",
        "        # Verificando se as variâncias são iguais ou não para calcularmos o grau de liberdade e o erro padrão para cada caso.\n",
        "        if var:\n",
        "            df = n_1 + n_2 - 2\n",
        "            s = np.sqrt(((n_1 - 1)*s_1**2 + (n_2 - 1)*s_2**2)/df) * np.sqrt((1/n_1) + (1/n_2))\n",
        "        else:\n",
        "            df = min(n_1 - 1, n_2 - 1)\n",
        "            s = np.sqrt((s_1**2/n_1) + (s_2**2/n_2))\n",
        "\n",
        "        # Calculando a estatística de teste padronizada para amostras independentes.\n",
        "        t_c = (x_1 - x_2 - hip)/s\n",
        "\n",
        "    else:\n",
        "        # Se forem dependentes, então verificamos se foram passados valores para args.\n",
        "        if len(args):\n",
        "            # Se sim, descarregamos os valores.\n",
        "            d, s, n = args\n",
        "            df = n - 1\n",
        "        else:\n",
        "            # Se não, usamos as estruturas para calculá-los.\n",
        "            n = len(amostra_1)\n",
        "            df = n - 1\n",
        "            soma_d = (amostra_1 - amostra_2).sum()\n",
        "            soma_d_quadrado = ((amostra_1 - amostra_2)**2).sum()\n",
        "\n",
        "            # Média das diferenças dos valores emparelhados.\n",
        "            d = soma_d/n\n",
        "\n",
        "            # Variância amostral.\n",
        "            s = np.sqrt((soma_d_quadrado - (soma_d**2/n))/df)\n",
        "\n",
        "        # Estatística de teste padronizada para amostras dependentes.\n",
        "        t_c = (d- hip)/(s/np.sqrt(n))\n",
        "\n",
        "    # Valor crítico associado ao nível de significância α. Inicialmente assumimos que o teste é unicaudal.\n",
        "    t_0 = t.isf(alpha, df=df)\n",
        "\n",
        "    # Avaliando o tipo de teste e calculando o valor p.\n",
        "    if tipo == 'd':\n",
        "        p = t.sf(t_c, df=df)\n",
        "    elif tipo == 'e':\n",
        "        p = t.cdf(t_c, df=df)\n",
        "    elif tipo == 'b':\n",
        "        p = t.sf(abs(t_c), df=df)\n",
        "        p *= 2\n",
        "        # Atualizando o valor crítico para um teste bicaudal.\n",
        "        t_0 = t.isf(alpha/2, df=df)\n",
        "    else:\n",
        "        print('Teste Inválido!')\n",
        "        return None\n",
        "\n",
        "    # Output formatado.\n",
        "    print('Estatística de Teste Padronizada (t):', t_c)\n",
        "    print('Módulo do Valor Crítico (t0):', t_0)\n",
        "    print('Nível de Significância (α):', alpha)\n",
        "    print('Valor p:', p)\n",
        "    print('\\n----------------------------------------\\n')\n",
        "\n",
        "    # Decisão.\n",
        "    if p > alpha:\n",
        "        print('Decisão: Não Rejeitar Hipótese Nula')\n",
        "    else:\n",
        "        print('Decisão: Rejeitar Hipótese Nula')\n",
        "    print('\\n----------------------------------------')"
      ],
      "metadata": {
        "id": "mhckfsBJCjlR"
      },
      "execution_count": 7,
      "outputs": []
    },
    {
      "cell_type": "markdown",
      "source": [
        "#### Problema 3: Um diretor de pessoal afirma que o rendimento domiciliar médio é maior no condado de Allegheny do que no condado de Erie County. No condado de Allegheny, uma amostra de 19 moradores tem um rendimento domiciliar médio de USS 49.700 e um desvio padrão de USS 8.800. No condado de Erie, uma amostra de 15 moradores tem um rendimento domiciliar médio de USS 42.000 e um desvio padrão de USS 5.100. Para um nível de significância α = 0,05, você pode aceitar a afirmação do diretor de pessoal? Suponha que as variâncias populacionais não são iguais, as amostras são aleatórias e independentes, e que as populações são normalmente distribuídas. (Adaptado de: U.S. Census Bureau.)\n",
        "\n",
        "#### As amostras são independentes, as variâncias populacionais são diferentes e as hipóteses são:\n",
        "\n",
        "$$ \\large \\begin{cases} H_0: \\mu_{\\textsf{Allegheny}} \\le \\mu_{\\textsf{Erie}} \\\\ H_a: \\mu_{\\textsf{Allegheny}} > \\mu_{\\textsf{Erie}} \\end{cases}$$"
      ],
      "metadata": {
        "id": "vAi8pIGUGyN7"
      }
    },
    {
      "cell_type": "code",
      "source": [
        "teste_t_media(0.05, 'd', 0, 0, None, None, 1, 49700, 42000, 8800, 5100, 19, 15)"
      ],
      "metadata": {
        "colab": {
          "base_uri": "https://localhost:8080/"
        },
        "id": "i4lH_Za9IGX7",
        "outputId": "5cc31664-91ab-4f8d-cfe3-3e087f5f4c5a"
      },
      "execution_count": 8,
      "outputs": [
        {
          "output_type": "stream",
          "name": "stdout",
          "text": [
            "Estatística de Teste Padronizada (t): 3.194556160694402\n",
            "Módulo do Valor Crítico (t0): 1.7613101357748564\n",
            "Nível de Significância (α): 0.05\n",
            "Valor p: 0.003245214776673442\n",
            "\n",
            "----------------------------------------\n",
            "\n",
            "Decisão: Rejeitar Hipótese Nula\n",
            "\n",
            "----------------------------------------\n"
          ]
        }
      ]
    },
    {
      "cell_type": "markdown",
      "source": [
        "#### Há evidência suficiente, ao nível de 5% de significância, para apoiar a afirmação do diretor de que o rendimento domiciliar médio é maior no condado de Allegheny do que no condado de Erie County."
      ],
      "metadata": {
        "id": "23ZLbWkMIgLP"
      }
    },
    {
      "cell_type": "markdown",
      "source": [
        "---\n",
        "#### Problema 4: A resistência à tração de um metal é uma medida de sua capacidade para resistir à deformação quando puxado longitudinalmente. Um novo tipo de tratamento experimental produziu barras de aço com as resistências à tração (em N/mm²) listadas na amostra_1. O método antigo produzia barras de aço com as resistências à tração (em N/mm²) listadas na amostra_2. Para α = 0,01, você pode concordar com a afirmação de que o novo tratamento faz diferença na resistência à tração das barras de aço? Suponha que as variâncias populacionais são iguais, as amostras são aleatórias e independentes, e que as populações são normalmente distribuídas.\n",
        "\n",
        "#### As amostras são independentes (são dois conjuntos de barras), as variâncias são iguais e as hipóteses são:\n",
        "\n",
        "$$ \\large \\begin{cases} H_0: \\mu_{\\textsf{novo}} = \\mu_{\\textsf{antigo}} \\\\ H_a: \\mu_{\\textsf{novo}} \\neq \\mu_{\\textsf{antigo}} \\end{cases}$$"
      ],
      "metadata": {
        "id": "AWfuiBvII8sP"
      }
    },
    {
      "cell_type": "code",
      "source": [
        "amostra_1 = np.array([391., 383., 333., 378., 368., 401., 339., 376., 366., 348.])\n",
        "amostra_2 = np.array([362., 382., 368., 398., 381., 391., 400., 410., 396., 411., 385., 385., 395.])\n",
        "\n",
        "teste_t_media(0.01, 'b', 1, 0, amostra_1, amostra_2)"
      ],
      "metadata": {
        "colab": {
          "base_uri": "https://localhost:8080/"
        },
        "id": "I1HBpu5SmKNk",
        "outputId": "44a014ef-6f80-478c-99dc-4cc8984d366c"
      },
      "execution_count": 9,
      "outputs": [
        {
          "output_type": "stream",
          "name": "stdout",
          "text": [
            "Estatística de Teste Padronizada (t): -2.764955464787842\n",
            "Módulo do Valor Crítico (t0): 2.8313595580171866\n",
            "Nível de Significância (α): 0.01\n",
            "Valor p: 0.011605003142909971\n",
            "\n",
            "----------------------------------------\n",
            "\n",
            "Decisão: Não Rejeitar Hipótese Nula\n",
            "\n",
            "----------------------------------------\n"
          ]
        }
      ]
    },
    {
      "cell_type": "markdown",
      "source": [
        "#### Estamos 99% confiantes de que não há evidência suficiente para apoiar a afirmação de que o novo tratamento faça diferença na resistência à tração das barras de aço."
      ],
      "metadata": {
        "id": "SAN0btyjKixr"
      }
    },
    {
      "cell_type": "markdown",
      "source": [
        "---\n",
        "#### Problema 5: Um médico pesquisador quer determinar se uma droga altera a temperatura do corpo. Sete indivíduos são selecionados aleatoriamente como cobaias, e a temperatura do corpo (em graus Fahrenheit) de cada um é medida. A droga é então dada aos indivíduos e, após 20 minutos, a temperatura do corpo de cada um é medida novamente. Os resultados estão listados nas amostras \"antes\" e \"depois\" abaixo. Com α = 0,05, há evidência suficiente para concluir que a droga altera a temperatura do corpo? Suponha que as temperaturas do corpo são distribuídas normalmente."
      ],
      "metadata": {
        "id": "3zOeeuP5LKtW"
      }
    },
    {
      "cell_type": "code",
      "source": [
        "antes  = np.array([101.8,  98.5,  98.1,  99.4,  98.9, 100.2,  97.9])\n",
        "depois = np.array([99.2,   98.4,  98.2,  99. ,  98.6, 99.7,   97.8])"
      ],
      "metadata": {
        "id": "Kf82RxPQnOhR"
      },
      "execution_count": 10,
      "outputs": []
    },
    {
      "cell_type": "markdown",
      "source": [
        "#### As amostras são dependentes e as hipóteses são:\n",
        "\n",
        "$$ \\large \\begin{cases} H_0: \\mu_{\\textsf{depois}} = \\mu_{\\textsf{antes}} \\\\ H_a: \\mu_{\\textsf{depois}} \\neq \\mu_{\\textsf{antes}} \\end{cases}$$"
      ],
      "metadata": {
        "id": "TUJRwBLZNRz6"
      }
    },
    {
      "cell_type": "code",
      "source": [
        "teste_t_media(0.05, 'b', 1, 0, antes, depois, 0)"
      ],
      "metadata": {
        "colab": {
          "base_uri": "https://localhost:8080/"
        },
        "id": "pFhmUJmzeC3t",
        "outputId": "04a167c9-238f-4388-db7b-17e3bc3f6a3c"
      },
      "execution_count": 11,
      "outputs": [
        {
          "output_type": "stream",
          "name": "stdout",
          "text": [
            "Estatística de Teste Padronizada (t): 1.5961637426866189\n",
            "Módulo do Valor Crítico (t0): 2.446911848791681\n",
            "Nível de Significância (α): 0.05\n",
            "Valor p: 0.16156479783928007\n",
            "\n",
            "----------------------------------------\n",
            "\n",
            "Decisão: Não Rejeitar Hipótese Nula\n",
            "\n",
            "----------------------------------------\n"
          ]
        }
      ]
    },
    {
      "cell_type": "markdown",
      "source": [
        "#### Com 5% de significância podemos dizer que não há evidência suficiente para concordar com a afirmação de que a droga altera a temperatura do corpo."
      ],
      "metadata": {
        "id": "AgjAkIRqPPNM"
      }
    },
    {
      "cell_type": "markdown",
      "source": [
        "---\n",
        "#### Problema 6: Devemos rejeitar ou não a hipótese nula para um teste com:\n",
        "\n",
        "$$ \\large \\begin{cases} \\bar{d} = -2.3 \\\\ s_d = 1.2 \\\\ n = 15 \\\\ \\alpha=0.01 \\\\ H_0: \\mu_{d} \\ge 0 \\\\ H_a: \\mu_{d} < 0\\end{cases}$$"
      ],
      "metadata": {
        "id": "siKBMoiLPseL"
      }
    },
    {
      "cell_type": "code",
      "source": [
        "teste_t_media(0.01, 'e', 1, 0, None, None, 0, -2.3, 1.2, 15)"
      ],
      "metadata": {
        "colab": {
          "base_uri": "https://localhost:8080/"
        },
        "id": "wij8PXFD0Xzv",
        "outputId": "f99afaa5-d22b-48a2-a939-86132d631156"
      },
      "execution_count": 12,
      "outputs": [
        {
          "output_type": "stream",
          "name": "stdout",
          "text": [
            "Estatística de Teste Padronizada (t): -7.423218080230882\n",
            "Módulo do Valor Crítico (t0): 2.6244940675602315\n",
            "Nível de Significância (α): 0.01\n",
            "Valor p: 1.6178994357984888e-06\n",
            "\n",
            "----------------------------------------\n",
            "\n",
            "Decisão: Rejeitar Hipótese Nula\n",
            "\n",
            "----------------------------------------\n"
          ]
        }
      ]
    }
  ]
}