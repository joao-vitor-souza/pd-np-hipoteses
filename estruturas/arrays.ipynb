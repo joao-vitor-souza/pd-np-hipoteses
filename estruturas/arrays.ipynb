{
  "nbformat": 4,
  "nbformat_minor": 5,
  "metadata": {
    "kernelspec": {
      "display_name": "Python 3",
      "language": "python",
      "name": "python3"
    },
    "language_info": {
      "codemirror_mode": {
        "name": "ipython",
        "version": 3
      },
      "file_extension": ".py",
      "mimetype": "text/x-python",
      "name": "python",
      "nbconvert_exporter": "python",
      "pygments_lexer": "ipython3",
      "version": "3.8.5"
    },
    "colab": {
      "name": "Arrays.ipynb",
      "provenance": []
    }
  },
  "cells": [
    {
      "cell_type": "markdown",
      "metadata": {
        "id": "psychological-budget"
      },
      "source": [
        "# Arrays\n",
        "\n",
        "### Arrays são estruturas de dados multidimensionais da biblioteca Numpy que armazenam um único tipo de dado. O funcionamento de uma array é baseado em um nível mais baixo do que as estruturas nativas do Python, sendo otimizada para funções matemáticas comuns entre matrizes de dados."
      ],
      "id": "psychological-budget"
    },
    {
      "cell_type": "markdown",
      "metadata": {
        "id": "9fWNGn21Ijq_"
      },
      "source": [
        "## Bibliotecas"
      ],
      "id": "9fWNGn21Ijq_"
    },
    {
      "cell_type": "code",
      "metadata": {
        "id": "southwest-clarity"
      },
      "source": [
        "import numpy as np"
      ],
      "id": "southwest-clarity",
      "execution_count": 1,
      "outputs": []
    },
    {
      "cell_type": "markdown",
      "metadata": {
        "id": "according-input"
      },
      "source": [
        "## Métodos construtivos de Arrays"
      ],
      "id": "according-input"
    },
    {
      "cell_type": "markdown",
      "metadata": {
        "id": "vital-gather"
      },
      "source": [
        "### np.array()\n",
        "#### Cria uma array."
      ],
      "id": "vital-gather"
    },
    {
      "cell_type": "code",
      "metadata": {
        "colab": {
          "base_uri": "https://localhost:8080/"
        },
        "id": "random-roulette",
        "outputId": "17d66e0a-0aaa-4488-8960-91579c6dfd1e"
      },
      "source": [
        "# Criando uma array 1x3 de maneira usual.\n",
        "arr1 = np.array([[1, 2, 3]])\n",
        "arr1"
      ],
      "id": "random-roulette",
      "execution_count": 2,
      "outputs": [
        {
          "output_type": "execute_result",
          "data": {
            "text/plain": [
              "array([[1, 2, 3]])"
            ]
          },
          "metadata": {},
          "execution_count": 2
        }
      ]
    },
    {
      "cell_type": "code",
      "metadata": {
        "colab": {
          "base_uri": "https://localhost:8080/"
        },
        "id": "injured-olympus",
        "outputId": "049d4f23-6155-4259-9632-e30cdca18fc3"
      },
      "source": [
        "# Criando uma array 3x1 e definindo seu tipo com dtype.\n",
        "arr2 = np.array([1, 2, 3], dtype=str)\n",
        "arr2"
      ],
      "id": "injured-olympus",
      "execution_count": 3,
      "outputs": [
        {
          "output_type": "execute_result",
          "data": {
            "text/plain": [
              "array(['1', '2', '3'], dtype='<U1')"
            ]
          },
          "metadata": {},
          "execution_count": 3
        }
      ]
    },
    {
      "cell_type": "code",
      "metadata": {
        "colab": {
          "base_uri": "https://localhost:8080/"
        },
        "id": "effective-programming",
        "outputId": "2c9dd9fa-810a-4951-fbdd-26cb59e8f33d"
      },
      "source": [
        "# É possível criar uma array a partir de outra estrutura de dados, uma tupla por exemplo.\n",
        "t = ((1, 2, 3), (4, 5, 6), (7, 8, 9))\n",
        "arr3 = np.array(t) # Dimensão 3x3.\n",
        "arr3"
      ],
      "id": "effective-programming",
      "execution_count": 4,
      "outputs": [
        {
          "output_type": "execute_result",
          "data": {
            "text/plain": [
              "array([[1, 2, 3],\n",
              "       [4, 5, 6],\n",
              "       [7, 8, 9]])"
            ]
          },
          "metadata": {},
          "execution_count": 4
        }
      ]
    },
    {
      "cell_type": "markdown",
      "metadata": {
        "id": "finished-check"
      },
      "source": [
        "### np.full(dimensão, n)\n",
        "#### Cria uma array de valores iguais a n."
      ],
      "id": "finished-check"
    },
    {
      "cell_type": "code",
      "metadata": {
        "colab": {
          "base_uri": "https://localhost:8080/"
        },
        "id": "nominated-dining",
        "outputId": "dd1e4044-2dc3-4366-fb10-b4ea5c2ba885"
      },
      "source": [
        "arr4 = np.full((2, 4), 1) \n",
        "arr4"
      ],
      "id": "nominated-dining",
      "execution_count": 5,
      "outputs": [
        {
          "output_type": "execute_result",
          "data": {
            "text/plain": [
              "array([[1, 1, 1, 1],\n",
              "       [1, 1, 1, 1]])"
            ]
          },
          "metadata": {},
          "execution_count": 5
        }
      ]
    },
    {
      "cell_type": "markdown",
      "metadata": {
        "id": "exact-compromise"
      },
      "source": [
        "### np.full_like(dado, n)\n",
        "#### Copia a dimensão de um dado e substitui todos os seus valores por n."
      ],
      "id": "exact-compromise"
    },
    {
      "cell_type": "code",
      "metadata": {
        "colab": {
          "base_uri": "https://localhost:8080/"
        },
        "id": "advance-soviet",
        "outputId": "9412f626-5170-4ea2-e5f8-f1907bce8a2b"
      },
      "source": [
        "arr5 = np.full_like(arr4, 2)\n",
        "arr5"
      ],
      "id": "advance-soviet",
      "execution_count": 6,
      "outputs": [
        {
          "output_type": "execute_result",
          "data": {
            "text/plain": [
              "array([[2, 2, 2, 2],\n",
              "       [2, 2, 2, 2]])"
            ]
          },
          "metadata": {},
          "execution_count": 6
        }
      ]
    },
    {
      "cell_type": "markdown",
      "metadata": {
        "id": "bigger-notion"
      },
      "source": [
        "### np.eye(dimensão)\n",
        "#### Cria uma matriz identidade com a dimensão especificada."
      ],
      "id": "bigger-notion"
    },
    {
      "cell_type": "code",
      "metadata": {
        "colab": {
          "base_uri": "https://localhost:8080/"
        },
        "id": "heated-peoples",
        "outputId": "fbd096d8-816e-45e5-df5b-a02340a31e5a"
      },
      "source": [
        "arr6 = np.eye(4)\n",
        "arr6"
      ],
      "id": "heated-peoples",
      "execution_count": 7,
      "outputs": [
        {
          "output_type": "execute_result",
          "data": {
            "text/plain": [
              "array([[1., 0., 0., 0.],\n",
              "       [0., 1., 0., 0.],\n",
              "       [0., 0., 1., 0.],\n",
              "       [0., 0., 0., 1.]])"
            ]
          },
          "metadata": {},
          "execution_count": 7
        }
      ]
    },
    {
      "cell_type": "markdown",
      "metadata": {
        "id": "rotary-france"
      },
      "source": [
        "### dado.astype(tipo)\n",
        "#### Cria uma array a partir de um dado, com o tipo especificado."
      ],
      "id": "rotary-france"
    },
    {
      "cell_type": "code",
      "metadata": {
        "colab": {
          "base_uri": "https://localhost:8080/"
        },
        "id": "apparent-chicken",
        "outputId": "4de578eb-0490-41bd-cf6d-d3a861cef49e"
      },
      "source": [
        "arr7 = arr6.astype(str)\n",
        "arr7"
      ],
      "id": "apparent-chicken",
      "execution_count": 8,
      "outputs": [
        {
          "output_type": "execute_result",
          "data": {
            "text/plain": [
              "array([['1.0', '0.0', '0.0', '0.0'],\n",
              "       ['0.0', '1.0', '0.0', '0.0'],\n",
              "       ['0.0', '0.0', '1.0', '0.0'],\n",
              "       ['0.0', '0.0', '0.0', '1.0']], dtype='<U32')"
            ]
          },
          "metadata": {},
          "execution_count": 8
        }
      ]
    },
    {
      "cell_type": "markdown",
      "metadata": {
        "id": "reliable-titanium"
      },
      "source": [
        "### np.arange(n)\n",
        "#### Funciona como o range() do Python. Cria uma array nx1 indo de 0 até (n - 1)."
      ],
      "id": "reliable-titanium"
    },
    {
      "cell_type": "code",
      "metadata": {
        "colab": {
          "base_uri": "https://localhost:8080/"
        },
        "id": "gross-protest",
        "outputId": "a715470c-bda7-4bd3-d95c-d149948d05a4"
      },
      "source": [
        "arr8 = np.arange(10)\n",
        "arr8"
      ],
      "id": "gross-protest",
      "execution_count": 9,
      "outputs": [
        {
          "output_type": "execute_result",
          "data": {
            "text/plain": [
              "array([0, 1, 2, 3, 4, 5, 6, 7, 8, 9])"
            ]
          },
          "metadata": {},
          "execution_count": 9
        }
      ]
    },
    {
      "cell_type": "markdown",
      "metadata": {
        "id": "accessory-casino"
      },
      "source": [
        "### np.random.rand(n)\n",
        "#### Cria uma array com n valores positivos pertencentes à distribuição normal de desvio padrão 1 e média 0."
      ],
      "id": "accessory-casino"
    },
    {
      "cell_type": "code",
      "metadata": {
        "colab": {
          "base_uri": "https://localhost:8080/"
        },
        "id": "serial-bullet",
        "outputId": "01b981cc-6983-458b-8633-3495c414819c"
      },
      "source": [
        "arr9 = np.random.rand(20)\n",
        "arr9"
      ],
      "id": "serial-bullet",
      "execution_count": 10,
      "outputs": [
        {
          "output_type": "execute_result",
          "data": {
            "text/plain": [
              "array([0.0986764 , 0.69875089, 0.04933496, 0.197107  , 0.25704108,\n",
              "       0.90002557, 0.48917581, 0.46883076, 0.22911764, 0.50934026,\n",
              "       0.43534008, 0.59083724, 0.88981074, 0.97295653, 0.5740627 ,\n",
              "       0.82217355, 0.44228725, 0.39577211, 0.07108059, 0.60885594])"
            ]
          },
          "metadata": {},
          "execution_count": 10
        }
      ]
    },
    {
      "cell_type": "markdown",
      "metadata": {
        "id": "forward-valve"
      },
      "source": [
        "### np.random.randn(n)\n",
        "#### Faz o mesmo que o método anterior, mas agora valores negativos também serão escolhidos."
      ],
      "id": "forward-valve"
    },
    {
      "cell_type": "code",
      "metadata": {
        "colab": {
          "base_uri": "https://localhost:8080/"
        },
        "id": "super-exemption",
        "outputId": "2817816e-2ba4-44ab-d7e4-1d233f98542b"
      },
      "source": [
        "arr10 = np.random.randn(12)\n",
        "arr10"
      ],
      "id": "super-exemption",
      "execution_count": 11,
      "outputs": [
        {
          "output_type": "execute_result",
          "data": {
            "text/plain": [
              "array([ 0.83429264,  0.74186803,  0.69985913, -1.487009  , -0.09688481,\n",
              "        0.78347656,  0.52668533,  0.36383321,  1.50956084,  1.22761428,\n",
              "       -1.05334284, -0.30188628])"
            ]
          },
          "metadata": {},
          "execution_count": 11
        }
      ]
    },
    {
      "cell_type": "markdown",
      "metadata": {
        "id": "crude-superior"
      },
      "source": [
        "### np.random.normal(m, d, size=n)\n",
        "#### Cria uma array com n elementos da distribuição normal com média m e desvio padrão d."
      ],
      "id": "crude-superior"
    },
    {
      "cell_type": "code",
      "metadata": {
        "colab": {
          "base_uri": "https://localhost:8080/"
        },
        "id": "common-forward",
        "outputId": "94bd944b-67b0-47c2-88ce-c144fdc64191"
      },
      "source": [
        "arr11 = np.random.normal(10, 2, size=15)\n",
        "arr11"
      ],
      "id": "common-forward",
      "execution_count": 12,
      "outputs": [
        {
          "output_type": "execute_result",
          "data": {
            "text/plain": [
              "array([ 6.40892705, 10.15605851,  9.66856957,  9.51122265,  6.86086852,\n",
              "       10.04986665,  8.58140562,  8.94332063, 12.6184079 ,  7.19031525,\n",
              "        6.77686376,  9.2523521 , 11.88826144, 14.17284696, 14.89941452])"
            ]
          },
          "metadata": {},
          "execution_count": 12
        }
      ]
    },
    {
      "cell_type": "code",
      "metadata": {
        "colab": {
          "base_uri": "https://localhost:8080/"
        },
        "id": "fabulous-bradford",
        "outputId": "0b78f0de-ada9-4b98-87b4-bb163820ddd9"
      },
      "source": [
        "arr12 = np.random.normal(15, 3, size=100000)\n",
        "mean = np.mean(arr12) # np.mean(arr) calcula a média de arr.\n",
        "std = np.std(arr12) # np.std(arr) calcula o desvio padrão de arr.\n",
        "\n",
        "print(f'Média: {round(mean, 0)}, Desvio Padrão: {round(std, 0)}') # Prova real.\n",
        "# round(v, d) arredonda v para d casas decimais."
      ],
      "id": "fabulous-bradford",
      "execution_count": 13,
      "outputs": [
        {
          "output_type": "stream",
          "name": "stdout",
          "text": [
            "Média: 15.0, Desvio Padrão: 3.0\n"
          ]
        }
      ]
    },
    {
      "cell_type": "markdown",
      "metadata": {
        "id": "environmental-booking"
      },
      "source": [
        "### np.random.randint(m, size=n)\n",
        "#### Cria uma array com n números inteiros, variando de 0 até m."
      ],
      "id": "environmental-booking"
    },
    {
      "cell_type": "code",
      "metadata": {
        "colab": {
          "base_uri": "https://localhost:8080/"
        },
        "id": "ultimate-interaction",
        "outputId": "8d684dfa-bd2c-4fc3-918a-891379182f99"
      },
      "source": [
        "arr13 = np.random.randint(30, size=50)\n",
        "arr13"
      ],
      "id": "ultimate-interaction",
      "execution_count": 14,
      "outputs": [
        {
          "output_type": "execute_result",
          "data": {
            "text/plain": [
              "array([12,  9, 25, 20, 22,  5, 29,  8, 19, 15, 14,  9,  2, 27, 16,  7, 15,\n",
              "       17, 10, 11, 24,  7,  0, 14, 29,  4,  2, 18,  3, 28, 16,  8, 20,  6,\n",
              "       22,  6, 16, 20,  2, 28, 14,  4,  9, 28,  1, 16, 28,  6,  6, 10])"
            ]
          },
          "metadata": {},
          "execution_count": 14
        }
      ]
    },
    {
      "cell_type": "markdown",
      "metadata": {
        "id": "accepted-blank"
      },
      "source": [
        "### np.random.permutation(n)\n",
        "#### Cria uma array com n valores permutados variando de 0 a n-1."
      ],
      "id": "accepted-blank"
    },
    {
      "cell_type": "code",
      "metadata": {
        "colab": {
          "base_uri": "https://localhost:8080/"
        },
        "id": "musical-local",
        "outputId": "e12d0476-caa2-44f4-d641-4b8f941f6e1a"
      },
      "source": [
        "arr14 = np.random.permutation(10)\n",
        "arr14"
      ],
      "id": "musical-local",
      "execution_count": 15,
      "outputs": [
        {
          "output_type": "execute_result",
          "data": {
            "text/plain": [
              "array([3, 2, 6, 4, 9, 0, 8, 7, 5, 1])"
            ]
          },
          "metadata": {},
          "execution_count": 15
        }
      ]
    },
    {
      "cell_type": "markdown",
      "metadata": {
        "id": "scientific-portuguese"
      },
      "source": [
        "-------------------------------------------------------------------------------------------------------"
      ],
      "id": "scientific-portuguese"
    },
    {
      "cell_type": "markdown",
      "metadata": {
        "id": "cheap-premiere"
      },
      "source": [
        "## Redimensionamento"
      ],
      "id": "cheap-premiere"
    },
    {
      "cell_type": "markdown",
      "metadata": {
        "id": "quarterly-peninsula"
      },
      "source": [
        "### reshape(n1, n2, n3, ...nm)\n",
        "#### Redimensiona a instância que o está chamando. Para que reshape funcione o produto n1 x n2 x ... x nm deve ser igual ao número de elementos da instância."
      ],
      "id": "quarterly-peninsula"
    },
    {
      "cell_type": "code",
      "metadata": {
        "colab": {
          "base_uri": "https://localhost:8080/"
        },
        "id": "serial-xerox",
        "outputId": "2f4e0ac9-6e91-4911-d90d-d18c6598f6d4"
      },
      "source": [
        "arr15 = arr8.reshape(5, 2) # arr8 tem 10 elementos (5 x 2 = 10).\n",
        "arr15"
      ],
      "id": "serial-xerox",
      "execution_count": 16,
      "outputs": [
        {
          "output_type": "execute_result",
          "data": {
            "text/plain": [
              "array([[0, 1],\n",
              "       [2, 3],\n",
              "       [4, 5],\n",
              "       [6, 7],\n",
              "       [8, 9]])"
            ]
          },
          "metadata": {},
          "execution_count": 16
        }
      ]
    },
    {
      "cell_type": "markdown",
      "metadata": {
        "id": "QFSdjBLnJMoX"
      },
      "source": [
        "### flatten()\n",
        "#### Lineariza a instância."
      ],
      "id": "QFSdjBLnJMoX"
    },
    {
      "cell_type": "code",
      "metadata": {
        "colab": {
          "base_uri": "https://localhost:8080/"
        },
        "id": "EWlGMctqJDy5",
        "outputId": "4000b243-ce69-4a3c-b689-649ff93730df"
      },
      "source": [
        "arr15.flatten()"
      ],
      "id": "EWlGMctqJDy5",
      "execution_count": 17,
      "outputs": [
        {
          "output_type": "execute_result",
          "data": {
            "text/plain": [
              "array([0, 1, 2, 3, 4, 5, 6, 7, 8, 9])"
            ]
          },
          "metadata": {},
          "execution_count": 17
        }
      ]
    },
    {
      "cell_type": "markdown",
      "metadata": {
        "id": "induced-stack"
      },
      "source": [
        "-------------------------------------------------------------------------------------------------------"
      ],
      "id": "induced-stack"
    },
    {
      "cell_type": "markdown",
      "metadata": {
        "id": "entire-perfume"
      },
      "source": [
        "## Condicionais e Mapeamento"
      ],
      "id": "entire-perfume"
    },
    {
      "cell_type": "markdown",
      "metadata": {
        "id": "latter-christmas"
      },
      "source": [
        "### Condição como indexação"
      ],
      "id": "latter-christmas"
    },
    {
      "cell_type": "code",
      "metadata": {
        "colab": {
          "base_uri": "https://localhost:8080/"
        },
        "id": "provincial-experience",
        "outputId": "72a3d304-49c0-493f-fea9-6b9bcb5faf37"
      },
      "source": [
        "# A condição arr8 > 3 retorna uma array booleana, sendo True para os valores maiores que três e False para\n",
        "# os menores. A partir dessa array booleana, que representa nossa condição, vamos indexar uma nova array.\n",
        "b = arr8 > 3\n",
        "b"
      ],
      "id": "provincial-experience",
      "execution_count": 18,
      "outputs": [
        {
          "output_type": "execute_result",
          "data": {
            "text/plain": [
              "array([False, False, False, False,  True,  True,  True,  True,  True,\n",
              "        True])"
            ]
          },
          "metadata": {},
          "execution_count": 18
        }
      ]
    },
    {
      "cell_type": "code",
      "metadata": {
        "colab": {
          "base_uri": "https://localhost:8080/"
        },
        "id": "continuing-remainder",
        "outputId": "fff34cde-bce2-42bb-e65c-2baad22a5b2c"
      },
      "source": [
        "arr8 = arr8[b]\n",
        "arr8"
      ],
      "id": "continuing-remainder",
      "execution_count": 19,
      "outputs": [
        {
          "output_type": "execute_result",
          "data": {
            "text/plain": [
              "array([4, 5, 6, 7, 8, 9])"
            ]
          },
          "metadata": {},
          "execution_count": 19
        }
      ]
    },
    {
      "cell_type": "markdown",
      "metadata": {
        "id": "freelance-exercise"
      },
      "source": [
        "### np.where(cond, arr1, arr2)\n",
        "#### O método where se baseará na matriz booleana cond. Se o valor for True, então o valor posicional correspondente será selecionado da array arr1, caso contrário, será selecionado de arr2."
      ],
      "id": "freelance-exercise"
    },
    {
      "cell_type": "code",
      "metadata": {
        "colab": {
          "base_uri": "https://localhost:8080/"
        },
        "id": "satisfactory-application",
        "outputId": "92ad6c37-b92e-4063-8bc6-9c89737cdaaa"
      },
      "source": [
        "arr16 = np.array([1, 2, 3, 4, 5])\n",
        "arr17 = np.array([6, 7 , 8, 9, 10])\n",
        "cond = np.array([True, True, False, False, True])\n",
        "\n",
        "arr18 = np.where(cond, arr16, arr17)\n",
        "arr18"
      ],
      "id": "satisfactory-application",
      "execution_count": 20,
      "outputs": [
        {
          "output_type": "execute_result",
          "data": {
            "text/plain": [
              "array([1, 2, 8, 9, 5])"
            ]
          },
          "metadata": {},
          "execution_count": 20
        }
      ]
    },
    {
      "cell_type": "markdown",
      "metadata": {
        "id": "palestinian-worst"
      },
      "source": [
        "### arr[map]\n",
        "#### Mapeia os valores de arr nos valores de map"
      ],
      "id": "palestinian-worst"
    },
    {
      "cell_type": "code",
      "metadata": {
        "colab": {
          "base_uri": "https://localhost:8080/"
        },
        "id": "induced-sender",
        "outputId": "9b4560bd-ba3f-40e3-8a3d-255c639d0d3c"
      },
      "source": [
        "arr19 = np.array(['São Paulo', 'Rio de Janeiro', 'Minas Gerais'])\n",
        "arr19"
      ],
      "id": "induced-sender",
      "execution_count": 21,
      "outputs": [
        {
          "output_type": "execute_result",
          "data": {
            "text/plain": [
              "array(['São Paulo', 'Rio de Janeiro', 'Minas Gerais'], dtype='<U14')"
            ]
          },
          "metadata": {},
          "execution_count": 21
        }
      ]
    },
    {
      "cell_type": "code",
      "metadata": {
        "colab": {
          "base_uri": "https://localhost:8080/"
        },
        "id": "frequent-guest",
        "outputId": "47208147-55a8-41f9-c0cd-19977b1a5bcb"
      },
      "source": [
        "arr19[[0, 1, 2, 1, 2, 0]]"
      ],
      "id": "frequent-guest",
      "execution_count": 22,
      "outputs": [
        {
          "output_type": "execute_result",
          "data": {
            "text/plain": [
              "array(['São Paulo', 'Rio de Janeiro', 'Minas Gerais', 'Rio de Janeiro',\n",
              "       'Minas Gerais', 'São Paulo'], dtype='<U14')"
            ]
          },
          "metadata": {},
          "execution_count": 22
        }
      ]
    },
    {
      "cell_type": "markdown",
      "metadata": {
        "id": "remarkable-deputy"
      },
      "source": [
        "-------------------------------------------------------------------------------------------------------"
      ],
      "id": "remarkable-deputy"
    },
    {
      "cell_type": "markdown",
      "metadata": {
        "id": "designing-arrow"
      },
      "source": [
        "## Indexação"
      ],
      "id": "designing-arrow"
    },
    {
      "cell_type": "markdown",
      "metadata": {
        "id": "assured-limit"
      },
      "source": [
        "### Indexação de colunas: arr[:, [colunas]]"
      ],
      "id": "assured-limit"
    },
    {
      "cell_type": "code",
      "metadata": {
        "colab": {
          "base_uri": "https://localhost:8080/"
        },
        "id": "superior-rings",
        "outputId": "e1a83f2f-32e6-484a-b30f-384965554a20"
      },
      "source": [
        "arr20 = np.arange(16).reshape(4, 4)\n",
        "arr20"
      ],
      "id": "superior-rings",
      "execution_count": 23,
      "outputs": [
        {
          "output_type": "execute_result",
          "data": {
            "text/plain": [
              "array([[ 0,  1,  2,  3],\n",
              "       [ 4,  5,  6,  7],\n",
              "       [ 8,  9, 10, 11],\n",
              "       [12, 13, 14, 15]])"
            ]
          },
          "metadata": {},
          "execution_count": 23
        }
      ]
    },
    {
      "cell_type": "code",
      "metadata": {
        "colab": {
          "base_uri": "https://localhost:8080/"
        },
        "id": "raised-screen",
        "outputId": "4ad995c2-af89-43f2-89cb-df1528007f91"
      },
      "source": [
        "arr20[:, [0, 3]] # Retornará a primeira e a terceira coluna, lembrando que a primeira coluna está indexada com a posição 0."
      ],
      "id": "raised-screen",
      "execution_count": 24,
      "outputs": [
        {
          "output_type": "execute_result",
          "data": {
            "text/plain": [
              "array([[ 0,  3],\n",
              "       [ 4,  7],\n",
              "       [ 8, 11],\n",
              "       [12, 15]])"
            ]
          },
          "metadata": {},
          "execution_count": 24
        }
      ]
    },
    {
      "cell_type": "markdown",
      "metadata": {
        "id": "disciplinary-minute"
      },
      "source": [
        "### Indexação de linhas: arr[[linhas]]"
      ],
      "id": "disciplinary-minute"
    },
    {
      "cell_type": "code",
      "metadata": {
        "colab": {
          "base_uri": "https://localhost:8080/"
        },
        "id": "clear-accident",
        "outputId": "d90c92ce-e130-4910-f70f-76d42272cfab"
      },
      "source": [
        "arr20[[1, 2]] # Retornará a segunda e terceira linha."
      ],
      "id": "clear-accident",
      "execution_count": 25,
      "outputs": [
        {
          "output_type": "execute_result",
          "data": {
            "text/plain": [
              "array([[ 4,  5,  6,  7],\n",
              "       [ 8,  9, 10, 11]])"
            ]
          },
          "metadata": {},
          "execution_count": 25
        }
      ]
    },
    {
      "cell_type": "markdown",
      "metadata": {
        "id": "bizarre-capacity"
      },
      "source": [
        "### Indexação de linhas e colunas: arr[linha1:linha2, coluna1:coluna2]"
      ],
      "id": "bizarre-capacity"
    },
    {
      "cell_type": "code",
      "metadata": {
        "colab": {
          "base_uri": "https://localhost:8080/"
        },
        "id": "rapid-religious",
        "outputId": "14565730-01ee-4d83-f2a9-4c848ce165f3"
      },
      "source": [
        "arr20[1:3, 2:]"
      ],
      "id": "rapid-religious",
      "execution_count": 26,
      "outputs": [
        {
          "output_type": "execute_result",
          "data": {
            "text/plain": [
              "array([[ 6,  7],\n",
              "       [10, 11]])"
            ]
          },
          "metadata": {},
          "execution_count": 26
        }
      ]
    },
    {
      "cell_type": "markdown",
      "metadata": {
        "id": "rising-underwear"
      },
      "source": [
        "### Indexação de linhas alterando a ordem das colunas: arr[linhas][:, [colunas]]"
      ],
      "id": "rising-underwear"
    },
    {
      "cell_type": "code",
      "metadata": {
        "colab": {
          "base_uri": "https://localhost:8080/"
        },
        "id": "processed-probe",
        "outputId": "0fcb8dbc-5401-4d1c-f375-a032851f464f"
      },
      "source": [
        "arr20[[0, 2]][:, [0, 2, 1, 3]]"
      ],
      "id": "processed-probe",
      "execution_count": 27,
      "outputs": [
        {
          "output_type": "execute_result",
          "data": {
            "text/plain": [
              "array([[ 0,  2,  1,  3],\n",
              "       [ 8, 10,  9, 11]])"
            ]
          },
          "metadata": {},
          "execution_count": 27
        }
      ]
    },
    {
      "cell_type": "markdown",
      "metadata": {
        "id": "immune-cyprus"
      },
      "source": [
        "### Indexação de colunas alterando a ordem das linhas: arr[:, [colunas]][[linhas]]"
      ],
      "id": "immune-cyprus"
    },
    {
      "cell_type": "code",
      "metadata": {
        "colab": {
          "base_uri": "https://localhost:8080/"
        },
        "id": "resident-harvest",
        "outputId": "4eecf6eb-351a-42ea-a1cd-f26152cc4d70"
      },
      "source": [
        "arr20[:, [2, 3]][[3, 2, 0, 1]]"
      ],
      "id": "resident-harvest",
      "execution_count": 28,
      "outputs": [
        {
          "output_type": "execute_result",
          "data": {
            "text/plain": [
              "array([[14, 15],\n",
              "       [10, 11],\n",
              "       [ 2,  3],\n",
              "       [ 6,  7]])"
            ]
          },
          "metadata": {},
          "execution_count": 28
        }
      ]
    },
    {
      "cell_type": "markdown",
      "metadata": {
        "id": "general-pledge"
      },
      "source": [
        "### Indexação de um único elemento: arr[linha, coluna]"
      ],
      "id": "general-pledge"
    },
    {
      "cell_type": "code",
      "metadata": {
        "colab": {
          "base_uri": "https://localhost:8080/"
        },
        "id": "instant-frost",
        "outputId": "2a080663-a738-4fc7-a9f4-244c111b419b"
      },
      "source": [
        "arr20[3, 2] # Elemento na quarta linha e terceira coluna."
      ],
      "id": "instant-frost",
      "execution_count": 29,
      "outputs": [
        {
          "output_type": "execute_result",
          "data": {
            "text/plain": [
              "14"
            ]
          },
          "metadata": {},
          "execution_count": 29
        }
      ]
    },
    {
      "cell_type": "markdown",
      "metadata": {
        "id": "fitted-lesson"
      },
      "source": [
        "-------------------------------------------------------------------------------------------------------"
      ],
      "id": "fitted-lesson"
    },
    {
      "cell_type": "markdown",
      "metadata": {
        "id": "valid-ukraine"
      },
      "source": [
        "## Mudança de Eixos"
      ],
      "id": "valid-ukraine"
    },
    {
      "cell_type": "markdown",
      "metadata": {
        "id": "electrical-attempt"
      },
      "source": [
        "### transpose(eixo 1, eixo 2, ... , eixo n)\n",
        "#### Define os novos eixos na ordem em que os parâmetros foram passados."
      ],
      "id": "electrical-attempt"
    },
    {
      "cell_type": "code",
      "metadata": {
        "colab": {
          "base_uri": "https://localhost:8080/"
        },
        "id": "powerful-bunch",
        "outputId": "d93a274d-7b26-4b35-f03c-967327e00833"
      },
      "source": [
        "arr4"
      ],
      "id": "powerful-bunch",
      "execution_count": 30,
      "outputs": [
        {
          "output_type": "execute_result",
          "data": {
            "text/plain": [
              "array([[1, 1, 1, 1],\n",
              "       [1, 1, 1, 1]])"
            ]
          },
          "metadata": {},
          "execution_count": 30
        }
      ]
    },
    {
      "cell_type": "code",
      "metadata": {
        "colab": {
          "base_uri": "https://localhost:8080/"
        },
        "id": "engaged-cholesterol",
        "outputId": "d1b97d7f-420d-44d6-b78d-04af03e70f47"
      },
      "source": [
        "arr4.transpose(1, 0) \n",
        "# O eixo 1 (das colunas) passa a ser o novo eixo das linhas, e o eixo 0 (das linhas) passa a ser o novo \n",
        "# eixo das colunas."
      ],
      "id": "engaged-cholesterol",
      "execution_count": 31,
      "outputs": [
        {
          "output_type": "execute_result",
          "data": {
            "text/plain": [
              "array([[1, 1],\n",
              "       [1, 1],\n",
              "       [1, 1],\n",
              "       [1, 1]])"
            ]
          },
          "metadata": {},
          "execution_count": 31
        }
      ]
    },
    {
      "cell_type": "markdown",
      "metadata": {
        "id": "continental-factory"
      },
      "source": [
        "### swapaxes(eixo 1, eixo 2)\n",
        "#### Inverte a ordem dos eixos 1 e 2."
      ],
      "id": "continental-factory"
    },
    {
      "cell_type": "code",
      "metadata": {
        "colab": {
          "base_uri": "https://localhost:8080/"
        },
        "id": "white-indiana",
        "outputId": "79528045-eff0-41b6-fb62-d6aec1c43cd9"
      },
      "source": [
        "arr3"
      ],
      "id": "white-indiana",
      "execution_count": 32,
      "outputs": [
        {
          "output_type": "execute_result",
          "data": {
            "text/plain": [
              "array([[1, 2, 3],\n",
              "       [4, 5, 6],\n",
              "       [7, 8, 9]])"
            ]
          },
          "metadata": {},
          "execution_count": 32
        }
      ]
    },
    {
      "cell_type": "code",
      "metadata": {
        "colab": {
          "base_uri": "https://localhost:8080/"
        },
        "id": "coordinated-montana",
        "outputId": "e4641e03-f16f-4403-d564-8bff096e07b0"
      },
      "source": [
        "arr3.swapaxes(1, 0) # arr.swapaxes(1, 0) é igual a arr.swapaxes(0, 1) que é igual à transposta de arr."
      ],
      "id": "coordinated-montana",
      "execution_count": 33,
      "outputs": [
        {
          "output_type": "execute_result",
          "data": {
            "text/plain": [
              "array([[1, 4, 7],\n",
              "       [2, 5, 8],\n",
              "       [3, 6, 9]])"
            ]
          },
          "metadata": {},
          "execution_count": 33
        }
      ]
    },
    {
      "cell_type": "markdown",
      "metadata": {
        "id": "split-malpractice"
      },
      "source": [
        "-------------------------------------------------------------------------------------------------------"
      ],
      "id": "split-malpractice"
    },
    {
      "cell_type": "markdown",
      "metadata": {
        "id": "massive-allocation"
      },
      "source": [
        "## Métodos Estatísticos de alto nível"
      ],
      "id": "massive-allocation"
    },
    {
      "cell_type": "markdown",
      "metadata": {
        "id": "defined-stone"
      },
      "source": [
        "### np.var(arr)\n",
        "#### Calcula a variância de arr."
      ],
      "id": "defined-stone"
    },
    {
      "cell_type": "code",
      "metadata": {
        "colab": {
          "base_uri": "https://localhost:8080/"
        },
        "id": "immediate-pharmacology",
        "outputId": "83399b3d-04ac-4046-b4ae-76d8162c21c2"
      },
      "source": [
        "arr21 = np.random.randint(15, size=40)\n",
        "arr21"
      ],
      "id": "immediate-pharmacology",
      "execution_count": 34,
      "outputs": [
        {
          "output_type": "execute_result",
          "data": {
            "text/plain": [
              "array([ 9, 11,  7,  5,  8, 13,  7,  1,  7,  5, 11,  7, 13, 14,  2,  2, 12,\n",
              "        5,  8,  6, 14, 11,  4,  8,  9,  0, 12,  2, 14,  7, 11,  7,  8,  9,\n",
              "       13,  7,  7,  8,  6,  2])"
            ]
          },
          "metadata": {},
          "execution_count": 34
        }
      ]
    },
    {
      "cell_type": "code",
      "metadata": {
        "colab": {
          "base_uri": "https://localhost:8080/"
        },
        "id": "split-opera",
        "outputId": "d5627a35-d5d5-46fc-f5ce-8ff2879e72d8"
      },
      "source": [
        "np.var(arr21)"
      ],
      "id": "split-opera",
      "execution_count": 35,
      "outputs": [
        {
          "output_type": "execute_result",
          "data": {
            "text/plain": [
              "14.209999999999999"
            ]
          },
          "metadata": {},
          "execution_count": 35
        }
      ]
    },
    {
      "cell_type": "markdown",
      "metadata": {
        "id": "selective-spray"
      },
      "source": [
        "### np.mean(arr)\n",
        "#### Calcula a média de arr."
      ],
      "id": "selective-spray"
    },
    {
      "cell_type": "code",
      "metadata": {
        "colab": {
          "base_uri": "https://localhost:8080/"
        },
        "id": "genetic-diagram",
        "outputId": "cda85d4c-b90b-4635-e218-c8cab18aeb14"
      },
      "source": [
        "np.mean(arr21)"
      ],
      "id": "genetic-diagram",
      "execution_count": 36,
      "outputs": [
        {
          "output_type": "execute_result",
          "data": {
            "text/plain": [
              "7.8"
            ]
          },
          "metadata": {},
          "execution_count": 36
        }
      ]
    },
    {
      "cell_type": "markdown",
      "metadata": {
        "id": "visible-wagner"
      },
      "source": [
        "### np.max(arr)\n",
        "#### Exibe o maior valor de arr."
      ],
      "id": "visible-wagner"
    },
    {
      "cell_type": "code",
      "metadata": {
        "colab": {
          "base_uri": "https://localhost:8080/"
        },
        "id": "occupied-conflict",
        "outputId": "d1dd3e3d-4b9a-4c45-e390-24e6bc68a5d8"
      },
      "source": [
        "np.max(arr21)"
      ],
      "id": "occupied-conflict",
      "execution_count": 37,
      "outputs": [
        {
          "output_type": "execute_result",
          "data": {
            "text/plain": [
              "14"
            ]
          },
          "metadata": {},
          "execution_count": 37
        }
      ]
    },
    {
      "cell_type": "markdown",
      "metadata": {
        "id": "dried-jamaica"
      },
      "source": [
        "### np.abs(arr)\n",
        "#### Calcula o módulo de todos os elementos de arr."
      ],
      "id": "dried-jamaica"
    },
    {
      "cell_type": "code",
      "metadata": {
        "colab": {
          "base_uri": "https://localhost:8080/"
        },
        "id": "naval-principle",
        "outputId": "eaea7587-703c-4a94-b8d0-71183d607486"
      },
      "source": [
        "arr10"
      ],
      "id": "naval-principle",
      "execution_count": 38,
      "outputs": [
        {
          "output_type": "execute_result",
          "data": {
            "text/plain": [
              "array([ 0.83429264,  0.74186803,  0.69985913, -1.487009  , -0.09688481,\n",
              "        0.78347656,  0.52668533,  0.36383321,  1.50956084,  1.22761428,\n",
              "       -1.05334284, -0.30188628])"
            ]
          },
          "metadata": {},
          "execution_count": 38
        }
      ]
    },
    {
      "cell_type": "code",
      "metadata": {
        "colab": {
          "base_uri": "https://localhost:8080/"
        },
        "id": "registered-nutrition",
        "outputId": "001436e7-9bd5-4b3f-e88c-7d4b2948104e"
      },
      "source": [
        "np.abs(arr10)"
      ],
      "id": "registered-nutrition",
      "execution_count": 39,
      "outputs": [
        {
          "output_type": "execute_result",
          "data": {
            "text/plain": [
              "array([0.83429264, 0.74186803, 0.69985913, 1.487009  , 0.09688481,\n",
              "       0.78347656, 0.52668533, 0.36383321, 1.50956084, 1.22761428,\n",
              "       1.05334284, 0.30188628])"
            ]
          },
          "metadata": {},
          "execution_count": 39
        }
      ]
    },
    {
      "cell_type": "markdown",
      "metadata": {
        "id": "casual-emission"
      },
      "source": [
        "### np.sqrt(arr)\n",
        "#### Calcula a raiz quadrada de todos os elementos de arr."
      ],
      "id": "casual-emission"
    },
    {
      "cell_type": "code",
      "metadata": {
        "colab": {
          "base_uri": "https://localhost:8080/"
        },
        "id": "previous-escape",
        "outputId": "22ec4e8c-88d2-47b1-bc9a-1a2ca6ada51e"
      },
      "source": [
        "np.sqrt(arr21)"
      ],
      "id": "previous-escape",
      "execution_count": 40,
      "outputs": [
        {
          "output_type": "execute_result",
          "data": {
            "text/plain": [
              "array([3.        , 3.31662479, 2.64575131, 2.23606798, 2.82842712,\n",
              "       3.60555128, 2.64575131, 1.        , 2.64575131, 2.23606798,\n",
              "       3.31662479, 2.64575131, 3.60555128, 3.74165739, 1.41421356,\n",
              "       1.41421356, 3.46410162, 2.23606798, 2.82842712, 2.44948974,\n",
              "       3.74165739, 3.31662479, 2.        , 2.82842712, 3.        ,\n",
              "       0.        , 3.46410162, 1.41421356, 3.74165739, 2.64575131,\n",
              "       3.31662479, 2.64575131, 2.82842712, 3.        , 3.60555128,\n",
              "       2.64575131, 2.64575131, 2.82842712, 2.44948974, 1.41421356])"
            ]
          },
          "metadata": {},
          "execution_count": 40
        }
      ]
    },
    {
      "cell_type": "markdown",
      "metadata": {
        "id": "vietnamese-connectivity"
      },
      "source": [
        "### np.square(arr)\n",
        "#### Calcula a segunda potência de todos os valores de arr."
      ],
      "id": "vietnamese-connectivity"
    },
    {
      "cell_type": "code",
      "metadata": {
        "colab": {
          "base_uri": "https://localhost:8080/"
        },
        "id": "quick-harvard",
        "outputId": "ae0efa9b-2a97-4d8d-df8f-f814193ed25d"
      },
      "source": [
        "np.square(arr21)"
      ],
      "id": "quick-harvard",
      "execution_count": 41,
      "outputs": [
        {
          "output_type": "execute_result",
          "data": {
            "text/plain": [
              "array([ 81, 121,  49,  25,  64, 169,  49,   1,  49,  25, 121,  49, 169,\n",
              "       196,   4,   4, 144,  25,  64,  36, 196, 121,  16,  64,  81,   0,\n",
              "       144,   4, 196,  49, 121,  49,  64,  81, 169,  49,  49,  64,  36,\n",
              "         4])"
            ]
          },
          "metadata": {},
          "execution_count": 41
        }
      ]
    },
    {
      "cell_type": "markdown",
      "metadata": {
        "id": "becoming-commerce"
      },
      "source": [
        "### np.log10(arr)\n",
        "#### Calcula o logaritmo de base 10 de todos os valores de arr."
      ],
      "id": "becoming-commerce"
    },
    {
      "cell_type": "code",
      "metadata": {
        "colab": {
          "base_uri": "https://localhost:8080/"
        },
        "id": "considerable-canon",
        "outputId": "732ed43a-2899-4ddd-af61-ccced4124309"
      },
      "source": [
        "arr21[arr21 == 0] = 1 # Trocando os 0's por 1's pois não existe logaritmo de números menores ou iguais a 0.\n",
        "np.log10(arr21)"
      ],
      "id": "considerable-canon",
      "execution_count": 42,
      "outputs": [
        {
          "output_type": "execute_result",
          "data": {
            "text/plain": [
              "array([0.95424251, 1.04139269, 0.84509804, 0.69897   , 0.90308999,\n",
              "       1.11394335, 0.84509804, 0.        , 0.84509804, 0.69897   ,\n",
              "       1.04139269, 0.84509804, 1.11394335, 1.14612804, 0.30103   ,\n",
              "       0.30103   , 1.07918125, 0.69897   , 0.90308999, 0.77815125,\n",
              "       1.14612804, 1.04139269, 0.60205999, 0.90308999, 0.95424251,\n",
              "       0.        , 1.07918125, 0.30103   , 1.14612804, 0.84509804,\n",
              "       1.04139269, 0.84509804, 0.90308999, 0.95424251, 1.11394335,\n",
              "       0.84509804, 0.84509804, 0.90308999, 0.77815125, 0.30103   ])"
            ]
          },
          "metadata": {},
          "execution_count": 42
        }
      ]
    },
    {
      "cell_type": "markdown",
      "metadata": {
        "id": "ahead-sapphire"
      },
      "source": [
        "### np.sign(arr)\n",
        "#### Retorna uma array de 1's e -1's de acordo com os sinais dos valores de arr."
      ],
      "id": "ahead-sapphire"
    },
    {
      "cell_type": "code",
      "metadata": {
        "colab": {
          "base_uri": "https://localhost:8080/"
        },
        "id": "valuable-firewall",
        "outputId": "4ce9a4e5-a4d4-4e4b-d38b-860af1e2876c"
      },
      "source": [
        "np.sign(arr10)"
      ],
      "id": "valuable-firewall",
      "execution_count": 43,
      "outputs": [
        {
          "output_type": "execute_result",
          "data": {
            "text/plain": [
              "array([ 1.,  1.,  1., -1., -1.,  1.,  1.,  1.,  1.,  1., -1., -1.])"
            ]
          },
          "metadata": {},
          "execution_count": 43
        }
      ]
    },
    {
      "cell_type": "markdown",
      "metadata": {
        "id": "protected-universe"
      },
      "source": [
        "### np.ceil(arr)\n",
        "#### Arrendonda os valores de arr para cima."
      ],
      "id": "protected-universe"
    },
    {
      "cell_type": "code",
      "metadata": {
        "colab": {
          "base_uri": "https://localhost:8080/"
        },
        "id": "animal-things",
        "outputId": "7bd7773f-eb08-47bc-ade5-941072c41693"
      },
      "source": [
        "arr11"
      ],
      "id": "animal-things",
      "execution_count": 44,
      "outputs": [
        {
          "output_type": "execute_result",
          "data": {
            "text/plain": [
              "array([ 6.40892705, 10.15605851,  9.66856957,  9.51122265,  6.86086852,\n",
              "       10.04986665,  8.58140562,  8.94332063, 12.6184079 ,  7.19031525,\n",
              "        6.77686376,  9.2523521 , 11.88826144, 14.17284696, 14.89941452])"
            ]
          },
          "metadata": {},
          "execution_count": 44
        }
      ]
    },
    {
      "cell_type": "code",
      "metadata": {
        "colab": {
          "base_uri": "https://localhost:8080/"
        },
        "id": "funded-weather",
        "outputId": "596f4af5-e2d5-4630-eb3e-3961ca07e67e"
      },
      "source": [
        "np.ceil(arr11)"
      ],
      "id": "funded-weather",
      "execution_count": 45,
      "outputs": [
        {
          "output_type": "execute_result",
          "data": {
            "text/plain": [
              "array([ 7., 11., 10., 10.,  7., 11.,  9.,  9., 13.,  8.,  7., 10., 12.,\n",
              "       15., 15.])"
            ]
          },
          "metadata": {},
          "execution_count": 45
        }
      ]
    },
    {
      "cell_type": "markdown",
      "metadata": {
        "id": "cognitive-therapist"
      },
      "source": [
        "### np.floor(arr)\n",
        "#### Arrendonda os valores de arr para baixo."
      ],
      "id": "cognitive-therapist"
    },
    {
      "cell_type": "code",
      "metadata": {
        "colab": {
          "base_uri": "https://localhost:8080/"
        },
        "id": "unsigned-consolidation",
        "outputId": "1a641c83-ed97-4198-b696-824d2d34251b"
      },
      "source": [
        "np.floor(arr11)"
      ],
      "id": "unsigned-consolidation",
      "execution_count": 46,
      "outputs": [
        {
          "output_type": "execute_result",
          "data": {
            "text/plain": [
              "array([ 6., 10.,  9.,  9.,  6., 10.,  8.,  8., 12.,  7.,  6.,  9., 11.,\n",
              "       14., 14.])"
            ]
          },
          "metadata": {},
          "execution_count": 46
        }
      ]
    },
    {
      "cell_type": "markdown",
      "metadata": {
        "id": "usual-fields"
      },
      "source": [
        "### np.isnan(arr)\n",
        "#### Retorna uma matriz booleana com True para os valores que são NaN (não disponível/não numérico)."
      ],
      "id": "usual-fields"
    },
    {
      "cell_type": "code",
      "metadata": {
        "colab": {
          "base_uri": "https://localhost:8080/"
        },
        "id": "welsh-claim",
        "outputId": "ce44ea5c-4e69-48b9-c478-522b2cdbc454"
      },
      "source": [
        "np.log10(arr10)"
      ],
      "id": "welsh-claim",
      "execution_count": 47,
      "outputs": [
        {
          "output_type": "stream",
          "name": "stderr",
          "text": [
            "/usr/local/lib/python3.7/dist-packages/ipykernel_launcher.py:1: RuntimeWarning: invalid value encountered in log10\n",
            "  \"\"\"Entry point for launching an IPython kernel.\n"
          ]
        },
        {
          "output_type": "execute_result",
          "data": {
            "text/plain": [
              "array([-0.07868159, -0.12967334, -0.15498937,         nan,         nan,\n",
              "       -0.10597399, -0.27844878, -0.43909766,  0.17885062,  0.08906193,\n",
              "               nan,         nan])"
            ]
          },
          "metadata": {},
          "execution_count": 47
        }
      ]
    },
    {
      "cell_type": "code",
      "metadata": {
        "colab": {
          "base_uri": "https://localhost:8080/"
        },
        "id": "after-defeat",
        "outputId": "12ac3a99-1175-4bc7-d4bc-1e14a49924e2"
      },
      "source": [
        "np.isnan(np.log10(arr10))"
      ],
      "id": "after-defeat",
      "execution_count": 48,
      "outputs": [
        {
          "output_type": "stream",
          "name": "stderr",
          "text": [
            "/usr/local/lib/python3.7/dist-packages/ipykernel_launcher.py:1: RuntimeWarning: invalid value encountered in log10\n",
            "  \"\"\"Entry point for launching an IPython kernel.\n"
          ]
        },
        {
          "output_type": "execute_result",
          "data": {
            "text/plain": [
              "array([False, False, False,  True,  True, False, False, False, False,\n",
              "       False,  True,  True])"
            ]
          },
          "metadata": {},
          "execution_count": 48
        }
      ]
    },
    {
      "cell_type": "markdown",
      "metadata": {
        "id": "civic-island"
      },
      "source": [
        "### np.logical_not(arr), np.logical_and(arr1, arr2), np.logical_or(arr1, arr2), np.logical_xor(arr1, arr2)\n",
        "#### NÃO lógico, E lógico, OU lógico e OU Exclusivo respectivamente."
      ],
      "id": "civic-island"
    },
    {
      "cell_type": "code",
      "metadata": {
        "scrolled": true,
        "colab": {
          "base_uri": "https://localhost:8080/"
        },
        "id": "dress-galaxy",
        "outputId": "8f7b6ab2-152c-40fa-e115-376d0a377e40"
      },
      "source": [
        "np.logical_not(np.isnan(np.log10(arr10)))"
      ],
      "id": "dress-galaxy",
      "execution_count": 49,
      "outputs": [
        {
          "output_type": "stream",
          "name": "stderr",
          "text": [
            "/usr/local/lib/python3.7/dist-packages/ipykernel_launcher.py:1: RuntimeWarning: invalid value encountered in log10\n",
            "  \"\"\"Entry point for launching an IPython kernel.\n"
          ]
        },
        {
          "output_type": "execute_result",
          "data": {
            "text/plain": [
              "array([ True,  True,  True, False, False,  True,  True,  True,  True,\n",
              "        True, False, False])"
            ]
          },
          "metadata": {},
          "execution_count": 49
        }
      ]
    },
    {
      "cell_type": "code",
      "metadata": {
        "colab": {
          "base_uri": "https://localhost:8080/"
        },
        "id": "living-wallace",
        "outputId": "949b21db-c5ea-4279-99c0-ffe66e06618d"
      },
      "source": [
        "np.logical_and(arr6, arr20)"
      ],
      "id": "living-wallace",
      "execution_count": 50,
      "outputs": [
        {
          "output_type": "execute_result",
          "data": {
            "text/plain": [
              "array([[False, False, False, False],\n",
              "       [False,  True, False, False],\n",
              "       [False, False,  True, False],\n",
              "       [False, False, False,  True]])"
            ]
          },
          "metadata": {},
          "execution_count": 50
        }
      ]
    },
    {
      "cell_type": "markdown",
      "metadata": {
        "id": "japanese-democracy"
      },
      "source": [
        "### np.cos(arr), np.sin(arr), np.tan(arr), np.cosh(arr) ...\n",
        "#### Métodos trigonométricos para arrays. Os valores devem ser radianos."
      ],
      "id": "japanese-democracy"
    },
    {
      "cell_type": "code",
      "metadata": {
        "colab": {
          "base_uri": "https://localhost:8080/"
        },
        "id": "running-walnut",
        "outputId": "0d210d6d-5c6e-431e-ef3d-a0a23a903753"
      },
      "source": [
        "np.round(np.cos(np.array([0, np.pi/4, np.pi/2, np.pi, 2 * np.pi])), 2)"
      ],
      "id": "running-walnut",
      "execution_count": 51,
      "outputs": [
        {
          "output_type": "execute_result",
          "data": {
            "text/plain": [
              "array([ 1.  ,  0.71,  0.  , -1.  ,  1.  ])"
            ]
          },
          "metadata": {},
          "execution_count": 51
        }
      ]
    },
    {
      "cell_type": "markdown",
      "metadata": {
        "id": "structured-binary"
      },
      "source": [
        "-------------------------------------------------------------------------------------------------------"
      ],
      "id": "structured-binary"
    },
    {
      "cell_type": "markdown",
      "metadata": {
        "id": "bacterial-surface"
      },
      "source": [
        "## Álgebra Linear com .linalg"
      ],
      "id": "bacterial-surface"
    },
    {
      "cell_type": "markdown",
      "metadata": {
        "id": "progressive-cooking"
      },
      "source": [
        "### np.linalg.det(arr)\n",
        "#### Calcula o determinante de arr."
      ],
      "id": "progressive-cooking"
    },
    {
      "cell_type": "code",
      "metadata": {
        "colab": {
          "base_uri": "https://localhost:8080/"
        },
        "id": "chronic-external",
        "outputId": "c0507e89-0481-417b-ae8b-4ba8e0c111be"
      },
      "source": [
        "A = np.array([[1, 1, 3], [1, 0, -1], [1, -2, 1]])\n",
        "A"
      ],
      "id": "chronic-external",
      "execution_count": 52,
      "outputs": [
        {
          "output_type": "execute_result",
          "data": {
            "text/plain": [
              "array([[ 1,  1,  3],\n",
              "       [ 1,  0, -1],\n",
              "       [ 1, -2,  1]])"
            ]
          },
          "metadata": {},
          "execution_count": 52
        }
      ]
    },
    {
      "cell_type": "code",
      "metadata": {
        "colab": {
          "base_uri": "https://localhost:8080/"
        },
        "id": "welsh-roommate",
        "outputId": "0115eabd-c269-44f2-db4f-10cd3bebe873"
      },
      "source": [
        "np.linalg.det(A)"
      ],
      "id": "welsh-roommate",
      "execution_count": 53,
      "outputs": [
        {
          "output_type": "execute_result",
          "data": {
            "text/plain": [
              "-10.000000000000002"
            ]
          },
          "metadata": {},
          "execution_count": 53
        }
      ]
    },
    {
      "cell_type": "markdown",
      "metadata": {
        "id": "royal-courage"
      },
      "source": [
        "### np.linalg.eig(arr)\n",
        "#### Calcula os auto-vetores de arr."
      ],
      "id": "royal-courage"
    },
    {
      "cell_type": "code",
      "metadata": {
        "colab": {
          "base_uri": "https://localhost:8080/"
        },
        "id": "differential-petroleum",
        "outputId": "f8b537f7-0fd8-466b-b4eb-b3d1fc86df5d"
      },
      "source": [
        "np.linalg.eig(A)"
      ],
      "id": "differential-petroleum",
      "execution_count": 54,
      "outputs": [
        {
          "output_type": "execute_result",
          "data": {
            "text/plain": [
              "(array([ 2.23606798, -2.23606798,  2.        ]),\n",
              " array([[ 0.91632011,  0.65809173, -0.91287093],\n",
              "        [ 0.28315849, -0.5324074 , -0.36514837],\n",
              "        [ 0.28315849, -0.5324074 , -0.18257419]]))"
            ]
          },
          "metadata": {},
          "execution_count": 54
        }
      ]
    },
    {
      "cell_type": "markdown",
      "metadata": {
        "id": "adapted-wagner"
      },
      "source": [
        "### np.linalg.inv(arr)\n",
        "#### Calcula a inversa de arr."
      ],
      "id": "adapted-wagner"
    },
    {
      "cell_type": "code",
      "metadata": {
        "colab": {
          "base_uri": "https://localhost:8080/"
        },
        "id": "greek-ancient",
        "outputId": "bba6cc95-ebdd-4fc5-bb0f-9608d52cb02e"
      },
      "source": [
        "C = np.linalg.inv(A)\n",
        "C"
      ],
      "id": "greek-ancient",
      "execution_count": 55,
      "outputs": [
        {
          "output_type": "execute_result",
          "data": {
            "text/plain": [
              "array([[ 0.2,  0.7,  0.1],\n",
              "       [ 0.2,  0.2, -0.4],\n",
              "       [ 0.2, -0.3,  0.1]])"
            ]
          },
          "metadata": {},
          "execution_count": 55
        }
      ]
    },
    {
      "cell_type": "code",
      "metadata": {
        "colab": {
          "base_uri": "https://localhost:8080/"
        },
        "id": "green-yemen",
        "outputId": "7f69ea86-374b-4a35-8d46-bf0cbe950222"
      },
      "source": [
        "# Por definição a produto escalar de uma matriz quadrada de ordem n pela sua inversa deve sempre resultar\n",
        "# em uma matriz identidade também de ordem n.\n",
        "\n",
        "np.round(A.dot(C), 0) # Prova real."
      ],
      "id": "green-yemen",
      "execution_count": 56,
      "outputs": [
        {
          "output_type": "execute_result",
          "data": {
            "text/plain": [
              "array([[ 1., -0., -0.],\n",
              "       [-0.,  1., -0.],\n",
              "       [-0.,  0.,  1.]])"
            ]
          },
          "metadata": {},
          "execution_count": 56
        }
      ]
    },
    {
      "cell_type": "markdown",
      "metadata": {
        "id": "monthly-stations"
      },
      "source": [
        "### np.linalg.solve(A, B)\n",
        "#### Resolve o sistema matricial A.X = B."
      ],
      "id": "monthly-stations"
    },
    {
      "cell_type": "code",
      "metadata": {
        "colab": {
          "base_uri": "https://localhost:8080/"
        },
        "id": "eight-electron",
        "outputId": "a3a73de7-cdc5-4cd0-e934-92001318f65c"
      },
      "source": [
        "B = np.array([6, 5, 3])\n",
        "B"
      ],
      "id": "eight-electron",
      "execution_count": 57,
      "outputs": [
        {
          "output_type": "execute_result",
          "data": {
            "text/plain": [
              "array([6, 5, 3])"
            ]
          },
          "metadata": {},
          "execution_count": 57
        }
      ]
    },
    {
      "cell_type": "code",
      "metadata": {
        "colab": {
          "base_uri": "https://localhost:8080/"
        },
        "id": "according-tolerance",
        "outputId": "f4cb2513-1e18-461b-fccd-9c29f285340f"
      },
      "source": [
        "X = np.linalg.solve(A, B)\n",
        "X"
      ],
      "id": "according-tolerance",
      "execution_count": 58,
      "outputs": [
        {
          "output_type": "execute_result",
          "data": {
            "text/plain": [
              "array([5.00000000e+00, 1.00000000e+00, 1.66533454e-17])"
            ]
          },
          "metadata": {},
          "execution_count": 58
        }
      ]
    },
    {
      "cell_type": "code",
      "metadata": {
        "colab": {
          "base_uri": "https://localhost:8080/"
        },
        "id": "opening-founder",
        "outputId": "e39bdd00-e09a-4424-a345-3a502dd97948"
      },
      "source": [
        "A.dot(X) == B # Prova real."
      ],
      "id": "opening-founder",
      "execution_count": 59,
      "outputs": [
        {
          "output_type": "execute_result",
          "data": {
            "text/plain": [
              "array([ True,  True,  True])"
            ]
          },
          "metadata": {},
          "execution_count": 59
        }
      ]
    },
    {
      "cell_type": "markdown",
      "metadata": {
        "id": "technical-habitat"
      },
      "source": [
        "-------------------------------------------------------------------------------------------------------"
      ],
      "id": "technical-habitat"
    },
    {
      "cell_type": "markdown",
      "metadata": {
        "id": "verbal-robert"
      },
      "source": [
        "## Álgebra Linear com métodos instanciados."
      ],
      "id": "verbal-robert"
    },
    {
      "cell_type": "markdown",
      "metadata": {
        "id": "seasonal-portfolio"
      },
      "source": [
        "### arr.trace()\n",
        "#### Calcula o traço de arr. O traço é a soma dos elementos da diagonal principal."
      ],
      "id": "seasonal-portfolio"
    },
    {
      "cell_type": "code",
      "metadata": {
        "colab": {
          "base_uri": "https://localhost:8080/"
        },
        "id": "aggressive-participant",
        "outputId": "5c17a782-87cd-4ad3-a914-242eb932776b"
      },
      "source": [
        "A"
      ],
      "id": "aggressive-participant",
      "execution_count": 60,
      "outputs": [
        {
          "output_type": "execute_result",
          "data": {
            "text/plain": [
              "array([[ 1,  1,  3],\n",
              "       [ 1,  0, -1],\n",
              "       [ 1, -2,  1]])"
            ]
          },
          "metadata": {},
          "execution_count": 60
        }
      ]
    },
    {
      "cell_type": "code",
      "metadata": {
        "colab": {
          "base_uri": "https://localhost:8080/"
        },
        "id": "exact-culture",
        "outputId": "6d08a6d2-b097-4052-b3c1-495867e959ed"
      },
      "source": [
        "A.trace()"
      ],
      "id": "exact-culture",
      "execution_count": 61,
      "outputs": [
        {
          "output_type": "execute_result",
          "data": {
            "text/plain": [
              "2"
            ]
          },
          "metadata": {},
          "execution_count": 61
        }
      ]
    },
    {
      "cell_type": "markdown",
      "metadata": {
        "id": "involved-bridge"
      },
      "source": [
        "### arr.diagonal()\n",
        "#### Devolve uma nova array com os elementos da diagonal principal de arr."
      ],
      "id": "involved-bridge"
    },
    {
      "cell_type": "code",
      "metadata": {
        "colab": {
          "base_uri": "https://localhost:8080/"
        },
        "id": "forced-silver",
        "outputId": "524ba957-b2f1-47e4-f4e7-246f3305e992"
      },
      "source": [
        "A.diagonal()"
      ],
      "id": "forced-silver",
      "execution_count": 62,
      "outputs": [
        {
          "output_type": "execute_result",
          "data": {
            "text/plain": [
              "array([1, 0, 1])"
            ]
          },
          "metadata": {},
          "execution_count": 62
        }
      ]
    },
    {
      "cell_type": "markdown",
      "metadata": {
        "id": "incredible-probability"
      },
      "source": [
        "### arr1.dot(arr2)\n",
        "#### Faz o produto escalar arr1 . arr2"
      ],
      "id": "incredible-probability"
    },
    {
      "cell_type": "code",
      "metadata": {
        "colab": {
          "base_uri": "https://localhost:8080/"
        },
        "id": "passing-compatibility",
        "outputId": "e632438f-cdd3-4f7c-f15a-b69e74888766"
      },
      "source": [
        "A.dot(np.array([1, 2, 3]))"
      ],
      "id": "passing-compatibility",
      "execution_count": 63,
      "outputs": [
        {
          "output_type": "execute_result",
          "data": {
            "text/plain": [
              "array([12, -2,  0])"
            ]
          },
          "metadata": {},
          "execution_count": 63
        }
      ]
    },
    {
      "cell_type": "markdown",
      "metadata": {
        "id": "former-bridges"
      },
      "source": [
        "-------------------------------------------------------------------------------------------------------"
      ],
      "id": "former-bridges"
    },
    {
      "cell_type": "markdown",
      "metadata": {
        "id": "perceived-floating"
      },
      "source": [
        "## Ordenação"
      ],
      "id": "perceived-floating"
    },
    {
      "cell_type": "markdown",
      "metadata": {
        "id": "offensive-aviation"
      },
      "source": [
        "### np.sort(arr)\n",
        "#### Ordena arr em ordem crescente."
      ],
      "id": "offensive-aviation"
    },
    {
      "cell_type": "code",
      "metadata": {
        "colab": {
          "base_uri": "https://localhost:8080/"
        },
        "id": "animated-ensemble",
        "outputId": "5892efc8-2894-491a-ff25-64a36be5dc43"
      },
      "source": [
        "arr18"
      ],
      "id": "animated-ensemble",
      "execution_count": 64,
      "outputs": [
        {
          "output_type": "execute_result",
          "data": {
            "text/plain": [
              "array([1, 2, 8, 9, 5])"
            ]
          },
          "metadata": {},
          "execution_count": 64
        }
      ]
    },
    {
      "cell_type": "code",
      "metadata": {
        "colab": {
          "base_uri": "https://localhost:8080/"
        },
        "id": "substantial-cinema",
        "outputId": "1bb66332-b729-4b31-a912-f2d3fedf9cfc"
      },
      "source": [
        "np.sort(arr18) # Ordem crescente."
      ],
      "id": "substantial-cinema",
      "execution_count": 65,
      "outputs": [
        {
          "output_type": "execute_result",
          "data": {
            "text/plain": [
              "array([1, 2, 5, 8, 9])"
            ]
          },
          "metadata": {},
          "execution_count": 65
        }
      ]
    },
    {
      "cell_type": "code",
      "metadata": {
        "colab": {
          "base_uri": "https://localhost:8080/"
        },
        "id": "center-cathedral",
        "outputId": "8b62c22c-ed06-48c8-ddce-705171f8c452"
      },
      "source": [
        "np.sort(arr18)[::-1] # Ordem decrescente."
      ],
      "id": "center-cathedral",
      "execution_count": 66,
      "outputs": [
        {
          "output_type": "execute_result",
          "data": {
            "text/plain": [
              "array([9, 8, 5, 2, 1])"
            ]
          },
          "metadata": {},
          "execution_count": 66
        }
      ]
    },
    {
      "cell_type": "markdown",
      "metadata": {
        "id": "TvJ10wyuJ_Ta"
      },
      "source": [
        "### sort()\n",
        "#### Ordena a instância in-place."
      ],
      "id": "TvJ10wyuJ_Ta"
    },
    {
      "cell_type": "code",
      "metadata": {
        "id": "UFryCuKNKGmQ"
      },
      "source": [
        "arr18.sort()"
      ],
      "id": "UFryCuKNKGmQ",
      "execution_count": 67,
      "outputs": []
    },
    {
      "cell_type": "code",
      "metadata": {
        "colab": {
          "base_uri": "https://localhost:8080/"
        },
        "id": "8epbxlyYKMn-",
        "outputId": "7533d558-d62f-4db3-d861-ad60a5f1815a"
      },
      "source": [
        "arr18"
      ],
      "id": "8epbxlyYKMn-",
      "execution_count": 68,
      "outputs": [
        {
          "output_type": "execute_result",
          "data": {
            "text/plain": [
              "array([1, 2, 5, 8, 9])"
            ]
          },
          "metadata": {},
          "execution_count": 68
        }
      ]
    },
    {
      "cell_type": "markdown",
      "metadata": {
        "id": "professional-bristol"
      },
      "source": [
        "-------------------------------------------------------------------------------------------------------"
      ],
      "id": "professional-bristol"
    },
    {
      "cell_type": "markdown",
      "metadata": {
        "id": "eight-design"
      },
      "source": [
        "## Máximo e Mínimo"
      ],
      "id": "eight-design"
    },
    {
      "cell_type": "markdown",
      "metadata": {
        "id": "hazardous-concord"
      },
      "source": [
        "### arr.max() e arr.min()\n",
        "#### Encontra o valor máximo e mínimo de arr respectivamente."
      ],
      "id": "hazardous-concord"
    },
    {
      "cell_type": "code",
      "metadata": {
        "colab": {
          "base_uri": "https://localhost:8080/"
        },
        "id": "--xOOsL8QguA",
        "outputId": "6a5d6263-e1e3-4a3f-d95e-d607f238c548"
      },
      "source": [
        "arr18"
      ],
      "id": "--xOOsL8QguA",
      "execution_count": 69,
      "outputs": [
        {
          "output_type": "execute_result",
          "data": {
            "text/plain": [
              "array([1, 2, 5, 8, 9])"
            ]
          },
          "metadata": {},
          "execution_count": 69
        }
      ]
    },
    {
      "cell_type": "code",
      "metadata": {
        "colab": {
          "base_uri": "https://localhost:8080/"
        },
        "id": "amended-munich",
        "outputId": "25e34f6c-fc3a-4077-a1b8-3b09a860b2fa"
      },
      "source": [
        "arr18.max()"
      ],
      "id": "amended-munich",
      "execution_count": 70,
      "outputs": [
        {
          "output_type": "execute_result",
          "data": {
            "text/plain": [
              "9"
            ]
          },
          "metadata": {},
          "execution_count": 70
        }
      ]
    },
    {
      "cell_type": "code",
      "metadata": {
        "colab": {
          "base_uri": "https://localhost:8080/"
        },
        "id": "prerequisite-minutes",
        "outputId": "92e4a6dd-b8e8-4a1f-f3ed-d93549c83454"
      },
      "source": [
        "arr18.min()"
      ],
      "id": "prerequisite-minutes",
      "execution_count": 71,
      "outputs": [
        {
          "output_type": "execute_result",
          "data": {
            "text/plain": [
              "1"
            ]
          },
          "metadata": {},
          "execution_count": 71
        }
      ]
    },
    {
      "cell_type": "markdown",
      "metadata": {
        "id": "QJr-xiAeRcCe"
      },
      "source": [
        "-------------------------------------------------------------------------------------------------------"
      ],
      "id": "QJr-xiAeRcCe"
    },
    {
      "cell_type": "markdown",
      "metadata": {
        "id": "FVbbRvJgK9iM"
      },
      "source": [
        "## Concatenação, repetição, divisão e seleção."
      ],
      "id": "FVbbRvJgK9iM"
    },
    {
      "cell_type": "markdown",
      "metadata": {
        "id": "YAfE-W96LUNV"
      },
      "source": [
        "### np.concatenate([arr1, arr2, ..., arrn]), np.vstack() e np.hstack()\n",
        "#### Concatenam arr1, arr2, ..., arrn ao longo de um eixo, vstack no eixo vertical (0) e hstack no eixo horizontal (1)."
      ],
      "id": "YAfE-W96LUNV"
    },
    {
      "cell_type": "code",
      "metadata": {
        "colab": {
          "base_uri": "https://localhost:8080/"
        },
        "id": "6xQSjAWtLJvJ",
        "outputId": "9a318df2-7f6c-4a53-d373-18b987ea6474"
      },
      "source": [
        "arr17"
      ],
      "id": "6xQSjAWtLJvJ",
      "execution_count": 72,
      "outputs": [
        {
          "output_type": "execute_result",
          "data": {
            "text/plain": [
              "array([ 6,  7,  8,  9, 10])"
            ]
          },
          "metadata": {},
          "execution_count": 72
        }
      ]
    },
    {
      "cell_type": "code",
      "metadata": {
        "colab": {
          "base_uri": "https://localhost:8080/"
        },
        "id": "ChGoARvHLhUf",
        "outputId": "6f396e94-e23f-4c44-e14c-f4f612460c34"
      },
      "source": [
        "arr18"
      ],
      "id": "ChGoARvHLhUf",
      "execution_count": 73,
      "outputs": [
        {
          "output_type": "execute_result",
          "data": {
            "text/plain": [
              "array([1, 2, 5, 8, 9])"
            ]
          },
          "metadata": {},
          "execution_count": 73
        }
      ]
    },
    {
      "cell_type": "code",
      "metadata": {
        "colab": {
          "base_uri": "https://localhost:8080/"
        },
        "id": "HROs32B5Li4B",
        "outputId": "09b522da-3e36-4460-ae87-0b9b74f37e88"
      },
      "source": [
        "np.concatenate([arr17, arr18])"
      ],
      "id": "HROs32B5Li4B",
      "execution_count": 74,
      "outputs": [
        {
          "output_type": "execute_result",
          "data": {
            "text/plain": [
              "array([ 6,  7,  8,  9, 10,  1,  2,  5,  8,  9])"
            ]
          },
          "metadata": {},
          "execution_count": 74
        }
      ]
    },
    {
      "cell_type": "code",
      "metadata": {
        "colab": {
          "base_uri": "https://localhost:8080/"
        },
        "id": "GgHxAVBENxUn",
        "outputId": "89ce4d8d-a1f1-4d7e-9afe-5df6b5decbb7"
      },
      "source": [
        "np.hstack([arr17, arr18])"
      ],
      "id": "GgHxAVBENxUn",
      "execution_count": 75,
      "outputs": [
        {
          "output_type": "execute_result",
          "data": {
            "text/plain": [
              "array([ 6,  7,  8,  9, 10,  1,  2,  5,  8,  9])"
            ]
          },
          "metadata": {},
          "execution_count": 75
        }
      ]
    },
    {
      "cell_type": "code",
      "metadata": {
        "colab": {
          "base_uri": "https://localhost:8080/"
        },
        "id": "Itabd11nLm4-",
        "outputId": "45476f49-e078-4c1f-af90-d72ce3c44e2a"
      },
      "source": [
        "np.vstack([arr17, arr18])"
      ],
      "id": "Itabd11nLm4-",
      "execution_count": 76,
      "outputs": [
        {
          "output_type": "execute_result",
          "data": {
            "text/plain": [
              "array([[ 6,  7,  8,  9, 10],\n",
              "       [ 1,  2,  5,  8,  9]])"
            ]
          },
          "metadata": {},
          "execution_count": 76
        }
      ]
    },
    {
      "cell_type": "markdown",
      "metadata": {
        "id": "bPs9_E3wN5uN"
      },
      "source": [
        "### arr.repeat(n) e np.tile(arr, [mxn])\n",
        "#### Repete os elementos de arr n vezes e repete arr mxn vezes, respectivamente."
      ],
      "id": "bPs9_E3wN5uN"
    },
    {
      "cell_type": "code",
      "metadata": {
        "colab": {
          "base_uri": "https://localhost:8080/"
        },
        "id": "FBgPOMXEOT7d",
        "outputId": "11bc79d6-877f-42e2-e039-f2912a6a313a"
      },
      "source": [
        "arr3"
      ],
      "id": "FBgPOMXEOT7d",
      "execution_count": 77,
      "outputs": [
        {
          "output_type": "execute_result",
          "data": {
            "text/plain": [
              "array([[1, 2, 3],\n",
              "       [4, 5, 6],\n",
              "       [7, 8, 9]])"
            ]
          },
          "metadata": {},
          "execution_count": 77
        }
      ]
    },
    {
      "cell_type": "code",
      "metadata": {
        "colab": {
          "base_uri": "https://localhost:8080/"
        },
        "id": "vx3X2j2pOZah",
        "outputId": "c97572ee-5706-4159-f173-e09328f5e716"
      },
      "source": [
        "arr3.repeat(2) # O resultado é linearizado pois a dimensão original não comporta a nova quantidade de dados."
      ],
      "id": "vx3X2j2pOZah",
      "execution_count": 78,
      "outputs": [
        {
          "output_type": "execute_result",
          "data": {
            "text/plain": [
              "array([1, 1, 2, 2, 3, 3, 4, 4, 5, 5, 6, 6, 7, 7, 8, 8, 9, 9])"
            ]
          },
          "metadata": {},
          "execution_count": 78
        }
      ]
    },
    {
      "cell_type": "code",
      "metadata": {
        "colab": {
          "base_uri": "https://localhost:8080/"
        },
        "id": "rJI-9G3UOpM8",
        "outputId": "5a89fbf8-9a99-4b9b-ecb5-41817b2e6e0c"
      },
      "source": [
        "np.tile(arr3, 2)"
      ],
      "id": "rJI-9G3UOpM8",
      "execution_count": 79,
      "outputs": [
        {
          "output_type": "execute_result",
          "data": {
            "text/plain": [
              "array([[1, 2, 3, 1, 2, 3],\n",
              "       [4, 5, 6, 4, 5, 6],\n",
              "       [7, 8, 9, 7, 8, 9]])"
            ]
          },
          "metadata": {},
          "execution_count": 79
        }
      ]
    },
    {
      "cell_type": "code",
      "metadata": {
        "colab": {
          "base_uri": "https://localhost:8080/"
        },
        "id": "23riNmy2Or0Z",
        "outputId": "f3486a39-fdbe-4eec-8018-b224a08c7d1b"
      },
      "source": [
        "np.tile(arr3, [2, 1])"
      ],
      "id": "23riNmy2Or0Z",
      "execution_count": 80,
      "outputs": [
        {
          "output_type": "execute_result",
          "data": {
            "text/plain": [
              "array([[1, 2, 3],\n",
              "       [4, 5, 6],\n",
              "       [7, 8, 9],\n",
              "       [1, 2, 3],\n",
              "       [4, 5, 6],\n",
              "       [7, 8, 9]])"
            ]
          },
          "metadata": {},
          "execution_count": 80
        }
      ]
    },
    {
      "cell_type": "code",
      "metadata": {
        "colab": {
          "base_uri": "https://localhost:8080/"
        },
        "id": "L46WO0wTOuyH",
        "outputId": "1264c5e0-23c8-467f-f889-dbbae174cdd3"
      },
      "source": [
        "np.tile(arr3, [3, 3])"
      ],
      "id": "L46WO0wTOuyH",
      "execution_count": 81,
      "outputs": [
        {
          "output_type": "execute_result",
          "data": {
            "text/plain": [
              "array([[1, 2, 3, 1, 2, 3, 1, 2, 3],\n",
              "       [4, 5, 6, 4, 5, 6, 4, 5, 6],\n",
              "       [7, 8, 9, 7, 8, 9, 7, 8, 9],\n",
              "       [1, 2, 3, 1, 2, 3, 1, 2, 3],\n",
              "       [4, 5, 6, 4, 5, 6, 4, 5, 6],\n",
              "       [7, 8, 9, 7, 8, 9, 7, 8, 9],\n",
              "       [1, 2, 3, 1, 2, 3, 1, 2, 3],\n",
              "       [4, 5, 6, 4, 5, 6, 4, 5, 6],\n",
              "       [7, 8, 9, 7, 8, 9, 7, 8, 9]])"
            ]
          },
          "metadata": {},
          "execution_count": 81
        }
      ]
    },
    {
      "cell_type": "markdown",
      "metadata": {
        "id": "EgS9HCOcO3nE"
      },
      "source": [
        "### np.split(arr, [índices])\n",
        "#### Divide arr nos índices definidos, gerando len(índices) + 1 novas arrays."
      ],
      "id": "EgS9HCOcO3nE"
    },
    {
      "cell_type": "code",
      "metadata": {
        "colab": {
          "base_uri": "https://localhost:8080/"
        },
        "id": "c7wrB-y8PBkX",
        "outputId": "8865039d-25cc-45f9-ecb8-d7fb53adfc73"
      },
      "source": [
        "arr14"
      ],
      "id": "c7wrB-y8PBkX",
      "execution_count": 82,
      "outputs": [
        {
          "output_type": "execute_result",
          "data": {
            "text/plain": [
              "array([3, 2, 6, 4, 9, 0, 8, 7, 5, 1])"
            ]
          },
          "metadata": {},
          "execution_count": 82
        }
      ]
    },
    {
      "cell_type": "code",
      "metadata": {
        "colab": {
          "base_uri": "https://localhost:8080/"
        },
        "id": "aSUi0a4fPL3x",
        "outputId": "4cdb2db1-0046-40b7-8e34-e97602ebb465"
      },
      "source": [
        "np.split(arr14, [3, 6])"
      ],
      "id": "aSUi0a4fPL3x",
      "execution_count": 83,
      "outputs": [
        {
          "output_type": "execute_result",
          "data": {
            "text/plain": [
              "[array([3, 2, 6]), array([4, 9, 0]), array([8, 7, 5, 1])]"
            ]
          },
          "metadata": {},
          "execution_count": 83
        }
      ]
    },
    {
      "cell_type": "code",
      "metadata": {
        "id": "35ukixnrPRT9"
      },
      "source": [
        "arr14_split_1, arr14_split_2 = np.split(arr14, [5])"
      ],
      "id": "35ukixnrPRT9",
      "execution_count": 84,
      "outputs": []
    },
    {
      "cell_type": "code",
      "metadata": {
        "colab": {
          "base_uri": "https://localhost:8080/"
        },
        "id": "wGPEHjCjPgb6",
        "outputId": "943994df-7621-4bb2-c256-b73e910e79f6"
      },
      "source": [
        "arr14_split_1"
      ],
      "id": "wGPEHjCjPgb6",
      "execution_count": 85,
      "outputs": [
        {
          "output_type": "execute_result",
          "data": {
            "text/plain": [
              "array([3, 2, 6, 4, 9])"
            ]
          },
          "metadata": {},
          "execution_count": 85
        }
      ]
    },
    {
      "cell_type": "code",
      "metadata": {
        "colab": {
          "base_uri": "https://localhost:8080/"
        },
        "id": "WYlSy7EfPoWt",
        "outputId": "aabbad07-9c04-4647-84d0-b6475a4e0ba9"
      },
      "source": [
        "arr14_split_2"
      ],
      "id": "WYlSy7EfPoWt",
      "execution_count": 86,
      "outputs": [
        {
          "output_type": "execute_result",
          "data": {
            "text/plain": [
              "array([0, 8, 7, 5, 1])"
            ]
          },
          "metadata": {},
          "execution_count": 86
        }
      ]
    },
    {
      "cell_type": "markdown",
      "metadata": {
        "id": "JOkClj7xPxqI"
      },
      "source": [
        "### arr.take([índices]) e arr.put([índices], n)\n",
        "#### Seleciona os índices de arr e substitui os valores nestes índices por n, respectivamente."
      ],
      "id": "JOkClj7xPxqI"
    },
    {
      "cell_type": "code",
      "metadata": {
        "colab": {
          "base_uri": "https://localhost:8080/"
        },
        "id": "T90WMNqcPxCM",
        "outputId": "d0e07dd1-f412-4766-ea9d-5770c59abc50"
      },
      "source": [
        "arr10"
      ],
      "id": "T90WMNqcPxCM",
      "execution_count": 87,
      "outputs": [
        {
          "output_type": "execute_result",
          "data": {
            "text/plain": [
              "array([ 0.83429264,  0.74186803,  0.69985913, -1.487009  , -0.09688481,\n",
              "        0.78347656,  0.52668533,  0.36383321,  1.50956084,  1.22761428,\n",
              "       -1.05334284, -0.30188628])"
            ]
          },
          "metadata": {},
          "execution_count": 87
        }
      ]
    },
    {
      "cell_type": "code",
      "metadata": {
        "colab": {
          "base_uri": "https://localhost:8080/"
        },
        "id": "GNsX-He2QM8K",
        "outputId": "d22348a9-8332-4edb-af7e-c2966a00f4b4"
      },
      "source": [
        "arr10.take([0, 4, -1])"
      ],
      "id": "GNsX-He2QM8K",
      "execution_count": 88,
      "outputs": [
        {
          "output_type": "execute_result",
          "data": {
            "text/plain": [
              "array([ 0.83429264, -0.09688481, -0.30188628])"
            ]
          },
          "metadata": {},
          "execution_count": 88
        }
      ]
    },
    {
      "cell_type": "code",
      "metadata": {
        "id": "AWBa9FAdQRgJ"
      },
      "source": [
        "arr10.put([-3, 5, 2], 0)"
      ],
      "id": "AWBa9FAdQRgJ",
      "execution_count": 89,
      "outputs": []
    },
    {
      "cell_type": "code",
      "metadata": {
        "colab": {
          "base_uri": "https://localhost:8080/"
        },
        "id": "ZdkBg6tgQWTG",
        "outputId": "73cdc0b4-f2c7-4552-a7dc-ce70916eb793"
      },
      "source": [
        "arr10"
      ],
      "id": "ZdkBg6tgQWTG",
      "execution_count": 90,
      "outputs": [
        {
          "output_type": "execute_result",
          "data": {
            "text/plain": [
              "array([ 0.83429264,  0.74186803,  0.        , -1.487009  , -0.09688481,\n",
              "        0.        ,  0.52668533,  0.36383321,  1.50956084,  0.        ,\n",
              "       -1.05334284, -0.30188628])"
            ]
          },
          "metadata": {},
          "execution_count": 90
        }
      ]
    }
  ]
}