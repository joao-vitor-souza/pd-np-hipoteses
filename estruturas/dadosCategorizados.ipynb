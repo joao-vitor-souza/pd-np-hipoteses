{
  "nbformat": 4,
  "nbformat_minor": 5,
  "metadata": {
    "kernelspec": {
      "display_name": "Python 3",
      "language": "python",
      "name": "python3"
    },
    "language_info": {
      "codemirror_mode": {
        "name": "ipython",
        "version": 3
      },
      "file_extension": ".py",
      "mimetype": "text/x-python",
      "name": "python",
      "nbconvert_exporter": "python",
      "pygments_lexer": "ipython3",
      "version": "3.8.5"
    },
    "colab": {
      "name": "Dados Categorizados.ipynb",
      "provenance": []
    }
  },
  "cells": [
    {
      "cell_type": "markdown",
      "metadata": {
        "id": "composed-vermont"
      },
      "source": [
        "# Dados Categorizados\n",
        "\n",
        "### O tipo Categorical do Pandas é um objeto usado para representar qualquer outro tipo de dado por meio de inteiros, sendo o custo computacional para se trabalhar com Categorical, em vez dos dados em si, relativamente baixo. Os dados categorizados são amplamente usados nos modelos de Machine Learning, sendo a presença de um certo dado representada pelo inteiro 1, e a ausência por 0."
      ],
      "id": "composed-vermont"
    },
    {
      "cell_type": "markdown",
      "metadata": {
        "id": "hAQwVmRdSB7a"
      },
      "source": [
        "## Bibliotecas"
      ],
      "id": "hAQwVmRdSB7a"
    },
    {
      "cell_type": "code",
      "metadata": {
        "id": "female-battle"
      },
      "source": [
        "import pandas as pd\n",
        "import numpy as np"
      ],
      "id": "female-battle",
      "execution_count": 1,
      "outputs": []
    },
    {
      "cell_type": "markdown",
      "metadata": {
        "id": "adolescent-speaking"
      },
      "source": [
        "## Criando um objeto Categorical"
      ],
      "id": "adolescent-speaking"
    },
    {
      "cell_type": "markdown",
      "metadata": {
        "id": "chicken-prerequisite"
      },
      "source": [
        "### pd.Categorical()\n",
        "#### Cria um objeto Categorical"
      ],
      "id": "chicken-prerequisite"
    },
    {
      "cell_type": "code",
      "metadata": {
        "colab": {
          "base_uri": "https://localhost:8080/"
        },
        "id": "quick-colorado",
        "outputId": "4d80c352-4e9c-4f87-9436-579ac544f9bd"
      },
      "source": [
        "cat1 = pd.Categorical(['bmw', 'honda', 'kawasaki', 'suzuki'])\n",
        "cat1"
      ],
      "id": "quick-colorado",
      "execution_count": 2,
      "outputs": [
        {
          "output_type": "execute_result",
          "data": {
            "text/plain": [
              "['bmw', 'honda', 'kawasaki', 'suzuki']\n",
              "Categories (4, object): ['bmw', 'honda', 'kawasaki', 'suzuki']"
            ]
          },
          "metadata": {},
          "execution_count": 2
        }
      ]
    },
    {
      "cell_type": "code",
      "metadata": {
        "colab": {
          "base_uri": "https://localhost:8080/"
        },
        "id": "inside-spare",
        "outputId": "e1326a22-b1ee-49a6-884c-35c4fe03ea9d"
      },
      "source": [
        "type(cat1) # Tipo Categorical."
      ],
      "id": "inside-spare",
      "execution_count": 3,
      "outputs": [
        {
          "output_type": "execute_result",
          "data": {
            "text/plain": [
              "pandas.core.arrays.categorical.Categorical"
            ]
          },
          "metadata": {},
          "execution_count": 3
        }
      ]
    },
    {
      "cell_type": "code",
      "metadata": {
        "colab": {
          "base_uri": "https://localhost:8080/"
        },
        "id": "bright-grammar",
        "outputId": "1836de37-ff38-4569-deb6-7a753826250e"
      },
      "source": [
        "cod = [1, 2, 3, 0, 2]\n",
        "\n",
        "# Criando uma categoria ordenada a partir de uma lista de códigos e outra categoria.\n",
        "pd.Categorical.from_codes(cod, cat1, ordered=True)"
      ],
      "id": "bright-grammar",
      "execution_count": 4,
      "outputs": [
        {
          "output_type": "execute_result",
          "data": {
            "text/plain": [
              "['honda', 'kawasaki', 'suzuki', 'bmw', 'kawasaki']\n",
              "Categories (4, object): ['bmw' < 'honda' < 'kawasaki' < 'suzuki']"
            ]
          },
          "metadata": {},
          "execution_count": 4
        }
      ]
    },
    {
      "cell_type": "markdown",
      "metadata": {
        "id": "respective-decrease"
      },
      "source": [
        "### astype('category')\n",
        "#### Cria uma Series categórica com base na instância."
      ],
      "id": "respective-decrease"
    },
    {
      "cell_type": "code",
      "metadata": {
        "colab": {
          "base_uri": "https://localhost:8080/"
        },
        "id": "blond-playback",
        "outputId": "5ef0d186-cfec-4918-d1e6-20581f40d06e"
      },
      "source": [
        "frutas = pd.Series(['laranja', 'maçã', 'melão', 'maçã'] * 2)\n",
        "frutas"
      ],
      "id": "blond-playback",
      "execution_count": 5,
      "outputs": [
        {
          "output_type": "execute_result",
          "data": {
            "text/plain": [
              "0    laranja\n",
              "1       maçã\n",
              "2      melão\n",
              "3       maçã\n",
              "4    laranja\n",
              "5       maçã\n",
              "6      melão\n",
              "7       maçã\n",
              "dtype: object"
            ]
          },
          "metadata": {},
          "execution_count": 5
        }
      ]
    },
    {
      "cell_type": "code",
      "metadata": {
        "colab": {
          "base_uri": "https://localhost:8080/"
        },
        "id": "eastern-moore",
        "outputId": "863b98dc-bed5-475b-e59a-09fd7f12fd13"
      },
      "source": [
        "frutas_cat = frutas.astype('category')\n",
        "frutas_cat"
      ],
      "id": "eastern-moore",
      "execution_count": 6,
      "outputs": [
        {
          "output_type": "execute_result",
          "data": {
            "text/plain": [
              "0    laranja\n",
              "1       maçã\n",
              "2      melão\n",
              "3       maçã\n",
              "4    laranja\n",
              "5       maçã\n",
              "6      melão\n",
              "7       maçã\n",
              "dtype: category\n",
              "Categories (3, object): ['laranja', 'maçã', 'melão']"
            ]
          },
          "metadata": {},
          "execution_count": 6
        }
      ]
    },
    {
      "cell_type": "code",
      "metadata": {
        "colab": {
          "base_uri": "https://localhost:8080/"
        },
        "id": "impaired-protection",
        "outputId": "88817472-2fb2-4e73-ddc7-f63146bd3f5d"
      },
      "source": [
        "type(frutas_cat) # Ainda é uma Series."
      ],
      "id": "impaired-protection",
      "execution_count": 7,
      "outputs": [
        {
          "output_type": "execute_result",
          "data": {
            "text/plain": [
              "pandas.core.series.Series"
            ]
          },
          "metadata": {},
          "execution_count": 7
        }
      ]
    },
    {
      "cell_type": "code",
      "metadata": {
        "scrolled": true,
        "colab": {
          "base_uri": "https://localhost:8080/"
        },
        "id": "indie-closer",
        "outputId": "450857dc-f31b-43d3-cf79-7d44259d218b"
      },
      "source": [
        "# O atributo especial cat permite que usemos atributos de objetos Categorical em Series.\n",
        "frutas_cat.cat.categories"
      ],
      "id": "indie-closer",
      "execution_count": 8,
      "outputs": [
        {
          "output_type": "execute_result",
          "data": {
            "text/plain": [
              "Index(['laranja', 'maçã', 'melão'], dtype='object')"
            ]
          },
          "metadata": {},
          "execution_count": 8
        }
      ]
    },
    {
      "cell_type": "code",
      "metadata": {
        "scrolled": true,
        "colab": {
          "base_uri": "https://localhost:8080/"
        },
        "id": "allied-flour",
        "outputId": "7bec5eb4-47d0-4edc-ba27-78132c064b0d"
      },
      "source": [
        "frutas_cat.cat.codes"
      ],
      "id": "allied-flour",
      "execution_count": 9,
      "outputs": [
        {
          "output_type": "execute_result",
          "data": {
            "text/plain": [
              "0    0\n",
              "1    1\n",
              "2    2\n",
              "3    1\n",
              "4    0\n",
              "5    1\n",
              "6    2\n",
              "7    1\n",
              "dtype: int8"
            ]
          },
          "metadata": {},
          "execution_count": 9
        }
      ]
    },
    {
      "cell_type": "code",
      "metadata": {
        "colab": {
          "base_uri": "https://localhost:8080/"
        },
        "id": "naked-death",
        "outputId": "aa753d88-e916-43e9-944f-17ca04b33385"
      },
      "source": [
        "v = frutas_cat.values\n",
        "v"
      ],
      "id": "naked-death",
      "execution_count": 10,
      "outputs": [
        {
          "output_type": "execute_result",
          "data": {
            "text/plain": [
              "['laranja', 'maçã', 'melão', 'maçã', 'laranja', 'maçã', 'melão', 'maçã']\n",
              "Categories (3, object): ['laranja', 'maçã', 'melão']"
            ]
          },
          "metadata": {},
          "execution_count": 10
        }
      ]
    },
    {
      "cell_type": "code",
      "metadata": {
        "colab": {
          "base_uri": "https://localhost:8080/"
        },
        "id": "accepting-london",
        "outputId": "3d6e67bc-826a-4180-cfd3-c57a9c96dc71"
      },
      "source": [
        "type(v)"
      ],
      "id": "accepting-london",
      "execution_count": 11,
      "outputs": [
        {
          "output_type": "execute_result",
          "data": {
            "text/plain": [
              "pandas.core.arrays.categorical.Categorical"
            ]
          },
          "metadata": {},
          "execution_count": 11
        }
      ]
    },
    {
      "cell_type": "markdown",
      "metadata": {
        "id": "ignored-rainbow"
      },
      "source": [
        "### dtype='category'\n",
        "#### Pode-se criar um série categórica ao passar o tipo dtype='category' como argumento em um método contrutivo de Series."
      ],
      "id": "ignored-rainbow"
    },
    {
      "cell_type": "code",
      "metadata": {
        "colab": {
          "base_uri": "https://localhost:8080/"
        },
        "id": "rapid-treasurer",
        "outputId": "7ffe5dfd-3439-456b-f284-1a50b50e2ec4"
      },
      "source": [
        "s1 = pd.Series(['Brasil', 'Argentina', 'Chile', 'Ilhas Maldivas'], dtype='category')\n",
        "s1"
      ],
      "id": "rapid-treasurer",
      "execution_count": 12,
      "outputs": [
        {
          "output_type": "execute_result",
          "data": {
            "text/plain": [
              "0            Brasil\n",
              "1         Argentina\n",
              "2             Chile\n",
              "3    Ilhas Maldivas\n",
              "dtype: category\n",
              "Categories (4, object): ['Argentina', 'Brasil', 'Chile', 'Ilhas Maldivas']"
            ]
          },
          "metadata": {},
          "execution_count": 12
        }
      ]
    },
    {
      "cell_type": "markdown",
      "metadata": {
        "id": "constitutional-sapphire"
      },
      "source": [
        "### Categorical com pd.cut()/pd.qcut()\n",
        "#### As funções pd.cut() e pd.qcut() retornam objetos Categorical."
      ],
      "id": "constitutional-sapphire"
    },
    {
      "cell_type": "code",
      "metadata": {
        "scrolled": true,
        "colab": {
          "base_uri": "https://localhost:8080/"
        },
        "id": "ignored-angel",
        "outputId": "c0640659-4022-4ee3-9c01-6c011236220c"
      },
      "source": [
        "s2 = pd.Series(np.random.randn(1000) * 10) # 1000 valores.\n",
        "s2[:10]"
      ],
      "id": "ignored-angel",
      "execution_count": 13,
      "outputs": [
        {
          "output_type": "execute_result",
          "data": {
            "text/plain": [
              "0     6.111098\n",
              "1   -16.206420\n",
              "2    -6.487411\n",
              "3     9.584813\n",
              "4    -1.690331\n",
              "5     6.161233\n",
              "6    15.995411\n",
              "7     2.137640\n",
              "8    12.312193\n",
              "9     2.941417\n",
              "dtype: float64"
            ]
          },
          "metadata": {},
          "execution_count": 13
        }
      ]
    },
    {
      "cell_type": "code",
      "metadata": {
        "colab": {
          "base_uri": "https://localhost:8080/"
        },
        "id": "unlike-howard",
        "outputId": "becfed82-f6a8-4480-da5b-857ee5562f00"
      },
      "source": [
        "cat2 = pd.qcut(s2, 4, labels=['Q1', 'Q2', 'Q3', 'Q4'])\n",
        "cat2[:10]"
      ],
      "id": "unlike-howard",
      "execution_count": 14,
      "outputs": [
        {
          "output_type": "execute_result",
          "data": {
            "text/plain": [
              "0    Q3\n",
              "1    Q1\n",
              "2    Q1\n",
              "3    Q4\n",
              "4    Q2\n",
              "5    Q3\n",
              "6    Q4\n",
              "7    Q3\n",
              "8    Q4\n",
              "9    Q3\n",
              "dtype: category\n",
              "Categories (4, object): ['Q1' < 'Q2' < 'Q3' < 'Q4']"
            ]
          },
          "metadata": {},
          "execution_count": 14
        }
      ]
    },
    {
      "cell_type": "code",
      "metadata": {
        "colab": {
          "base_uri": "https://localhost:8080/",
          "height": 175
        },
        "id": "subjective-punishment",
        "outputId": "e0dcb079-dbd1-4ef1-c75a-67676ae4ecda"
      },
      "source": [
        "resultado = s2.groupby(cat2).agg([('Quantidade', 'count'), \n",
        "                                  ('Média', 'mean'), \n",
        "                                  ('Mínimo', 'min'), \n",
        "                                  ('Máximo', 'max')]).reset_index().rename(columns={'index': 'Quartil'})\n",
        "resultado"
      ],
      "id": "subjective-punishment",
      "execution_count": 15,
      "outputs": [
        {
          "output_type": "execute_result",
          "data": {
            "text/html": [
              "<div>\n",
              "<style scoped>\n",
              "    .dataframe tbody tr th:only-of-type {\n",
              "        vertical-align: middle;\n",
              "    }\n",
              "\n",
              "    .dataframe tbody tr th {\n",
              "        vertical-align: top;\n",
              "    }\n",
              "\n",
              "    .dataframe thead th {\n",
              "        text-align: right;\n",
              "    }\n",
              "</style>\n",
              "<table border=\"1\" class=\"dataframe\">\n",
              "  <thead>\n",
              "    <tr style=\"text-align: right;\">\n",
              "      <th></th>\n",
              "      <th>Quartil</th>\n",
              "      <th>Quantidade</th>\n",
              "      <th>Média</th>\n",
              "      <th>Mínimo</th>\n",
              "      <th>Máximo</th>\n",
              "    </tr>\n",
              "  </thead>\n",
              "  <tbody>\n",
              "    <tr>\n",
              "      <th>0</th>\n",
              "      <td>Q1</td>\n",
              "      <td>250</td>\n",
              "      <td>-12.459991</td>\n",
              "      <td>-34.306330</td>\n",
              "      <td>-6.372050</td>\n",
              "    </tr>\n",
              "    <tr>\n",
              "      <th>1</th>\n",
              "      <td>Q2</td>\n",
              "      <td>250</td>\n",
              "      <td>-3.120186</td>\n",
              "      <td>-6.364648</td>\n",
              "      <td>0.210290</td>\n",
              "    </tr>\n",
              "    <tr>\n",
              "      <th>2</th>\n",
              "      <td>Q3</td>\n",
              "      <td>250</td>\n",
              "      <td>3.432167</td>\n",
              "      <td>0.239357</td>\n",
              "      <td>7.114624</td>\n",
              "    </tr>\n",
              "    <tr>\n",
              "      <th>3</th>\n",
              "      <td>Q4</td>\n",
              "      <td>250</td>\n",
              "      <td>13.630762</td>\n",
              "      <td>7.194396</td>\n",
              "      <td>29.677710</td>\n",
              "    </tr>\n",
              "  </tbody>\n",
              "</table>\n",
              "</div>"
            ],
            "text/plain": [
              "  Quartil  Quantidade      Média     Mínimo     Máximo\n",
              "0      Q1         250 -12.459991 -34.306330  -6.372050\n",
              "1      Q2         250  -3.120186  -6.364648   0.210290\n",
              "2      Q3         250   3.432167   0.239357   7.114624\n",
              "3      Q4         250  13.630762   7.194396  29.677710"
            ]
          },
          "metadata": {},
          "execution_count": 15
        }
      ]
    },
    {
      "cell_type": "code",
      "metadata": {
        "colab": {
          "base_uri": "https://localhost:8080/"
        },
        "id": "exempt-drive",
        "outputId": "1b64fe05-1903-4675-b617-b22aec2d4655"
      },
      "source": [
        "cat3 = pd.Series(['casa', 'carro', 'moto', 'gasolina', 'remédios'] * 100000) # 500000 valores.\n",
        "cat4 = cat3.astype('category')\n",
        "cat4"
      ],
      "id": "exempt-drive",
      "execution_count": 16,
      "outputs": [
        {
          "output_type": "execute_result",
          "data": {
            "text/plain": [
              "0             casa\n",
              "1            carro\n",
              "2             moto\n",
              "3         gasolina\n",
              "4         remédios\n",
              "            ...   \n",
              "499995        casa\n",
              "499996       carro\n",
              "499997        moto\n",
              "499998    gasolina\n",
              "499999    remédios\n",
              "Length: 500000, dtype: category\n",
              "Categories (5, object): ['carro', 'casa', 'gasolina', 'moto', 'remédios']"
            ]
          },
          "metadata": {},
          "execution_count": 16
        }
      ]
    },
    {
      "cell_type": "code",
      "metadata": {
        "colab": {
          "base_uri": "https://localhost:8080/"
        },
        "id": "objective-yemen",
        "outputId": "a87b54c0-19d8-4299-f23b-bddef3cc99e6"
      },
      "source": [
        "# Comparando o uso de memória de dados comuns e dados categorizados.\n",
        "cat3.memory_usage(), cat4.memory_usage()"
      ],
      "id": "objective-yemen",
      "execution_count": 17,
      "outputs": [
        {
          "output_type": "execute_result",
          "data": {
            "text/plain": [
              "(4000128, 500328)"
            ]
          },
          "metadata": {},
          "execution_count": 17
        }
      ]
    },
    {
      "cell_type": "markdown",
      "metadata": {
        "id": "FltKDjgPTID3"
      },
      "source": [
        "-------------------------------------------------------------------------------------------------------"
      ],
      "id": "FltKDjgPTID3"
    },
    {
      "cell_type": "markdown",
      "metadata": {
        "id": "prime-racing"
      },
      "source": [
        "## Métodos para Categoricals"
      ],
      "id": "prime-racing"
    },
    {
      "cell_type": "markdown",
      "metadata": {
        "id": "classical-floating"
      },
      "source": [
        "### set_categories()\n",
        "#### Atualizada as categorias de um Categorical."
      ],
      "id": "classical-floating"
    },
    {
      "cell_type": "code",
      "metadata": {
        "colab": {
          "base_uri": "https://localhost:8080/"
        },
        "id": "formed-mitchell",
        "outputId": "5de71d8c-3cab-46e6-9e5b-0c15d0bc5f41"
      },
      "source": [
        "cod = [0, 1, 2, 1] * 2\n",
        "cat5 = pd.Categorical.from_codes(cod, ['laranja', 'maçã', 'melão'])\n",
        "cat5"
      ],
      "id": "formed-mitchell",
      "execution_count": 18,
      "outputs": [
        {
          "output_type": "execute_result",
          "data": {
            "text/plain": [
              "['laranja', 'maçã', 'melão', 'maçã', 'laranja', 'maçã', 'melão', 'maçã']\n",
              "Categories (3, object): ['laranja', 'maçã', 'melão']"
            ]
          },
          "metadata": {},
          "execution_count": 18
        }
      ]
    },
    {
      "cell_type": "code",
      "metadata": {
        "colab": {
          "base_uri": "https://localhost:8080/"
        },
        "id": "boxed-fiber",
        "outputId": "6516ee73-f336-4600-892f-6e6274ddb144"
      },
      "source": [
        "cat6 = cat5.set_categories(['laranja', 'maçã', 'pêra', 'abacaxi'])\n",
        "cat6"
      ],
      "id": "boxed-fiber",
      "execution_count": 19,
      "outputs": [
        {
          "output_type": "execute_result",
          "data": {
            "text/plain": [
              "['laranja', 'maçã', NaN, 'maçã', 'laranja', 'maçã', NaN, 'maçã']\n",
              "Categories (4, object): ['laranja', 'maçã', 'pêra', 'abacaxi']"
            ]
          },
          "metadata": {},
          "execution_count": 19
        }
      ]
    },
    {
      "cell_type": "markdown",
      "metadata": {
        "id": "respected-spoke"
      },
      "source": [
        "### value_counts()\n",
        "#### Conta os valores por categoria."
      ],
      "id": "respected-spoke"
    },
    {
      "cell_type": "code",
      "metadata": {
        "scrolled": true,
        "colab": {
          "base_uri": "https://localhost:8080/"
        },
        "id": "applicable-boundary",
        "outputId": "0db04854-b649-4084-9d1f-25e7330bb6d2"
      },
      "source": [
        "cat6.value_counts()"
      ],
      "id": "applicable-boundary",
      "execution_count": 20,
      "outputs": [
        {
          "output_type": "execute_result",
          "data": {
            "text/plain": [
              "laranja    2\n",
              "maçã       4\n",
              "pêra       0\n",
              "abacaxi    0\n",
              "dtype: int64"
            ]
          },
          "metadata": {},
          "execution_count": 20
        }
      ]
    },
    {
      "cell_type": "markdown",
      "metadata": {
        "id": "minimal-toddler"
      },
      "source": [
        "### remove_unused_categories()\n",
        "#### Exclui categorias que não são usadas."
      ],
      "id": "minimal-toddler"
    },
    {
      "cell_type": "code",
      "metadata": {
        "colab": {
          "base_uri": "https://localhost:8080/"
        },
        "id": "acting-addiction",
        "outputId": "ac810303-070e-4ee1-f21b-be7042676397"
      },
      "source": [
        "cat6.remove_unused_categories()"
      ],
      "id": "acting-addiction",
      "execution_count": 21,
      "outputs": [
        {
          "output_type": "execute_result",
          "data": {
            "text/plain": [
              "['laranja', 'maçã', NaN, 'maçã', 'laranja', 'maçã', NaN, 'maçã']\n",
              "Categories (2, object): ['laranja', 'maçã']"
            ]
          },
          "metadata": {},
          "execution_count": 21
        }
      ]
    }
  ]
}