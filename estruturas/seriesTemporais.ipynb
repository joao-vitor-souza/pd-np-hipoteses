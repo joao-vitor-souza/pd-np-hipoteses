{
  "nbformat": 4,
  "nbformat_minor": 5,
  "metadata": {
    "kernelspec": {
      "display_name": "Python 3",
      "language": "python",
      "name": "python3"
    },
    "language_info": {
      "codemirror_mode": {
        "name": "ipython",
        "version": 3
      },
      "file_extension": ".py",
      "mimetype": "text/x-python",
      "name": "python",
      "nbconvert_exporter": "python",
      "pygments_lexer": "ipython3",
      "version": "3.8.5"
    },
    "colab": {
      "name": "Datetime e Séries Temporais.ipynb",
      "provenance": []
    }
  },
  "cells": [
    {
      "cell_type": "markdown",
      "metadata": {
        "id": "formed-breath"
      },
      "source": [
        "# Datetime e Séries Temporais\n",
        "\n",
        "### Os objetos Datetime são um tipo de dado usado para armazenar informações relacionadas à data e ao tempo. As Séries Temporais por sua vez são objetos Series do Pandas que apresentam índices compostos de objetos datetime, isso permite que façamos análises baseadas em intervalos de tempo de forma rápida e eficaz."
      ],
      "id": "formed-breath"
    },
    {
      "cell_type": "markdown",
      "metadata": {
        "id": "mbJou4oYXZ7w"
      },
      "source": [
        "### Bibliotecas"
      ],
      "id": "mbJou4oYXZ7w"
    },
    {
      "cell_type": "code",
      "metadata": {
        "scrolled": false,
        "id": "decreased-encoding"
      },
      "source": [
        "from datetime import datetime\n",
        "import pandas as pd\n",
        "import numpy as np\n",
        "import matplotlib.pyplot as plt"
      ],
      "id": "decreased-encoding",
      "execution_count": 1,
      "outputs": []
    },
    {
      "cell_type": "markdown",
      "metadata": {
        "id": "saving-grove"
      },
      "source": [
        "### datetime()\n",
        "#### Cria objetos datetime."
      ],
      "id": "saving-grove"
    },
    {
      "cell_type": "code",
      "metadata": {
        "colab": {
          "base_uri": "https://localhost:8080/"
        },
        "id": "great-equity",
        "outputId": "37c0959d-fe4b-476a-8f0a-fb8a8c8231b6"
      },
      "source": [
        "dt1 = datetime(2004, 5, 23, 17, 55, 33, 234976)\n",
        "dt1"
      ],
      "id": "great-equity",
      "execution_count": 2,
      "outputs": [
        {
          "output_type": "execute_result",
          "data": {
            "text/plain": [
              "datetime.datetime(2004, 5, 23, 17, 55, 33, 234976)"
            ]
          },
          "metadata": {},
          "execution_count": 2
        }
      ]
    },
    {
      "cell_type": "code",
      "metadata": {
        "colab": {
          "base_uri": "https://localhost:8080/"
        },
        "id": "immediate-telephone",
        "outputId": "f1072425-76ca-4a26-faaa-1d92b3608c8d"
      },
      "source": [
        "# Alguns atributos de datetime.\n",
        "dt1.year, dt1.month, dt1.day, dt1.hour, dt1.minute, dt1.second, dt1.microsecond"
      ],
      "id": "immediate-telephone",
      "execution_count": 3,
      "outputs": [
        {
          "output_type": "execute_result",
          "data": {
            "text/plain": [
              "(2004, 5, 23, 17, 55, 33, 234976)"
            ]
          },
          "metadata": {},
          "execution_count": 3
        }
      ]
    },
    {
      "cell_type": "code",
      "metadata": {
        "colab": {
          "base_uri": "https://localhost:8080/"
        },
        "id": "generic-confusion",
        "outputId": "68b77794-bc3d-4e02-a6ac-735c61389b4d"
      },
      "source": [
        "dt2 = datetime(1978, 3, 30)\n",
        "dt2"
      ],
      "id": "generic-confusion",
      "execution_count": 4,
      "outputs": [
        {
          "output_type": "execute_result",
          "data": {
            "text/plain": [
              "datetime.datetime(1978, 3, 30, 0, 0)"
            ]
          },
          "metadata": {},
          "execution_count": 4
        }
      ]
    },
    {
      "cell_type": "code",
      "metadata": {
        "colab": {
          "base_uri": "https://localhost:8080/"
        },
        "id": "extensive-trademark",
        "outputId": "75e3fb6c-80cc-458e-e1fa-082c3059f587"
      },
      "source": [
        "dt2.hour, dt2.minute, dt2.second"
      ],
      "id": "extensive-trademark",
      "execution_count": 5,
      "outputs": [
        {
          "output_type": "execute_result",
          "data": {
            "text/plain": [
              "(0, 0, 0)"
            ]
          },
          "metadata": {},
          "execution_count": 5
        }
      ]
    },
    {
      "cell_type": "code",
      "metadata": {
        "colab": {
          "base_uri": "https://localhost:8080/"
        },
        "id": "economic-button",
        "outputId": "20124a57-4dd8-4915-9aa7-2c56402255d2"
      },
      "source": [
        "# Data e hora atual.\n",
        "agora = datetime.now()\n",
        "agora"
      ],
      "id": "economic-button",
      "execution_count": 6,
      "outputs": [
        {
          "output_type": "execute_result",
          "data": {
            "text/plain": [
              "datetime.datetime(2021, 11, 30, 19, 43, 32, 717005)"
            ]
          },
          "metadata": {},
          "execution_count": 6
        }
      ]
    },
    {
      "cell_type": "code",
      "metadata": {
        "colab": {
          "base_uri": "https://localhost:8080/"
        },
        "id": "proof-darwin",
        "outputId": "38401cf9-f7c3-450b-92e1-82c8278ccce3"
      },
      "source": [
        "# Diferença (delta) de tempo.\n",
        "delta = datetime.now() - datetime(2000, 7, 12) \n",
        "delta"
      ],
      "id": "proof-darwin",
      "execution_count": 7,
      "outputs": [
        {
          "output_type": "execute_result",
          "data": {
            "text/plain": [
              "datetime.timedelta(days=7811, seconds=71012, microseconds=729572)"
            ]
          },
          "metadata": {},
          "execution_count": 7
        }
      ]
    },
    {
      "cell_type": "markdown",
      "metadata": {
        "id": "organizational-swaziland"
      },
      "source": [
        "-------------------------------------------------------------------------------------------------------"
      ],
      "id": "organizational-swaziland"
    },
    {
      "cell_type": "markdown",
      "metadata": {
        "id": "dirty-energy"
      },
      "source": [
        "### datetime.strptime() e strftime()\n",
        "#### Converte uma string em um objeto datetime e vice-versa, respectivamente. A conversão deve se basear em uma assinatura de símbolos que ditará a ordem dos atributos do objeto datetime."
      ],
      "id": "dirty-energy"
    },
    {
      "cell_type": "code",
      "metadata": {
        "colab": {
          "base_uri": "https://localhost:8080/"
        },
        "id": "unexpected-cambridge",
        "outputId": "1a0d76bc-c198-49e0-e27c-4da393424fcc"
      },
      "source": [
        "data = '2020/03/02'\n",
        "\n",
        "dt3 = datetime.strptime(data, '%Y/%m/%d')\n",
        "dt3"
      ],
      "id": "unexpected-cambridge",
      "execution_count": 8,
      "outputs": [
        {
          "output_type": "execute_result",
          "data": {
            "text/plain": [
              "datetime.datetime(2020, 3, 2, 0, 0)"
            ]
          },
          "metadata": {},
          "execution_count": 8
        }
      ]
    },
    {
      "cell_type": "code",
      "metadata": {
        "scrolled": true,
        "colab": {
          "base_uri": "https://localhost:8080/"
        },
        "id": "acting-fellow",
        "outputId": "1d76d543-3f69-4995-c091-8a5d2e955c5f"
      },
      "source": [
        "dt4 = datetime(2015, 9, 27)\n",
        "dt4"
      ],
      "id": "acting-fellow",
      "execution_count": 9,
      "outputs": [
        {
          "output_type": "execute_result",
          "data": {
            "text/plain": [
              "datetime.datetime(2015, 9, 27, 0, 0)"
            ]
          },
          "metadata": {},
          "execution_count": 9
        }
      ]
    },
    {
      "cell_type": "code",
      "metadata": {
        "scrolled": false,
        "colab": {
          "base_uri": "https://localhost:8080/",
          "height": 0
        },
        "id": "chubby-montgomery",
        "outputId": "7b534607-4dde-43e7-ac5b-6fa7b5f3d7cd"
      },
      "source": [
        "dt4.strftime('%m-%d-%Y')"
      ],
      "id": "chubby-montgomery",
      "execution_count": 10,
      "outputs": [
        {
          "output_type": "execute_result",
          "data": {
            "application/vnd.google.colaboratory.intrinsic+json": {
              "type": "string"
            },
            "text/plain": [
              "'09-27-2015'"
            ]
          },
          "metadata": {},
          "execution_count": 10
        }
      ]
    },
    {
      "cell_type": "markdown",
      "metadata": {
        "id": "humanitarian-australian"
      },
      "source": [
        "-------------------------------------------------------------------------------------------------------"
      ],
      "id": "humanitarian-australian"
    },
    {
      "cell_type": "markdown",
      "metadata": {
        "id": "split-vision"
      },
      "source": [
        "### pd.to_datetime(d)\n",
        "#### Converte d para índices de objetos datetime."
      ],
      "id": "split-vision"
    },
    {
      "cell_type": "code",
      "metadata": {
        "scrolled": true,
        "colab": {
          "base_uri": "https://localhost:8080/"
        },
        "id": "pharmaceutical-postcard",
        "outputId": "457c7927-6479-40bf-8a94-28fabe9185dd"
      },
      "source": [
        "datas = ['1999-01-28 12:55:35', '2003-05-14 15:49:30']\n",
        "\n",
        "idx1 = pd.to_datetime(datas)\n",
        "idx1"
      ],
      "id": "pharmaceutical-postcard",
      "execution_count": 11,
      "outputs": [
        {
          "output_type": "execute_result",
          "data": {
            "text/plain": [
              "DatetimeIndex(['1999-01-28 12:55:35', '2003-05-14 15:49:30'], dtype='datetime64[ns]', freq=None)"
            ]
          },
          "metadata": {},
          "execution_count": 11
        }
      ]
    },
    {
      "cell_type": "code",
      "metadata": {
        "colab": {
          "base_uri": "https://localhost:8080/"
        },
        "id": "charming-letter",
        "outputId": "8c523f10-bf4c-44eb-e556-167103d1af5d"
      },
      "source": [
        "# Série Temporal.\n",
        "s1 = pd.Series([1, 2], index=idx1)\n",
        "s1"
      ],
      "id": "charming-letter",
      "execution_count": 12,
      "outputs": [
        {
          "output_type": "execute_result",
          "data": {
            "text/plain": [
              "1999-01-28 12:55:35    1\n",
              "2003-05-14 15:49:30    2\n",
              "dtype: int64"
            ]
          },
          "metadata": {},
          "execution_count": 12
        }
      ]
    },
    {
      "cell_type": "code",
      "metadata": {
        "colab": {
          "base_uri": "https://localhost:8080/"
        },
        "id": "willing-runner",
        "outputId": "9c9bb5fe-1ee0-4e28-9a5e-5d79a45b1756"
      },
      "source": [
        "s1.index"
      ],
      "id": "willing-runner",
      "execution_count": 13,
      "outputs": [
        {
          "output_type": "execute_result",
          "data": {
            "text/plain": [
              "DatetimeIndex(['1999-01-28 12:55:35', '2003-05-14 15:49:30'], dtype='datetime64[ns]', freq=None)"
            ]
          },
          "metadata": {},
          "execution_count": 13
        }
      ]
    },
    {
      "cell_type": "code",
      "metadata": {
        "colab": {
          "base_uri": "https://localhost:8080/"
        },
        "id": "medical-globe",
        "outputId": "a7deecc6-1a58-45ac-c898-9e85e8c8f9bc"
      },
      "source": [
        "# Amostra de tempo.\n",
        "s1.index[0]"
      ],
      "id": "medical-globe",
      "execution_count": 14,
      "outputs": [
        {
          "output_type": "execute_result",
          "data": {
            "text/plain": [
              "Timestamp('1999-01-28 12:55:35')"
            ]
          },
          "metadata": {},
          "execution_count": 14
        }
      ]
    },
    {
      "cell_type": "markdown",
      "metadata": {
        "id": "insured-newman"
      },
      "source": [
        "-------------------------------------------------------------------------------------------------------"
      ],
      "id": "insured-newman"
    },
    {
      "cell_type": "markdown",
      "metadata": {
        "id": "systematic-coaching"
      },
      "source": [
        "### pd.data_range()\n",
        "#### Cria um DatetimeIndex baseado em um intervalo de tempo e uma frequência."
      ],
      "id": "systematic-coaching"
    },
    {
      "cell_type": "code",
      "metadata": {
        "colab": {
          "base_uri": "https://localhost:8080/"
        },
        "id": "behind-conducting",
        "outputId": "9b70910d-5667-4995-b7c5-d1852781e29a"
      },
      "source": [
        "idx2 = pd.date_range(start='1/1/2000', periods=366, freq='D')\n",
        "idx2"
      ],
      "id": "behind-conducting",
      "execution_count": 15,
      "outputs": [
        {
          "output_type": "execute_result",
          "data": {
            "text/plain": [
              "DatetimeIndex(['2000-01-01', '2000-01-02', '2000-01-03', '2000-01-04',\n",
              "               '2000-01-05', '2000-01-06', '2000-01-07', '2000-01-08',\n",
              "               '2000-01-09', '2000-01-10',\n",
              "               ...\n",
              "               '2000-12-22', '2000-12-23', '2000-12-24', '2000-12-25',\n",
              "               '2000-12-26', '2000-12-27', '2000-12-28', '2000-12-29',\n",
              "               '2000-12-30', '2000-12-31'],\n",
              "              dtype='datetime64[ns]', length=366, freq='D')"
            ]
          },
          "metadata": {},
          "execution_count": 15
        }
      ]
    },
    {
      "cell_type": "code",
      "metadata": {
        "colab": {
          "base_uri": "https://localhost:8080/"
        },
        "id": "stopped-miracle",
        "outputId": "a163d338-68be-418b-bf64-34deb71fa348"
      },
      "source": [
        "s2 = pd.Series(range(1, 367), index=idx2)\n",
        "s2"
      ],
      "id": "stopped-miracle",
      "execution_count": 16,
      "outputs": [
        {
          "output_type": "execute_result",
          "data": {
            "text/plain": [
              "2000-01-01      1\n",
              "2000-01-02      2\n",
              "2000-01-03      3\n",
              "2000-01-04      4\n",
              "2000-01-05      5\n",
              "             ... \n",
              "2000-12-27    362\n",
              "2000-12-28    363\n",
              "2000-12-29    364\n",
              "2000-12-30    365\n",
              "2000-12-31    366\n",
              "Freq: D, Length: 366, dtype: int64"
            ]
          },
          "metadata": {},
          "execution_count": 16
        }
      ]
    },
    {
      "cell_type": "code",
      "metadata": {
        "colab": {
          "base_uri": "https://localhost:8080/"
        },
        "id": "automated-shark",
        "outputId": "8ced1480-f2e0-4b39-b62a-cac45acb772e"
      },
      "source": [
        "# 51 períodos de Segundas-Feiras.\n",
        "idx3 = pd.date_range(end='2/20/2020', periods=51, freq='W-MON')\n",
        "idx3"
      ],
      "id": "automated-shark",
      "execution_count": 17,
      "outputs": [
        {
          "output_type": "execute_result",
          "data": {
            "text/plain": [
              "DatetimeIndex(['2019-03-04', '2019-03-11', '2019-03-18', '2019-03-25',\n",
              "               '2019-04-01', '2019-04-08', '2019-04-15', '2019-04-22',\n",
              "               '2019-04-29', '2019-05-06', '2019-05-13', '2019-05-20',\n",
              "               '2019-05-27', '2019-06-03', '2019-06-10', '2019-06-17',\n",
              "               '2019-06-24', '2019-07-01', '2019-07-08', '2019-07-15',\n",
              "               '2019-07-22', '2019-07-29', '2019-08-05', '2019-08-12',\n",
              "               '2019-08-19', '2019-08-26', '2019-09-02', '2019-09-09',\n",
              "               '2019-09-16', '2019-09-23', '2019-09-30', '2019-10-07',\n",
              "               '2019-10-14', '2019-10-21', '2019-10-28', '2019-11-04',\n",
              "               '2019-11-11', '2019-11-18', '2019-11-25', '2019-12-02',\n",
              "               '2019-12-09', '2019-12-16', '2019-12-23', '2019-12-30',\n",
              "               '2020-01-06', '2020-01-13', '2020-01-20', '2020-01-27',\n",
              "               '2020-02-03', '2020-02-10', '2020-02-17'],\n",
              "              dtype='datetime64[ns]', freq='W-MON')"
            ]
          },
          "metadata": {},
          "execution_count": 17
        }
      ]
    },
    {
      "cell_type": "code",
      "metadata": {
        "colab": {
          "base_uri": "https://localhost:8080/"
        },
        "id": "original-immunology",
        "outputId": "a824e870-2676-420f-a171-c769ff65b2dd"
      },
      "source": [
        "# Normalizando a hora de todos os datetime para o horário padrão 00:00:00. Por padrão a frequência é 'D'.\n",
        "idx4 = pd.date_range(start='01/02/1980 12:30:51', end='14/03/1985 03:45:09', normalize=True)\n",
        "idx4"
      ],
      "id": "original-immunology",
      "execution_count": 18,
      "outputs": [
        {
          "output_type": "execute_result",
          "data": {
            "text/plain": [
              "DatetimeIndex(['1980-01-02', '1980-01-03', '1980-01-04', '1980-01-05',\n",
              "               '1980-01-06', '1980-01-07', '1980-01-08', '1980-01-09',\n",
              "               '1980-01-10', '1980-01-11',\n",
              "               ...\n",
              "               '1985-03-05', '1985-03-06', '1985-03-07', '1985-03-08',\n",
              "               '1985-03-09', '1985-03-10', '1985-03-11', '1985-03-12',\n",
              "               '1985-03-13', '1985-03-14'],\n",
              "              dtype='datetime64[ns]', length=1899, freq='D')"
            ]
          },
          "metadata": {},
          "execution_count": 18
        }
      ]
    },
    {
      "cell_type": "markdown",
      "metadata": {
        "id": "stylish-election"
      },
      "source": [
        "-------------------------------------------------------------------------------------------------------"
      ],
      "id": "stylish-election"
    },
    {
      "cell_type": "markdown",
      "metadata": {
        "id": "functional-relay"
      },
      "source": [
        "### truncate()\n",
        "#### Divide uma Series em uma determinada data."
      ],
      "id": "functional-relay"
    },
    {
      "cell_type": "code",
      "metadata": {
        "colab": {
          "base_uri": "https://localhost:8080/"
        },
        "id": "alleged-accent",
        "outputId": "db4bc3fc-f502-4d7b-8ee2-8e434ca9b70c"
      },
      "source": [
        "s2.truncate(after='7/1/2000')"
      ],
      "id": "alleged-accent",
      "execution_count": 19,
      "outputs": [
        {
          "output_type": "execute_result",
          "data": {
            "text/plain": [
              "2000-01-01      1\n",
              "2000-01-02      2\n",
              "2000-01-03      3\n",
              "2000-01-04      4\n",
              "2000-01-05      5\n",
              "             ... \n",
              "2000-06-27    179\n",
              "2000-06-28    180\n",
              "2000-06-29    181\n",
              "2000-06-30    182\n",
              "2000-07-01    183\n",
              "Freq: D, Length: 183, dtype: int64"
            ]
          },
          "metadata": {},
          "execution_count": 19
        }
      ]
    },
    {
      "cell_type": "code",
      "metadata": {
        "scrolled": true,
        "colab": {
          "base_uri": "https://localhost:8080/"
        },
        "id": "overall-palace",
        "outputId": "2b28f6f1-55de-43c8-fb6c-4cd0a33fa195"
      },
      "source": [
        "s2.truncate(before='12/25/2000')"
      ],
      "id": "overall-palace",
      "execution_count": 20,
      "outputs": [
        {
          "output_type": "execute_result",
          "data": {
            "text/plain": [
              "2000-12-25    360\n",
              "2000-12-26    361\n",
              "2000-12-27    362\n",
              "2000-12-28    363\n",
              "2000-12-29    364\n",
              "2000-12-30    365\n",
              "2000-12-31    366\n",
              "Freq: D, dtype: int64"
            ]
          },
          "metadata": {},
          "execution_count": 20
        }
      ]
    },
    {
      "cell_type": "markdown",
      "metadata": {
        "id": "fitting-coordinate"
      },
      "source": [
        "-------------------------------------------------------------------------------------------------------"
      ],
      "id": "fitting-coordinate"
    },
    {
      "cell_type": "markdown",
      "metadata": {
        "id": "rolled-crisis"
      },
      "source": [
        "### shift()\n",
        "#### Atrasa ou adianta um datetime."
      ],
      "id": "rolled-crisis"
    },
    {
      "cell_type": "code",
      "metadata": {
        "colab": {
          "base_uri": "https://localhost:8080/"
        },
        "id": "further-procedure",
        "outputId": "0d2049ad-8e1d-4117-c856-538742f8852c"
      },
      "source": [
        "s3 = pd.Series(np.random.randn(5), index=pd.date_range('1/1/2019', '2/5/2019', freq='W-MON'))\n",
        "s3"
      ],
      "id": "further-procedure",
      "execution_count": 21,
      "outputs": [
        {
          "output_type": "execute_result",
          "data": {
            "text/plain": [
              "2019-01-07    1.590919\n",
              "2019-01-14   -0.077145\n",
              "2019-01-21    1.545130\n",
              "2019-01-28    0.922385\n",
              "2019-02-04    0.815015\n",
              "Freq: W-MON, dtype: float64"
            ]
          },
          "metadata": {},
          "execution_count": 21
        }
      ]
    },
    {
      "cell_type": "code",
      "metadata": {
        "colab": {
          "base_uri": "https://localhost:8080/"
        },
        "id": "federal-bhutan",
        "outputId": "58634b46-8df9-4e2a-c42f-c7b008779d87"
      },
      "source": [
        "s3.shift(1, freq='H') # Adiantando uma hora."
      ],
      "id": "federal-bhutan",
      "execution_count": 22,
      "outputs": [
        {
          "output_type": "execute_result",
          "data": {
            "text/plain": [
              "2019-01-07 01:00:00    1.590919\n",
              "2019-01-14 01:00:00   -0.077145\n",
              "2019-01-21 01:00:00    1.545130\n",
              "2019-01-28 01:00:00    0.922385\n",
              "2019-02-04 01:00:00    0.815015\n",
              "dtype: float64"
            ]
          },
          "metadata": {},
          "execution_count": 22
        }
      ]
    },
    {
      "cell_type": "code",
      "metadata": {
        "colab": {
          "base_uri": "https://localhost:8080/"
        },
        "id": "manufactured-swedish",
        "outputId": "5f01a451-2176-42e7-b9d2-65da4b87f187"
      },
      "source": [
        "s3.shift(-3, freq='D') # Atrasando 3 dias."
      ],
      "id": "manufactured-swedish",
      "execution_count": 23,
      "outputs": [
        {
          "output_type": "execute_result",
          "data": {
            "text/plain": [
              "2019-01-04    1.590919\n",
              "2019-01-11   -0.077145\n",
              "2019-01-18    1.545130\n",
              "2019-01-25    0.922385\n",
              "2019-02-01    0.815015\n",
              "dtype: float64"
            ]
          },
          "metadata": {},
          "execution_count": 23
        }
      ]
    },
    {
      "cell_type": "markdown",
      "metadata": {
        "id": "considered-beauty"
      },
      "source": [
        "-------------------------------------------------------------------------------------------------------"
      ],
      "id": "considered-beauty"
    },
    {
      "cell_type": "markdown",
      "metadata": {
        "id": "defined-layout"
      },
      "source": [
        "### resample()\n",
        "#### Faz o agrupamento de Séries Temporais baseado em uma nova frequência."
      ],
      "id": "defined-layout"
    },
    {
      "cell_type": "code",
      "metadata": {
        "colab": {
          "base_uri": "https://localhost:8080/"
        },
        "id": "passive-tunnel",
        "outputId": "4e21e9a5-3656-478c-ec37-db6c048fb8af"
      },
      "source": [
        "idx5 = pd.date_range('2000-01-01', periods=100, freq='D')\n",
        "s4 = pd.Series(np.random.randn(len(idx5)), index=idx5)\n",
        "s4"
      ],
      "id": "passive-tunnel",
      "execution_count": 24,
      "outputs": [
        {
          "output_type": "execute_result",
          "data": {
            "text/plain": [
              "2000-01-01    0.104192\n",
              "2000-01-02   -1.528988\n",
              "2000-01-03   -0.568943\n",
              "2000-01-04   -1.252947\n",
              "2000-01-05    1.492360\n",
              "                ...   \n",
              "2000-04-05   -0.646703\n",
              "2000-04-06   -0.350865\n",
              "2000-04-07    0.625213\n",
              "2000-04-08    0.724248\n",
              "2000-04-09    0.371719\n",
              "Freq: D, Length: 100, dtype: float64"
            ]
          },
          "metadata": {},
          "execution_count": 24
        }
      ]
    },
    {
      "cell_type": "code",
      "metadata": {
        "colab": {
          "base_uri": "https://localhost:8080/"
        },
        "id": "coupled-broadcast",
        "outputId": "850a1463-adcc-4549-c857-13f5740272ff"
      },
      "source": [
        "# Fazendo um downsampling (frequência menor/período maior) ao agregar por mês e calculando a média\n",
        "# dos grupos.\n",
        "s4.resample('M').mean()"
      ],
      "id": "coupled-broadcast",
      "execution_count": 25,
      "outputs": [
        {
          "output_type": "execute_result",
          "data": {
            "text/plain": [
              "2000-01-31    0.107266\n",
              "2000-02-29    0.162049\n",
              "2000-03-31   -0.314005\n",
              "2000-04-30   -0.078362\n",
              "Freq: M, dtype: float64"
            ]
          },
          "metadata": {},
          "execution_count": 25
        }
      ]
    },
    {
      "cell_type": "code",
      "metadata": {
        "colab": {
          "base_uri": "https://localhost:8080/",
          "height": 0
        },
        "id": "leading-norwegian",
        "outputId": "fe3a69bf-725e-4c7c-a9f4-b7db62c95d41"
      },
      "source": [
        "# Método OHLC (Open-High-Low-Close)\n",
        "s4.resample('M').ohlc()"
      ],
      "id": "leading-norwegian",
      "execution_count": 26,
      "outputs": [
        {
          "output_type": "execute_result",
          "data": {
            "text/html": [
              "<div>\n",
              "<style scoped>\n",
              "    .dataframe tbody tr th:only-of-type {\n",
              "        vertical-align: middle;\n",
              "    }\n",
              "\n",
              "    .dataframe tbody tr th {\n",
              "        vertical-align: top;\n",
              "    }\n",
              "\n",
              "    .dataframe thead th {\n",
              "        text-align: right;\n",
              "    }\n",
              "</style>\n",
              "<table border=\"1\" class=\"dataframe\">\n",
              "  <thead>\n",
              "    <tr style=\"text-align: right;\">\n",
              "      <th></th>\n",
              "      <th>open</th>\n",
              "      <th>high</th>\n",
              "      <th>low</th>\n",
              "      <th>close</th>\n",
              "    </tr>\n",
              "  </thead>\n",
              "  <tbody>\n",
              "    <tr>\n",
              "      <th>2000-01-31</th>\n",
              "      <td>0.104192</td>\n",
              "      <td>1.492360</td>\n",
              "      <td>-1.929837</td>\n",
              "      <td>0.654816</td>\n",
              "    </tr>\n",
              "    <tr>\n",
              "      <th>2000-02-29</th>\n",
              "      <td>-0.580498</td>\n",
              "      <td>1.797299</td>\n",
              "      <td>-1.413815</td>\n",
              "      <td>-1.413815</td>\n",
              "    </tr>\n",
              "    <tr>\n",
              "      <th>2000-03-31</th>\n",
              "      <td>-0.019107</td>\n",
              "      <td>1.718572</td>\n",
              "      <td>-3.028092</td>\n",
              "      <td>-0.579771</td>\n",
              "    </tr>\n",
              "    <tr>\n",
              "      <th>2000-04-30</th>\n",
              "      <td>-0.633571</td>\n",
              "      <td>1.120790</td>\n",
              "      <td>-1.185922</td>\n",
              "      <td>0.371719</td>\n",
              "    </tr>\n",
              "  </tbody>\n",
              "</table>\n",
              "</div>"
            ],
            "text/plain": [
              "                open      high       low     close\n",
              "2000-01-31  0.104192  1.492360 -1.929837  0.654816\n",
              "2000-02-29 -0.580498  1.797299 -1.413815 -1.413815\n",
              "2000-03-31 -0.019107  1.718572 -3.028092 -0.579771\n",
              "2000-04-30 -0.633571  1.120790 -1.185922  0.371719"
            ]
          },
          "metadata": {},
          "execution_count": 26
        }
      ]
    },
    {
      "cell_type": "code",
      "metadata": {
        "colab": {
          "base_uri": "https://localhost:8080/"
        },
        "id": "surprised-amount",
        "outputId": "a2d3be26-2169-4503-bd10-f32b90c8d673"
      },
      "source": [
        "idx6 = pd.date_range('2000-01', periods=2, freq='W-SUN')\n",
        "s5 = pd.Series(np.random.rand(2), index=idx6)\n",
        "s5"
      ],
      "id": "surprised-amount",
      "execution_count": 27,
      "outputs": [
        {
          "output_type": "execute_result",
          "data": {
            "text/plain": [
              "2000-01-02    0.860152\n",
              "2000-01-09    0.673481\n",
              "Freq: W-SUN, dtype: float64"
            ]
          },
          "metadata": {},
          "execution_count": 27
        }
      ]
    },
    {
      "cell_type": "code",
      "metadata": {
        "colab": {
          "base_uri": "https://localhost:8080/"
        },
        "id": "further-giant",
        "outputId": "1cf7993b-64c7-4aa3-b771-647628f4a136"
      },
      "source": [
        "# Fazendo um upsampling (frequência maior/período menor) ao agregar por dia. O método asfreq(f) \n",
        "# converte uma TimeSeries para a frequência f. Nesse caso, asfreq() está convertendo para a própria\n",
        "# frequência (W-SUN --> D).\n",
        "s5.resample('D').asfreq()"
      ],
      "id": "further-giant",
      "execution_count": 28,
      "outputs": [
        {
          "output_type": "execute_result",
          "data": {
            "text/plain": [
              "2000-01-02    0.860152\n",
              "2000-01-03         NaN\n",
              "2000-01-04         NaN\n",
              "2000-01-05         NaN\n",
              "2000-01-06         NaN\n",
              "2000-01-07         NaN\n",
              "2000-01-08         NaN\n",
              "2000-01-09    0.673481\n",
              "Freq: D, dtype: float64"
            ]
          },
          "metadata": {},
          "execution_count": 28
        }
      ]
    },
    {
      "cell_type": "code",
      "metadata": {
        "colab": {
          "base_uri": "https://localhost:8080/"
        },
        "id": "exotic-duplicate",
        "outputId": "975f156f-bbd8-4d85-8113-50cbd325032b"
      },
      "source": [
        "# Preenchimento backfill (para trás).\n",
        "s5.resample('D').bfill()"
      ],
      "id": "exotic-duplicate",
      "execution_count": 29,
      "outputs": [
        {
          "output_type": "execute_result",
          "data": {
            "text/plain": [
              "2000-01-02    0.860152\n",
              "2000-01-03    0.673481\n",
              "2000-01-04    0.673481\n",
              "2000-01-05    0.673481\n",
              "2000-01-06    0.673481\n",
              "2000-01-07    0.673481\n",
              "2000-01-08    0.673481\n",
              "2000-01-09    0.673481\n",
              "Freq: D, dtype: float64"
            ]
          },
          "metadata": {},
          "execution_count": 29
        }
      ]
    },
    {
      "cell_type": "code",
      "metadata": {
        "colab": {
          "base_uri": "https://localhost:8080/"
        },
        "id": "grave-makeup",
        "outputId": "6012b2d9-c692-4974-c3ec-e244047c5aa0"
      },
      "source": [
        "# Preenchimento forwardfill (para frente).\n",
        "s5.resample('D').ffill()"
      ],
      "id": "grave-makeup",
      "execution_count": 30,
      "outputs": [
        {
          "output_type": "execute_result",
          "data": {
            "text/plain": [
              "2000-01-02    0.860152\n",
              "2000-01-03    0.860152\n",
              "2000-01-04    0.860152\n",
              "2000-01-05    0.860152\n",
              "2000-01-06    0.860152\n",
              "2000-01-07    0.860152\n",
              "2000-01-08    0.860152\n",
              "2000-01-09    0.673481\n",
              "Freq: D, dtype: float64"
            ]
          },
          "metadata": {},
          "execution_count": 30
        }
      ]
    },
    {
      "cell_type": "markdown",
      "metadata": {
        "id": "square-hobby"
      },
      "source": [
        "-------------------------------------------------------------------------------------------------------"
      ],
      "id": "square-hobby"
    },
    {
      "cell_type": "markdown",
      "metadata": {
        "id": "ultimate-oriental"
      },
      "source": [
        "### rolling(t)\n",
        "#### Agrega a instância em intervalos de tempo t, funciona como um agregamento por groupby. A instância agrupada pode ser usada com métodos estatísticos e plotada com a matplotlib."
      ],
      "id": "ultimate-oriental"
    },
    {
      "cell_type": "code",
      "metadata": {
        "colab": {
          "base_uri": "https://localhost:8080/",
          "height": 206
        },
        "id": "entitled-devon",
        "outputId": "d90bae27-7caf-4236-8fa0-370739409137"
      },
      "source": [
        "fecha_spx = pd.read_csv('stock_px_2.csv', parse_dates=True, index_col=0)\n",
        "fecha_spx = fecha_spx[['AAPL', 'MSFT', 'XOM']]\n",
        "fecha_spx = fecha_spx.resample('B').ffill()\n",
        "fecha_spx.head()"
      ],
      "id": "entitled-devon",
      "execution_count": 31,
      "outputs": [
        {
          "output_type": "execute_result",
          "data": {
            "text/html": [
              "<div>\n",
              "<style scoped>\n",
              "    .dataframe tbody tr th:only-of-type {\n",
              "        vertical-align: middle;\n",
              "    }\n",
              "\n",
              "    .dataframe tbody tr th {\n",
              "        vertical-align: top;\n",
              "    }\n",
              "\n",
              "    .dataframe thead th {\n",
              "        text-align: right;\n",
              "    }\n",
              "</style>\n",
              "<table border=\"1\" class=\"dataframe\">\n",
              "  <thead>\n",
              "    <tr style=\"text-align: right;\">\n",
              "      <th></th>\n",
              "      <th>AAPL</th>\n",
              "      <th>MSFT</th>\n",
              "      <th>XOM</th>\n",
              "    </tr>\n",
              "  </thead>\n",
              "  <tbody>\n",
              "    <tr>\n",
              "      <th>2003-01-02</th>\n",
              "      <td>7.40</td>\n",
              "      <td>21.11</td>\n",
              "      <td>29.22</td>\n",
              "    </tr>\n",
              "    <tr>\n",
              "      <th>2003-01-03</th>\n",
              "      <td>7.45</td>\n",
              "      <td>21.14</td>\n",
              "      <td>29.24</td>\n",
              "    </tr>\n",
              "    <tr>\n",
              "      <th>2003-01-06</th>\n",
              "      <td>7.45</td>\n",
              "      <td>21.52</td>\n",
              "      <td>29.96</td>\n",
              "    </tr>\n",
              "    <tr>\n",
              "      <th>2003-01-07</th>\n",
              "      <td>7.43</td>\n",
              "      <td>21.93</td>\n",
              "      <td>28.95</td>\n",
              "    </tr>\n",
              "    <tr>\n",
              "      <th>2003-01-08</th>\n",
              "      <td>7.28</td>\n",
              "      <td>21.31</td>\n",
              "      <td>28.83</td>\n",
              "    </tr>\n",
              "  </tbody>\n",
              "</table>\n",
              "</div>"
            ],
            "text/plain": [
              "            AAPL   MSFT    XOM\n",
              "2003-01-02  7.40  21.11  29.22\n",
              "2003-01-03  7.45  21.14  29.24\n",
              "2003-01-06  7.45  21.52  29.96\n",
              "2003-01-07  7.43  21.93  28.95\n",
              "2003-01-08  7.28  21.31  28.83"
            ]
          },
          "metadata": {},
          "execution_count": 31
        }
      ]
    },
    {
      "cell_type": "code",
      "metadata": {
        "colab": {
          "base_uri": "https://localhost:8080/"
        },
        "id": "ignored-program",
        "outputId": "25a6e4cd-9493-4370-988d-961f24c29826"
      },
      "source": [
        "fecha_spx.AAPL.rolling(250)"
      ],
      "id": "ignored-program",
      "execution_count": 32,
      "outputs": [
        {
          "output_type": "execute_result",
          "data": {
            "text/plain": [
              "Rolling [window=250,center=False,axis=0]"
            ]
          },
          "metadata": {},
          "execution_count": 32
        }
      ]
    },
    {
      "cell_type": "code",
      "metadata": {
        "scrolled": true,
        "colab": {
          "base_uri": "https://localhost:8080/",
          "height": 298
        },
        "id": "distant-politics",
        "outputId": "92834fbb-338b-44e0-b2ce-cdc2accb78f6"
      },
      "source": [
        "fig1, ex = plt.subplots(1, 1)\n",
        "fecha_spx.AAPL.plot(ax=ex, label='Gráfico', style='-', title='Histórico da Apple')\n",
        "\n",
        "# Média móvel de 250 dias.\n",
        "fecha_spx.AAPL.rolling(250).mean().plot(ax=ex, label='Média de 250 dias', style='--')\n",
        "ex.legend()"
      ],
      "id": "distant-politics",
      "execution_count": 33,
      "outputs": [
        {
          "output_type": "execute_result",
          "data": {
            "text/plain": [
              "<matplotlib.legend.Legend at 0x7f8261973750>"
            ]
          },
          "metadata": {},
          "execution_count": 33
        },
        {
          "output_type": "display_data",
          "data": {
            "image/png": "[encoded data removed]",
            "text/plain": [
              "<Figure size 432x288 with 1 Axes>"
            ]
          },
          "metadata": {
            "needs_background": "light"
          }
        }
      ]
    },
    {
      "cell_type": "code",
      "metadata": {
        "scrolled": true,
        "colab": {
          "base_uri": "https://localhost:8080/",
          "height": 310
        },
        "id": "welcome-robert",
        "outputId": "469ef8ab-0248-4ca4-ccf9-1c36161e5e7b"
      },
      "source": [
        "fig2, ex = plt.subplots(1, 1)\n",
        "fecha_spx.MSFT.plot(ax=ex, label='Gráfico', title='Desempenho da Microsoft de 2008 a 2010')\n",
        "\n",
        "# Variância dos últimos 20 dias.\n",
        "fecha_spx.MSFT.rolling(20).var().plot(ax=ex, label='Variância de 20 dias')\n",
        "ex.legend()\n",
        "ex.set_xlim([datetime(2008, 1, 1), datetime(2010, 1, 1)])"
      ],
      "id": "welcome-robert",
      "execution_count": 34,
      "outputs": [
        {
          "output_type": "execute_result",
          "data": {
            "text/plain": [
              "(9913.0, 10436.0)"
            ]
          },
          "metadata": {},
          "execution_count": 34
        },
        {
          "output_type": "display_data",
          "data": {
            "image/png": "[encoded data removed]",
            "text/plain": [
              "<Figure size 432x288 with 1 Axes>"
            ]
          },
          "metadata": {
            "needs_background": "light"
          }
        }
      ]
    },
    {
      "cell_type": "markdown",
      "metadata": {
        "id": "overhead-domestic"
      },
      "source": [
        "-------------------------------------------------------------------------------------------------------"
      ],
      "id": "overhead-domestic"
    },
    {
      "cell_type": "markdown",
      "metadata": {
        "id": "mounted-lodge"
      },
      "source": [
        "### ewm(span=t)\n",
        "#### Funciona como rolling(), mas os dados são exponencialmente ponderados, isto é, os dados mais recentes tem maior peso nos cálculos pós agregação. O intervalo de tempo é passado para o parâmetro span."
      ],
      "id": "mounted-lodge"
    },
    {
      "cell_type": "code",
      "metadata": {
        "colab": {
          "base_uri": "https://localhost:8080/",
          "height": 310
        },
        "id": "sized-kitty",
        "outputId": "78505633-59d4-4903-de4f-d58652c6ea0a"
      },
      "source": [
        "fig3, ex = plt.subplots(1, 1)\n",
        "fecha_spx.XOM.plot(ax=ex, title=\"XOM com média ponderada\")\n",
        "\n",
        "# Média móvel de 60 dias.\n",
        "fecha_spx.XOM.rolling(60).mean().plot(ax=ex, style=':', label='Média Móvel')\n",
        "\n",
        "# Média móvel exponencial de 60 dias.\n",
        "fecha_spx.XOM.ewm(span=60).mean().plot(ax=ex, style='-', label='Média Móvel Exponencial')\n",
        "ex.set_xlim([datetime(2010, 1, 1), datetime(2011, 1, 1)])\n",
        "ex.legend()"
      ],
      "id": "sized-kitty",
      "execution_count": 35,
      "outputs": [
        {
          "output_type": "execute_result",
          "data": {
            "text/plain": [
              "<matplotlib.legend.Legend at 0x7f826088aad0>"
            ]
          },
          "metadata": {},
          "execution_count": 35
        },
        {
          "output_type": "display_data",
          "data": {
            "image/png": "[encoded data removed]",
            "text/plain": [
              "<Figure size 432x288 with 1 Axes>"
            ]
          },
          "metadata": {
            "needs_background": "light"
          }
        }
      ]
    },
    {
      "cell_type": "code",
      "metadata": {
        "colab": {
          "base_uri": "https://localhost:8080/"
        },
        "id": "bored-marina",
        "outputId": "8d2e085f-30d8-43e9-8cc7-760af358637e"
      },
      "source": [
        "spx = pd.read_csv('stock_px_2.csv', parse_dates=True, index_col=0)\n",
        "spx = spx['SPX']\n",
        "spx = spx.resample('B').ffill()\n",
        "spx_pct = spx.pct_change()\n",
        "spx_pct.head()"
      ],
      "id": "bored-marina",
      "execution_count": 36,
      "outputs": [
        {
          "output_type": "execute_result",
          "data": {
            "text/plain": [
              "2003-01-02         NaN\n",
              "2003-01-03   -0.000484\n",
              "2003-01-06    0.022474\n",
              "2003-01-07   -0.006545\n",
              "2003-01-08   -0.014086\n",
              "Freq: B, Name: SPX, dtype: float64"
            ]
          },
          "metadata": {},
          "execution_count": 36
        }
      ]
    },
    {
      "cell_type": "code",
      "metadata": {
        "colab": {
          "base_uri": "https://localhost:8080/",
          "height": 206
        },
        "id": "southern-colon",
        "outputId": "1d75aa6a-f20a-4fc1-d148-4b713ba76765"
      },
      "source": [
        "fecha_spx_pct = fecha_spx.pct_change()\n",
        "fecha_spx_pct.head()"
      ],
      "id": "southern-colon",
      "execution_count": 37,
      "outputs": [
        {
          "output_type": "execute_result",
          "data": {
            "text/html": [
              "<div>\n",
              "<style scoped>\n",
              "    .dataframe tbody tr th:only-of-type {\n",
              "        vertical-align: middle;\n",
              "    }\n",
              "\n",
              "    .dataframe tbody tr th {\n",
              "        vertical-align: top;\n",
              "    }\n",
              "\n",
              "    .dataframe thead th {\n",
              "        text-align: right;\n",
              "    }\n",
              "</style>\n",
              "<table border=\"1\" class=\"dataframe\">\n",
              "  <thead>\n",
              "    <tr style=\"text-align: right;\">\n",
              "      <th></th>\n",
              "      <th>AAPL</th>\n",
              "      <th>MSFT</th>\n",
              "      <th>XOM</th>\n",
              "    </tr>\n",
              "  </thead>\n",
              "  <tbody>\n",
              "    <tr>\n",
              "      <th>2003-01-02</th>\n",
              "      <td>NaN</td>\n",
              "      <td>NaN</td>\n",
              "      <td>NaN</td>\n",
              "    </tr>\n",
              "    <tr>\n",
              "      <th>2003-01-03</th>\n",
              "      <td>0.006757</td>\n",
              "      <td>0.001421</td>\n",
              "      <td>0.000684</td>\n",
              "    </tr>\n",
              "    <tr>\n",
              "      <th>2003-01-06</th>\n",
              "      <td>0.000000</td>\n",
              "      <td>0.017975</td>\n",
              "      <td>0.024624</td>\n",
              "    </tr>\n",
              "    <tr>\n",
              "      <th>2003-01-07</th>\n",
              "      <td>-0.002685</td>\n",
              "      <td>0.019052</td>\n",
              "      <td>-0.033712</td>\n",
              "    </tr>\n",
              "    <tr>\n",
              "      <th>2003-01-08</th>\n",
              "      <td>-0.020188</td>\n",
              "      <td>-0.028272</td>\n",
              "      <td>-0.004145</td>\n",
              "    </tr>\n",
              "  </tbody>\n",
              "</table>\n",
              "</div>"
            ],
            "text/plain": [
              "                AAPL      MSFT       XOM\n",
              "2003-01-02       NaN       NaN       NaN\n",
              "2003-01-03  0.006757  0.001421  0.000684\n",
              "2003-01-06  0.000000  0.017975  0.024624\n",
              "2003-01-07 -0.002685  0.019052 -0.033712\n",
              "2003-01-08 -0.020188 -0.028272 -0.004145"
            ]
          },
          "metadata": {},
          "execution_count": 37
        }
      ]
    },
    {
      "cell_type": "code",
      "metadata": {
        "colab": {
          "base_uri": "https://localhost:8080/",
          "height": 298
        },
        "id": "lasting-proceeding",
        "outputId": "23f6128e-9bc2-4e56-dfec-615dcece6ce8"
      },
      "source": [
        "fig4, ex = plt.subplots(1, 1)\n",
        "\n",
        "# Correlação da Apple com o índice S&P 500 nos último 120 dias.\n",
        "fecha_spx_pct.AAPL.rolling(120).corr(spx_pct).plot(ax=ex, \n",
        "                                              title='Correlação da Apple com o índice S&P500', \n",
        "                                              style='r-', \n",
        "                                              label='Correlação de 120 dias')\n",
        "ex.legend(loc='best')"
      ],
      "id": "lasting-proceeding",
      "execution_count": 38,
      "outputs": [
        {
          "output_type": "execute_result",
          "data": {
            "text/plain": [
              "<matplotlib.legend.Legend at 0x7f8260568490>"
            ]
          },
          "metadata": {},
          "execution_count": 38
        },
        {
          "output_type": "display_data",
          "data": {
            "image/png": "[encoded data removed]",
            "text/plain": [
              "<Figure size 432x288 with 1 Axes>"
            ]
          },
          "metadata": {
            "needs_background": "light"
          }
        }
      ]
    }
  ]
}