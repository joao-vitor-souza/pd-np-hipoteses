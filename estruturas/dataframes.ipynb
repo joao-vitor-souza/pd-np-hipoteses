{
  "nbformat": 4,
  "nbformat_minor": 5,
  "metadata": {
    "kernelspec": {
      "display_name": "Python 3",
      "language": "python",
      "name": "python3"
    },
    "language_info": {
      "codemirror_mode": {
        "name": "ipython",
        "version": 3
      },
      "file_extension": ".py",
      "mimetype": "text/x-python",
      "name": "python",
      "nbconvert_exporter": "python",
      "pygments_lexer": "ipython3",
      "version": "3.8.5"
    },
    "colab": {
      "name": "DataFrames.ipynb",
      "provenance": []
    }
  },
  "cells": [
    {
      "cell_type": "markdown",
      "metadata": {
        "id": "canadian-israeli"
      },
      "source": [
        "# Dataframes \n",
        "\n",
        "### Dataframes são estruturas multidimensionais do Pandas, compostas de linhas e colunas, e que permitem um alto grau de manipulação de seus dados e metadados. Além de mostrar diversas maneiras que possibilitam a criação de um DataFrame, esse documento fará um apanhado dos principais métodos e atributos desse tipo de estrutura."
      ],
      "id": "canadian-israeli"
    },
    {
      "cell_type": "markdown",
      "metadata": {
        "id": "g-a4yxoSWflp"
      },
      "source": [
        "## Bibliotecas"
      ],
      "id": "g-a4yxoSWflp"
    },
    {
      "cell_type": "code",
      "metadata": {
        "id": "stretch-great"
      },
      "source": [
        "import numpy as np\n",
        "import pandas as pd"
      ],
      "id": "stretch-great",
      "execution_count": 1,
      "outputs": []
    },
    {
      "cell_type": "markdown",
      "metadata": {
        "id": "sustained-voltage"
      },
      "source": [
        "### Criando um DataFrame"
      ],
      "id": "sustained-voltage"
    },
    {
      "cell_type": "code",
      "metadata": {
        "colab": {
          "base_uri": "https://localhost:8080/"
        },
        "id": "prime-florence",
        "outputId": "b13a66d4-847f-46eb-9d8d-ebb116af7e60"
      },
      "source": [
        "d1 = {\"País\": [\"EUA\", \"China\", \"México\", \"Brasil\", \"Austrália\", \"França\"], \n",
        "      \"Continente\": [\"América do Norte\", \"Ásia\", \"América do Norte\", \"América do Sul\", \"Oceania\", \"Europa\"],\n",
        "     \"Idioma\": [\"Inglês\", \"Mandarim\", \"Espanhol\", \"Português\", \"Inglês\", \"Francês\"]}\n",
        "d1"
      ],
      "id": "prime-florence",
      "execution_count": 2,
      "outputs": [
        {
          "output_type": "execute_result",
          "data": {
            "text/plain": [
              "{'Continente': ['América do Norte',\n",
              "  'Ásia',\n",
              "  'América do Norte',\n",
              "  'América do Sul',\n",
              "  'Oceania',\n",
              "  'Europa'],\n",
              " 'Idioma': ['Inglês',\n",
              "  'Mandarim',\n",
              "  'Espanhol',\n",
              "  'Português',\n",
              "  'Inglês',\n",
              "  'Francês'],\n",
              " 'País': ['EUA', 'China', 'México', 'Brasil', 'Austrália', 'França']}"
            ]
          },
          "metadata": {},
          "execution_count": 2
        }
      ]
    },
    {
      "cell_type": "code",
      "metadata": {
        "colab": {
          "base_uri": "https://localhost:8080/",
          "height": 0
        },
        "id": "medical-conversion",
        "outputId": "276c4714-c639-4ec9-b7c9-8091464705bd"
      },
      "source": [
        "# Criando um DataFrame com índices que vão de 1 ao tamanho do dicionário, e colunas nomeadas.\n",
        "df1 = pd.DataFrame(d1, \n",
        "                   index=range(1, len(d1[\"País\"])+1), \n",
        "                   columns=[\"País\", \"Idioma\", \"Continente\", \"Colonização\"])\n",
        "df1"
      ],
      "id": "medical-conversion",
      "execution_count": 3,
      "outputs": [
        {
          "output_type": "execute_result",
          "data": {
            "text/html": [
              "<div>\n",
              "<style scoped>\n",
              "    .dataframe tbody tr th:only-of-type {\n",
              "        vertical-align: middle;\n",
              "    }\n",
              "\n",
              "    .dataframe tbody tr th {\n",
              "        vertical-align: top;\n",
              "    }\n",
              "\n",
              "    .dataframe thead th {\n",
              "        text-align: right;\n",
              "    }\n",
              "</style>\n",
              "<table border=\"1\" class=\"dataframe\">\n",
              "  <thead>\n",
              "    <tr style=\"text-align: right;\">\n",
              "      <th></th>\n",
              "      <th>País</th>\n",
              "      <th>Idioma</th>\n",
              "      <th>Continente</th>\n",
              "      <th>Colonização</th>\n",
              "    </tr>\n",
              "  </thead>\n",
              "  <tbody>\n",
              "    <tr>\n",
              "      <th>1</th>\n",
              "      <td>EUA</td>\n",
              "      <td>Inglês</td>\n",
              "      <td>América do Norte</td>\n",
              "      <td>NaN</td>\n",
              "    </tr>\n",
              "    <tr>\n",
              "      <th>2</th>\n",
              "      <td>China</td>\n",
              "      <td>Mandarim</td>\n",
              "      <td>Ásia</td>\n",
              "      <td>NaN</td>\n",
              "    </tr>\n",
              "    <tr>\n",
              "      <th>3</th>\n",
              "      <td>México</td>\n",
              "      <td>Espanhol</td>\n",
              "      <td>América do Norte</td>\n",
              "      <td>NaN</td>\n",
              "    </tr>\n",
              "    <tr>\n",
              "      <th>4</th>\n",
              "      <td>Brasil</td>\n",
              "      <td>Português</td>\n",
              "      <td>América do Sul</td>\n",
              "      <td>NaN</td>\n",
              "    </tr>\n",
              "    <tr>\n",
              "      <th>5</th>\n",
              "      <td>Austrália</td>\n",
              "      <td>Inglês</td>\n",
              "      <td>Oceania</td>\n",
              "      <td>NaN</td>\n",
              "    </tr>\n",
              "    <tr>\n",
              "      <th>6</th>\n",
              "      <td>França</td>\n",
              "      <td>Francês</td>\n",
              "      <td>Europa</td>\n",
              "      <td>NaN</td>\n",
              "    </tr>\n",
              "  </tbody>\n",
              "</table>\n",
              "</div>"
            ],
            "text/plain": [
              "        País     Idioma        Continente Colonização\n",
              "1        EUA     Inglês  América do Norte         NaN\n",
              "2      China   Mandarim              Ásia         NaN\n",
              "3     México   Espanhol  América do Norte         NaN\n",
              "4     Brasil  Português    América do Sul         NaN\n",
              "5  Austrália     Inglês           Oceania         NaN\n",
              "6     França    Francês            Europa         NaN"
            ]
          },
          "metadata": {},
          "execution_count": 3
        }
      ]
    },
    {
      "cell_type": "code",
      "metadata": {
        "colab": {
          "base_uri": "https://localhost:8080/",
          "height": 0
        },
        "id": "defensive-saturn",
        "outputId": "f476b415-c74c-4ffc-979c-f6741e4c3b79"
      },
      "source": [
        "df1.Colonização = [\"Inglesa\", np.nan, \"Espanhola\", \"Portuguesa\", \"Inglesa\", np.nan] \n",
        "# Adicionando valores à coluna Colonização.\n",
        "\n",
        "df1.columns.name = \"Dados\"# Nome das colunas.\n",
        "df1.index.name = \"Índice\" # Nome dos índices.\n",
        "df1"
      ],
      "id": "defensive-saturn",
      "execution_count": 4,
      "outputs": [
        {
          "output_type": "execute_result",
          "data": {
            "text/html": [
              "<div>\n",
              "<style scoped>\n",
              "    .dataframe tbody tr th:only-of-type {\n",
              "        vertical-align: middle;\n",
              "    }\n",
              "\n",
              "    .dataframe tbody tr th {\n",
              "        vertical-align: top;\n",
              "    }\n",
              "\n",
              "    .dataframe thead th {\n",
              "        text-align: right;\n",
              "    }\n",
              "</style>\n",
              "<table border=\"1\" class=\"dataframe\">\n",
              "  <thead>\n",
              "    <tr style=\"text-align: right;\">\n",
              "      <th>Dados</th>\n",
              "      <th>País</th>\n",
              "      <th>Idioma</th>\n",
              "      <th>Continente</th>\n",
              "      <th>Colonização</th>\n",
              "    </tr>\n",
              "    <tr>\n",
              "      <th>Índice</th>\n",
              "      <th></th>\n",
              "      <th></th>\n",
              "      <th></th>\n",
              "      <th></th>\n",
              "    </tr>\n",
              "  </thead>\n",
              "  <tbody>\n",
              "    <tr>\n",
              "      <th>1</th>\n",
              "      <td>EUA</td>\n",
              "      <td>Inglês</td>\n",
              "      <td>América do Norte</td>\n",
              "      <td>Inglesa</td>\n",
              "    </tr>\n",
              "    <tr>\n",
              "      <th>2</th>\n",
              "      <td>China</td>\n",
              "      <td>Mandarim</td>\n",
              "      <td>Ásia</td>\n",
              "      <td>NaN</td>\n",
              "    </tr>\n",
              "    <tr>\n",
              "      <th>3</th>\n",
              "      <td>México</td>\n",
              "      <td>Espanhol</td>\n",
              "      <td>América do Norte</td>\n",
              "      <td>Espanhola</td>\n",
              "    </tr>\n",
              "    <tr>\n",
              "      <th>4</th>\n",
              "      <td>Brasil</td>\n",
              "      <td>Português</td>\n",
              "      <td>América do Sul</td>\n",
              "      <td>Portuguesa</td>\n",
              "    </tr>\n",
              "    <tr>\n",
              "      <th>5</th>\n",
              "      <td>Austrália</td>\n",
              "      <td>Inglês</td>\n",
              "      <td>Oceania</td>\n",
              "      <td>Inglesa</td>\n",
              "    </tr>\n",
              "    <tr>\n",
              "      <th>6</th>\n",
              "      <td>França</td>\n",
              "      <td>Francês</td>\n",
              "      <td>Europa</td>\n",
              "      <td>NaN</td>\n",
              "    </tr>\n",
              "  </tbody>\n",
              "</table>\n",
              "</div>"
            ],
            "text/plain": [
              "Dados        País     Idioma        Continente Colonização\n",
              "Índice                                                    \n",
              "1             EUA     Inglês  América do Norte     Inglesa\n",
              "2           China   Mandarim              Ásia         NaN\n",
              "3          México   Espanhol  América do Norte   Espanhola\n",
              "4          Brasil  Português    América do Sul  Portuguesa\n",
              "5       Austrália     Inglês           Oceania     Inglesa\n",
              "6          França    Francês            Europa         NaN"
            ]
          },
          "metadata": {},
          "execution_count": 4
        }
      ]
    },
    {
      "cell_type": "markdown",
      "metadata": {
        "id": "ecological-uzbekistan"
      },
      "source": [
        "-------------------------------------------------------------------------------------------------------"
      ],
      "id": "ecological-uzbekistan"
    },
    {
      "cell_type": "markdown",
      "metadata": {
        "id": "vital-earthquake"
      },
      "source": [
        "## Indexação"
      ],
      "id": "vital-earthquake"
    },
    {
      "cell_type": "markdown",
      "metadata": {
        "id": "junior-dodge"
      },
      "source": [
        "### .loc[]\n",
        "#### Indexa linhas."
      ],
      "id": "junior-dodge"
    },
    {
      "cell_type": "code",
      "metadata": {
        "colab": {
          "base_uri": "https://localhost:8080/",
          "height": 0
        },
        "id": "regular-mediterranean",
        "outputId": "97c79110-e08b-447d-9ce8-53941cefce16"
      },
      "source": [
        "d2 = {\"Embraer\": {\"País\": \"Brasil\", \"Setor\": \"Aeronáutico\", \"Capital\": \"Aberto\"}, \n",
        "      \"Microsoft\":{\"País\": \"Estados Unidos\", \"Setor\": \"Software/Hardware\", \"Capital\": \"Aberto\"},\n",
        "      \"Tencent\": {\"País\": \"China\", \"Setor\": \"Software\", \"Capital\":\"Fechado\"},\n",
        "      \"Aranco\": {\"País\": \"Arábia Saudita\", \"Setor\": \"Petróleo e Gás\", \"Capital\": \"Fechado\"},\n",
        "      \"Renault\": {\"País\": \"França\", \"Setor\": \"Automotivo\", \"Capital\": \"Aberto\"},\n",
        "     }\n",
        "\n",
        "df2 = pd.DataFrame(d2)\n",
        "df2"
      ],
      "id": "regular-mediterranean",
      "execution_count": 5,
      "outputs": [
        {
          "output_type": "execute_result",
          "data": {
            "text/html": [
              "<div>\n",
              "<style scoped>\n",
              "    .dataframe tbody tr th:only-of-type {\n",
              "        vertical-align: middle;\n",
              "    }\n",
              "\n",
              "    .dataframe tbody tr th {\n",
              "        vertical-align: top;\n",
              "    }\n",
              "\n",
              "    .dataframe thead th {\n",
              "        text-align: right;\n",
              "    }\n",
              "</style>\n",
              "<table border=\"1\" class=\"dataframe\">\n",
              "  <thead>\n",
              "    <tr style=\"text-align: right;\">\n",
              "      <th></th>\n",
              "      <th>Embraer</th>\n",
              "      <th>Microsoft</th>\n",
              "      <th>Tencent</th>\n",
              "      <th>Aranco</th>\n",
              "      <th>Renault</th>\n",
              "    </tr>\n",
              "  </thead>\n",
              "  <tbody>\n",
              "    <tr>\n",
              "      <th>País</th>\n",
              "      <td>Brasil</td>\n",
              "      <td>Estados Unidos</td>\n",
              "      <td>China</td>\n",
              "      <td>Arábia Saudita</td>\n",
              "      <td>França</td>\n",
              "    </tr>\n",
              "    <tr>\n",
              "      <th>Setor</th>\n",
              "      <td>Aeronáutico</td>\n",
              "      <td>Software/Hardware</td>\n",
              "      <td>Software</td>\n",
              "      <td>Petróleo e Gás</td>\n",
              "      <td>Automotivo</td>\n",
              "    </tr>\n",
              "    <tr>\n",
              "      <th>Capital</th>\n",
              "      <td>Aberto</td>\n",
              "      <td>Aberto</td>\n",
              "      <td>Fechado</td>\n",
              "      <td>Fechado</td>\n",
              "      <td>Aberto</td>\n",
              "    </tr>\n",
              "  </tbody>\n",
              "</table>\n",
              "</div>"
            ],
            "text/plain": [
              "             Embraer          Microsoft   Tencent          Aranco     Renault\n",
              "País          Brasil     Estados Unidos     China  Arábia Saudita      França\n",
              "Setor    Aeronáutico  Software/Hardware  Software  Petróleo e Gás  Automotivo\n",
              "Capital       Aberto             Aberto   Fechado         Fechado      Aberto"
            ]
          },
          "metadata": {},
          "execution_count": 5
        }
      ]
    },
    {
      "cell_type": "code",
      "metadata": {
        "colab": {
          "base_uri": "https://localhost:8080/"
        },
        "id": "dress-rehabilitation",
        "outputId": "8e11fcfe-a9ba-46cd-97fe-785793192465"
      },
      "source": [
        "df2.loc[\"País\"]"
      ],
      "id": "dress-rehabilitation",
      "execution_count": 6,
      "outputs": [
        {
          "output_type": "execute_result",
          "data": {
            "text/plain": [
              "Embraer              Brasil\n",
              "Microsoft    Estados Unidos\n",
              "Tencent               China\n",
              "Aranco       Arábia Saudita\n",
              "Renault              França\n",
              "Name: País, dtype: object"
            ]
          },
          "metadata": {},
          "execution_count": 6
        }
      ]
    },
    {
      "cell_type": "markdown",
      "metadata": {
        "id": "brave-configuration"
      },
      "source": [
        "### reindex()\n",
        "#### Reindexa as linhas ou as colunas."
      ],
      "id": "brave-configuration"
    },
    {
      "cell_type": "code",
      "metadata": {
        "scrolled": true,
        "colab": {
          "base_uri": "https://localhost:8080/",
          "height": 0
        },
        "id": "structured-blowing",
        "outputId": "3c49c7dd-ece9-42ff-a4ba-33463dbb27ae"
      },
      "source": [
        "novo_indice = df2.index.append(pd.Index(['Receita'])) # = df2.index.insert(3, 'Receita')\n",
        "df3 = df2.reindex(novo_indice, fill_value='Em Estudo') # fill_value preenche os valores não disponíveis.\n",
        "df3"
      ],
      "id": "structured-blowing",
      "execution_count": 7,
      "outputs": [
        {
          "output_type": "execute_result",
          "data": {
            "text/html": [
              "<div>\n",
              "<style scoped>\n",
              "    .dataframe tbody tr th:only-of-type {\n",
              "        vertical-align: middle;\n",
              "    }\n",
              "\n",
              "    .dataframe tbody tr th {\n",
              "        vertical-align: top;\n",
              "    }\n",
              "\n",
              "    .dataframe thead th {\n",
              "        text-align: right;\n",
              "    }\n",
              "</style>\n",
              "<table border=\"1\" class=\"dataframe\">\n",
              "  <thead>\n",
              "    <tr style=\"text-align: right;\">\n",
              "      <th></th>\n",
              "      <th>Embraer</th>\n",
              "      <th>Microsoft</th>\n",
              "      <th>Tencent</th>\n",
              "      <th>Aranco</th>\n",
              "      <th>Renault</th>\n",
              "    </tr>\n",
              "  </thead>\n",
              "  <tbody>\n",
              "    <tr>\n",
              "      <th>País</th>\n",
              "      <td>Brasil</td>\n",
              "      <td>Estados Unidos</td>\n",
              "      <td>China</td>\n",
              "      <td>Arábia Saudita</td>\n",
              "      <td>França</td>\n",
              "    </tr>\n",
              "    <tr>\n",
              "      <th>Setor</th>\n",
              "      <td>Aeronáutico</td>\n",
              "      <td>Software/Hardware</td>\n",
              "      <td>Software</td>\n",
              "      <td>Petróleo e Gás</td>\n",
              "      <td>Automotivo</td>\n",
              "    </tr>\n",
              "    <tr>\n",
              "      <th>Capital</th>\n",
              "      <td>Aberto</td>\n",
              "      <td>Aberto</td>\n",
              "      <td>Fechado</td>\n",
              "      <td>Fechado</td>\n",
              "      <td>Aberto</td>\n",
              "    </tr>\n",
              "    <tr>\n",
              "      <th>Receita</th>\n",
              "      <td>Em Estudo</td>\n",
              "      <td>Em Estudo</td>\n",
              "      <td>Em Estudo</td>\n",
              "      <td>Em Estudo</td>\n",
              "      <td>Em Estudo</td>\n",
              "    </tr>\n",
              "  </tbody>\n",
              "</table>\n",
              "</div>"
            ],
            "text/plain": [
              "             Embraer          Microsoft    Tencent          Aranco     Renault\n",
              "País          Brasil     Estados Unidos      China  Arábia Saudita      França\n",
              "Setor    Aeronáutico  Software/Hardware   Software  Petróleo e Gás  Automotivo\n",
              "Capital       Aberto             Aberto    Fechado         Fechado      Aberto\n",
              "Receita    Em Estudo          Em Estudo  Em Estudo       Em Estudo   Em Estudo"
            ]
          },
          "metadata": {},
          "execution_count": 7
        }
      ]
    },
    {
      "cell_type": "markdown",
      "metadata": {
        "id": "random-regression"
      },
      "source": [
        "### iat[] e at[]\n",
        "#### Indexa um elemento único por índice númerico e literal, respectivamente."
      ],
      "id": "random-regression"
    },
    {
      "cell_type": "code",
      "metadata": {
        "colab": {
          "base_uri": "https://localhost:8080/",
          "height": 0
        },
        "id": "compliant-johns",
        "outputId": "70655f18-2402-47f6-af4c-e0ab4e3633fa"
      },
      "source": [
        "df4 = pd.DataFrame(np.arange(1, 17).reshape(4,4), \n",
        "                   index=['Honda', 'Yamaha', 'Suzuki', 'Kawasaki'], \n",
        "                   columns=['Receita', 'Vendas', 'Ação (R$)', 'Lançamentos'])\n",
        "df4"
      ],
      "id": "compliant-johns",
      "execution_count": 8,
      "outputs": [
        {
          "output_type": "execute_result",
          "data": {
            "text/html": [
              "<div>\n",
              "<style scoped>\n",
              "    .dataframe tbody tr th:only-of-type {\n",
              "        vertical-align: middle;\n",
              "    }\n",
              "\n",
              "    .dataframe tbody tr th {\n",
              "        vertical-align: top;\n",
              "    }\n",
              "\n",
              "    .dataframe thead th {\n",
              "        text-align: right;\n",
              "    }\n",
              "</style>\n",
              "<table border=\"1\" class=\"dataframe\">\n",
              "  <thead>\n",
              "    <tr style=\"text-align: right;\">\n",
              "      <th></th>\n",
              "      <th>Receita</th>\n",
              "      <th>Vendas</th>\n",
              "      <th>Ação (R$)</th>\n",
              "      <th>Lançamentos</th>\n",
              "    </tr>\n",
              "  </thead>\n",
              "  <tbody>\n",
              "    <tr>\n",
              "      <th>Honda</th>\n",
              "      <td>1</td>\n",
              "      <td>2</td>\n",
              "      <td>3</td>\n",
              "      <td>4</td>\n",
              "    </tr>\n",
              "    <tr>\n",
              "      <th>Yamaha</th>\n",
              "      <td>5</td>\n",
              "      <td>6</td>\n",
              "      <td>7</td>\n",
              "      <td>8</td>\n",
              "    </tr>\n",
              "    <tr>\n",
              "      <th>Suzuki</th>\n",
              "      <td>9</td>\n",
              "      <td>10</td>\n",
              "      <td>11</td>\n",
              "      <td>12</td>\n",
              "    </tr>\n",
              "    <tr>\n",
              "      <th>Kawasaki</th>\n",
              "      <td>13</td>\n",
              "      <td>14</td>\n",
              "      <td>15</td>\n",
              "      <td>16</td>\n",
              "    </tr>\n",
              "  </tbody>\n",
              "</table>\n",
              "</div>"
            ],
            "text/plain": [
              "          Receita  Vendas  Ação (R$)  Lançamentos\n",
              "Honda           1       2          3            4\n",
              "Yamaha          5       6          7            8\n",
              "Suzuki          9      10         11           12\n",
              "Kawasaki       13      14         15           16"
            ]
          },
          "metadata": {},
          "execution_count": 8
        }
      ]
    },
    {
      "cell_type": "code",
      "metadata": {
        "scrolled": true,
        "colab": {
          "base_uri": "https://localhost:8080/"
        },
        "id": "narrative-madness",
        "outputId": "71c01b0b-4af0-468c-f563-63f17a972c22"
      },
      "source": [
        "df4.iat[1, 2] # = df4.at['Yamaha', 'Ação']"
      ],
      "id": "narrative-madness",
      "execution_count": 9,
      "outputs": [
        {
          "output_type": "execute_result",
          "data": {
            "text/plain": [
              "7"
            ]
          },
          "metadata": {},
          "execution_count": 9
        }
      ]
    },
    {
      "cell_type": "markdown",
      "metadata": {
        "id": "worth-encoding"
      },
      "source": [
        "### idxmax()\n",
        "#### Índice que aparece o maior elemento de cada coluna."
      ],
      "id": "worth-encoding"
    },
    {
      "cell_type": "code",
      "metadata": {
        "scrolled": true,
        "colab": {
          "base_uri": "https://localhost:8080/",
          "height": 0
        },
        "id": "later-advance",
        "outputId": "ef93ed14-f529-4838-ac42-ede58fa6359f"
      },
      "source": [
        "df5 = pd.DataFrame(np.random.randint(100, size=30).reshape(6, 5), \n",
        "                   index=list('akbieo'), \n",
        "                   columns=['três', 'um', 'cinco', 'dois', 'quatro'])\n",
        "df5"
      ],
      "id": "later-advance",
      "execution_count": 10,
      "outputs": [
        {
          "output_type": "execute_result",
          "data": {
            "text/html": [
              "<div>\n",
              "<style scoped>\n",
              "    .dataframe tbody tr th:only-of-type {\n",
              "        vertical-align: middle;\n",
              "    }\n",
              "\n",
              "    .dataframe tbody tr th {\n",
              "        vertical-align: top;\n",
              "    }\n",
              "\n",
              "    .dataframe thead th {\n",
              "        text-align: right;\n",
              "    }\n",
              "</style>\n",
              "<table border=\"1\" class=\"dataframe\">\n",
              "  <thead>\n",
              "    <tr style=\"text-align: right;\">\n",
              "      <th></th>\n",
              "      <th>três</th>\n",
              "      <th>um</th>\n",
              "      <th>cinco</th>\n",
              "      <th>dois</th>\n",
              "      <th>quatro</th>\n",
              "    </tr>\n",
              "  </thead>\n",
              "  <tbody>\n",
              "    <tr>\n",
              "      <th>a</th>\n",
              "      <td>48</td>\n",
              "      <td>18</td>\n",
              "      <td>28</td>\n",
              "      <td>90</td>\n",
              "      <td>20</td>\n",
              "    </tr>\n",
              "    <tr>\n",
              "      <th>k</th>\n",
              "      <td>16</td>\n",
              "      <td>82</td>\n",
              "      <td>76</td>\n",
              "      <td>95</td>\n",
              "      <td>74</td>\n",
              "    </tr>\n",
              "    <tr>\n",
              "      <th>b</th>\n",
              "      <td>47</td>\n",
              "      <td>54</td>\n",
              "      <td>92</td>\n",
              "      <td>19</td>\n",
              "      <td>40</td>\n",
              "    </tr>\n",
              "    <tr>\n",
              "      <th>i</th>\n",
              "      <td>18</td>\n",
              "      <td>46</td>\n",
              "      <td>99</td>\n",
              "      <td>36</td>\n",
              "      <td>39</td>\n",
              "    </tr>\n",
              "    <tr>\n",
              "      <th>e</th>\n",
              "      <td>79</td>\n",
              "      <td>39</td>\n",
              "      <td>97</td>\n",
              "      <td>84</td>\n",
              "      <td>23</td>\n",
              "    </tr>\n",
              "    <tr>\n",
              "      <th>o</th>\n",
              "      <td>44</td>\n",
              "      <td>47</td>\n",
              "      <td>92</td>\n",
              "      <td>0</td>\n",
              "      <td>30</td>\n",
              "    </tr>\n",
              "  </tbody>\n",
              "</table>\n",
              "</div>"
            ],
            "text/plain": [
              "   três  um  cinco  dois  quatro\n",
              "a    48  18     28    90      20\n",
              "k    16  82     76    95      74\n",
              "b    47  54     92    19      40\n",
              "i    18  46     99    36      39\n",
              "e    79  39     97    84      23\n",
              "o    44  47     92     0      30"
            ]
          },
          "metadata": {},
          "execution_count": 10
        }
      ]
    },
    {
      "cell_type": "code",
      "metadata": {
        "scrolled": true,
        "colab": {
          "base_uri": "https://localhost:8080/"
        },
        "id": "delayed-display",
        "outputId": "3a4a3360-08b5-4e83-f2c2-508c002124a1"
      },
      "source": [
        "df5.idxmax()"
      ],
      "id": "delayed-display",
      "execution_count": 11,
      "outputs": [
        {
          "output_type": "execute_result",
          "data": {
            "text/plain": [
              "três      e\n",
              "um        k\n",
              "cinco     i\n",
              "dois      k\n",
              "quatro    k\n",
              "dtype: object"
            ]
          },
          "metadata": {},
          "execution_count": 11
        }
      ]
    },
    {
      "cell_type": "markdown",
      "metadata": {
        "id": "educational-glasgow"
      },
      "source": [
        "### Indexação hierárquica\n",
        "#### Indíces hierarquizados são aqueles que também apresentam índices."
      ],
      "id": "educational-glasgow"
    },
    {
      "cell_type": "code",
      "metadata": {
        "colab": {
          "base_uri": "https://localhost:8080/"
        },
        "id": "rural-tomato",
        "outputId": "238ac478-d962-4a60-fd21-ef008c2d0c53"
      },
      "source": [
        "# Criando uma Series com índices hierarquizados.\n",
        "s1 = pd.Series([True] * 4 + [False] * 3, index=[['a', 'a', 'a', 'b', 'b', 'c', 'c'], [1, 2, 3, 1, 2, 1, 3]])\n",
        "s1.index"
      ],
      "id": "rural-tomato",
      "execution_count": 12,
      "outputs": [
        {
          "output_type": "execute_result",
          "data": {
            "text/plain": [
              "MultiIndex([('a', 1),\n",
              "            ('a', 2),\n",
              "            ('a', 3),\n",
              "            ('b', 1),\n",
              "            ('b', 2),\n",
              "            ('c', 1),\n",
              "            ('c', 3)],\n",
              "           )"
            ]
          },
          "metadata": {},
          "execution_count": 12
        }
      ]
    },
    {
      "cell_type": "markdown",
      "metadata": {
        "id": "republican-citizenship"
      },
      "source": [
        "### unstack() e stack()\n",
        "#### Por padrão o método unstack() desempilha os índice mais internos em uma coluna, embora possamos escolher um índice específico pelo nome. A função stack() faz o contrário, ela empilha as colunas mais internas nos índices, e por padrão tem dropna = True."
      ],
      "id": "republican-citizenship"
    },
    {
      "cell_type": "code",
      "metadata": {
        "colab": {
          "base_uri": "https://localhost:8080/",
          "height": 0
        },
        "id": "bright-supplier",
        "outputId": "ec093078-9672-4f71-c9b6-21b8e336a664"
      },
      "source": [
        "s1.unstack()"
      ],
      "id": "bright-supplier",
      "execution_count": 13,
      "outputs": [
        {
          "output_type": "execute_result",
          "data": {
            "text/html": [
              "<div>\n",
              "<style scoped>\n",
              "    .dataframe tbody tr th:only-of-type {\n",
              "        vertical-align: middle;\n",
              "    }\n",
              "\n",
              "    .dataframe tbody tr th {\n",
              "        vertical-align: top;\n",
              "    }\n",
              "\n",
              "    .dataframe thead th {\n",
              "        text-align: right;\n",
              "    }\n",
              "</style>\n",
              "<table border=\"1\" class=\"dataframe\">\n",
              "  <thead>\n",
              "    <tr style=\"text-align: right;\">\n",
              "      <th></th>\n",
              "      <th>1</th>\n",
              "      <th>2</th>\n",
              "      <th>3</th>\n",
              "    </tr>\n",
              "  </thead>\n",
              "  <tbody>\n",
              "    <tr>\n",
              "      <th>a</th>\n",
              "      <td>True</td>\n",
              "      <td>True</td>\n",
              "      <td>True</td>\n",
              "    </tr>\n",
              "    <tr>\n",
              "      <th>b</th>\n",
              "      <td>True</td>\n",
              "      <td>False</td>\n",
              "      <td>NaN</td>\n",
              "    </tr>\n",
              "    <tr>\n",
              "      <th>c</th>\n",
              "      <td>False</td>\n",
              "      <td>NaN</td>\n",
              "      <td>False</td>\n",
              "    </tr>\n",
              "  </tbody>\n",
              "</table>\n",
              "</div>"
            ],
            "text/plain": [
              "       1      2      3\n",
              "a   True   True   True\n",
              "b   True  False    NaN\n",
              "c  False    NaN  False"
            ]
          },
          "metadata": {},
          "execution_count": 13
        }
      ]
    },
    {
      "cell_type": "code",
      "metadata": {
        "colab": {
          "base_uri": "https://localhost:8080/",
          "height": 0
        },
        "id": "technological-given",
        "outputId": "58232c32-47c8-4f6f-ba71-d96e32e82fc8"
      },
      "source": [
        "df6 = pd.DataFrame([['Azul', 2001, 125], \n",
        "                     ['Preto', 2015, 160], \n",
        "                     ['Branco', 2017, 250], \n",
        "                     ['Prata', 2016, 150], \n",
        "                     ['Branco', 2020, 600], \n",
        "                     ['Vermelho', 2012, 600], \n",
        "                     ['Preto', 2021, 250]], \n",
        "                    columns=['Cor', 'Ano', 'Cilindrada'], \n",
        "                    index = pd.MultiIndex.from_frame(pd.DataFrame([('Honda', 'Biz'), ('Honda', 'Titan'), \n",
        "                                           ('Honda', 'Twister'), ('Honda', 'PCX'), \n",
        "                                           ('Honda', 'Hornet'), ('Yamaha', 'XJ6'), ('Yamaha', 'Fazer')], \n",
        "                                                     columns=['Marca', 'Modelo'])))\n",
        "df6"
      ],
      "id": "technological-given",
      "execution_count": 14,
      "outputs": [
        {
          "output_type": "execute_result",
          "data": {
            "text/html": [
              "<div>\n",
              "<style scoped>\n",
              "    .dataframe tbody tr th:only-of-type {\n",
              "        vertical-align: middle;\n",
              "    }\n",
              "\n",
              "    .dataframe tbody tr th {\n",
              "        vertical-align: top;\n",
              "    }\n",
              "\n",
              "    .dataframe thead th {\n",
              "        text-align: right;\n",
              "    }\n",
              "</style>\n",
              "<table border=\"1\" class=\"dataframe\">\n",
              "  <thead>\n",
              "    <tr style=\"text-align: right;\">\n",
              "      <th></th>\n",
              "      <th></th>\n",
              "      <th>Cor</th>\n",
              "      <th>Ano</th>\n",
              "      <th>Cilindrada</th>\n",
              "    </tr>\n",
              "    <tr>\n",
              "      <th>Marca</th>\n",
              "      <th>Modelo</th>\n",
              "      <th></th>\n",
              "      <th></th>\n",
              "      <th></th>\n",
              "    </tr>\n",
              "  </thead>\n",
              "  <tbody>\n",
              "    <tr>\n",
              "      <th rowspan=\"5\" valign=\"top\">Honda</th>\n",
              "      <th>Biz</th>\n",
              "      <td>Azul</td>\n",
              "      <td>2001</td>\n",
              "      <td>125</td>\n",
              "    </tr>\n",
              "    <tr>\n",
              "      <th>Titan</th>\n",
              "      <td>Preto</td>\n",
              "      <td>2015</td>\n",
              "      <td>160</td>\n",
              "    </tr>\n",
              "    <tr>\n",
              "      <th>Twister</th>\n",
              "      <td>Branco</td>\n",
              "      <td>2017</td>\n",
              "      <td>250</td>\n",
              "    </tr>\n",
              "    <tr>\n",
              "      <th>PCX</th>\n",
              "      <td>Prata</td>\n",
              "      <td>2016</td>\n",
              "      <td>150</td>\n",
              "    </tr>\n",
              "    <tr>\n",
              "      <th>Hornet</th>\n",
              "      <td>Branco</td>\n",
              "      <td>2020</td>\n",
              "      <td>600</td>\n",
              "    </tr>\n",
              "    <tr>\n",
              "      <th rowspan=\"2\" valign=\"top\">Yamaha</th>\n",
              "      <th>XJ6</th>\n",
              "      <td>Vermelho</td>\n",
              "      <td>2012</td>\n",
              "      <td>600</td>\n",
              "    </tr>\n",
              "    <tr>\n",
              "      <th>Fazer</th>\n",
              "      <td>Preto</td>\n",
              "      <td>2021</td>\n",
              "      <td>250</td>\n",
              "    </tr>\n",
              "  </tbody>\n",
              "</table>\n",
              "</div>"
            ],
            "text/plain": [
              "                     Cor   Ano  Cilindrada\n",
              "Marca  Modelo                             \n",
              "Honda  Biz          Azul  2001         125\n",
              "       Titan       Preto  2015         160\n",
              "       Twister    Branco  2017         250\n",
              "       PCX         Prata  2016         150\n",
              "       Hornet     Branco  2020         600\n",
              "Yamaha XJ6      Vermelho  2012         600\n",
              "       Fazer       Preto  2021         250"
            ]
          },
          "metadata": {},
          "execution_count": 14
        }
      ]
    },
    {
      "cell_type": "code",
      "metadata": {
        "scrolled": true,
        "colab": {
          "base_uri": "https://localhost:8080/"
        },
        "id": "second-regard",
        "outputId": "ea140e62-b3fe-4bec-f8c7-a1c1b17e5cfd"
      },
      "source": [
        "df6.stack()"
      ],
      "id": "second-regard",
      "execution_count": 15,
      "outputs": [
        {
          "output_type": "execute_result",
          "data": {
            "text/plain": [
              "Marca   Modelo             \n",
              "Honda   Biz      Cor               Azul\n",
              "                 Ano               2001\n",
              "                 Cilindrada         125\n",
              "        Titan    Cor              Preto\n",
              "                 Ano               2015\n",
              "                 Cilindrada         160\n",
              "        Twister  Cor             Branco\n",
              "                 Ano               2017\n",
              "                 Cilindrada         250\n",
              "        PCX      Cor              Prata\n",
              "                 Ano               2016\n",
              "                 Cilindrada         150\n",
              "        Hornet   Cor             Branco\n",
              "                 Ano               2020\n",
              "                 Cilindrada         600\n",
              "Yamaha  XJ6      Cor           Vermelho\n",
              "                 Ano               2012\n",
              "                 Cilindrada         600\n",
              "        Fazer    Cor              Preto\n",
              "                 Ano               2021\n",
              "                 Cilindrada         250\n",
              "dtype: object"
            ]
          },
          "metadata": {},
          "execution_count": 15
        }
      ]
    },
    {
      "cell_type": "code",
      "metadata": {
        "scrolled": true,
        "colab": {
          "base_uri": "https://localhost:8080/",
          "height": 0
        },
        "id": "informational-artwork",
        "outputId": "3e6cefa8-f291-471a-ee25-cbd11ef18c99"
      },
      "source": [
        "df6 = df6.stack().unstack('Marca').fillna('-')\n",
        "df6.index.names = ['Modelo', 'Características']\n",
        "df6"
      ],
      "id": "informational-artwork",
      "execution_count": 16,
      "outputs": [
        {
          "output_type": "execute_result",
          "data": {
            "text/html": [
              "<div>\n",
              "<style scoped>\n",
              "    .dataframe tbody tr th:only-of-type {\n",
              "        vertical-align: middle;\n",
              "    }\n",
              "\n",
              "    .dataframe tbody tr th {\n",
              "        vertical-align: top;\n",
              "    }\n",
              "\n",
              "    .dataframe thead th {\n",
              "        text-align: right;\n",
              "    }\n",
              "</style>\n",
              "<table border=\"1\" class=\"dataframe\">\n",
              "  <thead>\n",
              "    <tr style=\"text-align: right;\">\n",
              "      <th></th>\n",
              "      <th>Marca</th>\n",
              "      <th>Honda</th>\n",
              "      <th>Yamaha</th>\n",
              "    </tr>\n",
              "    <tr>\n",
              "      <th>Modelo</th>\n",
              "      <th>Características</th>\n",
              "      <th></th>\n",
              "      <th></th>\n",
              "    </tr>\n",
              "  </thead>\n",
              "  <tbody>\n",
              "    <tr>\n",
              "      <th rowspan=\"3\" valign=\"top\">Biz</th>\n",
              "      <th>Cor</th>\n",
              "      <td>Azul</td>\n",
              "      <td>-</td>\n",
              "    </tr>\n",
              "    <tr>\n",
              "      <th>Ano</th>\n",
              "      <td>2001</td>\n",
              "      <td>-</td>\n",
              "    </tr>\n",
              "    <tr>\n",
              "      <th>Cilindrada</th>\n",
              "      <td>125</td>\n",
              "      <td>-</td>\n",
              "    </tr>\n",
              "    <tr>\n",
              "      <th rowspan=\"3\" valign=\"top\">Fazer</th>\n",
              "      <th>Cor</th>\n",
              "      <td>-</td>\n",
              "      <td>Preto</td>\n",
              "    </tr>\n",
              "    <tr>\n",
              "      <th>Ano</th>\n",
              "      <td>-</td>\n",
              "      <td>2021</td>\n",
              "    </tr>\n",
              "    <tr>\n",
              "      <th>Cilindrada</th>\n",
              "      <td>-</td>\n",
              "      <td>250</td>\n",
              "    </tr>\n",
              "    <tr>\n",
              "      <th rowspan=\"3\" valign=\"top\">Hornet</th>\n",
              "      <th>Cor</th>\n",
              "      <td>Branco</td>\n",
              "      <td>-</td>\n",
              "    </tr>\n",
              "    <tr>\n",
              "      <th>Ano</th>\n",
              "      <td>2020</td>\n",
              "      <td>-</td>\n",
              "    </tr>\n",
              "    <tr>\n",
              "      <th>Cilindrada</th>\n",
              "      <td>600</td>\n",
              "      <td>-</td>\n",
              "    </tr>\n",
              "    <tr>\n",
              "      <th rowspan=\"3\" valign=\"top\">PCX</th>\n",
              "      <th>Cor</th>\n",
              "      <td>Prata</td>\n",
              "      <td>-</td>\n",
              "    </tr>\n",
              "    <tr>\n",
              "      <th>Ano</th>\n",
              "      <td>2016</td>\n",
              "      <td>-</td>\n",
              "    </tr>\n",
              "    <tr>\n",
              "      <th>Cilindrada</th>\n",
              "      <td>150</td>\n",
              "      <td>-</td>\n",
              "    </tr>\n",
              "    <tr>\n",
              "      <th rowspan=\"3\" valign=\"top\">Titan</th>\n",
              "      <th>Cor</th>\n",
              "      <td>Preto</td>\n",
              "      <td>-</td>\n",
              "    </tr>\n",
              "    <tr>\n",
              "      <th>Ano</th>\n",
              "      <td>2015</td>\n",
              "      <td>-</td>\n",
              "    </tr>\n",
              "    <tr>\n",
              "      <th>Cilindrada</th>\n",
              "      <td>160</td>\n",
              "      <td>-</td>\n",
              "    </tr>\n",
              "    <tr>\n",
              "      <th rowspan=\"3\" valign=\"top\">Twister</th>\n",
              "      <th>Cor</th>\n",
              "      <td>Branco</td>\n",
              "      <td>-</td>\n",
              "    </tr>\n",
              "    <tr>\n",
              "      <th>Ano</th>\n",
              "      <td>2017</td>\n",
              "      <td>-</td>\n",
              "    </tr>\n",
              "    <tr>\n",
              "      <th>Cilindrada</th>\n",
              "      <td>250</td>\n",
              "      <td>-</td>\n",
              "    </tr>\n",
              "    <tr>\n",
              "      <th rowspan=\"3\" valign=\"top\">XJ6</th>\n",
              "      <th>Cor</th>\n",
              "      <td>-</td>\n",
              "      <td>Vermelho</td>\n",
              "    </tr>\n",
              "    <tr>\n",
              "      <th>Ano</th>\n",
              "      <td>-</td>\n",
              "      <td>2012</td>\n",
              "    </tr>\n",
              "    <tr>\n",
              "      <th>Cilindrada</th>\n",
              "      <td>-</td>\n",
              "      <td>600</td>\n",
              "    </tr>\n",
              "  </tbody>\n",
              "</table>\n",
              "</div>"
            ],
            "text/plain": [
              "Marca                     Honda    Yamaha\n",
              "Modelo  Características                  \n",
              "Biz     Cor                Azul         -\n",
              "        Ano                2001         -\n",
              "        Cilindrada          125         -\n",
              "Fazer   Cor                   -     Preto\n",
              "        Ano                   -      2021\n",
              "        Cilindrada            -       250\n",
              "Hornet  Cor              Branco         -\n",
              "        Ano                2020         -\n",
              "        Cilindrada          600         -\n",
              "PCX     Cor               Prata         -\n",
              "        Ano                2016         -\n",
              "        Cilindrada          150         -\n",
              "Titan   Cor               Preto         -\n",
              "        Ano                2015         -\n",
              "        Cilindrada          160         -\n",
              "Twister Cor              Branco         -\n",
              "        Ano                2017         -\n",
              "        Cilindrada          250         -\n",
              "XJ6     Cor                   -  Vermelho\n",
              "        Ano                   -      2012\n",
              "        Cilindrada            -       600"
            ]
          },
          "metadata": {},
          "execution_count": 16
        }
      ]
    },
    {
      "cell_type": "markdown",
      "metadata": {
        "id": "hungarian-supervisor"
      },
      "source": [
        "### swaplevel() e argumento level\n",
        "#### O método swaplevel() permite que troquemos a ordem dos índices ou colunas hierarquizadas, enquanto o argumento level nos permite escolher em qual índice/coluna hierarquizado queremos operar."
      ],
      "id": "hungarian-supervisor"
    },
    {
      "cell_type": "code",
      "metadata": {
        "colab": {
          "base_uri": "https://localhost:8080/",
          "height": 0
        },
        "id": "friendly-radar",
        "outputId": "6bd7a6fb-03b6-4549-e6c9-c048d892ab9e"
      },
      "source": [
        "df7 = pd.DataFrame(np.zeros(30).reshape(6, 5), \n",
        "                  index=[['Japão', 'Alemanha', 'Alemanha', 'Canadá', 'Canadá', 'Canadá'], [1, 1, 2, 1, 2, 3]], \n",
        "                  columns=[['Jogo', 'Jogo', 'Jogo', 'Filme', 'Filme'], \n",
        "                           ['Nome', 'Origem', 'Plataforma', 'Nome', 'Gênero']])\n",
        "df7.index.names = ['País', 'Unidade']\n",
        "df7.columns.names = ['Tipo de Produto', 'Informações']\n",
        "df7"
      ],
      "id": "friendly-radar",
      "execution_count": 17,
      "outputs": [
        {
          "output_type": "execute_result",
          "data": {
            "text/html": [
              "<div>\n",
              "<style scoped>\n",
              "    .dataframe tbody tr th:only-of-type {\n",
              "        vertical-align: middle;\n",
              "    }\n",
              "\n",
              "    .dataframe tbody tr th {\n",
              "        vertical-align: top;\n",
              "    }\n",
              "\n",
              "    .dataframe thead tr th {\n",
              "        text-align: left;\n",
              "    }\n",
              "\n",
              "    .dataframe thead tr:last-of-type th {\n",
              "        text-align: right;\n",
              "    }\n",
              "</style>\n",
              "<table border=\"1\" class=\"dataframe\">\n",
              "  <thead>\n",
              "    <tr>\n",
              "      <th></th>\n",
              "      <th>Tipo de Produto</th>\n",
              "      <th colspan=\"3\" halign=\"left\">Jogo</th>\n",
              "      <th colspan=\"2\" halign=\"left\">Filme</th>\n",
              "    </tr>\n",
              "    <tr>\n",
              "      <th></th>\n",
              "      <th>Informações</th>\n",
              "      <th>Nome</th>\n",
              "      <th>Origem</th>\n",
              "      <th>Plataforma</th>\n",
              "      <th>Nome</th>\n",
              "      <th>Gênero</th>\n",
              "    </tr>\n",
              "    <tr>\n",
              "      <th>País</th>\n",
              "      <th>Unidade</th>\n",
              "      <th></th>\n",
              "      <th></th>\n",
              "      <th></th>\n",
              "      <th></th>\n",
              "      <th></th>\n",
              "    </tr>\n",
              "  </thead>\n",
              "  <tbody>\n",
              "    <tr>\n",
              "      <th>Japão</th>\n",
              "      <th>1</th>\n",
              "      <td>0.0</td>\n",
              "      <td>0.0</td>\n",
              "      <td>0.0</td>\n",
              "      <td>0.0</td>\n",
              "      <td>0.0</td>\n",
              "    </tr>\n",
              "    <tr>\n",
              "      <th rowspan=\"2\" valign=\"top\">Alemanha</th>\n",
              "      <th>1</th>\n",
              "      <td>0.0</td>\n",
              "      <td>0.0</td>\n",
              "      <td>0.0</td>\n",
              "      <td>0.0</td>\n",
              "      <td>0.0</td>\n",
              "    </tr>\n",
              "    <tr>\n",
              "      <th>2</th>\n",
              "      <td>0.0</td>\n",
              "      <td>0.0</td>\n",
              "      <td>0.0</td>\n",
              "      <td>0.0</td>\n",
              "      <td>0.0</td>\n",
              "    </tr>\n",
              "    <tr>\n",
              "      <th rowspan=\"3\" valign=\"top\">Canadá</th>\n",
              "      <th>1</th>\n",
              "      <td>0.0</td>\n",
              "      <td>0.0</td>\n",
              "      <td>0.0</td>\n",
              "      <td>0.0</td>\n",
              "      <td>0.0</td>\n",
              "    </tr>\n",
              "    <tr>\n",
              "      <th>2</th>\n",
              "      <td>0.0</td>\n",
              "      <td>0.0</td>\n",
              "      <td>0.0</td>\n",
              "      <td>0.0</td>\n",
              "      <td>0.0</td>\n",
              "    </tr>\n",
              "    <tr>\n",
              "      <th>3</th>\n",
              "      <td>0.0</td>\n",
              "      <td>0.0</td>\n",
              "      <td>0.0</td>\n",
              "      <td>0.0</td>\n",
              "      <td>0.0</td>\n",
              "    </tr>\n",
              "  </tbody>\n",
              "</table>\n",
              "</div>"
            ],
            "text/plain": [
              "Tipo de Produto  Jogo                   Filme       \n",
              "Informações      Nome Origem Plataforma  Nome Gênero\n",
              "País     Unidade                                    \n",
              "Japão    1        0.0    0.0        0.0   0.0    0.0\n",
              "Alemanha 1        0.0    0.0        0.0   0.0    0.0\n",
              "         2        0.0    0.0        0.0   0.0    0.0\n",
              "Canadá   1        0.0    0.0        0.0   0.0    0.0\n",
              "         2        0.0    0.0        0.0   0.0    0.0\n",
              "         3        0.0    0.0        0.0   0.0    0.0"
            ]
          },
          "metadata": {},
          "execution_count": 17
        }
      ]
    },
    {
      "cell_type": "code",
      "metadata": {
        "colab": {
          "base_uri": "https://localhost:8080/",
          "height": 0
        },
        "id": "spanish-collaboration",
        "outputId": "1b6e6b8b-d590-40d0-d2ef-7d54a7ff04c9"
      },
      "source": [
        "df7.swaplevel(0, 1).sort_index() # Troco-se a posição dos índices 'Unidade' e 'País'."
      ],
      "id": "spanish-collaboration",
      "execution_count": 18,
      "outputs": [
        {
          "output_type": "execute_result",
          "data": {
            "text/html": [
              "<div>\n",
              "<style scoped>\n",
              "    .dataframe tbody tr th:only-of-type {\n",
              "        vertical-align: middle;\n",
              "    }\n",
              "\n",
              "    .dataframe tbody tr th {\n",
              "        vertical-align: top;\n",
              "    }\n",
              "\n",
              "    .dataframe thead tr th {\n",
              "        text-align: left;\n",
              "    }\n",
              "\n",
              "    .dataframe thead tr:last-of-type th {\n",
              "        text-align: right;\n",
              "    }\n",
              "</style>\n",
              "<table border=\"1\" class=\"dataframe\">\n",
              "  <thead>\n",
              "    <tr>\n",
              "      <th></th>\n",
              "      <th>Tipo de Produto</th>\n",
              "      <th colspan=\"3\" halign=\"left\">Jogo</th>\n",
              "      <th colspan=\"2\" halign=\"left\">Filme</th>\n",
              "    </tr>\n",
              "    <tr>\n",
              "      <th></th>\n",
              "      <th>Informações</th>\n",
              "      <th>Nome</th>\n",
              "      <th>Origem</th>\n",
              "      <th>Plataforma</th>\n",
              "      <th>Nome</th>\n",
              "      <th>Gênero</th>\n",
              "    </tr>\n",
              "    <tr>\n",
              "      <th>Unidade</th>\n",
              "      <th>País</th>\n",
              "      <th></th>\n",
              "      <th></th>\n",
              "      <th></th>\n",
              "      <th></th>\n",
              "      <th></th>\n",
              "    </tr>\n",
              "  </thead>\n",
              "  <tbody>\n",
              "    <tr>\n",
              "      <th rowspan=\"3\" valign=\"top\">1</th>\n",
              "      <th>Alemanha</th>\n",
              "      <td>0.0</td>\n",
              "      <td>0.0</td>\n",
              "      <td>0.0</td>\n",
              "      <td>0.0</td>\n",
              "      <td>0.0</td>\n",
              "    </tr>\n",
              "    <tr>\n",
              "      <th>Canadá</th>\n",
              "      <td>0.0</td>\n",
              "      <td>0.0</td>\n",
              "      <td>0.0</td>\n",
              "      <td>0.0</td>\n",
              "      <td>0.0</td>\n",
              "    </tr>\n",
              "    <tr>\n",
              "      <th>Japão</th>\n",
              "      <td>0.0</td>\n",
              "      <td>0.0</td>\n",
              "      <td>0.0</td>\n",
              "      <td>0.0</td>\n",
              "      <td>0.0</td>\n",
              "    </tr>\n",
              "    <tr>\n",
              "      <th rowspan=\"2\" valign=\"top\">2</th>\n",
              "      <th>Alemanha</th>\n",
              "      <td>0.0</td>\n",
              "      <td>0.0</td>\n",
              "      <td>0.0</td>\n",
              "      <td>0.0</td>\n",
              "      <td>0.0</td>\n",
              "    </tr>\n",
              "    <tr>\n",
              "      <th>Canadá</th>\n",
              "      <td>0.0</td>\n",
              "      <td>0.0</td>\n",
              "      <td>0.0</td>\n",
              "      <td>0.0</td>\n",
              "      <td>0.0</td>\n",
              "    </tr>\n",
              "    <tr>\n",
              "      <th>3</th>\n",
              "      <th>Canadá</th>\n",
              "      <td>0.0</td>\n",
              "      <td>0.0</td>\n",
              "      <td>0.0</td>\n",
              "      <td>0.0</td>\n",
              "      <td>0.0</td>\n",
              "    </tr>\n",
              "  </tbody>\n",
              "</table>\n",
              "</div>"
            ],
            "text/plain": [
              "Tipo de Produto  Jogo                   Filme       \n",
              "Informações      Nome Origem Plataforma  Nome Gênero\n",
              "Unidade País                                        \n",
              "1       Alemanha  0.0    0.0        0.0   0.0    0.0\n",
              "        Canadá    0.0    0.0        0.0   0.0    0.0\n",
              "        Japão     0.0    0.0        0.0   0.0    0.0\n",
              "2       Alemanha  0.0    0.0        0.0   0.0    0.0\n",
              "        Canadá    0.0    0.0        0.0   0.0    0.0\n",
              "3       Canadá    0.0    0.0        0.0   0.0    0.0"
            ]
          },
          "metadata": {},
          "execution_count": 18
        }
      ]
    },
    {
      "cell_type": "code",
      "metadata": {
        "colab": {
          "base_uri": "https://localhost:8080/",
          "height": 0
        },
        "id": "statewide-carrier",
        "outputId": "d0d37b88-5dfe-4d53-ca96-902931dd6e3f"
      },
      "source": [
        "# Ordenou-se o eixo das colunas (axis=1) no nível 1 (level=1 --> Informações).\n",
        "df7.sort_index(axis=1, level=1)"
      ],
      "id": "statewide-carrier",
      "execution_count": 19,
      "outputs": [
        {
          "output_type": "execute_result",
          "data": {
            "text/html": [
              "<div>\n",
              "<style scoped>\n",
              "    .dataframe tbody tr th:only-of-type {\n",
              "        vertical-align: middle;\n",
              "    }\n",
              "\n",
              "    .dataframe tbody tr th {\n",
              "        vertical-align: top;\n",
              "    }\n",
              "\n",
              "    .dataframe thead tr th {\n",
              "        text-align: left;\n",
              "    }\n",
              "\n",
              "    .dataframe thead tr:last-of-type th {\n",
              "        text-align: right;\n",
              "    }\n",
              "</style>\n",
              "<table border=\"1\" class=\"dataframe\">\n",
              "  <thead>\n",
              "    <tr>\n",
              "      <th></th>\n",
              "      <th>Tipo de Produto</th>\n",
              "      <th colspan=\"2\" halign=\"left\">Filme</th>\n",
              "      <th colspan=\"3\" halign=\"left\">Jogo</th>\n",
              "    </tr>\n",
              "    <tr>\n",
              "      <th></th>\n",
              "      <th>Informações</th>\n",
              "      <th>Gênero</th>\n",
              "      <th>Nome</th>\n",
              "      <th>Nome</th>\n",
              "      <th>Origem</th>\n",
              "      <th>Plataforma</th>\n",
              "    </tr>\n",
              "    <tr>\n",
              "      <th>País</th>\n",
              "      <th>Unidade</th>\n",
              "      <th></th>\n",
              "      <th></th>\n",
              "      <th></th>\n",
              "      <th></th>\n",
              "      <th></th>\n",
              "    </tr>\n",
              "  </thead>\n",
              "  <tbody>\n",
              "    <tr>\n",
              "      <th>Japão</th>\n",
              "      <th>1</th>\n",
              "      <td>0.0</td>\n",
              "      <td>0.0</td>\n",
              "      <td>0.0</td>\n",
              "      <td>0.0</td>\n",
              "      <td>0.0</td>\n",
              "    </tr>\n",
              "    <tr>\n",
              "      <th rowspan=\"2\" valign=\"top\">Alemanha</th>\n",
              "      <th>1</th>\n",
              "      <td>0.0</td>\n",
              "      <td>0.0</td>\n",
              "      <td>0.0</td>\n",
              "      <td>0.0</td>\n",
              "      <td>0.0</td>\n",
              "    </tr>\n",
              "    <tr>\n",
              "      <th>2</th>\n",
              "      <td>0.0</td>\n",
              "      <td>0.0</td>\n",
              "      <td>0.0</td>\n",
              "      <td>0.0</td>\n",
              "      <td>0.0</td>\n",
              "    </tr>\n",
              "    <tr>\n",
              "      <th rowspan=\"3\" valign=\"top\">Canadá</th>\n",
              "      <th>1</th>\n",
              "      <td>0.0</td>\n",
              "      <td>0.0</td>\n",
              "      <td>0.0</td>\n",
              "      <td>0.0</td>\n",
              "      <td>0.0</td>\n",
              "    </tr>\n",
              "    <tr>\n",
              "      <th>2</th>\n",
              "      <td>0.0</td>\n",
              "      <td>0.0</td>\n",
              "      <td>0.0</td>\n",
              "      <td>0.0</td>\n",
              "      <td>0.0</td>\n",
              "    </tr>\n",
              "    <tr>\n",
              "      <th>3</th>\n",
              "      <td>0.0</td>\n",
              "      <td>0.0</td>\n",
              "      <td>0.0</td>\n",
              "      <td>0.0</td>\n",
              "      <td>0.0</td>\n",
              "    </tr>\n",
              "  </tbody>\n",
              "</table>\n",
              "</div>"
            ],
            "text/plain": [
              "Tipo de Produto   Filme      Jogo                  \n",
              "Informações      Gênero Nome Nome Origem Plataforma\n",
              "País     Unidade                                   \n",
              "Japão    1          0.0  0.0  0.0    0.0        0.0\n",
              "Alemanha 1          0.0  0.0  0.0    0.0        0.0\n",
              "         2          0.0  0.0  0.0    0.0        0.0\n",
              "Canadá   1          0.0  0.0  0.0    0.0        0.0\n",
              "         2          0.0  0.0  0.0    0.0        0.0\n",
              "         3          0.0  0.0  0.0    0.0        0.0"
            ]
          },
          "metadata": {},
          "execution_count": 19
        }
      ]
    },
    {
      "cell_type": "markdown",
      "metadata": {
        "id": "pleasant-saver"
      },
      "source": [
        "### set_index() e reset_index()\n",
        "#### Transforma colunas em índices hierarquizados, ou vice versa, respectivamente."
      ],
      "id": "pleasant-saver"
    },
    {
      "cell_type": "code",
      "metadata": {
        "colab": {
          "base_uri": "https://localhost:8080/",
          "height": 0
        },
        "id": "measured-ridge",
        "outputId": "df5dfe96-b928-41f4-c433-469db9a6be88"
      },
      "source": [
        "df8 = pd.DataFrame({'a': range(7), 'b': range(7, 0, -1), 'c': ['um'] * 3 + ['dois'] * 4, 'd': [0, 1, 2] * 2 + [3]})\n",
        "df8"
      ],
      "id": "measured-ridge",
      "execution_count": 20,
      "outputs": [
        {
          "output_type": "execute_result",
          "data": {
            "text/html": [
              "<div>\n",
              "<style scoped>\n",
              "    .dataframe tbody tr th:only-of-type {\n",
              "        vertical-align: middle;\n",
              "    }\n",
              "\n",
              "    .dataframe tbody tr th {\n",
              "        vertical-align: top;\n",
              "    }\n",
              "\n",
              "    .dataframe thead th {\n",
              "        text-align: right;\n",
              "    }\n",
              "</style>\n",
              "<table border=\"1\" class=\"dataframe\">\n",
              "  <thead>\n",
              "    <tr style=\"text-align: right;\">\n",
              "      <th></th>\n",
              "      <th>a</th>\n",
              "      <th>b</th>\n",
              "      <th>c</th>\n",
              "      <th>d</th>\n",
              "    </tr>\n",
              "  </thead>\n",
              "  <tbody>\n",
              "    <tr>\n",
              "      <th>0</th>\n",
              "      <td>0</td>\n",
              "      <td>7</td>\n",
              "      <td>um</td>\n",
              "      <td>0</td>\n",
              "    </tr>\n",
              "    <tr>\n",
              "      <th>1</th>\n",
              "      <td>1</td>\n",
              "      <td>6</td>\n",
              "      <td>um</td>\n",
              "      <td>1</td>\n",
              "    </tr>\n",
              "    <tr>\n",
              "      <th>2</th>\n",
              "      <td>2</td>\n",
              "      <td>5</td>\n",
              "      <td>um</td>\n",
              "      <td>2</td>\n",
              "    </tr>\n",
              "    <tr>\n",
              "      <th>3</th>\n",
              "      <td>3</td>\n",
              "      <td>4</td>\n",
              "      <td>dois</td>\n",
              "      <td>0</td>\n",
              "    </tr>\n",
              "    <tr>\n",
              "      <th>4</th>\n",
              "      <td>4</td>\n",
              "      <td>3</td>\n",
              "      <td>dois</td>\n",
              "      <td>1</td>\n",
              "    </tr>\n",
              "    <tr>\n",
              "      <th>5</th>\n",
              "      <td>5</td>\n",
              "      <td>2</td>\n",
              "      <td>dois</td>\n",
              "      <td>2</td>\n",
              "    </tr>\n",
              "    <tr>\n",
              "      <th>6</th>\n",
              "      <td>6</td>\n",
              "      <td>1</td>\n",
              "      <td>dois</td>\n",
              "      <td>3</td>\n",
              "    </tr>\n",
              "  </tbody>\n",
              "</table>\n",
              "</div>"
            ],
            "text/plain": [
              "   a  b     c  d\n",
              "0  0  7    um  0\n",
              "1  1  6    um  1\n",
              "2  2  5    um  2\n",
              "3  3  4  dois  0\n",
              "4  4  3  dois  1\n",
              "5  5  2  dois  2\n",
              "6  6  1  dois  3"
            ]
          },
          "metadata": {},
          "execution_count": 20
        }
      ]
    },
    {
      "cell_type": "code",
      "metadata": {
        "colab": {
          "base_uri": "https://localhost:8080/",
          "height": 0
        },
        "id": "ecological-siemens",
        "outputId": "f87ef6e2-4dca-4b91-91e2-542cd8922d28"
      },
      "source": [
        "df8.set_index(['c', 'd'])"
      ],
      "id": "ecological-siemens",
      "execution_count": 21,
      "outputs": [
        {
          "output_type": "execute_result",
          "data": {
            "text/html": [
              "<div>\n",
              "<style scoped>\n",
              "    .dataframe tbody tr th:only-of-type {\n",
              "        vertical-align: middle;\n",
              "    }\n",
              "\n",
              "    .dataframe tbody tr th {\n",
              "        vertical-align: top;\n",
              "    }\n",
              "\n",
              "    .dataframe thead th {\n",
              "        text-align: right;\n",
              "    }\n",
              "</style>\n",
              "<table border=\"1\" class=\"dataframe\">\n",
              "  <thead>\n",
              "    <tr style=\"text-align: right;\">\n",
              "      <th></th>\n",
              "      <th></th>\n",
              "      <th>a</th>\n",
              "      <th>b</th>\n",
              "    </tr>\n",
              "    <tr>\n",
              "      <th>c</th>\n",
              "      <th>d</th>\n",
              "      <th></th>\n",
              "      <th></th>\n",
              "    </tr>\n",
              "  </thead>\n",
              "  <tbody>\n",
              "    <tr>\n",
              "      <th rowspan=\"3\" valign=\"top\">um</th>\n",
              "      <th>0</th>\n",
              "      <td>0</td>\n",
              "      <td>7</td>\n",
              "    </tr>\n",
              "    <tr>\n",
              "      <th>1</th>\n",
              "      <td>1</td>\n",
              "      <td>6</td>\n",
              "    </tr>\n",
              "    <tr>\n",
              "      <th>2</th>\n",
              "      <td>2</td>\n",
              "      <td>5</td>\n",
              "    </tr>\n",
              "    <tr>\n",
              "      <th rowspan=\"4\" valign=\"top\">dois</th>\n",
              "      <th>0</th>\n",
              "      <td>3</td>\n",
              "      <td>4</td>\n",
              "    </tr>\n",
              "    <tr>\n",
              "      <th>1</th>\n",
              "      <td>4</td>\n",
              "      <td>3</td>\n",
              "    </tr>\n",
              "    <tr>\n",
              "      <th>2</th>\n",
              "      <td>5</td>\n",
              "      <td>2</td>\n",
              "    </tr>\n",
              "    <tr>\n",
              "      <th>3</th>\n",
              "      <td>6</td>\n",
              "      <td>1</td>\n",
              "    </tr>\n",
              "  </tbody>\n",
              "</table>\n",
              "</div>"
            ],
            "text/plain": [
              "        a  b\n",
              "c    d      \n",
              "um   0  0  7\n",
              "     1  1  6\n",
              "     2  2  5\n",
              "dois 0  3  4\n",
              "     1  4  3\n",
              "     2  5  2\n",
              "     3  6  1"
            ]
          },
          "metadata": {},
          "execution_count": 21
        }
      ]
    },
    {
      "cell_type": "code",
      "metadata": {
        "colab": {
          "base_uri": "https://localhost:8080/",
          "height": 0
        },
        "id": "dimensional-leonard",
        "outputId": "48a0b739-8e46-454a-ab08-5fdf8e75b459"
      },
      "source": [
        "df8.set_index(['c', 'a'], drop=False)"
      ],
      "id": "dimensional-leonard",
      "execution_count": 22,
      "outputs": [
        {
          "output_type": "execute_result",
          "data": {
            "text/html": [
              "<div>\n",
              "<style scoped>\n",
              "    .dataframe tbody tr th:only-of-type {\n",
              "        vertical-align: middle;\n",
              "    }\n",
              "\n",
              "    .dataframe tbody tr th {\n",
              "        vertical-align: top;\n",
              "    }\n",
              "\n",
              "    .dataframe thead th {\n",
              "        text-align: right;\n",
              "    }\n",
              "</style>\n",
              "<table border=\"1\" class=\"dataframe\">\n",
              "  <thead>\n",
              "    <tr style=\"text-align: right;\">\n",
              "      <th></th>\n",
              "      <th></th>\n",
              "      <th>a</th>\n",
              "      <th>b</th>\n",
              "      <th>c</th>\n",
              "      <th>d</th>\n",
              "    </tr>\n",
              "    <tr>\n",
              "      <th>c</th>\n",
              "      <th>a</th>\n",
              "      <th></th>\n",
              "      <th></th>\n",
              "      <th></th>\n",
              "      <th></th>\n",
              "    </tr>\n",
              "  </thead>\n",
              "  <tbody>\n",
              "    <tr>\n",
              "      <th rowspan=\"3\" valign=\"top\">um</th>\n",
              "      <th>0</th>\n",
              "      <td>0</td>\n",
              "      <td>7</td>\n",
              "      <td>um</td>\n",
              "      <td>0</td>\n",
              "    </tr>\n",
              "    <tr>\n",
              "      <th>1</th>\n",
              "      <td>1</td>\n",
              "      <td>6</td>\n",
              "      <td>um</td>\n",
              "      <td>1</td>\n",
              "    </tr>\n",
              "    <tr>\n",
              "      <th>2</th>\n",
              "      <td>2</td>\n",
              "      <td>5</td>\n",
              "      <td>um</td>\n",
              "      <td>2</td>\n",
              "    </tr>\n",
              "    <tr>\n",
              "      <th rowspan=\"4\" valign=\"top\">dois</th>\n",
              "      <th>3</th>\n",
              "      <td>3</td>\n",
              "      <td>4</td>\n",
              "      <td>dois</td>\n",
              "      <td>0</td>\n",
              "    </tr>\n",
              "    <tr>\n",
              "      <th>4</th>\n",
              "      <td>4</td>\n",
              "      <td>3</td>\n",
              "      <td>dois</td>\n",
              "      <td>1</td>\n",
              "    </tr>\n",
              "    <tr>\n",
              "      <th>5</th>\n",
              "      <td>5</td>\n",
              "      <td>2</td>\n",
              "      <td>dois</td>\n",
              "      <td>2</td>\n",
              "    </tr>\n",
              "    <tr>\n",
              "      <th>6</th>\n",
              "      <td>6</td>\n",
              "      <td>1</td>\n",
              "      <td>dois</td>\n",
              "      <td>3</td>\n",
              "    </tr>\n",
              "  </tbody>\n",
              "</table>\n",
              "</div>"
            ],
            "text/plain": [
              "        a  b     c  d\n",
              "c    a               \n",
              "um   0  0  7    um  0\n",
              "     1  1  6    um  1\n",
              "     2  2  5    um  2\n",
              "dois 3  3  4  dois  0\n",
              "     4  4  3  dois  1\n",
              "     5  5  2  dois  2\n",
              "     6  6  1  dois  3"
            ]
          },
          "metadata": {},
          "execution_count": 22
        }
      ]
    },
    {
      "cell_type": "code",
      "metadata": {
        "colab": {
          "base_uri": "https://localhost:8080/",
          "height": 0
        },
        "id": "electric-metropolitan",
        "outputId": "60b98d8d-d43e-424b-968d-89a0f55fedb7"
      },
      "source": [
        "df9 = pd.DataFrame(np.random.randint(4, size=21).reshape(7, 3), \n",
        "                   index=[['S.J. do Rio Preto'] + ['Jales'] * 3 + ['Votuporanga'] * 2 + ['Araçatuba'],\n",
        "                          [1, 1, 2, 3, 1, 2, 1]], \n",
        "                   columns=[['Segunda', 'Segunda', 'Terça'], ['Carros', 'Motos', 'Carros']])\n",
        "\n",
        "df9.index.names = ['Cidade', 'Loja']\n",
        "df9"
      ],
      "id": "electric-metropolitan",
      "execution_count": 23,
      "outputs": [
        {
          "output_type": "execute_result",
          "data": {
            "text/html": [
              "<div>\n",
              "<style scoped>\n",
              "    .dataframe tbody tr th:only-of-type {\n",
              "        vertical-align: middle;\n",
              "    }\n",
              "\n",
              "    .dataframe tbody tr th {\n",
              "        vertical-align: top;\n",
              "    }\n",
              "\n",
              "    .dataframe thead tr th {\n",
              "        text-align: left;\n",
              "    }\n",
              "\n",
              "    .dataframe thead tr:last-of-type th {\n",
              "        text-align: right;\n",
              "    }\n",
              "</style>\n",
              "<table border=\"1\" class=\"dataframe\">\n",
              "  <thead>\n",
              "    <tr>\n",
              "      <th></th>\n",
              "      <th></th>\n",
              "      <th colspan=\"2\" halign=\"left\">Segunda</th>\n",
              "      <th>Terça</th>\n",
              "    </tr>\n",
              "    <tr>\n",
              "      <th></th>\n",
              "      <th></th>\n",
              "      <th>Carros</th>\n",
              "      <th>Motos</th>\n",
              "      <th>Carros</th>\n",
              "    </tr>\n",
              "    <tr>\n",
              "      <th>Cidade</th>\n",
              "      <th>Loja</th>\n",
              "      <th></th>\n",
              "      <th></th>\n",
              "      <th></th>\n",
              "    </tr>\n",
              "  </thead>\n",
              "  <tbody>\n",
              "    <tr>\n",
              "      <th>S.J. do Rio Preto</th>\n",
              "      <th>1</th>\n",
              "      <td>0</td>\n",
              "      <td>2</td>\n",
              "      <td>3</td>\n",
              "    </tr>\n",
              "    <tr>\n",
              "      <th rowspan=\"3\" valign=\"top\">Jales</th>\n",
              "      <th>1</th>\n",
              "      <td>3</td>\n",
              "      <td>1</td>\n",
              "      <td>3</td>\n",
              "    </tr>\n",
              "    <tr>\n",
              "      <th>2</th>\n",
              "      <td>2</td>\n",
              "      <td>3</td>\n",
              "      <td>0</td>\n",
              "    </tr>\n",
              "    <tr>\n",
              "      <th>3</th>\n",
              "      <td>3</td>\n",
              "      <td>1</td>\n",
              "      <td>3</td>\n",
              "    </tr>\n",
              "    <tr>\n",
              "      <th rowspan=\"2\" valign=\"top\">Votuporanga</th>\n",
              "      <th>1</th>\n",
              "      <td>2</td>\n",
              "      <td>3</td>\n",
              "      <td>2</td>\n",
              "    </tr>\n",
              "    <tr>\n",
              "      <th>2</th>\n",
              "      <td>1</td>\n",
              "      <td>1</td>\n",
              "      <td>3</td>\n",
              "    </tr>\n",
              "    <tr>\n",
              "      <th>Araçatuba</th>\n",
              "      <th>1</th>\n",
              "      <td>1</td>\n",
              "      <td>2</td>\n",
              "      <td>3</td>\n",
              "    </tr>\n",
              "  </tbody>\n",
              "</table>\n",
              "</div>"
            ],
            "text/plain": [
              "                       Segunda        Terça\n",
              "                        Carros Motos Carros\n",
              "Cidade            Loja                     \n",
              "S.J. do Rio Preto 1          0     2      3\n",
              "Jales             1          3     1      3\n",
              "                  2          2     3      0\n",
              "                  3          3     1      3\n",
              "Votuporanga       1          2     3      2\n",
              "                  2          1     1      3\n",
              "Araçatuba         1          1     2      3"
            ]
          },
          "metadata": {},
          "execution_count": 23
        }
      ]
    },
    {
      "cell_type": "code",
      "metadata": {
        "colab": {
          "base_uri": "https://localhost:8080/",
          "height": 0
        },
        "id": "naughty-console",
        "outputId": "1e8e7940-757f-411a-bd85-3c1ed572f0bc"
      },
      "source": [
        "df9.reset_index(['Loja'])"
      ],
      "id": "naughty-console",
      "execution_count": 24,
      "outputs": [
        {
          "output_type": "execute_result",
          "data": {
            "text/html": [
              "<div>\n",
              "<style scoped>\n",
              "    .dataframe tbody tr th:only-of-type {\n",
              "        vertical-align: middle;\n",
              "    }\n",
              "\n",
              "    .dataframe tbody tr th {\n",
              "        vertical-align: top;\n",
              "    }\n",
              "\n",
              "    .dataframe thead tr th {\n",
              "        text-align: left;\n",
              "    }\n",
              "\n",
              "    .dataframe thead tr:last-of-type th {\n",
              "        text-align: right;\n",
              "    }\n",
              "</style>\n",
              "<table border=\"1\" class=\"dataframe\">\n",
              "  <thead>\n",
              "    <tr>\n",
              "      <th></th>\n",
              "      <th>Loja</th>\n",
              "      <th colspan=\"2\" halign=\"left\">Segunda</th>\n",
              "      <th>Terça</th>\n",
              "    </tr>\n",
              "    <tr>\n",
              "      <th></th>\n",
              "      <th></th>\n",
              "      <th>Carros</th>\n",
              "      <th>Motos</th>\n",
              "      <th>Carros</th>\n",
              "    </tr>\n",
              "    <tr>\n",
              "      <th>Cidade</th>\n",
              "      <th></th>\n",
              "      <th></th>\n",
              "      <th></th>\n",
              "      <th></th>\n",
              "    </tr>\n",
              "  </thead>\n",
              "  <tbody>\n",
              "    <tr>\n",
              "      <th>S.J. do Rio Preto</th>\n",
              "      <td>1</td>\n",
              "      <td>0</td>\n",
              "      <td>2</td>\n",
              "      <td>3</td>\n",
              "    </tr>\n",
              "    <tr>\n",
              "      <th>Jales</th>\n",
              "      <td>1</td>\n",
              "      <td>3</td>\n",
              "      <td>1</td>\n",
              "      <td>3</td>\n",
              "    </tr>\n",
              "    <tr>\n",
              "      <th>Jales</th>\n",
              "      <td>2</td>\n",
              "      <td>2</td>\n",
              "      <td>3</td>\n",
              "      <td>0</td>\n",
              "    </tr>\n",
              "    <tr>\n",
              "      <th>Jales</th>\n",
              "      <td>3</td>\n",
              "      <td>3</td>\n",
              "      <td>1</td>\n",
              "      <td>3</td>\n",
              "    </tr>\n",
              "    <tr>\n",
              "      <th>Votuporanga</th>\n",
              "      <td>1</td>\n",
              "      <td>2</td>\n",
              "      <td>3</td>\n",
              "      <td>2</td>\n",
              "    </tr>\n",
              "    <tr>\n",
              "      <th>Votuporanga</th>\n",
              "      <td>2</td>\n",
              "      <td>1</td>\n",
              "      <td>1</td>\n",
              "      <td>3</td>\n",
              "    </tr>\n",
              "    <tr>\n",
              "      <th>Araçatuba</th>\n",
              "      <td>1</td>\n",
              "      <td>1</td>\n",
              "      <td>2</td>\n",
              "      <td>3</td>\n",
              "    </tr>\n",
              "  </tbody>\n",
              "</table>\n",
              "</div>"
            ],
            "text/plain": [
              "                  Loja Segunda        Terça\n",
              "                        Carros Motos Carros\n",
              "Cidade                                     \n",
              "S.J. do Rio Preto    1       0     2      3\n",
              "Jales                1       3     1      3\n",
              "Jales                2       2     3      0\n",
              "Jales                3       3     1      3\n",
              "Votuporanga          1       2     3      2\n",
              "Votuporanga          2       1     1      3\n",
              "Araçatuba            1       1     2      3"
            ]
          },
          "metadata": {},
          "execution_count": 24
        }
      ]
    },
    {
      "cell_type": "markdown",
      "metadata": {
        "id": "working-exploration"
      },
      "source": [
        "-------------------------------------------------------------------------------------------------------"
      ],
      "id": "working-exploration"
    },
    {
      "cell_type": "markdown",
      "metadata": {
        "id": "signal-competition"
      },
      "source": [
        "## Valores nulos e Exclusão"
      ],
      "id": "signal-competition"
    },
    {
      "cell_type": "markdown",
      "metadata": {
        "id": "straight-console"
      },
      "source": [
        "### drop()\n",
        "#### Exclui linhas e colunas."
      ],
      "id": "straight-console"
    },
    {
      "cell_type": "code",
      "metadata": {
        "scrolled": true,
        "colab": {
          "base_uri": "https://localhost:8080/",
          "height": 0
        },
        "id": "circular-moderator",
        "outputId": "55867c9d-a631-477f-d399-cc221b3ce1ee"
      },
      "source": [
        "# Excluindo a linha Receita, e em seguinda excluindo as colunas Microsoft e Renault.\n",
        "df10 = df3.drop(['Receita']).drop(['Microsoft', 'Renault'], axis='columns')\n",
        "df10"
      ],
      "id": "circular-moderator",
      "execution_count": 25,
      "outputs": [
        {
          "output_type": "execute_result",
          "data": {
            "text/html": [
              "<div>\n",
              "<style scoped>\n",
              "    .dataframe tbody tr th:only-of-type {\n",
              "        vertical-align: middle;\n",
              "    }\n",
              "\n",
              "    .dataframe tbody tr th {\n",
              "        vertical-align: top;\n",
              "    }\n",
              "\n",
              "    .dataframe thead th {\n",
              "        text-align: right;\n",
              "    }\n",
              "</style>\n",
              "<table border=\"1\" class=\"dataframe\">\n",
              "  <thead>\n",
              "    <tr style=\"text-align: right;\">\n",
              "      <th></th>\n",
              "      <th>Embraer</th>\n",
              "      <th>Tencent</th>\n",
              "      <th>Aranco</th>\n",
              "    </tr>\n",
              "  </thead>\n",
              "  <tbody>\n",
              "    <tr>\n",
              "      <th>País</th>\n",
              "      <td>Brasil</td>\n",
              "      <td>China</td>\n",
              "      <td>Arábia Saudita</td>\n",
              "    </tr>\n",
              "    <tr>\n",
              "      <th>Setor</th>\n",
              "      <td>Aeronáutico</td>\n",
              "      <td>Software</td>\n",
              "      <td>Petróleo e Gás</td>\n",
              "    </tr>\n",
              "    <tr>\n",
              "      <th>Capital</th>\n",
              "      <td>Aberto</td>\n",
              "      <td>Fechado</td>\n",
              "      <td>Fechado</td>\n",
              "    </tr>\n",
              "  </tbody>\n",
              "</table>\n",
              "</div>"
            ],
            "text/plain": [
              "             Embraer   Tencent          Aranco\n",
              "País          Brasil     China  Arábia Saudita\n",
              "Setor    Aeronáutico  Software  Petróleo e Gás\n",
              "Capital       Aberto   Fechado         Fechado"
            ]
          },
          "metadata": {},
          "execution_count": 25
        }
      ]
    },
    {
      "cell_type": "markdown",
      "metadata": {
        "id": "academic-barrier"
      },
      "source": [
        "### fillna(n)\n",
        "#### Preenche os valores não disponíveis por n, sendo n um valor escalar ou um dicionário com chaves iguais os índices das linhas e os valores iguais às novas informações."
      ],
      "id": "academic-barrier"
    },
    {
      "cell_type": "code",
      "metadata": {
        "colab": {
          "base_uri": "https://localhost:8080/",
          "height": 0
        },
        "id": "statistical-building",
        "outputId": "dca5f50a-52c6-4c71-9738-dfd9f2aeafa3"
      },
      "source": [
        "df11 = pd.DataFrame(np.random.randn(24).reshape(4, 6), columns=list('abcdef'))\n",
        "df11.at[1, 'c'] = np.nan\n",
        "df11"
      ],
      "id": "statistical-building",
      "execution_count": 26,
      "outputs": [
        {
          "output_type": "execute_result",
          "data": {
            "text/html": [
              "<div>\n",
              "<style scoped>\n",
              "    .dataframe tbody tr th:only-of-type {\n",
              "        vertical-align: middle;\n",
              "    }\n",
              "\n",
              "    .dataframe tbody tr th {\n",
              "        vertical-align: top;\n",
              "    }\n",
              "\n",
              "    .dataframe thead th {\n",
              "        text-align: right;\n",
              "    }\n",
              "</style>\n",
              "<table border=\"1\" class=\"dataframe\">\n",
              "  <thead>\n",
              "    <tr style=\"text-align: right;\">\n",
              "      <th></th>\n",
              "      <th>a</th>\n",
              "      <th>b</th>\n",
              "      <th>c</th>\n",
              "      <th>d</th>\n",
              "      <th>e</th>\n",
              "      <th>f</th>\n",
              "    </tr>\n",
              "  </thead>\n",
              "  <tbody>\n",
              "    <tr>\n",
              "      <th>0</th>\n",
              "      <td>-1.014281</td>\n",
              "      <td>-1.006307</td>\n",
              "      <td>0.160368</td>\n",
              "      <td>1.672180</td>\n",
              "      <td>-0.018931</td>\n",
              "      <td>1.189073</td>\n",
              "    </tr>\n",
              "    <tr>\n",
              "      <th>1</th>\n",
              "      <td>-1.387513</td>\n",
              "      <td>1.111509</td>\n",
              "      <td>NaN</td>\n",
              "      <td>1.151613</td>\n",
              "      <td>-0.542740</td>\n",
              "      <td>0.146082</td>\n",
              "    </tr>\n",
              "    <tr>\n",
              "      <th>2</th>\n",
              "      <td>1.818108</td>\n",
              "      <td>0.085779</td>\n",
              "      <td>-0.373413</td>\n",
              "      <td>1.450449</td>\n",
              "      <td>0.058563</td>\n",
              "      <td>1.064294</td>\n",
              "    </tr>\n",
              "    <tr>\n",
              "      <th>3</th>\n",
              "      <td>-0.557066</td>\n",
              "      <td>-0.450679</td>\n",
              "      <td>-1.332855</td>\n",
              "      <td>-1.180329</td>\n",
              "      <td>1.944461</td>\n",
              "      <td>1.347457</td>\n",
              "    </tr>\n",
              "  </tbody>\n",
              "</table>\n",
              "</div>"
            ],
            "text/plain": [
              "          a         b         c         d         e         f\n",
              "0 -1.014281 -1.006307  0.160368  1.672180 -0.018931  1.189073\n",
              "1 -1.387513  1.111509       NaN  1.151613 -0.542740  0.146082\n",
              "2  1.818108  0.085779 -0.373413  1.450449  0.058563  1.064294\n",
              "3 -0.557066 -0.450679 -1.332855 -1.180329  1.944461  1.347457"
            ]
          },
          "metadata": {},
          "execution_count": 26
        }
      ]
    },
    {
      "cell_type": "code",
      "metadata": {
        "colab": {
          "base_uri": "https://localhost:8080/",
          "height": 0
        },
        "id": "primary-presence",
        "outputId": "41d22b3b-4222-4cbb-f011-42c48633678f"
      },
      "source": [
        "df12 = pd.DataFrame(np.random.rand(18).reshape(6, 3), columns=list('abc'))\n",
        "df12"
      ],
      "id": "primary-presence",
      "execution_count": 27,
      "outputs": [
        {
          "output_type": "execute_result",
          "data": {
            "text/html": [
              "<div>\n",
              "<style scoped>\n",
              "    .dataframe tbody tr th:only-of-type {\n",
              "        vertical-align: middle;\n",
              "    }\n",
              "\n",
              "    .dataframe tbody tr th {\n",
              "        vertical-align: top;\n",
              "    }\n",
              "\n",
              "    .dataframe thead th {\n",
              "        text-align: right;\n",
              "    }\n",
              "</style>\n",
              "<table border=\"1\" class=\"dataframe\">\n",
              "  <thead>\n",
              "    <tr style=\"text-align: right;\">\n",
              "      <th></th>\n",
              "      <th>a</th>\n",
              "      <th>b</th>\n",
              "      <th>c</th>\n",
              "    </tr>\n",
              "  </thead>\n",
              "  <tbody>\n",
              "    <tr>\n",
              "      <th>0</th>\n",
              "      <td>0.874803</td>\n",
              "      <td>0.146683</td>\n",
              "      <td>0.256051</td>\n",
              "    </tr>\n",
              "    <tr>\n",
              "      <th>1</th>\n",
              "      <td>0.385510</td>\n",
              "      <td>0.787276</td>\n",
              "      <td>0.611597</td>\n",
              "    </tr>\n",
              "    <tr>\n",
              "      <th>2</th>\n",
              "      <td>0.741713</td>\n",
              "      <td>0.997530</td>\n",
              "      <td>0.778994</td>\n",
              "    </tr>\n",
              "    <tr>\n",
              "      <th>3</th>\n",
              "      <td>0.867956</td>\n",
              "      <td>0.874004</td>\n",
              "      <td>0.668128</td>\n",
              "    </tr>\n",
              "    <tr>\n",
              "      <th>4</th>\n",
              "      <td>0.197711</td>\n",
              "      <td>0.276144</td>\n",
              "      <td>0.410560</td>\n",
              "    </tr>\n",
              "    <tr>\n",
              "      <th>5</th>\n",
              "      <td>0.466912</td>\n",
              "      <td>0.359255</td>\n",
              "      <td>0.738742</td>\n",
              "    </tr>\n",
              "  </tbody>\n",
              "</table>\n",
              "</div>"
            ],
            "text/plain": [
              "          a         b         c\n",
              "0  0.874803  0.146683  0.256051\n",
              "1  0.385510  0.787276  0.611597\n",
              "2  0.741713  0.997530  0.778994\n",
              "3  0.867956  0.874004  0.668128\n",
              "4  0.197711  0.276144  0.410560\n",
              "5  0.466912  0.359255  0.738742"
            ]
          },
          "metadata": {},
          "execution_count": 27
        }
      ]
    },
    {
      "cell_type": "code",
      "metadata": {
        "scrolled": true,
        "colab": {
          "base_uri": "https://localhost:8080/",
          "height": 0
        },
        "id": "bridal-thumbnail",
        "outputId": "8977b664-80a5-4387-e950-b5a69f1b594d"
      },
      "source": [
        "df11.add(df12)"
      ],
      "id": "bridal-thumbnail",
      "execution_count": 28,
      "outputs": [
        {
          "output_type": "execute_result",
          "data": {
            "text/html": [
              "<div>\n",
              "<style scoped>\n",
              "    .dataframe tbody tr th:only-of-type {\n",
              "        vertical-align: middle;\n",
              "    }\n",
              "\n",
              "    .dataframe tbody tr th {\n",
              "        vertical-align: top;\n",
              "    }\n",
              "\n",
              "    .dataframe thead th {\n",
              "        text-align: right;\n",
              "    }\n",
              "</style>\n",
              "<table border=\"1\" class=\"dataframe\">\n",
              "  <thead>\n",
              "    <tr style=\"text-align: right;\">\n",
              "      <th></th>\n",
              "      <th>a</th>\n",
              "      <th>b</th>\n",
              "      <th>c</th>\n",
              "      <th>d</th>\n",
              "      <th>e</th>\n",
              "      <th>f</th>\n",
              "    </tr>\n",
              "  </thead>\n",
              "  <tbody>\n",
              "    <tr>\n",
              "      <th>0</th>\n",
              "      <td>-0.139477</td>\n",
              "      <td>-0.859624</td>\n",
              "      <td>0.416419</td>\n",
              "      <td>NaN</td>\n",
              "      <td>NaN</td>\n",
              "      <td>NaN</td>\n",
              "    </tr>\n",
              "    <tr>\n",
              "      <th>1</th>\n",
              "      <td>-1.002003</td>\n",
              "      <td>1.898785</td>\n",
              "      <td>NaN</td>\n",
              "      <td>NaN</td>\n",
              "      <td>NaN</td>\n",
              "      <td>NaN</td>\n",
              "    </tr>\n",
              "    <tr>\n",
              "      <th>2</th>\n",
              "      <td>2.559821</td>\n",
              "      <td>1.083309</td>\n",
              "      <td>0.405581</td>\n",
              "      <td>NaN</td>\n",
              "      <td>NaN</td>\n",
              "      <td>NaN</td>\n",
              "    </tr>\n",
              "    <tr>\n",
              "      <th>3</th>\n",
              "      <td>0.310890</td>\n",
              "      <td>0.423325</td>\n",
              "      <td>-0.664727</td>\n",
              "      <td>NaN</td>\n",
              "      <td>NaN</td>\n",
              "      <td>NaN</td>\n",
              "    </tr>\n",
              "    <tr>\n",
              "      <th>4</th>\n",
              "      <td>NaN</td>\n",
              "      <td>NaN</td>\n",
              "      <td>NaN</td>\n",
              "      <td>NaN</td>\n",
              "      <td>NaN</td>\n",
              "      <td>NaN</td>\n",
              "    </tr>\n",
              "    <tr>\n",
              "      <th>5</th>\n",
              "      <td>NaN</td>\n",
              "      <td>NaN</td>\n",
              "      <td>NaN</td>\n",
              "      <td>NaN</td>\n",
              "      <td>NaN</td>\n",
              "      <td>NaN</td>\n",
              "    </tr>\n",
              "  </tbody>\n",
              "</table>\n",
              "</div>"
            ],
            "text/plain": [
              "          a         b         c   d   e   f\n",
              "0 -0.139477 -0.859624  0.416419 NaN NaN NaN\n",
              "1 -1.002003  1.898785       NaN NaN NaN NaN\n",
              "2  2.559821  1.083309  0.405581 NaN NaN NaN\n",
              "3  0.310890  0.423325 -0.664727 NaN NaN NaN\n",
              "4       NaN       NaN       NaN NaN NaN NaN\n",
              "5       NaN       NaN       NaN NaN NaN NaN"
            ]
          },
          "metadata": {},
          "execution_count": 28
        }
      ]
    },
    {
      "cell_type": "code",
      "metadata": {
        "scrolled": true,
        "colab": {
          "base_uri": "https://localhost:8080/",
          "height": 0
        },
        "id": "stretch-bachelor",
        "outputId": "e9712cf4-19d2-4c0a-e842-a39c12042391"
      },
      "source": [
        "df11.add(df12, fill_value = 0).fillna(0)"
      ],
      "id": "stretch-bachelor",
      "execution_count": 29,
      "outputs": [
        {
          "output_type": "execute_result",
          "data": {
            "text/html": [
              "<div>\n",
              "<style scoped>\n",
              "    .dataframe tbody tr th:only-of-type {\n",
              "        vertical-align: middle;\n",
              "    }\n",
              "\n",
              "    .dataframe tbody tr th {\n",
              "        vertical-align: top;\n",
              "    }\n",
              "\n",
              "    .dataframe thead th {\n",
              "        text-align: right;\n",
              "    }\n",
              "</style>\n",
              "<table border=\"1\" class=\"dataframe\">\n",
              "  <thead>\n",
              "    <tr style=\"text-align: right;\">\n",
              "      <th></th>\n",
              "      <th>a</th>\n",
              "      <th>b</th>\n",
              "      <th>c</th>\n",
              "      <th>d</th>\n",
              "      <th>e</th>\n",
              "      <th>f</th>\n",
              "    </tr>\n",
              "  </thead>\n",
              "  <tbody>\n",
              "    <tr>\n",
              "      <th>0</th>\n",
              "      <td>-0.139477</td>\n",
              "      <td>-0.859624</td>\n",
              "      <td>0.416419</td>\n",
              "      <td>1.672180</td>\n",
              "      <td>-0.018931</td>\n",
              "      <td>1.189073</td>\n",
              "    </tr>\n",
              "    <tr>\n",
              "      <th>1</th>\n",
              "      <td>-1.002003</td>\n",
              "      <td>1.898785</td>\n",
              "      <td>0.611597</td>\n",
              "      <td>1.151613</td>\n",
              "      <td>-0.542740</td>\n",
              "      <td>0.146082</td>\n",
              "    </tr>\n",
              "    <tr>\n",
              "      <th>2</th>\n",
              "      <td>2.559821</td>\n",
              "      <td>1.083309</td>\n",
              "      <td>0.405581</td>\n",
              "      <td>1.450449</td>\n",
              "      <td>0.058563</td>\n",
              "      <td>1.064294</td>\n",
              "    </tr>\n",
              "    <tr>\n",
              "      <th>3</th>\n",
              "      <td>0.310890</td>\n",
              "      <td>0.423325</td>\n",
              "      <td>-0.664727</td>\n",
              "      <td>-1.180329</td>\n",
              "      <td>1.944461</td>\n",
              "      <td>1.347457</td>\n",
              "    </tr>\n",
              "    <tr>\n",
              "      <th>4</th>\n",
              "      <td>0.197711</td>\n",
              "      <td>0.276144</td>\n",
              "      <td>0.410560</td>\n",
              "      <td>0.000000</td>\n",
              "      <td>0.000000</td>\n",
              "      <td>0.000000</td>\n",
              "    </tr>\n",
              "    <tr>\n",
              "      <th>5</th>\n",
              "      <td>0.466912</td>\n",
              "      <td>0.359255</td>\n",
              "      <td>0.738742</td>\n",
              "      <td>0.000000</td>\n",
              "      <td>0.000000</td>\n",
              "      <td>0.000000</td>\n",
              "    </tr>\n",
              "  </tbody>\n",
              "</table>\n",
              "</div>"
            ],
            "text/plain": [
              "          a         b         c         d         e         f\n",
              "0 -0.139477 -0.859624  0.416419  1.672180 -0.018931  1.189073\n",
              "1 -1.002003  1.898785  0.611597  1.151613 -0.542740  0.146082\n",
              "2  2.559821  1.083309  0.405581  1.450449  0.058563  1.064294\n",
              "3  0.310890  0.423325 -0.664727 -1.180329  1.944461  1.347457\n",
              "4  0.197711  0.276144  0.410560  0.000000  0.000000  0.000000\n",
              "5  0.466912  0.359255  0.738742  0.000000  0.000000  0.000000"
            ]
          },
          "metadata": {},
          "execution_count": 29
        }
      ]
    },
    {
      "cell_type": "markdown",
      "metadata": {
        "id": "dental-memory"
      },
      "source": [
        "### isnull()\n",
        "#### Retorna True para valores nulos"
      ],
      "id": "dental-memory"
    },
    {
      "cell_type": "code",
      "metadata": {
        "colab": {
          "base_uri": "https://localhost:8080/",
          "height": 0
        },
        "id": "liquid-uzbekistan",
        "outputId": "bc1c9200-644a-449f-8212-55df4b9e9aa9"
      },
      "source": [
        "s2 = pd.DataFrame(([1, 2, np.nan], [3, 4, 5], [np.nan, np.nan, np.nan]))\n",
        "s2"
      ],
      "id": "liquid-uzbekistan",
      "execution_count": 30,
      "outputs": [
        {
          "output_type": "execute_result",
          "data": {
            "text/html": [
              "<div>\n",
              "<style scoped>\n",
              "    .dataframe tbody tr th:only-of-type {\n",
              "        vertical-align: middle;\n",
              "    }\n",
              "\n",
              "    .dataframe tbody tr th {\n",
              "        vertical-align: top;\n",
              "    }\n",
              "\n",
              "    .dataframe thead th {\n",
              "        text-align: right;\n",
              "    }\n",
              "</style>\n",
              "<table border=\"1\" class=\"dataframe\">\n",
              "  <thead>\n",
              "    <tr style=\"text-align: right;\">\n",
              "      <th></th>\n",
              "      <th>0</th>\n",
              "      <th>1</th>\n",
              "      <th>2</th>\n",
              "    </tr>\n",
              "  </thead>\n",
              "  <tbody>\n",
              "    <tr>\n",
              "      <th>0</th>\n",
              "      <td>1.0</td>\n",
              "      <td>2.0</td>\n",
              "      <td>NaN</td>\n",
              "    </tr>\n",
              "    <tr>\n",
              "      <th>1</th>\n",
              "      <td>3.0</td>\n",
              "      <td>4.0</td>\n",
              "      <td>5.0</td>\n",
              "    </tr>\n",
              "    <tr>\n",
              "      <th>2</th>\n",
              "      <td>NaN</td>\n",
              "      <td>NaN</td>\n",
              "      <td>NaN</td>\n",
              "    </tr>\n",
              "  </tbody>\n",
              "</table>\n",
              "</div>"
            ],
            "text/plain": [
              "     0    1    2\n",
              "0  1.0  2.0  NaN\n",
              "1  3.0  4.0  5.0\n",
              "2  NaN  NaN  NaN"
            ]
          },
          "metadata": {},
          "execution_count": 30
        }
      ]
    },
    {
      "cell_type": "code",
      "metadata": {
        "colab": {
          "base_uri": "https://localhost:8080/",
          "height": 0
        },
        "id": "handy-regard",
        "outputId": "3fd357d1-2912-4150-de08-1c5330047012"
      },
      "source": [
        "s2.isnull()"
      ],
      "id": "handy-regard",
      "execution_count": 31,
      "outputs": [
        {
          "output_type": "execute_result",
          "data": {
            "text/html": [
              "<div>\n",
              "<style scoped>\n",
              "    .dataframe tbody tr th:only-of-type {\n",
              "        vertical-align: middle;\n",
              "    }\n",
              "\n",
              "    .dataframe tbody tr th {\n",
              "        vertical-align: top;\n",
              "    }\n",
              "\n",
              "    .dataframe thead th {\n",
              "        text-align: right;\n",
              "    }\n",
              "</style>\n",
              "<table border=\"1\" class=\"dataframe\">\n",
              "  <thead>\n",
              "    <tr style=\"text-align: right;\">\n",
              "      <th></th>\n",
              "      <th>0</th>\n",
              "      <th>1</th>\n",
              "      <th>2</th>\n",
              "    </tr>\n",
              "  </thead>\n",
              "  <tbody>\n",
              "    <tr>\n",
              "      <th>0</th>\n",
              "      <td>False</td>\n",
              "      <td>False</td>\n",
              "      <td>True</td>\n",
              "    </tr>\n",
              "    <tr>\n",
              "      <th>1</th>\n",
              "      <td>False</td>\n",
              "      <td>False</td>\n",
              "      <td>False</td>\n",
              "    </tr>\n",
              "    <tr>\n",
              "      <th>2</th>\n",
              "      <td>True</td>\n",
              "      <td>True</td>\n",
              "      <td>True</td>\n",
              "    </tr>\n",
              "  </tbody>\n",
              "</table>\n",
              "</div>"
            ],
            "text/plain": [
              "       0      1      2\n",
              "0  False  False   True\n",
              "1  False  False  False\n",
              "2   True   True   True"
            ]
          },
          "metadata": {},
          "execution_count": 31
        }
      ]
    },
    {
      "cell_type": "markdown",
      "metadata": {
        "id": "victorian-battlefield"
      },
      "source": [
        "### dropna()\n",
        "#### Exclui linhas e colunas com valores NA."
      ],
      "id": "victorian-battlefield"
    },
    {
      "cell_type": "code",
      "metadata": {
        "colab": {
          "base_uri": "https://localhost:8080/",
          "height": 0
        },
        "id": "wireless-ceiling",
        "outputId": "e6e30b99-b6d8-4f75-ab8d-55e4db506edf"
      },
      "source": [
        "s2.dropna() # Exclui linhas que têm pelo menos um valor igual à NA."
      ],
      "id": "wireless-ceiling",
      "execution_count": 32,
      "outputs": [
        {
          "output_type": "execute_result",
          "data": {
            "text/html": [
              "<div>\n",
              "<style scoped>\n",
              "    .dataframe tbody tr th:only-of-type {\n",
              "        vertical-align: middle;\n",
              "    }\n",
              "\n",
              "    .dataframe tbody tr th {\n",
              "        vertical-align: top;\n",
              "    }\n",
              "\n",
              "    .dataframe thead th {\n",
              "        text-align: right;\n",
              "    }\n",
              "</style>\n",
              "<table border=\"1\" class=\"dataframe\">\n",
              "  <thead>\n",
              "    <tr style=\"text-align: right;\">\n",
              "      <th></th>\n",
              "      <th>0</th>\n",
              "      <th>1</th>\n",
              "      <th>2</th>\n",
              "    </tr>\n",
              "  </thead>\n",
              "  <tbody>\n",
              "    <tr>\n",
              "      <th>1</th>\n",
              "      <td>3.0</td>\n",
              "      <td>4.0</td>\n",
              "      <td>5.0</td>\n",
              "    </tr>\n",
              "  </tbody>\n",
              "</table>\n",
              "</div>"
            ],
            "text/plain": [
              "     0    1    2\n",
              "1  3.0  4.0  5.0"
            ]
          },
          "metadata": {},
          "execution_count": 32
        }
      ]
    },
    {
      "cell_type": "code",
      "metadata": {
        "scrolled": true,
        "colab": {
          "base_uri": "https://localhost:8080/",
          "height": 0
        },
        "id": "extensive-schema",
        "outputId": "20bcce31-618f-4429-bd6d-3849f1d94cb0"
      },
      "source": [
        "s2.dropna(how='all') # Exclui linhas que têm todos os elementos iguais à NA."
      ],
      "id": "extensive-schema",
      "execution_count": 33,
      "outputs": [
        {
          "output_type": "execute_result",
          "data": {
            "text/html": [
              "<div>\n",
              "<style scoped>\n",
              "    .dataframe tbody tr th:only-of-type {\n",
              "        vertical-align: middle;\n",
              "    }\n",
              "\n",
              "    .dataframe tbody tr th {\n",
              "        vertical-align: top;\n",
              "    }\n",
              "\n",
              "    .dataframe thead th {\n",
              "        text-align: right;\n",
              "    }\n",
              "</style>\n",
              "<table border=\"1\" class=\"dataframe\">\n",
              "  <thead>\n",
              "    <tr style=\"text-align: right;\">\n",
              "      <th></th>\n",
              "      <th>0</th>\n",
              "      <th>1</th>\n",
              "      <th>2</th>\n",
              "    </tr>\n",
              "  </thead>\n",
              "  <tbody>\n",
              "    <tr>\n",
              "      <th>0</th>\n",
              "      <td>1.0</td>\n",
              "      <td>2.0</td>\n",
              "      <td>NaN</td>\n",
              "    </tr>\n",
              "    <tr>\n",
              "      <th>1</th>\n",
              "      <td>3.0</td>\n",
              "      <td>4.0</td>\n",
              "      <td>5.0</td>\n",
              "    </tr>\n",
              "  </tbody>\n",
              "</table>\n",
              "</div>"
            ],
            "text/plain": [
              "     0    1    2\n",
              "0  1.0  2.0  NaN\n",
              "1  3.0  4.0  5.0"
            ]
          },
          "metadata": {},
          "execution_count": 33
        }
      ]
    },
    {
      "cell_type": "code",
      "metadata": {
        "colab": {
          "base_uri": "https://localhost:8080/",
          "height": 0
        },
        "id": "accomplished-confidentiality",
        "outputId": "f5ddac89-fac7-4466-ebd8-65c0e68678ab"
      },
      "source": [
        "s2.iloc[1, 2]= np.nan\n",
        "s2"
      ],
      "id": "accomplished-confidentiality",
      "execution_count": 34,
      "outputs": [
        {
          "output_type": "execute_result",
          "data": {
            "text/html": [
              "<div>\n",
              "<style scoped>\n",
              "    .dataframe tbody tr th:only-of-type {\n",
              "        vertical-align: middle;\n",
              "    }\n",
              "\n",
              "    .dataframe tbody tr th {\n",
              "        vertical-align: top;\n",
              "    }\n",
              "\n",
              "    .dataframe thead th {\n",
              "        text-align: right;\n",
              "    }\n",
              "</style>\n",
              "<table border=\"1\" class=\"dataframe\">\n",
              "  <thead>\n",
              "    <tr style=\"text-align: right;\">\n",
              "      <th></th>\n",
              "      <th>0</th>\n",
              "      <th>1</th>\n",
              "      <th>2</th>\n",
              "    </tr>\n",
              "  </thead>\n",
              "  <tbody>\n",
              "    <tr>\n",
              "      <th>0</th>\n",
              "      <td>1.0</td>\n",
              "      <td>2.0</td>\n",
              "      <td>NaN</td>\n",
              "    </tr>\n",
              "    <tr>\n",
              "      <th>1</th>\n",
              "      <td>3.0</td>\n",
              "      <td>4.0</td>\n",
              "      <td>NaN</td>\n",
              "    </tr>\n",
              "    <tr>\n",
              "      <th>2</th>\n",
              "      <td>NaN</td>\n",
              "      <td>NaN</td>\n",
              "      <td>NaN</td>\n",
              "    </tr>\n",
              "  </tbody>\n",
              "</table>\n",
              "</div>"
            ],
            "text/plain": [
              "     0    1   2\n",
              "0  1.0  2.0 NaN\n",
              "1  3.0  4.0 NaN\n",
              "2  NaN  NaN NaN"
            ]
          },
          "metadata": {},
          "execution_count": 34
        }
      ]
    },
    {
      "cell_type": "code",
      "metadata": {
        "colab": {
          "base_uri": "https://localhost:8080/",
          "height": 0
        },
        "id": "southeast-acrobat",
        "outputId": "4147ba2c-43d7-40ee-c059-2aa2e9286a64"
      },
      "source": [
        "s2.dropna(how='all', axis=1) # Exclui colunas com todos os valores nulos."
      ],
      "id": "southeast-acrobat",
      "execution_count": 35,
      "outputs": [
        {
          "output_type": "execute_result",
          "data": {
            "text/html": [
              "<div>\n",
              "<style scoped>\n",
              "    .dataframe tbody tr th:only-of-type {\n",
              "        vertical-align: middle;\n",
              "    }\n",
              "\n",
              "    .dataframe tbody tr th {\n",
              "        vertical-align: top;\n",
              "    }\n",
              "\n",
              "    .dataframe thead th {\n",
              "        text-align: right;\n",
              "    }\n",
              "</style>\n",
              "<table border=\"1\" class=\"dataframe\">\n",
              "  <thead>\n",
              "    <tr style=\"text-align: right;\">\n",
              "      <th></th>\n",
              "      <th>0</th>\n",
              "      <th>1</th>\n",
              "    </tr>\n",
              "  </thead>\n",
              "  <tbody>\n",
              "    <tr>\n",
              "      <th>0</th>\n",
              "      <td>1.0</td>\n",
              "      <td>2.0</td>\n",
              "    </tr>\n",
              "    <tr>\n",
              "      <th>1</th>\n",
              "      <td>3.0</td>\n",
              "      <td>4.0</td>\n",
              "    </tr>\n",
              "    <tr>\n",
              "      <th>2</th>\n",
              "      <td>NaN</td>\n",
              "      <td>NaN</td>\n",
              "    </tr>\n",
              "  </tbody>\n",
              "</table>\n",
              "</div>"
            ],
            "text/plain": [
              "     0    1\n",
              "0  1.0  2.0\n",
              "1  3.0  4.0\n",
              "2  NaN  NaN"
            ]
          },
          "metadata": {},
          "execution_count": 35
        }
      ]
    },
    {
      "cell_type": "code",
      "metadata": {
        "colab": {
          "base_uri": "https://localhost:8080/",
          "height": 0
        },
        "id": "southeast-engine",
        "outputId": "f6790c30-efc1-4fc2-b750-2ffd841e1f6f"
      },
      "source": [
        "s2.iloc[2, 2] = 7\n",
        "s2"
      ],
      "id": "southeast-engine",
      "execution_count": 36,
      "outputs": [
        {
          "output_type": "execute_result",
          "data": {
            "text/html": [
              "<div>\n",
              "<style scoped>\n",
              "    .dataframe tbody tr th:only-of-type {\n",
              "        vertical-align: middle;\n",
              "    }\n",
              "\n",
              "    .dataframe tbody tr th {\n",
              "        vertical-align: top;\n",
              "    }\n",
              "\n",
              "    .dataframe thead th {\n",
              "        text-align: right;\n",
              "    }\n",
              "</style>\n",
              "<table border=\"1\" class=\"dataframe\">\n",
              "  <thead>\n",
              "    <tr style=\"text-align: right;\">\n",
              "      <th></th>\n",
              "      <th>0</th>\n",
              "      <th>1</th>\n",
              "      <th>2</th>\n",
              "    </tr>\n",
              "  </thead>\n",
              "  <tbody>\n",
              "    <tr>\n",
              "      <th>0</th>\n",
              "      <td>1.0</td>\n",
              "      <td>2.0</td>\n",
              "      <td>NaN</td>\n",
              "    </tr>\n",
              "    <tr>\n",
              "      <th>1</th>\n",
              "      <td>3.0</td>\n",
              "      <td>4.0</td>\n",
              "      <td>NaN</td>\n",
              "    </tr>\n",
              "    <tr>\n",
              "      <th>2</th>\n",
              "      <td>NaN</td>\n",
              "      <td>NaN</td>\n",
              "      <td>7.0</td>\n",
              "    </tr>\n",
              "  </tbody>\n",
              "</table>\n",
              "</div>"
            ],
            "text/plain": [
              "     0    1    2\n",
              "0  1.0  2.0  NaN\n",
              "1  3.0  4.0  NaN\n",
              "2  NaN  NaN  7.0"
            ]
          },
          "metadata": {},
          "execution_count": 36
        }
      ]
    },
    {
      "cell_type": "code",
      "metadata": {
        "colab": {
          "base_uri": "https://localhost:8080/",
          "height": 0
        },
        "id": "charged-serial",
        "outputId": "ebd402f7-22b4-4a45-b551-89b1c8117701"
      },
      "source": [
        "s2.fillna(method='bfill', axis=0, limit=1) # Preenche as linhas para trás (bfll) uma vez (limit=1)."
      ],
      "id": "charged-serial",
      "execution_count": 37,
      "outputs": [
        {
          "output_type": "execute_result",
          "data": {
            "text/html": [
              "<div>\n",
              "<style scoped>\n",
              "    .dataframe tbody tr th:only-of-type {\n",
              "        vertical-align: middle;\n",
              "    }\n",
              "\n",
              "    .dataframe tbody tr th {\n",
              "        vertical-align: top;\n",
              "    }\n",
              "\n",
              "    .dataframe thead th {\n",
              "        text-align: right;\n",
              "    }\n",
              "</style>\n",
              "<table border=\"1\" class=\"dataframe\">\n",
              "  <thead>\n",
              "    <tr style=\"text-align: right;\">\n",
              "      <th></th>\n",
              "      <th>0</th>\n",
              "      <th>1</th>\n",
              "      <th>2</th>\n",
              "    </tr>\n",
              "  </thead>\n",
              "  <tbody>\n",
              "    <tr>\n",
              "      <th>0</th>\n",
              "      <td>1.0</td>\n",
              "      <td>2.0</td>\n",
              "      <td>NaN</td>\n",
              "    </tr>\n",
              "    <tr>\n",
              "      <th>1</th>\n",
              "      <td>3.0</td>\n",
              "      <td>4.0</td>\n",
              "      <td>7.0</td>\n",
              "    </tr>\n",
              "    <tr>\n",
              "      <th>2</th>\n",
              "      <td>NaN</td>\n",
              "      <td>NaN</td>\n",
              "      <td>7.0</td>\n",
              "    </tr>\n",
              "  </tbody>\n",
              "</table>\n",
              "</div>"
            ],
            "text/plain": [
              "     0    1    2\n",
              "0  1.0  2.0  NaN\n",
              "1  3.0  4.0  7.0\n",
              "2  NaN  NaN  7.0"
            ]
          },
          "metadata": {},
          "execution_count": 37
        }
      ]
    },
    {
      "cell_type": "markdown",
      "metadata": {
        "id": "gross-secret"
      },
      "source": [
        "-------------------------------------------------------------------------------------------------------"
      ],
      "id": "gross-secret"
    },
    {
      "cell_type": "markdown",
      "metadata": {
        "id": "electronic-skating"
      },
      "source": [
        "## Funções"
      ],
      "id": "electronic-skating"
    },
    {
      "cell_type": "markdown",
      "metadata": {
        "id": "comfortable-effects"
      },
      "source": [
        "### apply(f)\n",
        "#### Aplica a função f sobre Series."
      ],
      "id": "comfortable-effects"
    },
    {
      "cell_type": "code",
      "metadata": {
        "colab": {
          "base_uri": "https://localhost:8080/",
          "height": 0
        },
        "id": "fixed-representative",
        "outputId": "63cce063-14b9-4288-e1f6-1f1b67b92dca"
      },
      "source": [
        "f = lambda x: np.sqrt(np.var(x)) # Definição de desvio padrão.\n",
        "\n",
        "df13 = pd.DataFrame(np.random.randint(100, size=50).reshape(10, 5))\n",
        "df13"
      ],
      "id": "fixed-representative",
      "execution_count": 38,
      "outputs": [
        {
          "output_type": "execute_result",
          "data": {
            "text/html": [
              "<div>\n",
              "<style scoped>\n",
              "    .dataframe tbody tr th:only-of-type {\n",
              "        vertical-align: middle;\n",
              "    }\n",
              "\n",
              "    .dataframe tbody tr th {\n",
              "        vertical-align: top;\n",
              "    }\n",
              "\n",
              "    .dataframe thead th {\n",
              "        text-align: right;\n",
              "    }\n",
              "</style>\n",
              "<table border=\"1\" class=\"dataframe\">\n",
              "  <thead>\n",
              "    <tr style=\"text-align: right;\">\n",
              "      <th></th>\n",
              "      <th>0</th>\n",
              "      <th>1</th>\n",
              "      <th>2</th>\n",
              "      <th>3</th>\n",
              "      <th>4</th>\n",
              "    </tr>\n",
              "  </thead>\n",
              "  <tbody>\n",
              "    <tr>\n",
              "      <th>0</th>\n",
              "      <td>87</td>\n",
              "      <td>25</td>\n",
              "      <td>97</td>\n",
              "      <td>46</td>\n",
              "      <td>98</td>\n",
              "    </tr>\n",
              "    <tr>\n",
              "      <th>1</th>\n",
              "      <td>24</td>\n",
              "      <td>75</td>\n",
              "      <td>64</td>\n",
              "      <td>9</td>\n",
              "      <td>71</td>\n",
              "    </tr>\n",
              "    <tr>\n",
              "      <th>2</th>\n",
              "      <td>52</td>\n",
              "      <td>22</td>\n",
              "      <td>78</td>\n",
              "      <td>81</td>\n",
              "      <td>37</td>\n",
              "    </tr>\n",
              "    <tr>\n",
              "      <th>3</th>\n",
              "      <td>50</td>\n",
              "      <td>5</td>\n",
              "      <td>84</td>\n",
              "      <td>81</td>\n",
              "      <td>69</td>\n",
              "    </tr>\n",
              "    <tr>\n",
              "      <th>4</th>\n",
              "      <td>51</td>\n",
              "      <td>35</td>\n",
              "      <td>21</td>\n",
              "      <td>51</td>\n",
              "      <td>16</td>\n",
              "    </tr>\n",
              "    <tr>\n",
              "      <th>5</th>\n",
              "      <td>45</td>\n",
              "      <td>2</td>\n",
              "      <td>94</td>\n",
              "      <td>4</td>\n",
              "      <td>50</td>\n",
              "    </tr>\n",
              "    <tr>\n",
              "      <th>6</th>\n",
              "      <td>79</td>\n",
              "      <td>50</td>\n",
              "      <td>31</td>\n",
              "      <td>16</td>\n",
              "      <td>16</td>\n",
              "    </tr>\n",
              "    <tr>\n",
              "      <th>7</th>\n",
              "      <td>54</td>\n",
              "      <td>48</td>\n",
              "      <td>19</td>\n",
              "      <td>63</td>\n",
              "      <td>18</td>\n",
              "    </tr>\n",
              "    <tr>\n",
              "      <th>8</th>\n",
              "      <td>67</td>\n",
              "      <td>46</td>\n",
              "      <td>58</td>\n",
              "      <td>82</td>\n",
              "      <td>57</td>\n",
              "    </tr>\n",
              "    <tr>\n",
              "      <th>9</th>\n",
              "      <td>61</td>\n",
              "      <td>9</td>\n",
              "      <td>66</td>\n",
              "      <td>42</td>\n",
              "      <td>68</td>\n",
              "    </tr>\n",
              "  </tbody>\n",
              "</table>\n",
              "</div>"
            ],
            "text/plain": [
              "    0   1   2   3   4\n",
              "0  87  25  97  46  98\n",
              "1  24  75  64   9  71\n",
              "2  52  22  78  81  37\n",
              "3  50   5  84  81  69\n",
              "4  51  35  21  51  16\n",
              "5  45   2  94   4  50\n",
              "6  79  50  31  16  16\n",
              "7  54  48  19  63  18\n",
              "8  67  46  58  82  57\n",
              "9  61   9  66  42  68"
            ]
          },
          "metadata": {},
          "execution_count": 38
        }
      ]
    },
    {
      "cell_type": "code",
      "metadata": {
        "colab": {
          "base_uri": "https://localhost:8080/"
        },
        "id": "inclusive-fault",
        "outputId": "e0d2adb6-1927-4386-fde0-aaf329f54015"
      },
      "source": [
        "df13.apply(f) # Função nas linhas."
      ],
      "id": "inclusive-fault",
      "execution_count": 39,
      "outputs": [
        {
          "output_type": "execute_result",
          "data": {
            "text/plain": [
              "0    16.887865\n",
              "1    22.226336\n",
              "2    27.403649\n",
              "3    28.436772\n",
              "4    26.427259\n",
              "dtype: float64"
            ]
          },
          "metadata": {},
          "execution_count": 39
        }
      ]
    },
    {
      "cell_type": "code",
      "metadata": {
        "colab": {
          "base_uri": "https://localhost:8080/"
        },
        "id": "transparent-attention",
        "outputId": "521ff939-c8a9-459d-9f5e-c1693909c098"
      },
      "source": [
        "df13.apply(f, axis='columns') # Função nas colunas."
      ],
      "id": "transparent-attention",
      "execution_count": 40,
      "outputs": [
        {
          "output_type": "execute_result",
          "data": {
            "text/plain": [
              "0    29.668839\n",
              "1    26.867080\n",
              "2    22.899782\n",
              "3    28.978613\n",
              "4    14.620534\n",
              "5    33.988233\n",
              "6    23.837785\n",
              "7    18.510538\n",
              "8    12.016655\n",
              "9    22.103393\n",
              "dtype: float64"
            ]
          },
          "metadata": {},
          "execution_count": 40
        }
      ]
    },
    {
      "cell_type": "markdown",
      "metadata": {
        "id": "photographic-panama"
      },
      "source": [
        "### applymap(f)\n",
        "#### Aplica a função f sobre os elementos de um DataFrame."
      ],
      "id": "photographic-panama"
    },
    {
      "cell_type": "code",
      "metadata": {
        "scrolled": true,
        "colab": {
          "base_uri": "https://localhost:8080/",
          "height": 0
        },
        "id": "limiting-marketing",
        "outputId": "ff7d0e13-815b-437b-ecb6-6558cd931e89"
      },
      "source": [
        "form = lambda x: -1 * x\n",
        "\n",
        "df13.applymap(form)"
      ],
      "id": "limiting-marketing",
      "execution_count": 41,
      "outputs": [
        {
          "output_type": "execute_result",
          "data": {
            "text/html": [
              "<div>\n",
              "<style scoped>\n",
              "    .dataframe tbody tr th:only-of-type {\n",
              "        vertical-align: middle;\n",
              "    }\n",
              "\n",
              "    .dataframe tbody tr th {\n",
              "        vertical-align: top;\n",
              "    }\n",
              "\n",
              "    .dataframe thead th {\n",
              "        text-align: right;\n",
              "    }\n",
              "</style>\n",
              "<table border=\"1\" class=\"dataframe\">\n",
              "  <thead>\n",
              "    <tr style=\"text-align: right;\">\n",
              "      <th></th>\n",
              "      <th>0</th>\n",
              "      <th>1</th>\n",
              "      <th>2</th>\n",
              "      <th>3</th>\n",
              "      <th>4</th>\n",
              "    </tr>\n",
              "  </thead>\n",
              "  <tbody>\n",
              "    <tr>\n",
              "      <th>0</th>\n",
              "      <td>-87</td>\n",
              "      <td>-25</td>\n",
              "      <td>-97</td>\n",
              "      <td>-46</td>\n",
              "      <td>-98</td>\n",
              "    </tr>\n",
              "    <tr>\n",
              "      <th>1</th>\n",
              "      <td>-24</td>\n",
              "      <td>-75</td>\n",
              "      <td>-64</td>\n",
              "      <td>-9</td>\n",
              "      <td>-71</td>\n",
              "    </tr>\n",
              "    <tr>\n",
              "      <th>2</th>\n",
              "      <td>-52</td>\n",
              "      <td>-22</td>\n",
              "      <td>-78</td>\n",
              "      <td>-81</td>\n",
              "      <td>-37</td>\n",
              "    </tr>\n",
              "    <tr>\n",
              "      <th>3</th>\n",
              "      <td>-50</td>\n",
              "      <td>-5</td>\n",
              "      <td>-84</td>\n",
              "      <td>-81</td>\n",
              "      <td>-69</td>\n",
              "    </tr>\n",
              "    <tr>\n",
              "      <th>4</th>\n",
              "      <td>-51</td>\n",
              "      <td>-35</td>\n",
              "      <td>-21</td>\n",
              "      <td>-51</td>\n",
              "      <td>-16</td>\n",
              "    </tr>\n",
              "    <tr>\n",
              "      <th>5</th>\n",
              "      <td>-45</td>\n",
              "      <td>-2</td>\n",
              "      <td>-94</td>\n",
              "      <td>-4</td>\n",
              "      <td>-50</td>\n",
              "    </tr>\n",
              "    <tr>\n",
              "      <th>6</th>\n",
              "      <td>-79</td>\n",
              "      <td>-50</td>\n",
              "      <td>-31</td>\n",
              "      <td>-16</td>\n",
              "      <td>-16</td>\n",
              "    </tr>\n",
              "    <tr>\n",
              "      <th>7</th>\n",
              "      <td>-54</td>\n",
              "      <td>-48</td>\n",
              "      <td>-19</td>\n",
              "      <td>-63</td>\n",
              "      <td>-18</td>\n",
              "    </tr>\n",
              "    <tr>\n",
              "      <th>8</th>\n",
              "      <td>-67</td>\n",
              "      <td>-46</td>\n",
              "      <td>-58</td>\n",
              "      <td>-82</td>\n",
              "      <td>-57</td>\n",
              "    </tr>\n",
              "    <tr>\n",
              "      <th>9</th>\n",
              "      <td>-61</td>\n",
              "      <td>-9</td>\n",
              "      <td>-66</td>\n",
              "      <td>-42</td>\n",
              "      <td>-68</td>\n",
              "    </tr>\n",
              "  </tbody>\n",
              "</table>\n",
              "</div>"
            ],
            "text/plain": [
              "    0   1   2   3   4\n",
              "0 -87 -25 -97 -46 -98\n",
              "1 -24 -75 -64  -9 -71\n",
              "2 -52 -22 -78 -81 -37\n",
              "3 -50  -5 -84 -81 -69\n",
              "4 -51 -35 -21 -51 -16\n",
              "5 -45  -2 -94  -4 -50\n",
              "6 -79 -50 -31 -16 -16\n",
              "7 -54 -48 -19 -63 -18\n",
              "8 -67 -46 -58 -82 -57\n",
              "9 -61  -9 -66 -42 -68"
            ]
          },
          "metadata": {},
          "execution_count": 41
        }
      ]
    },
    {
      "cell_type": "markdown",
      "metadata": {
        "id": "expanded-exhibition"
      },
      "source": [
        "### map(f)\n",
        "#### Aplica a função f sobre os elementos de uma Series."
      ],
      "id": "expanded-exhibition"
    },
    {
      "cell_type": "code",
      "metadata": {
        "colab": {
          "base_uri": "https://localhost:8080/",
          "height": 0
        },
        "id": "cooperative-simon",
        "outputId": "8274735f-d727-4e12-9c2e-20c3e1287b01"
      },
      "source": [
        "df14 = pd.DataFrame({'comida': ['bacon', 'porco desfiado', 'bacon', 'Pastrami', 'carne enlatada', \n",
        "                              'Bacon', 'pastrami', 'presunto', 'nova lox'], \n",
        "                     'ounces':[4, 3, 12, 6, 7.5, 8, 3, 5, 6]})\n",
        "df14"
      ],
      "id": "cooperative-simon",
      "execution_count": 42,
      "outputs": [
        {
          "output_type": "execute_result",
          "data": {
            "text/html": [
              "<div>\n",
              "<style scoped>\n",
              "    .dataframe tbody tr th:only-of-type {\n",
              "        vertical-align: middle;\n",
              "    }\n",
              "\n",
              "    .dataframe tbody tr th {\n",
              "        vertical-align: top;\n",
              "    }\n",
              "\n",
              "    .dataframe thead th {\n",
              "        text-align: right;\n",
              "    }\n",
              "</style>\n",
              "<table border=\"1\" class=\"dataframe\">\n",
              "  <thead>\n",
              "    <tr style=\"text-align: right;\">\n",
              "      <th></th>\n",
              "      <th>comida</th>\n",
              "      <th>ounces</th>\n",
              "    </tr>\n",
              "  </thead>\n",
              "  <tbody>\n",
              "    <tr>\n",
              "      <th>0</th>\n",
              "      <td>bacon</td>\n",
              "      <td>4.0</td>\n",
              "    </tr>\n",
              "    <tr>\n",
              "      <th>1</th>\n",
              "      <td>porco desfiado</td>\n",
              "      <td>3.0</td>\n",
              "    </tr>\n",
              "    <tr>\n",
              "      <th>2</th>\n",
              "      <td>bacon</td>\n",
              "      <td>12.0</td>\n",
              "    </tr>\n",
              "    <tr>\n",
              "      <th>3</th>\n",
              "      <td>Pastrami</td>\n",
              "      <td>6.0</td>\n",
              "    </tr>\n",
              "    <tr>\n",
              "      <th>4</th>\n",
              "      <td>carne enlatada</td>\n",
              "      <td>7.5</td>\n",
              "    </tr>\n",
              "    <tr>\n",
              "      <th>5</th>\n",
              "      <td>Bacon</td>\n",
              "      <td>8.0</td>\n",
              "    </tr>\n",
              "    <tr>\n",
              "      <th>6</th>\n",
              "      <td>pastrami</td>\n",
              "      <td>3.0</td>\n",
              "    </tr>\n",
              "    <tr>\n",
              "      <th>7</th>\n",
              "      <td>presunto</td>\n",
              "      <td>5.0</td>\n",
              "    </tr>\n",
              "    <tr>\n",
              "      <th>8</th>\n",
              "      <td>nova lox</td>\n",
              "      <td>6.0</td>\n",
              "    </tr>\n",
              "  </tbody>\n",
              "</table>\n",
              "</div>"
            ],
            "text/plain": [
              "           comida  ounces\n",
              "0           bacon     4.0\n",
              "1  porco desfiado     3.0\n",
              "2           bacon    12.0\n",
              "3        Pastrami     6.0\n",
              "4  carne enlatada     7.5\n",
              "5           Bacon     8.0\n",
              "6        pastrami     3.0\n",
              "7        presunto     5.0\n",
              "8        nova lox     6.0"
            ]
          },
          "metadata": {},
          "execution_count": 42
        }
      ]
    },
    {
      "cell_type": "code",
      "metadata": {
        "colab": {
          "base_uri": "https://localhost:8080/"
        },
        "id": "dated-commissioner",
        "outputId": "6ccefeac-4c31-4274-e6df-c927d532eca6"
      },
      "source": [
        "carne_para_animal = {'bacon': 'porco', \n",
        "                  'porco desfiado': 'porco', \n",
        "                  'pastrami': 'vaca', \n",
        "                  'carne enlatada': 'vaca', \n",
        "                  'presunto': 'porco', \n",
        "                  'nova lox': 'salmão'}\n",
        "carne_para_animal"
      ],
      "id": "dated-commissioner",
      "execution_count": 43,
      "outputs": [
        {
          "output_type": "execute_result",
          "data": {
            "text/plain": [
              "{'bacon': 'porco',\n",
              " 'carne enlatada': 'vaca',\n",
              " 'nova lox': 'salmão',\n",
              " 'pastrami': 'vaca',\n",
              " 'porco desfiado': 'porco',\n",
              " 'presunto': 'porco'}"
            ]
          },
          "metadata": {},
          "execution_count": 43
        }
      ]
    },
    {
      "cell_type": "code",
      "metadata": {
        "colab": {
          "base_uri": "https://localhost:8080/"
        },
        "id": "accessible-standing",
        "outputId": "8ebde65d-c2a4-4c2c-c68f-b45d74859d91"
      },
      "source": [
        "df14['animal'] = df14['comida'].str.lower().map(carne_para_animal)\n",
        "df14['animal']"
      ],
      "id": "accessible-standing",
      "execution_count": 44,
      "outputs": [
        {
          "output_type": "execute_result",
          "data": {
            "text/plain": [
              "0     porco\n",
              "1     porco\n",
              "2     porco\n",
              "3      vaca\n",
              "4      vaca\n",
              "5     porco\n",
              "6      vaca\n",
              "7     porco\n",
              "8    salmão\n",
              "Name: animal, dtype: object"
            ]
          },
          "metadata": {},
          "execution_count": 44
        }
      ]
    },
    {
      "cell_type": "markdown",
      "metadata": {
        "id": "broad-hawaii"
      },
      "source": [
        "-------------------------------------------------------------------------------------------------------"
      ],
      "id": "broad-hawaii"
    },
    {
      "cell_type": "markdown",
      "metadata": {
        "id": "floral-judge"
      },
      "source": [
        "## Ordenação e Edição"
      ],
      "id": "floral-judge"
    },
    {
      "cell_type": "markdown",
      "metadata": {
        "id": "crude-privacy"
      },
      "source": [
        "### Series\n",
        "#### São as estruturas de dados indexadas unidimensionais do Pandas."
      ],
      "id": "crude-privacy"
    },
    {
      "cell_type": "markdown",
      "metadata": {
        "id": "revised-billion"
      },
      "source": [
        "### sort_index() e sort_values()\n",
        "#### Ordena os índices e os valores respectivamente."
      ],
      "id": "revised-billion"
    },
    {
      "cell_type": "code",
      "metadata": {
        "colab": {
          "base_uri": "https://localhost:8080/"
        },
        "id": "subject-spelling",
        "outputId": "98bfff97-200d-474d-f8bd-725b2df92ca1"
      },
      "source": [
        "s3 = pd.Series([1, -4, 5, 3, 0, -1], index=['b', 'a', 'c', 'e', 'f', 'd'])\n",
        "s3"
      ],
      "id": "subject-spelling",
      "execution_count": 45,
      "outputs": [
        {
          "output_type": "execute_result",
          "data": {
            "text/plain": [
              "b    1\n",
              "a   -4\n",
              "c    5\n",
              "e    3\n",
              "f    0\n",
              "d   -1\n",
              "dtype: int64"
            ]
          },
          "metadata": {},
          "execution_count": 45
        }
      ]
    },
    {
      "cell_type": "code",
      "metadata": {
        "colab": {
          "base_uri": "https://localhost:8080/"
        },
        "id": "prostate-timeline",
        "outputId": "bb0f1c2c-4e9d-47bc-94c1-f18834a9188d"
      },
      "source": [
        "s3.sort_index()"
      ],
      "id": "prostate-timeline",
      "execution_count": 46,
      "outputs": [
        {
          "output_type": "execute_result",
          "data": {
            "text/plain": [
              "a   -4\n",
              "b    1\n",
              "c    5\n",
              "d   -1\n",
              "e    3\n",
              "f    0\n",
              "dtype: int64"
            ]
          },
          "metadata": {},
          "execution_count": 46
        }
      ]
    },
    {
      "cell_type": "code",
      "metadata": {
        "colab": {
          "base_uri": "https://localhost:8080/"
        },
        "id": "twenty-terminology",
        "outputId": "00fceb4a-3c3d-4c0e-9602-7135aefdd102"
      },
      "source": [
        "s3.sort_values(ascending=False) # Ordena em ordem decrescente."
      ],
      "id": "twenty-terminology",
      "execution_count": 47,
      "outputs": [
        {
          "output_type": "execute_result",
          "data": {
            "text/plain": [
              "c    5\n",
              "e    3\n",
              "b    1\n",
              "f    0\n",
              "d   -1\n",
              "a   -4\n",
              "dtype: int64"
            ]
          },
          "metadata": {},
          "execution_count": 47
        }
      ]
    },
    {
      "cell_type": "code",
      "metadata": {
        "scrolled": true,
        "colab": {
          "base_uri": "https://localhost:8080/",
          "height": 0
        },
        "id": "initial-retirement",
        "outputId": "c9db58b4-f47d-400b-af6e-bcea71b6874e"
      },
      "source": [
        "df5.sort_values(by='cinco') # Ordena os valores pela coluna 'cinco'."
      ],
      "id": "initial-retirement",
      "execution_count": 48,
      "outputs": [
        {
          "output_type": "execute_result",
          "data": {
            "text/html": [
              "<div>\n",
              "<style scoped>\n",
              "    .dataframe tbody tr th:only-of-type {\n",
              "        vertical-align: middle;\n",
              "    }\n",
              "\n",
              "    .dataframe tbody tr th {\n",
              "        vertical-align: top;\n",
              "    }\n",
              "\n",
              "    .dataframe thead th {\n",
              "        text-align: right;\n",
              "    }\n",
              "</style>\n",
              "<table border=\"1\" class=\"dataframe\">\n",
              "  <thead>\n",
              "    <tr style=\"text-align: right;\">\n",
              "      <th></th>\n",
              "      <th>três</th>\n",
              "      <th>um</th>\n",
              "      <th>cinco</th>\n",
              "      <th>dois</th>\n",
              "      <th>quatro</th>\n",
              "    </tr>\n",
              "  </thead>\n",
              "  <tbody>\n",
              "    <tr>\n",
              "      <th>a</th>\n",
              "      <td>48</td>\n",
              "      <td>18</td>\n",
              "      <td>28</td>\n",
              "      <td>90</td>\n",
              "      <td>20</td>\n",
              "    </tr>\n",
              "    <tr>\n",
              "      <th>k</th>\n",
              "      <td>16</td>\n",
              "      <td>82</td>\n",
              "      <td>76</td>\n",
              "      <td>95</td>\n",
              "      <td>74</td>\n",
              "    </tr>\n",
              "    <tr>\n",
              "      <th>b</th>\n",
              "      <td>47</td>\n",
              "      <td>54</td>\n",
              "      <td>92</td>\n",
              "      <td>19</td>\n",
              "      <td>40</td>\n",
              "    </tr>\n",
              "    <tr>\n",
              "      <th>o</th>\n",
              "      <td>44</td>\n",
              "      <td>47</td>\n",
              "      <td>92</td>\n",
              "      <td>0</td>\n",
              "      <td>30</td>\n",
              "    </tr>\n",
              "    <tr>\n",
              "      <th>e</th>\n",
              "      <td>79</td>\n",
              "      <td>39</td>\n",
              "      <td>97</td>\n",
              "      <td>84</td>\n",
              "      <td>23</td>\n",
              "    </tr>\n",
              "    <tr>\n",
              "      <th>i</th>\n",
              "      <td>18</td>\n",
              "      <td>46</td>\n",
              "      <td>99</td>\n",
              "      <td>36</td>\n",
              "      <td>39</td>\n",
              "    </tr>\n",
              "  </tbody>\n",
              "</table>\n",
              "</div>"
            ],
            "text/plain": [
              "   três  um  cinco  dois  quatro\n",
              "a    48  18     28    90      20\n",
              "k    16  82     76    95      74\n",
              "b    47  54     92    19      40\n",
              "o    44  47     92     0      30\n",
              "e    79  39     97    84      23\n",
              "i    18  46     99    36      39"
            ]
          },
          "metadata": {},
          "execution_count": 48
        }
      ]
    },
    {
      "cell_type": "markdown",
      "metadata": {
        "id": "veterinary-manufacturer"
      },
      "source": [
        "### replace() e rename()\n",
        "#### Altera os valores e os nomes dos índices e colunas respectivamente."
      ],
      "id": "veterinary-manufacturer"
    },
    {
      "cell_type": "code",
      "metadata": {
        "colab": {
          "base_uri": "https://localhost:8080/"
        },
        "id": "attended-scene",
        "outputId": "23ad4f78-41b5-464e-8ab9-c63f88ff7c31"
      },
      "source": [
        "s4 = pd.Series([1, -999, 2, 1000, -999])\n",
        "s4"
      ],
      "id": "attended-scene",
      "execution_count": 49,
      "outputs": [
        {
          "output_type": "execute_result",
          "data": {
            "text/plain": [
              "0       1\n",
              "1    -999\n",
              "2       2\n",
              "3    1000\n",
              "4    -999\n",
              "dtype: int64"
            ]
          },
          "metadata": {},
          "execution_count": 49
        }
      ]
    },
    {
      "cell_type": "code",
      "metadata": {
        "colab": {
          "base_uri": "https://localhost:8080/"
        },
        "id": "tropical-poison",
        "outputId": "f05cc707-ab6d-4ce1-d833-d457cef7d78a"
      },
      "source": [
        "s4.replace([1, -999], [0, 8]) # Passa-se a lista a ser substituída, e os valores substitutos."
      ],
      "id": "tropical-poison",
      "execution_count": 50,
      "outputs": [
        {
          "output_type": "execute_result",
          "data": {
            "text/plain": [
              "0       0\n",
              "1       8\n",
              "2       2\n",
              "3    1000\n",
              "4       8\n",
              "dtype: int64"
            ]
          },
          "metadata": {},
          "execution_count": 50
        }
      ]
    },
    {
      "cell_type": "code",
      "metadata": {
        "colab": {
          "base_uri": "https://localhost:8080/"
        },
        "id": "adjacent-diary",
        "outputId": "abc587da-cae1-43d0-beee-b56c1803f493"
      },
      "source": [
        "s4.replace({-999: 0, 1000: 1}, inplace=True) # Pode-se passar um dicionário também.\n",
        "s4"
      ],
      "id": "adjacent-diary",
      "execution_count": 51,
      "outputs": [
        {
          "output_type": "execute_result",
          "data": {
            "text/plain": [
              "0    1\n",
              "1    0\n",
              "2    2\n",
              "3    1\n",
              "4    0\n",
              "dtype: int64"
            ]
          },
          "metadata": {},
          "execution_count": 51
        }
      ]
    },
    {
      "cell_type": "code",
      "metadata": {
        "colab": {
          "base_uri": "https://localhost:8080/",
          "height": 0
        },
        "id": "exempt-helping",
        "outputId": "d1ebff05-112c-4a30-f811-ce5e67d67629"
      },
      "source": [
        "df15 = pd.DataFrame(np.arange(12).reshape(3, 4), \n",
        "                    index=['Ohio', 'Colorado', 'New York'], \n",
        "                    columns=['um', 'dois', 'três', 'quatro'])\n",
        "df15"
      ],
      "id": "exempt-helping",
      "execution_count": 52,
      "outputs": [
        {
          "output_type": "execute_result",
          "data": {
            "text/html": [
              "<div>\n",
              "<style scoped>\n",
              "    .dataframe tbody tr th:only-of-type {\n",
              "        vertical-align: middle;\n",
              "    }\n",
              "\n",
              "    .dataframe tbody tr th {\n",
              "        vertical-align: top;\n",
              "    }\n",
              "\n",
              "    .dataframe thead th {\n",
              "        text-align: right;\n",
              "    }\n",
              "</style>\n",
              "<table border=\"1\" class=\"dataframe\">\n",
              "  <thead>\n",
              "    <tr style=\"text-align: right;\">\n",
              "      <th></th>\n",
              "      <th>um</th>\n",
              "      <th>dois</th>\n",
              "      <th>três</th>\n",
              "      <th>quatro</th>\n",
              "    </tr>\n",
              "  </thead>\n",
              "  <tbody>\n",
              "    <tr>\n",
              "      <th>Ohio</th>\n",
              "      <td>0</td>\n",
              "      <td>1</td>\n",
              "      <td>2</td>\n",
              "      <td>3</td>\n",
              "    </tr>\n",
              "    <tr>\n",
              "      <th>Colorado</th>\n",
              "      <td>4</td>\n",
              "      <td>5</td>\n",
              "      <td>6</td>\n",
              "      <td>7</td>\n",
              "    </tr>\n",
              "    <tr>\n",
              "      <th>New York</th>\n",
              "      <td>8</td>\n",
              "      <td>9</td>\n",
              "      <td>10</td>\n",
              "      <td>11</td>\n",
              "    </tr>\n",
              "  </tbody>\n",
              "</table>\n",
              "</div>"
            ],
            "text/plain": [
              "          um  dois  três  quatro\n",
              "Ohio       0     1     2       3\n",
              "Colorado   4     5     6       7\n",
              "New York   8     9    10      11"
            ]
          },
          "metadata": {},
          "execution_count": 52
        }
      ]
    },
    {
      "cell_type": "code",
      "metadata": {
        "colab": {
          "base_uri": "https://localhost:8080/",
          "height": 0
        },
        "id": "sticky-chapel",
        "outputId": "fe314fbf-6fa2-4f95-fc9d-3dbf76589400"
      },
      "source": [
        "df15.rename(index={'Ohio': 'Indiana', 'Colorado': 'Texas'}, columns={'quatro': 'última'}, inplace=True)\n",
        "df15"
      ],
      "id": "sticky-chapel",
      "execution_count": 53,
      "outputs": [
        {
          "output_type": "execute_result",
          "data": {
            "text/html": [
              "<div>\n",
              "<style scoped>\n",
              "    .dataframe tbody tr th:only-of-type {\n",
              "        vertical-align: middle;\n",
              "    }\n",
              "\n",
              "    .dataframe tbody tr th {\n",
              "        vertical-align: top;\n",
              "    }\n",
              "\n",
              "    .dataframe thead th {\n",
              "        text-align: right;\n",
              "    }\n",
              "</style>\n",
              "<table border=\"1\" class=\"dataframe\">\n",
              "  <thead>\n",
              "    <tr style=\"text-align: right;\">\n",
              "      <th></th>\n",
              "      <th>um</th>\n",
              "      <th>dois</th>\n",
              "      <th>três</th>\n",
              "      <th>última</th>\n",
              "    </tr>\n",
              "  </thead>\n",
              "  <tbody>\n",
              "    <tr>\n",
              "      <th>Indiana</th>\n",
              "      <td>0</td>\n",
              "      <td>1</td>\n",
              "      <td>2</td>\n",
              "      <td>3</td>\n",
              "    </tr>\n",
              "    <tr>\n",
              "      <th>Texas</th>\n",
              "      <td>4</td>\n",
              "      <td>5</td>\n",
              "      <td>6</td>\n",
              "      <td>7</td>\n",
              "    </tr>\n",
              "    <tr>\n",
              "      <th>New York</th>\n",
              "      <td>8</td>\n",
              "      <td>9</td>\n",
              "      <td>10</td>\n",
              "      <td>11</td>\n",
              "    </tr>\n",
              "  </tbody>\n",
              "</table>\n",
              "</div>"
            ],
            "text/plain": [
              "          um  dois  três  última\n",
              "Indiana    0     1     2       3\n",
              "Texas      4     5     6       7\n",
              "New York   8     9    10      11"
            ]
          },
          "metadata": {},
          "execution_count": 53
        }
      ]
    },
    {
      "cell_type": "markdown",
      "metadata": {
        "id": "appointed-vanilla"
      },
      "source": [
        "### Adicionando uma nova linha ou coluna"
      ],
      "id": "appointed-vanilla"
    },
    {
      "cell_type": "code",
      "metadata": {
        "colab": {
          "base_uri": "https://localhost:8080/",
          "height": 0
        },
        "id": "skilled-amateur",
        "outputId": "b71ec7c5-0114-4597-d19f-70decce9d193"
      },
      "source": [
        "df16 = pd.DataFrame(np.random.rand(10).reshape(5, 2), index=range(5), columns=['c_a', 'c_b'])\n",
        "df16"
      ],
      "id": "skilled-amateur",
      "execution_count": 54,
      "outputs": [
        {
          "output_type": "execute_result",
          "data": {
            "text/html": [
              "<div>\n",
              "<style scoped>\n",
              "    .dataframe tbody tr th:only-of-type {\n",
              "        vertical-align: middle;\n",
              "    }\n",
              "\n",
              "    .dataframe tbody tr th {\n",
              "        vertical-align: top;\n",
              "    }\n",
              "\n",
              "    .dataframe thead th {\n",
              "        text-align: right;\n",
              "    }\n",
              "</style>\n",
              "<table border=\"1\" class=\"dataframe\">\n",
              "  <thead>\n",
              "    <tr style=\"text-align: right;\">\n",
              "      <th></th>\n",
              "      <th>c_a</th>\n",
              "      <th>c_b</th>\n",
              "    </tr>\n",
              "  </thead>\n",
              "  <tbody>\n",
              "    <tr>\n",
              "      <th>0</th>\n",
              "      <td>0.573932</td>\n",
              "      <td>0.580031</td>\n",
              "    </tr>\n",
              "    <tr>\n",
              "      <th>1</th>\n",
              "      <td>0.177637</td>\n",
              "      <td>0.599349</td>\n",
              "    </tr>\n",
              "    <tr>\n",
              "      <th>2</th>\n",
              "      <td>0.619115</td>\n",
              "      <td>0.875497</td>\n",
              "    </tr>\n",
              "    <tr>\n",
              "      <th>3</th>\n",
              "      <td>0.451622</td>\n",
              "      <td>0.760399</td>\n",
              "    </tr>\n",
              "    <tr>\n",
              "      <th>4</th>\n",
              "      <td>0.880991</td>\n",
              "      <td>0.667863</td>\n",
              "    </tr>\n",
              "  </tbody>\n",
              "</table>\n",
              "</div>"
            ],
            "text/plain": [
              "        c_a       c_b\n",
              "0  0.573932  0.580031\n",
              "1  0.177637  0.599349\n",
              "2  0.619115  0.875497\n",
              "3  0.451622  0.760399\n",
              "4  0.880991  0.667863"
            ]
          },
          "metadata": {},
          "execution_count": 54
        }
      ]
    },
    {
      "cell_type": "code",
      "metadata": {
        "colab": {
          "base_uri": "https://localhost:8080/",
          "height": 0
        },
        "id": "civilian-robinson",
        "outputId": "4cbb82dc-56e6-4fd5-8862-53d378b22f58"
      },
      "source": [
        "# Nova linha\n",
        "df16 = df16.append(pd.DataFrame([[1, 2]], index=[len(df16.index)], columns=df16.columns))\n",
        "df16"
      ],
      "id": "civilian-robinson",
      "execution_count": 55,
      "outputs": [
        {
          "output_type": "execute_result",
          "data": {
            "text/html": [
              "<div>\n",
              "<style scoped>\n",
              "    .dataframe tbody tr th:only-of-type {\n",
              "        vertical-align: middle;\n",
              "    }\n",
              "\n",
              "    .dataframe tbody tr th {\n",
              "        vertical-align: top;\n",
              "    }\n",
              "\n",
              "    .dataframe thead th {\n",
              "        text-align: right;\n",
              "    }\n",
              "</style>\n",
              "<table border=\"1\" class=\"dataframe\">\n",
              "  <thead>\n",
              "    <tr style=\"text-align: right;\">\n",
              "      <th></th>\n",
              "      <th>c_a</th>\n",
              "      <th>c_b</th>\n",
              "    </tr>\n",
              "  </thead>\n",
              "  <tbody>\n",
              "    <tr>\n",
              "      <th>0</th>\n",
              "      <td>0.573932</td>\n",
              "      <td>0.580031</td>\n",
              "    </tr>\n",
              "    <tr>\n",
              "      <th>1</th>\n",
              "      <td>0.177637</td>\n",
              "      <td>0.599349</td>\n",
              "    </tr>\n",
              "    <tr>\n",
              "      <th>2</th>\n",
              "      <td>0.619115</td>\n",
              "      <td>0.875497</td>\n",
              "    </tr>\n",
              "    <tr>\n",
              "      <th>3</th>\n",
              "      <td>0.451622</td>\n",
              "      <td>0.760399</td>\n",
              "    </tr>\n",
              "    <tr>\n",
              "      <th>4</th>\n",
              "      <td>0.880991</td>\n",
              "      <td>0.667863</td>\n",
              "    </tr>\n",
              "    <tr>\n",
              "      <th>5</th>\n",
              "      <td>1.000000</td>\n",
              "      <td>2.000000</td>\n",
              "    </tr>\n",
              "  </tbody>\n",
              "</table>\n",
              "</div>"
            ],
            "text/plain": [
              "        c_a       c_b\n",
              "0  0.573932  0.580031\n",
              "1  0.177637  0.599349\n",
              "2  0.619115  0.875497\n",
              "3  0.451622  0.760399\n",
              "4  0.880991  0.667863\n",
              "5  1.000000  2.000000"
            ]
          },
          "metadata": {},
          "execution_count": 55
        }
      ]
    },
    {
      "cell_type": "code",
      "metadata": {
        "colab": {
          "base_uri": "https://localhost:8080/",
          "height": 0
        },
        "id": "reported-female",
        "outputId": "f5dbd7cd-3663-4cc1-9158-286b2d6438ca"
      },
      "source": [
        "# Nova coluna\n",
        "df16 = df16.assign(c_c = range(1, 7))\n",
        "df16"
      ],
      "id": "reported-female",
      "execution_count": 56,
      "outputs": [
        {
          "output_type": "execute_result",
          "data": {
            "text/html": [
              "<div>\n",
              "<style scoped>\n",
              "    .dataframe tbody tr th:only-of-type {\n",
              "        vertical-align: middle;\n",
              "    }\n",
              "\n",
              "    .dataframe tbody tr th {\n",
              "        vertical-align: top;\n",
              "    }\n",
              "\n",
              "    .dataframe thead th {\n",
              "        text-align: right;\n",
              "    }\n",
              "</style>\n",
              "<table border=\"1\" class=\"dataframe\">\n",
              "  <thead>\n",
              "    <tr style=\"text-align: right;\">\n",
              "      <th></th>\n",
              "      <th>c_a</th>\n",
              "      <th>c_b</th>\n",
              "      <th>c_c</th>\n",
              "    </tr>\n",
              "  </thead>\n",
              "  <tbody>\n",
              "    <tr>\n",
              "      <th>0</th>\n",
              "      <td>0.573932</td>\n",
              "      <td>0.580031</td>\n",
              "      <td>1</td>\n",
              "    </tr>\n",
              "    <tr>\n",
              "      <th>1</th>\n",
              "      <td>0.177637</td>\n",
              "      <td>0.599349</td>\n",
              "      <td>2</td>\n",
              "    </tr>\n",
              "    <tr>\n",
              "      <th>2</th>\n",
              "      <td>0.619115</td>\n",
              "      <td>0.875497</td>\n",
              "      <td>3</td>\n",
              "    </tr>\n",
              "    <tr>\n",
              "      <th>3</th>\n",
              "      <td>0.451622</td>\n",
              "      <td>0.760399</td>\n",
              "      <td>4</td>\n",
              "    </tr>\n",
              "    <tr>\n",
              "      <th>4</th>\n",
              "      <td>0.880991</td>\n",
              "      <td>0.667863</td>\n",
              "      <td>5</td>\n",
              "    </tr>\n",
              "    <tr>\n",
              "      <th>5</th>\n",
              "      <td>1.000000</td>\n",
              "      <td>2.000000</td>\n",
              "      <td>6</td>\n",
              "    </tr>\n",
              "  </tbody>\n",
              "</table>\n",
              "</div>"
            ],
            "text/plain": [
              "        c_a       c_b  c_c\n",
              "0  0.573932  0.580031    1\n",
              "1  0.177637  0.599349    2\n",
              "2  0.619115  0.875497    3\n",
              "3  0.451622  0.760399    4\n",
              "4  0.880991  0.667863    5\n",
              "5  1.000000  2.000000    6"
            ]
          },
          "metadata": {},
          "execution_count": 56
        }
      ]
    },
    {
      "cell_type": "code",
      "metadata": {
        "colab": {
          "base_uri": "https://localhost:8080/",
          "height": 0
        },
        "id": "surface-ferry",
        "outputId": "4b5847a2-fb9a-49c1-d258-42f60f565e53"
      },
      "source": [
        "# Nova coluna\n",
        "df17 = pd.DataFrame(range(6), index=df16.index, columns=['c_d'])\n",
        "df16.join(df17)"
      ],
      "id": "surface-ferry",
      "execution_count": 57,
      "outputs": [
        {
          "output_type": "execute_result",
          "data": {
            "text/html": [
              "<div>\n",
              "<style scoped>\n",
              "    .dataframe tbody tr th:only-of-type {\n",
              "        vertical-align: middle;\n",
              "    }\n",
              "\n",
              "    .dataframe tbody tr th {\n",
              "        vertical-align: top;\n",
              "    }\n",
              "\n",
              "    .dataframe thead th {\n",
              "        text-align: right;\n",
              "    }\n",
              "</style>\n",
              "<table border=\"1\" class=\"dataframe\">\n",
              "  <thead>\n",
              "    <tr style=\"text-align: right;\">\n",
              "      <th></th>\n",
              "      <th>c_a</th>\n",
              "      <th>c_b</th>\n",
              "      <th>c_c</th>\n",
              "      <th>c_d</th>\n",
              "    </tr>\n",
              "  </thead>\n",
              "  <tbody>\n",
              "    <tr>\n",
              "      <th>0</th>\n",
              "      <td>0.573932</td>\n",
              "      <td>0.580031</td>\n",
              "      <td>1</td>\n",
              "      <td>0</td>\n",
              "    </tr>\n",
              "    <tr>\n",
              "      <th>1</th>\n",
              "      <td>0.177637</td>\n",
              "      <td>0.599349</td>\n",
              "      <td>2</td>\n",
              "      <td>1</td>\n",
              "    </tr>\n",
              "    <tr>\n",
              "      <th>2</th>\n",
              "      <td>0.619115</td>\n",
              "      <td>0.875497</td>\n",
              "      <td>3</td>\n",
              "      <td>2</td>\n",
              "    </tr>\n",
              "    <tr>\n",
              "      <th>3</th>\n",
              "      <td>0.451622</td>\n",
              "      <td>0.760399</td>\n",
              "      <td>4</td>\n",
              "      <td>3</td>\n",
              "    </tr>\n",
              "    <tr>\n",
              "      <th>4</th>\n",
              "      <td>0.880991</td>\n",
              "      <td>0.667863</td>\n",
              "      <td>5</td>\n",
              "      <td>4</td>\n",
              "    </tr>\n",
              "    <tr>\n",
              "      <th>5</th>\n",
              "      <td>1.000000</td>\n",
              "      <td>2.000000</td>\n",
              "      <td>6</td>\n",
              "      <td>5</td>\n",
              "    </tr>\n",
              "  </tbody>\n",
              "</table>\n",
              "</div>"
            ],
            "text/plain": [
              "        c_a       c_b  c_c  c_d\n",
              "0  0.573932  0.580031    1    0\n",
              "1  0.177637  0.599349    2    1\n",
              "2  0.619115  0.875497    3    2\n",
              "3  0.451622  0.760399    4    3\n",
              "4  0.880991  0.667863    5    4\n",
              "5  1.000000  2.000000    6    5"
            ]
          },
          "metadata": {},
          "execution_count": 57
        }
      ]
    },
    {
      "cell_type": "markdown",
      "metadata": {
        "id": "exact-nature"
      },
      "source": [
        "-------------------------------------------------------------------------------------------------------"
      ],
      "id": "exact-nature"
    },
    {
      "cell_type": "markdown",
      "metadata": {
        "id": "august-stability"
      },
      "source": [
        "## Métodos Estatísticos"
      ],
      "id": "august-stability"
    },
    {
      "cell_type": "markdown",
      "metadata": {
        "id": "disturbed-edwards"
      },
      "source": [
        "### describe()\n",
        "#### Mostra várias informações a respeito dos dados do DataFrame por coluna, incluindo quartis, média, desvio padrão, máximo, mínimo e número de elementos não nulos."
      ],
      "id": "disturbed-edwards"
    },
    {
      "cell_type": "code",
      "metadata": {
        "colab": {
          "base_uri": "https://localhost:8080/",
          "height": 0
        },
        "id": "lovely-bread",
        "outputId": "1d7fae69-aa68-42d4-b78f-9e8f46b0859a"
      },
      "source": [
        "df5.describe()"
      ],
      "id": "lovely-bread",
      "execution_count": 58,
      "outputs": [
        {
          "output_type": "execute_result",
          "data": {
            "text/html": [
              "<div>\n",
              "<style scoped>\n",
              "    .dataframe tbody tr th:only-of-type {\n",
              "        vertical-align: middle;\n",
              "    }\n",
              "\n",
              "    .dataframe tbody tr th {\n",
              "        vertical-align: top;\n",
              "    }\n",
              "\n",
              "    .dataframe thead th {\n",
              "        text-align: right;\n",
              "    }\n",
              "</style>\n",
              "<table border=\"1\" class=\"dataframe\">\n",
              "  <thead>\n",
              "    <tr style=\"text-align: right;\">\n",
              "      <th></th>\n",
              "      <th>três</th>\n",
              "      <th>um</th>\n",
              "      <th>cinco</th>\n",
              "      <th>dois</th>\n",
              "      <th>quatro</th>\n",
              "    </tr>\n",
              "  </thead>\n",
              "  <tbody>\n",
              "    <tr>\n",
              "      <th>count</th>\n",
              "      <td>6.000000</td>\n",
              "      <td>6.000000</td>\n",
              "      <td>6.000000</td>\n",
              "      <td>6.000000</td>\n",
              "      <td>6.000000</td>\n",
              "    </tr>\n",
              "    <tr>\n",
              "      <th>mean</th>\n",
              "      <td>42.000000</td>\n",
              "      <td>47.666667</td>\n",
              "      <td>80.666667</td>\n",
              "      <td>54.000000</td>\n",
              "      <td>37.666667</td>\n",
              "    </tr>\n",
              "    <tr>\n",
              "      <th>std</th>\n",
              "      <td>23.177575</td>\n",
              "      <td>20.867838</td>\n",
              "      <td>27.038245</td>\n",
              "      <td>40.846052</td>\n",
              "      <td>19.561868</td>\n",
              "    </tr>\n",
              "    <tr>\n",
              "      <th>min</th>\n",
              "      <td>16.000000</td>\n",
              "      <td>18.000000</td>\n",
              "      <td>28.000000</td>\n",
              "      <td>0.000000</td>\n",
              "      <td>20.000000</td>\n",
              "    </tr>\n",
              "    <tr>\n",
              "      <th>25%</th>\n",
              "      <td>24.500000</td>\n",
              "      <td>40.750000</td>\n",
              "      <td>80.000000</td>\n",
              "      <td>23.250000</td>\n",
              "      <td>24.750000</td>\n",
              "    </tr>\n",
              "    <tr>\n",
              "      <th>50%</th>\n",
              "      <td>45.500000</td>\n",
              "      <td>46.500000</td>\n",
              "      <td>92.000000</td>\n",
              "      <td>60.000000</td>\n",
              "      <td>34.500000</td>\n",
              "    </tr>\n",
              "    <tr>\n",
              "      <th>75%</th>\n",
              "      <td>47.750000</td>\n",
              "      <td>52.250000</td>\n",
              "      <td>95.750000</td>\n",
              "      <td>88.500000</td>\n",
              "      <td>39.750000</td>\n",
              "    </tr>\n",
              "    <tr>\n",
              "      <th>max</th>\n",
              "      <td>79.000000</td>\n",
              "      <td>82.000000</td>\n",
              "      <td>99.000000</td>\n",
              "      <td>95.000000</td>\n",
              "      <td>74.000000</td>\n",
              "    </tr>\n",
              "  </tbody>\n",
              "</table>\n",
              "</div>"
            ],
            "text/plain": [
              "            três         um      cinco       dois     quatro\n",
              "count   6.000000   6.000000   6.000000   6.000000   6.000000\n",
              "mean   42.000000  47.666667  80.666667  54.000000  37.666667\n",
              "std    23.177575  20.867838  27.038245  40.846052  19.561868\n",
              "min    16.000000  18.000000  28.000000   0.000000  20.000000\n",
              "25%    24.500000  40.750000  80.000000  23.250000  24.750000\n",
              "50%    45.500000  46.500000  92.000000  60.000000  34.500000\n",
              "75%    47.750000  52.250000  95.750000  88.500000  39.750000\n",
              "max    79.000000  82.000000  99.000000  95.000000  74.000000"
            ]
          },
          "metadata": {},
          "execution_count": 58
        }
      ]
    },
    {
      "cell_type": "markdown",
      "metadata": {
        "id": "sharing-length"
      },
      "source": [
        "### var()\n",
        "#### Calcula a variância."
      ],
      "id": "sharing-length"
    },
    {
      "cell_type": "code",
      "metadata": {
        "scrolled": true,
        "colab": {
          "base_uri": "https://localhost:8080/"
        },
        "id": "fifty-dance",
        "outputId": "6d3ad2da-4c92-413b-b24c-9b29f9edf562"
      },
      "source": [
        "df5.var()"
      ],
      "id": "fifty-dance",
      "execution_count": 59,
      "outputs": [
        {
          "output_type": "execute_result",
          "data": {
            "text/plain": [
              "três       537.200000\n",
              "um         435.466667\n",
              "cinco      731.066667\n",
              "dois      1668.400000\n",
              "quatro     382.666667\n",
              "dtype: float64"
            ]
          },
          "metadata": {},
          "execution_count": 59
        }
      ]
    },
    {
      "cell_type": "markdown",
      "metadata": {
        "id": "southern-horror"
      },
      "source": [
        "### std()\n",
        "#### Calcula o desvio padrão."
      ],
      "id": "southern-horror"
    },
    {
      "cell_type": "code",
      "metadata": {
        "colab": {
          "base_uri": "https://localhost:8080/"
        },
        "id": "wrapped-waste",
        "outputId": "d162e9ef-f432-4577-cb65-e34998a2107d"
      },
      "source": [
        "df5.std()"
      ],
      "id": "wrapped-waste",
      "execution_count": 60,
      "outputs": [
        {
          "output_type": "execute_result",
          "data": {
            "text/plain": [
              "três      23.177575\n",
              "um        20.867838\n",
              "cinco     27.038245\n",
              "dois      40.846052\n",
              "quatro    19.561868\n",
              "dtype: float64"
            ]
          },
          "metadata": {},
          "execution_count": 60
        }
      ]
    },
    {
      "cell_type": "markdown",
      "metadata": {
        "id": "indie-frank"
      },
      "source": [
        "### pct_change()\n",
        "#### Mudança percentual."
      ],
      "id": "indie-frank"
    },
    {
      "cell_type": "code",
      "metadata": {
        "colab": {
          "base_uri": "https://localhost:8080/",
          "height": 0
        },
        "id": "rational-qatar",
        "outputId": "3d0fe6eb-00d6-42cb-cb6d-ed32e6ec1f6c"
      },
      "source": [
        "df5.pct_change()"
      ],
      "id": "rational-qatar",
      "execution_count": 61,
      "outputs": [
        {
          "output_type": "execute_result",
          "data": {
            "text/html": [
              "<div>\n",
              "<style scoped>\n",
              "    .dataframe tbody tr th:only-of-type {\n",
              "        vertical-align: middle;\n",
              "    }\n",
              "\n",
              "    .dataframe tbody tr th {\n",
              "        vertical-align: top;\n",
              "    }\n",
              "\n",
              "    .dataframe thead th {\n",
              "        text-align: right;\n",
              "    }\n",
              "</style>\n",
              "<table border=\"1\" class=\"dataframe\">\n",
              "  <thead>\n",
              "    <tr style=\"text-align: right;\">\n",
              "      <th></th>\n",
              "      <th>três</th>\n",
              "      <th>um</th>\n",
              "      <th>cinco</th>\n",
              "      <th>dois</th>\n",
              "      <th>quatro</th>\n",
              "    </tr>\n",
              "  </thead>\n",
              "  <tbody>\n",
              "    <tr>\n",
              "      <th>a</th>\n",
              "      <td>NaN</td>\n",
              "      <td>NaN</td>\n",
              "      <td>NaN</td>\n",
              "      <td>NaN</td>\n",
              "      <td>NaN</td>\n",
              "    </tr>\n",
              "    <tr>\n",
              "      <th>k</th>\n",
              "      <td>-0.666667</td>\n",
              "      <td>3.555556</td>\n",
              "      <td>1.714286</td>\n",
              "      <td>0.055556</td>\n",
              "      <td>2.700000</td>\n",
              "    </tr>\n",
              "    <tr>\n",
              "      <th>b</th>\n",
              "      <td>1.937500</td>\n",
              "      <td>-0.341463</td>\n",
              "      <td>0.210526</td>\n",
              "      <td>-0.800000</td>\n",
              "      <td>-0.459459</td>\n",
              "    </tr>\n",
              "    <tr>\n",
              "      <th>i</th>\n",
              "      <td>-0.617021</td>\n",
              "      <td>-0.148148</td>\n",
              "      <td>0.076087</td>\n",
              "      <td>0.894737</td>\n",
              "      <td>-0.025000</td>\n",
              "    </tr>\n",
              "    <tr>\n",
              "      <th>e</th>\n",
              "      <td>3.388889</td>\n",
              "      <td>-0.152174</td>\n",
              "      <td>-0.020202</td>\n",
              "      <td>1.333333</td>\n",
              "      <td>-0.410256</td>\n",
              "    </tr>\n",
              "    <tr>\n",
              "      <th>o</th>\n",
              "      <td>-0.443038</td>\n",
              "      <td>0.205128</td>\n",
              "      <td>-0.051546</td>\n",
              "      <td>-1.000000</td>\n",
              "      <td>0.304348</td>\n",
              "    </tr>\n",
              "  </tbody>\n",
              "</table>\n",
              "</div>"
            ],
            "text/plain": [
              "       três        um     cinco      dois    quatro\n",
              "a       NaN       NaN       NaN       NaN       NaN\n",
              "k -0.666667  3.555556  1.714286  0.055556  2.700000\n",
              "b  1.937500 -0.341463  0.210526 -0.800000 -0.459459\n",
              "i -0.617021 -0.148148  0.076087  0.894737 -0.025000\n",
              "e  3.388889 -0.152174 -0.020202  1.333333 -0.410256\n",
              "o -0.443038  0.205128 -0.051546 -1.000000  0.304348"
            ]
          },
          "metadata": {},
          "execution_count": 61
        }
      ]
    },
    {
      "cell_type": "markdown",
      "metadata": {
        "id": "fourth-taste"
      },
      "source": [
        "### diff()\n",
        "#### Diferença de valores entre a linha atual e a predecessora."
      ],
      "id": "fourth-taste"
    },
    {
      "cell_type": "code",
      "metadata": {
        "scrolled": true,
        "colab": {
          "base_uri": "https://localhost:8080/",
          "height": 0
        },
        "id": "orange-suspension",
        "outputId": "2d01662f-f4a0-4f15-8ca3-ee272cc50068"
      },
      "source": [
        "df5"
      ],
      "id": "orange-suspension",
      "execution_count": 62,
      "outputs": [
        {
          "output_type": "execute_result",
          "data": {
            "text/html": [
              "<div>\n",
              "<style scoped>\n",
              "    .dataframe tbody tr th:only-of-type {\n",
              "        vertical-align: middle;\n",
              "    }\n",
              "\n",
              "    .dataframe tbody tr th {\n",
              "        vertical-align: top;\n",
              "    }\n",
              "\n",
              "    .dataframe thead th {\n",
              "        text-align: right;\n",
              "    }\n",
              "</style>\n",
              "<table border=\"1\" class=\"dataframe\">\n",
              "  <thead>\n",
              "    <tr style=\"text-align: right;\">\n",
              "      <th></th>\n",
              "      <th>três</th>\n",
              "      <th>um</th>\n",
              "      <th>cinco</th>\n",
              "      <th>dois</th>\n",
              "      <th>quatro</th>\n",
              "    </tr>\n",
              "  </thead>\n",
              "  <tbody>\n",
              "    <tr>\n",
              "      <th>a</th>\n",
              "      <td>48</td>\n",
              "      <td>18</td>\n",
              "      <td>28</td>\n",
              "      <td>90</td>\n",
              "      <td>20</td>\n",
              "    </tr>\n",
              "    <tr>\n",
              "      <th>k</th>\n",
              "      <td>16</td>\n",
              "      <td>82</td>\n",
              "      <td>76</td>\n",
              "      <td>95</td>\n",
              "      <td>74</td>\n",
              "    </tr>\n",
              "    <tr>\n",
              "      <th>b</th>\n",
              "      <td>47</td>\n",
              "      <td>54</td>\n",
              "      <td>92</td>\n",
              "      <td>19</td>\n",
              "      <td>40</td>\n",
              "    </tr>\n",
              "    <tr>\n",
              "      <th>i</th>\n",
              "      <td>18</td>\n",
              "      <td>46</td>\n",
              "      <td>99</td>\n",
              "      <td>36</td>\n",
              "      <td>39</td>\n",
              "    </tr>\n",
              "    <tr>\n",
              "      <th>e</th>\n",
              "      <td>79</td>\n",
              "      <td>39</td>\n",
              "      <td>97</td>\n",
              "      <td>84</td>\n",
              "      <td>23</td>\n",
              "    </tr>\n",
              "    <tr>\n",
              "      <th>o</th>\n",
              "      <td>44</td>\n",
              "      <td>47</td>\n",
              "      <td>92</td>\n",
              "      <td>0</td>\n",
              "      <td>30</td>\n",
              "    </tr>\n",
              "  </tbody>\n",
              "</table>\n",
              "</div>"
            ],
            "text/plain": [
              "   três  um  cinco  dois  quatro\n",
              "a    48  18     28    90      20\n",
              "k    16  82     76    95      74\n",
              "b    47  54     92    19      40\n",
              "i    18  46     99    36      39\n",
              "e    79  39     97    84      23\n",
              "o    44  47     92     0      30"
            ]
          },
          "metadata": {},
          "execution_count": 62
        }
      ]
    },
    {
      "cell_type": "code",
      "metadata": {
        "colab": {
          "base_uri": "https://localhost:8080/",
          "height": 0
        },
        "id": "metallic-vegetation",
        "outputId": "efe0727d-7271-429f-878d-d8b560e2a680"
      },
      "source": [
        "df5.diff()"
      ],
      "id": "metallic-vegetation",
      "execution_count": 63,
      "outputs": [
        {
          "output_type": "execute_result",
          "data": {
            "text/html": [
              "<div>\n",
              "<style scoped>\n",
              "    .dataframe tbody tr th:only-of-type {\n",
              "        vertical-align: middle;\n",
              "    }\n",
              "\n",
              "    .dataframe tbody tr th {\n",
              "        vertical-align: top;\n",
              "    }\n",
              "\n",
              "    .dataframe thead th {\n",
              "        text-align: right;\n",
              "    }\n",
              "</style>\n",
              "<table border=\"1\" class=\"dataframe\">\n",
              "  <thead>\n",
              "    <tr style=\"text-align: right;\">\n",
              "      <th></th>\n",
              "      <th>três</th>\n",
              "      <th>um</th>\n",
              "      <th>cinco</th>\n",
              "      <th>dois</th>\n",
              "      <th>quatro</th>\n",
              "    </tr>\n",
              "  </thead>\n",
              "  <tbody>\n",
              "    <tr>\n",
              "      <th>a</th>\n",
              "      <td>NaN</td>\n",
              "      <td>NaN</td>\n",
              "      <td>NaN</td>\n",
              "      <td>NaN</td>\n",
              "      <td>NaN</td>\n",
              "    </tr>\n",
              "    <tr>\n",
              "      <th>k</th>\n",
              "      <td>-32.0</td>\n",
              "      <td>64.0</td>\n",
              "      <td>48.0</td>\n",
              "      <td>5.0</td>\n",
              "      <td>54.0</td>\n",
              "    </tr>\n",
              "    <tr>\n",
              "      <th>b</th>\n",
              "      <td>31.0</td>\n",
              "      <td>-28.0</td>\n",
              "      <td>16.0</td>\n",
              "      <td>-76.0</td>\n",
              "      <td>-34.0</td>\n",
              "    </tr>\n",
              "    <tr>\n",
              "      <th>i</th>\n",
              "      <td>-29.0</td>\n",
              "      <td>-8.0</td>\n",
              "      <td>7.0</td>\n",
              "      <td>17.0</td>\n",
              "      <td>-1.0</td>\n",
              "    </tr>\n",
              "    <tr>\n",
              "      <th>e</th>\n",
              "      <td>61.0</td>\n",
              "      <td>-7.0</td>\n",
              "      <td>-2.0</td>\n",
              "      <td>48.0</td>\n",
              "      <td>-16.0</td>\n",
              "    </tr>\n",
              "    <tr>\n",
              "      <th>o</th>\n",
              "      <td>-35.0</td>\n",
              "      <td>8.0</td>\n",
              "      <td>-5.0</td>\n",
              "      <td>-84.0</td>\n",
              "      <td>7.0</td>\n",
              "    </tr>\n",
              "  </tbody>\n",
              "</table>\n",
              "</div>"
            ],
            "text/plain": [
              "   três    um  cinco  dois  quatro\n",
              "a   NaN   NaN    NaN   NaN     NaN\n",
              "k -32.0  64.0   48.0   5.0    54.0\n",
              "b  31.0 -28.0   16.0 -76.0   -34.0\n",
              "i -29.0  -8.0    7.0  17.0    -1.0\n",
              "e  61.0  -7.0   -2.0  48.0   -16.0\n",
              "o -35.0   8.0   -5.0 -84.0     7.0"
            ]
          },
          "metadata": {},
          "execution_count": 63
        }
      ]
    },
    {
      "cell_type": "markdown",
      "metadata": {
        "id": "temporal-tucson"
      },
      "source": [
        "### corr() e cov()\n",
        "#### Calcula a correlação e a covariância entre dois objetos respectivamente."
      ],
      "id": "temporal-tucson"
    },
    {
      "cell_type": "code",
      "metadata": {
        "colab": {
          "base_uri": "https://localhost:8080/",
          "height": 0
        },
        "id": "weighted-calgary",
        "outputId": "309880fc-2252-4fd4-9d74-387b78136b5f"
      },
      "source": [
        "d3 = {'Câmbio': [3.3, 3.4, 4.1], 'Retorno de Y': [5.3, 6.5, 7.1]}\n",
        "df18 = pd.DataFrame(d3, index= [1, 2, 3])\n",
        "df18.index.name = 'Período'\n",
        "df18"
      ],
      "id": "weighted-calgary",
      "execution_count": 64,
      "outputs": [
        {
          "output_type": "execute_result",
          "data": {
            "text/html": [
              "<div>\n",
              "<style scoped>\n",
              "    .dataframe tbody tr th:only-of-type {\n",
              "        vertical-align: middle;\n",
              "    }\n",
              "\n",
              "    .dataframe tbody tr th {\n",
              "        vertical-align: top;\n",
              "    }\n",
              "\n",
              "    .dataframe thead th {\n",
              "        text-align: right;\n",
              "    }\n",
              "</style>\n",
              "<table border=\"1\" class=\"dataframe\">\n",
              "  <thead>\n",
              "    <tr style=\"text-align: right;\">\n",
              "      <th></th>\n",
              "      <th>Câmbio</th>\n",
              "      <th>Retorno de Y</th>\n",
              "    </tr>\n",
              "    <tr>\n",
              "      <th>Período</th>\n",
              "      <th></th>\n",
              "      <th></th>\n",
              "    </tr>\n",
              "  </thead>\n",
              "  <tbody>\n",
              "    <tr>\n",
              "      <th>1</th>\n",
              "      <td>3.3</td>\n",
              "      <td>5.3</td>\n",
              "    </tr>\n",
              "    <tr>\n",
              "      <th>2</th>\n",
              "      <td>3.4</td>\n",
              "      <td>6.5</td>\n",
              "    </tr>\n",
              "    <tr>\n",
              "      <th>3</th>\n",
              "      <td>4.1</td>\n",
              "      <td>7.1</td>\n",
              "    </tr>\n",
              "  </tbody>\n",
              "</table>\n",
              "</div>"
            ],
            "text/plain": [
              "         Câmbio  Retorno de Y\n",
              "Período                      \n",
              "1           3.3           5.3\n",
              "2           3.4           6.5\n",
              "3           4.1           7.1"
            ]
          },
          "metadata": {},
          "execution_count": 64
        }
      ]
    },
    {
      "cell_type": "code",
      "metadata": {
        "colab": {
          "base_uri": "https://localhost:8080/"
        },
        "id": "technological-camel",
        "outputId": "7b044041-d483-4f78-ca2d-1d9f2038fa7d"
      },
      "source": [
        "round(df18['Câmbio'].corr(df18['Retorno de Y']), 2)"
      ],
      "id": "technological-camel",
      "execution_count": 65,
      "outputs": [
        {
          "output_type": "execute_result",
          "data": {
            "text/plain": [
              "0.83"
            ]
          },
          "metadata": {},
          "execution_count": 65
        }
      ]
    },
    {
      "cell_type": "code",
      "metadata": {
        "colab": {
          "base_uri": "https://localhost:8080/"
        },
        "id": "viral-occupation",
        "outputId": "912f9e18-ef02-4c7e-afd0-af025775b3e8"
      },
      "source": [
        "round(df18.Câmbio.cov(df18['Retorno de Y']), 2)"
      ],
      "id": "viral-occupation",
      "execution_count": 66,
      "outputs": [
        {
          "output_type": "execute_result",
          "data": {
            "text/plain": [
              "0.33"
            ]
          },
          "metadata": {},
          "execution_count": 66
        }
      ]
    },
    {
      "cell_type": "markdown",
      "metadata": {
        "id": "inside-friday"
      },
      "source": [
        "-------------------------------------------------------------------------------------------------------"
      ],
      "id": "inside-friday"
    },
    {
      "cell_type": "markdown",
      "metadata": {
        "id": "ready-donna"
      },
      "source": [
        "## Duplicatas"
      ],
      "id": "ready-donna"
    },
    {
      "cell_type": "markdown",
      "metadata": {
        "id": "urban-congress"
      },
      "source": [
        "### duplicate() e drop_duplicates()\n",
        "#### Identifica e exclui duplicatas respectivamente."
      ],
      "id": "urban-congress"
    },
    {
      "cell_type": "code",
      "metadata": {
        "colab": {
          "base_uri": "https://localhost:8080/",
          "height": 0
        },
        "id": "forbidden-michigan",
        "outputId": "755b2bda-96db-4a53-af79-89eef6c2f0b9"
      },
      "source": [
        "df19 = pd.DataFrame({'k1': ['um', 'dois'] * 3 + ['dois'], 'k2':list(range(6)) + [5]})\n",
        "df19"
      ],
      "id": "forbidden-michigan",
      "execution_count": 67,
      "outputs": [
        {
          "output_type": "execute_result",
          "data": {
            "text/html": [
              "<div>\n",
              "<style scoped>\n",
              "    .dataframe tbody tr th:only-of-type {\n",
              "        vertical-align: middle;\n",
              "    }\n",
              "\n",
              "    .dataframe tbody tr th {\n",
              "        vertical-align: top;\n",
              "    }\n",
              "\n",
              "    .dataframe thead th {\n",
              "        text-align: right;\n",
              "    }\n",
              "</style>\n",
              "<table border=\"1\" class=\"dataframe\">\n",
              "  <thead>\n",
              "    <tr style=\"text-align: right;\">\n",
              "      <th></th>\n",
              "      <th>k1</th>\n",
              "      <th>k2</th>\n",
              "    </tr>\n",
              "  </thead>\n",
              "  <tbody>\n",
              "    <tr>\n",
              "      <th>0</th>\n",
              "      <td>um</td>\n",
              "      <td>0</td>\n",
              "    </tr>\n",
              "    <tr>\n",
              "      <th>1</th>\n",
              "      <td>dois</td>\n",
              "      <td>1</td>\n",
              "    </tr>\n",
              "    <tr>\n",
              "      <th>2</th>\n",
              "      <td>um</td>\n",
              "      <td>2</td>\n",
              "    </tr>\n",
              "    <tr>\n",
              "      <th>3</th>\n",
              "      <td>dois</td>\n",
              "      <td>3</td>\n",
              "    </tr>\n",
              "    <tr>\n",
              "      <th>4</th>\n",
              "      <td>um</td>\n",
              "      <td>4</td>\n",
              "    </tr>\n",
              "    <tr>\n",
              "      <th>5</th>\n",
              "      <td>dois</td>\n",
              "      <td>5</td>\n",
              "    </tr>\n",
              "    <tr>\n",
              "      <th>6</th>\n",
              "      <td>dois</td>\n",
              "      <td>5</td>\n",
              "    </tr>\n",
              "  </tbody>\n",
              "</table>\n",
              "</div>"
            ],
            "text/plain": [
              "     k1  k2\n",
              "0    um   0\n",
              "1  dois   1\n",
              "2    um   2\n",
              "3  dois   3\n",
              "4    um   4\n",
              "5  dois   5\n",
              "6  dois   5"
            ]
          },
          "metadata": {},
          "execution_count": 67
        }
      ]
    },
    {
      "cell_type": "code",
      "metadata": {
        "colab": {
          "base_uri": "https://localhost:8080/"
        },
        "id": "presidential-livestock",
        "outputId": "4de870aa-a762-4c4e-bdda-81aa4406946f"
      },
      "source": [
        "df19.duplicated()"
      ],
      "id": "presidential-livestock",
      "execution_count": 68,
      "outputs": [
        {
          "output_type": "execute_result",
          "data": {
            "text/plain": [
              "0    False\n",
              "1    False\n",
              "2    False\n",
              "3    False\n",
              "4    False\n",
              "5    False\n",
              "6     True\n",
              "dtype: bool"
            ]
          },
          "metadata": {},
          "execution_count": 68
        }
      ]
    },
    {
      "cell_type": "code",
      "metadata": {
        "colab": {
          "base_uri": "https://localhost:8080/",
          "height": 0
        },
        "id": "bored-comparison",
        "outputId": "85a294db-acd8-4546-933a-179efb96e3ac"
      },
      "source": [
        "df19.drop_duplicates()"
      ],
      "id": "bored-comparison",
      "execution_count": 69,
      "outputs": [
        {
          "output_type": "execute_result",
          "data": {
            "text/html": [
              "<div>\n",
              "<style scoped>\n",
              "    .dataframe tbody tr th:only-of-type {\n",
              "        vertical-align: middle;\n",
              "    }\n",
              "\n",
              "    .dataframe tbody tr th {\n",
              "        vertical-align: top;\n",
              "    }\n",
              "\n",
              "    .dataframe thead th {\n",
              "        text-align: right;\n",
              "    }\n",
              "</style>\n",
              "<table border=\"1\" class=\"dataframe\">\n",
              "  <thead>\n",
              "    <tr style=\"text-align: right;\">\n",
              "      <th></th>\n",
              "      <th>k1</th>\n",
              "      <th>k2</th>\n",
              "    </tr>\n",
              "  </thead>\n",
              "  <tbody>\n",
              "    <tr>\n",
              "      <th>0</th>\n",
              "      <td>um</td>\n",
              "      <td>0</td>\n",
              "    </tr>\n",
              "    <tr>\n",
              "      <th>1</th>\n",
              "      <td>dois</td>\n",
              "      <td>1</td>\n",
              "    </tr>\n",
              "    <tr>\n",
              "      <th>2</th>\n",
              "      <td>um</td>\n",
              "      <td>2</td>\n",
              "    </tr>\n",
              "    <tr>\n",
              "      <th>3</th>\n",
              "      <td>dois</td>\n",
              "      <td>3</td>\n",
              "    </tr>\n",
              "    <tr>\n",
              "      <th>4</th>\n",
              "      <td>um</td>\n",
              "      <td>4</td>\n",
              "    </tr>\n",
              "    <tr>\n",
              "      <th>5</th>\n",
              "      <td>dois</td>\n",
              "      <td>5</td>\n",
              "    </tr>\n",
              "  </tbody>\n",
              "</table>\n",
              "</div>"
            ],
            "text/plain": [
              "     k1  k2\n",
              "0    um   0\n",
              "1  dois   1\n",
              "2    um   2\n",
              "3  dois   3\n",
              "4    um   4\n",
              "5  dois   5"
            ]
          },
          "metadata": {},
          "execution_count": 69
        }
      ]
    },
    {
      "cell_type": "code",
      "metadata": {
        "colab": {
          "base_uri": "https://localhost:8080/",
          "height": 0
        },
        "id": "increasing-intermediate",
        "outputId": "007dc8eb-6b57-42e1-8969-aa7134bb9d90"
      },
      "source": [
        "df19.drop_duplicates(['k1']) # Retorna sem duplicatas na coluna k1."
      ],
      "id": "increasing-intermediate",
      "execution_count": 70,
      "outputs": [
        {
          "output_type": "execute_result",
          "data": {
            "text/html": [
              "<div>\n",
              "<style scoped>\n",
              "    .dataframe tbody tr th:only-of-type {\n",
              "        vertical-align: middle;\n",
              "    }\n",
              "\n",
              "    .dataframe tbody tr th {\n",
              "        vertical-align: top;\n",
              "    }\n",
              "\n",
              "    .dataframe thead th {\n",
              "        text-align: right;\n",
              "    }\n",
              "</style>\n",
              "<table border=\"1\" class=\"dataframe\">\n",
              "  <thead>\n",
              "    <tr style=\"text-align: right;\">\n",
              "      <th></th>\n",
              "      <th>k1</th>\n",
              "      <th>k2</th>\n",
              "    </tr>\n",
              "  </thead>\n",
              "  <tbody>\n",
              "    <tr>\n",
              "      <th>0</th>\n",
              "      <td>um</td>\n",
              "      <td>0</td>\n",
              "    </tr>\n",
              "    <tr>\n",
              "      <th>1</th>\n",
              "      <td>dois</td>\n",
              "      <td>1</td>\n",
              "    </tr>\n",
              "  </tbody>\n",
              "</table>\n",
              "</div>"
            ],
            "text/plain": [
              "     k1  k2\n",
              "0    um   0\n",
              "1  dois   1"
            ]
          },
          "metadata": {},
          "execution_count": 70
        }
      ]
    },
    {
      "cell_type": "code",
      "metadata": {
        "colab": {
          "base_uri": "https://localhost:8080/",
          "height": 0
        },
        "id": "utility-gregory",
        "outputId": "1e343253-a936-4e7d-d5d2-514b32a11cdf"
      },
      "source": [
        "df19.drop_duplicates(keep='last') # Retorna sem duplicatas mantendo o último registro visto."
      ],
      "id": "utility-gregory",
      "execution_count": 71,
      "outputs": [
        {
          "output_type": "execute_result",
          "data": {
            "text/html": [
              "<div>\n",
              "<style scoped>\n",
              "    .dataframe tbody tr th:only-of-type {\n",
              "        vertical-align: middle;\n",
              "    }\n",
              "\n",
              "    .dataframe tbody tr th {\n",
              "        vertical-align: top;\n",
              "    }\n",
              "\n",
              "    .dataframe thead th {\n",
              "        text-align: right;\n",
              "    }\n",
              "</style>\n",
              "<table border=\"1\" class=\"dataframe\">\n",
              "  <thead>\n",
              "    <tr style=\"text-align: right;\">\n",
              "      <th></th>\n",
              "      <th>k1</th>\n",
              "      <th>k2</th>\n",
              "    </tr>\n",
              "  </thead>\n",
              "  <tbody>\n",
              "    <tr>\n",
              "      <th>0</th>\n",
              "      <td>um</td>\n",
              "      <td>0</td>\n",
              "    </tr>\n",
              "    <tr>\n",
              "      <th>1</th>\n",
              "      <td>dois</td>\n",
              "      <td>1</td>\n",
              "    </tr>\n",
              "    <tr>\n",
              "      <th>2</th>\n",
              "      <td>um</td>\n",
              "      <td>2</td>\n",
              "    </tr>\n",
              "    <tr>\n",
              "      <th>3</th>\n",
              "      <td>dois</td>\n",
              "      <td>3</td>\n",
              "    </tr>\n",
              "    <tr>\n",
              "      <th>4</th>\n",
              "      <td>um</td>\n",
              "      <td>4</td>\n",
              "    </tr>\n",
              "    <tr>\n",
              "      <th>6</th>\n",
              "      <td>dois</td>\n",
              "      <td>5</td>\n",
              "    </tr>\n",
              "  </tbody>\n",
              "</table>\n",
              "</div>"
            ],
            "text/plain": [
              "     k1  k2\n",
              "0    um   0\n",
              "1  dois   1\n",
              "2    um   2\n",
              "3  dois   3\n",
              "4    um   4\n",
              "6  dois   5"
            ]
          },
          "metadata": {},
          "execution_count": 71
        }
      ]
    },
    {
      "cell_type": "markdown",
      "metadata": {
        "id": "identified-incentive"
      },
      "source": [
        "-------------------------------------------------------------------------------------------------------"
      ],
      "id": "identified-incentive"
    },
    {
      "cell_type": "markdown",
      "metadata": {
        "id": "transsexual-tunisia"
      },
      "source": [
        "## Intervalos"
      ],
      "id": "transsexual-tunisia"
    },
    {
      "cell_type": "markdown",
      "metadata": {
        "id": "scheduled-advice"
      },
      "source": [
        "### cut(l1, l2)\n",
        "#### Cria seções baseado nos valores de l1 e l2. l1 será dividido de acordo com os intervalos formados pelos elementos de l2."
      ],
      "id": "scheduled-advice"
    },
    {
      "cell_type": "code",
      "metadata": {
        "colab": {
          "base_uri": "https://localhost:8080/"
        },
        "id": "eligible-passion",
        "outputId": "2d1b074c-39d0-4bdf-ab91-b5fd2facba70"
      },
      "source": [
        "alturas = [153, 165, 149, 170, 183, 167, 177, 190, 202, 160]\n",
        "intervalos = [0, 165, 185, 230]\n",
        "rotulos_grupos = ['Baixo', 'Média', 'Alto']\n",
        "\n",
        "secoes = pd.cut(alturas, intervalos, right=False)\n",
        "secoes"
      ],
      "id": "eligible-passion",
      "execution_count": 72,
      "outputs": [
        {
          "output_type": "execute_result",
          "data": {
            "text/plain": [
              "[[0, 165), [165, 185), [0, 165), [165, 185), [165, 185), [165, 185), [165, 185), [185, 230), [185, 230), [0, 165)]\n",
              "Categories (3, interval[int64]): [[0, 165) < [165, 185) < [185, 230)]"
            ]
          },
          "metadata": {},
          "execution_count": 72
        }
      ]
    },
    {
      "cell_type": "code",
      "metadata": {
        "scrolled": true,
        "colab": {
          "base_uri": "https://localhost:8080/"
        },
        "id": "appreciated-warren",
        "outputId": "ec581255-9c6c-47b0-e488-891e63cddca6"
      },
      "source": [
        "secoes.categories"
      ],
      "id": "appreciated-warren",
      "execution_count": 73,
      "outputs": [
        {
          "output_type": "execute_result",
          "data": {
            "text/plain": [
              "IntervalIndex([[0, 165), [165, 185), [185, 230)],\n",
              "              closed='left',\n",
              "              dtype='interval[int64]')"
            ]
          },
          "metadata": {},
          "execution_count": 73
        }
      ]
    },
    {
      "cell_type": "code",
      "metadata": {
        "colab": {
          "base_uri": "https://localhost:8080/",
          "height": 0
        },
        "id": "charitable-criticism",
        "outputId": "5401821a-03e0-4bd4-b2bb-ce06e51aa774"
      },
      "source": [
        "secoes.describe()"
      ],
      "id": "charitable-criticism",
      "execution_count": 74,
      "outputs": [
        {
          "output_type": "execute_result",
          "data": {
            "text/html": [
              "<div>\n",
              "<style scoped>\n",
              "    .dataframe tbody tr th:only-of-type {\n",
              "        vertical-align: middle;\n",
              "    }\n",
              "\n",
              "    .dataframe tbody tr th {\n",
              "        vertical-align: top;\n",
              "    }\n",
              "\n",
              "    .dataframe thead th {\n",
              "        text-align: right;\n",
              "    }\n",
              "</style>\n",
              "<table border=\"1\" class=\"dataframe\">\n",
              "  <thead>\n",
              "    <tr style=\"text-align: right;\">\n",
              "      <th></th>\n",
              "      <th>counts</th>\n",
              "      <th>freqs</th>\n",
              "    </tr>\n",
              "    <tr>\n",
              "      <th>categories</th>\n",
              "      <th></th>\n",
              "      <th></th>\n",
              "    </tr>\n",
              "  </thead>\n",
              "  <tbody>\n",
              "    <tr>\n",
              "      <th>[0, 165)</th>\n",
              "      <td>3</td>\n",
              "      <td>0.3</td>\n",
              "    </tr>\n",
              "    <tr>\n",
              "      <th>[165, 185)</th>\n",
              "      <td>5</td>\n",
              "      <td>0.5</td>\n",
              "    </tr>\n",
              "    <tr>\n",
              "      <th>[185, 230)</th>\n",
              "      <td>2</td>\n",
              "      <td>0.2</td>\n",
              "    </tr>\n",
              "  </tbody>\n",
              "</table>\n",
              "</div>"
            ],
            "text/plain": [
              "            counts  freqs\n",
              "categories               \n",
              "[0, 165)         3    0.3\n",
              "[165, 185)       5    0.5\n",
              "[185, 230)       2    0.2"
            ]
          },
          "metadata": {},
          "execution_count": 74
        }
      ]
    },
    {
      "cell_type": "markdown",
      "metadata": {
        "id": "genetic-partnership"
      },
      "source": [
        "### qcut(l1, n)\n",
        "#### Faz a mesma operação que cut(), mas divide l1 em n intervalos de tamanhos iguais (quantis)."
      ],
      "id": "genetic-partnership"
    },
    {
      "cell_type": "code",
      "metadata": {
        "colab": {
          "base_uri": "https://localhost:8080/"
        },
        "id": "vocational-graham",
        "outputId": "b82ddedf-4c38-44b8-e025-a63cf0fdebc2"
      },
      "source": [
        "secoes2 = pd.qcut(alturas, 2)\n",
        "secoes2"
      ],
      "id": "vocational-graham",
      "execution_count": 75,
      "outputs": [
        {
          "output_type": "execute_result",
          "data": {
            "text/plain": [
              "[(148.999, 168.5], (148.999, 168.5], (148.999, 168.5], (168.5, 202.0], (168.5, 202.0], (148.999, 168.5], (168.5, 202.0], (168.5, 202.0], (168.5, 202.0], (148.999, 168.5]]\n",
              "Categories (2, interval[float64]): [(148.999, 168.5] < (168.5, 202.0]]"
            ]
          },
          "metadata": {},
          "execution_count": 75
        }
      ]
    },
    {
      "cell_type": "code",
      "metadata": {
        "colab": {
          "base_uri": "https://localhost:8080/"
        },
        "id": "minor-morris",
        "outputId": "60b07cf1-f8b3-4d6d-f8df-f386aea802d2"
      },
      "source": [
        "secoes2.categories"
      ],
      "id": "minor-morris",
      "execution_count": 76,
      "outputs": [
        {
          "output_type": "execute_result",
          "data": {
            "text/plain": [
              "IntervalIndex([(148.999, 168.5], (168.5, 202.0]],\n",
              "              closed='right',\n",
              "              dtype='interval[float64]')"
            ]
          },
          "metadata": {},
          "execution_count": 76
        }
      ]
    },
    {
      "cell_type": "code",
      "metadata": {
        "colab": {
          "base_uri": "https://localhost:8080/",
          "height": 0
        },
        "id": "conventional-turkey",
        "outputId": "b8278a44-cfbb-4d02-962d-0f637ca9ad78"
      },
      "source": [
        "secoes2.describe()"
      ],
      "id": "conventional-turkey",
      "execution_count": 77,
      "outputs": [
        {
          "output_type": "execute_result",
          "data": {
            "text/html": [
              "<div>\n",
              "<style scoped>\n",
              "    .dataframe tbody tr th:only-of-type {\n",
              "        vertical-align: middle;\n",
              "    }\n",
              "\n",
              "    .dataframe tbody tr th {\n",
              "        vertical-align: top;\n",
              "    }\n",
              "\n",
              "    .dataframe thead th {\n",
              "        text-align: right;\n",
              "    }\n",
              "</style>\n",
              "<table border=\"1\" class=\"dataframe\">\n",
              "  <thead>\n",
              "    <tr style=\"text-align: right;\">\n",
              "      <th></th>\n",
              "      <th>counts</th>\n",
              "      <th>freqs</th>\n",
              "    </tr>\n",
              "    <tr>\n",
              "      <th>categories</th>\n",
              "      <th></th>\n",
              "      <th></th>\n",
              "    </tr>\n",
              "  </thead>\n",
              "  <tbody>\n",
              "    <tr>\n",
              "      <th>(148.999, 168.5]</th>\n",
              "      <td>5</td>\n",
              "      <td>0.5</td>\n",
              "    </tr>\n",
              "    <tr>\n",
              "      <th>(168.5, 202.0]</th>\n",
              "      <td>5</td>\n",
              "      <td>0.5</td>\n",
              "    </tr>\n",
              "  </tbody>\n",
              "</table>\n",
              "</div>"
            ],
            "text/plain": [
              "                  counts  freqs\n",
              "categories                     \n",
              "(148.999, 168.5]       5    0.5\n",
              "(168.5, 202.0]         5    0.5"
            ]
          },
          "metadata": {},
          "execution_count": 77
        }
      ]
    },
    {
      "cell_type": "markdown",
      "metadata": {
        "id": "divine-drill"
      },
      "source": [
        "-------------------------------------------------------------------------------------------------------"
      ],
      "id": "divine-drill"
    },
    {
      "cell_type": "markdown",
      "metadata": {
        "id": "widespread-appendix"
      },
      "source": [
        "## Permutação"
      ],
      "id": "widespread-appendix"
    },
    {
      "cell_type": "markdown",
      "metadata": {
        "id": "cordless-revelation"
      },
      "source": [
        "### take(l1)\n",
        "#### Ordena o DataFrame com base em l1."
      ],
      "id": "cordless-revelation"
    },
    {
      "cell_type": "code",
      "metadata": {
        "colab": {
          "base_uri": "https://localhost:8080/",
          "height": 0
        },
        "id": "owned-person",
        "outputId": "529ca6ad-cd78-4ee4-c282-5a306b663156"
      },
      "source": [
        "df20 =pd.DataFrame(np.arange(20).reshape(5, 4))\n",
        "df20"
      ],
      "id": "owned-person",
      "execution_count": 78,
      "outputs": [
        {
          "output_type": "execute_result",
          "data": {
            "text/html": [
              "<div>\n",
              "<style scoped>\n",
              "    .dataframe tbody tr th:only-of-type {\n",
              "        vertical-align: middle;\n",
              "    }\n",
              "\n",
              "    .dataframe tbody tr th {\n",
              "        vertical-align: top;\n",
              "    }\n",
              "\n",
              "    .dataframe thead th {\n",
              "        text-align: right;\n",
              "    }\n",
              "</style>\n",
              "<table border=\"1\" class=\"dataframe\">\n",
              "  <thead>\n",
              "    <tr style=\"text-align: right;\">\n",
              "      <th></th>\n",
              "      <th>0</th>\n",
              "      <th>1</th>\n",
              "      <th>2</th>\n",
              "      <th>3</th>\n",
              "    </tr>\n",
              "  </thead>\n",
              "  <tbody>\n",
              "    <tr>\n",
              "      <th>0</th>\n",
              "      <td>0</td>\n",
              "      <td>1</td>\n",
              "      <td>2</td>\n",
              "      <td>3</td>\n",
              "    </tr>\n",
              "    <tr>\n",
              "      <th>1</th>\n",
              "      <td>4</td>\n",
              "      <td>5</td>\n",
              "      <td>6</td>\n",
              "      <td>7</td>\n",
              "    </tr>\n",
              "    <tr>\n",
              "      <th>2</th>\n",
              "      <td>8</td>\n",
              "      <td>9</td>\n",
              "      <td>10</td>\n",
              "      <td>11</td>\n",
              "    </tr>\n",
              "    <tr>\n",
              "      <th>3</th>\n",
              "      <td>12</td>\n",
              "      <td>13</td>\n",
              "      <td>14</td>\n",
              "      <td>15</td>\n",
              "    </tr>\n",
              "    <tr>\n",
              "      <th>4</th>\n",
              "      <td>16</td>\n",
              "      <td>17</td>\n",
              "      <td>18</td>\n",
              "      <td>19</td>\n",
              "    </tr>\n",
              "  </tbody>\n",
              "</table>\n",
              "</div>"
            ],
            "text/plain": [
              "    0   1   2   3\n",
              "0   0   1   2   3\n",
              "1   4   5   6   7\n",
              "2   8   9  10  11\n",
              "3  12  13  14  15\n",
              "4  16  17  18  19"
            ]
          },
          "metadata": {},
          "execution_count": 78
        }
      ]
    },
    {
      "cell_type": "code",
      "metadata": {
        "colab": {
          "base_uri": "https://localhost:8080/"
        },
        "id": "awful-interpretation",
        "outputId": "b8565286-9087-49b0-8b1d-94a680012667"
      },
      "source": [
        "amostra = np.random.permutation(5)\n",
        "amostra"
      ],
      "id": "awful-interpretation",
      "execution_count": 79,
      "outputs": [
        {
          "output_type": "execute_result",
          "data": {
            "text/plain": [
              "array([4, 0, 1, 3, 2])"
            ]
          },
          "metadata": {},
          "execution_count": 79
        }
      ]
    },
    {
      "cell_type": "code",
      "metadata": {
        "colab": {
          "base_uri": "https://localhost:8080/",
          "height": 0
        },
        "id": "ambient-toilet",
        "outputId": "039cb14f-0bb6-4ff4-ed5e-f54c494dcf01"
      },
      "source": [
        "df20.take(amostra)"
      ],
      "id": "ambient-toilet",
      "execution_count": 80,
      "outputs": [
        {
          "output_type": "execute_result",
          "data": {
            "text/html": [
              "<div>\n",
              "<style scoped>\n",
              "    .dataframe tbody tr th:only-of-type {\n",
              "        vertical-align: middle;\n",
              "    }\n",
              "\n",
              "    .dataframe tbody tr th {\n",
              "        vertical-align: top;\n",
              "    }\n",
              "\n",
              "    .dataframe thead th {\n",
              "        text-align: right;\n",
              "    }\n",
              "</style>\n",
              "<table border=\"1\" class=\"dataframe\">\n",
              "  <thead>\n",
              "    <tr style=\"text-align: right;\">\n",
              "      <th></th>\n",
              "      <th>0</th>\n",
              "      <th>1</th>\n",
              "      <th>2</th>\n",
              "      <th>3</th>\n",
              "    </tr>\n",
              "  </thead>\n",
              "  <tbody>\n",
              "    <tr>\n",
              "      <th>4</th>\n",
              "      <td>16</td>\n",
              "      <td>17</td>\n",
              "      <td>18</td>\n",
              "      <td>19</td>\n",
              "    </tr>\n",
              "    <tr>\n",
              "      <th>0</th>\n",
              "      <td>0</td>\n",
              "      <td>1</td>\n",
              "      <td>2</td>\n",
              "      <td>3</td>\n",
              "    </tr>\n",
              "    <tr>\n",
              "      <th>1</th>\n",
              "      <td>4</td>\n",
              "      <td>5</td>\n",
              "      <td>6</td>\n",
              "      <td>7</td>\n",
              "    </tr>\n",
              "    <tr>\n",
              "      <th>3</th>\n",
              "      <td>12</td>\n",
              "      <td>13</td>\n",
              "      <td>14</td>\n",
              "      <td>15</td>\n",
              "    </tr>\n",
              "    <tr>\n",
              "      <th>2</th>\n",
              "      <td>8</td>\n",
              "      <td>9</td>\n",
              "      <td>10</td>\n",
              "      <td>11</td>\n",
              "    </tr>\n",
              "  </tbody>\n",
              "</table>\n",
              "</div>"
            ],
            "text/plain": [
              "    0   1   2   3\n",
              "4  16  17  18  19\n",
              "0   0   1   2   3\n",
              "1   4   5   6   7\n",
              "3  12  13  14  15\n",
              "2   8   9  10  11"
            ]
          },
          "metadata": {},
          "execution_count": 80
        }
      ]
    },
    {
      "cell_type": "markdown",
      "metadata": {
        "id": "daily-palace"
      },
      "source": [
        "### sample(n, replace)\n",
        "#### Escolhe n registros do DataFrame, com ou sem substituição."
      ],
      "id": "daily-palace"
    },
    {
      "cell_type": "code",
      "metadata": {
        "colab": {
          "base_uri": "https://localhost:8080/",
          "height": 0
        },
        "id": "illegal-norfolk",
        "outputId": "d1f34661-6fe5-41ab-81fb-ecde21c12d0e"
      },
      "source": [
        "df20.sample(n=2)"
      ],
      "id": "illegal-norfolk",
      "execution_count": 81,
      "outputs": [
        {
          "output_type": "execute_result",
          "data": {
            "text/html": [
              "<div>\n",
              "<style scoped>\n",
              "    .dataframe tbody tr th:only-of-type {\n",
              "        vertical-align: middle;\n",
              "    }\n",
              "\n",
              "    .dataframe tbody tr th {\n",
              "        vertical-align: top;\n",
              "    }\n",
              "\n",
              "    .dataframe thead th {\n",
              "        text-align: right;\n",
              "    }\n",
              "</style>\n",
              "<table border=\"1\" class=\"dataframe\">\n",
              "  <thead>\n",
              "    <tr style=\"text-align: right;\">\n",
              "      <th></th>\n",
              "      <th>0</th>\n",
              "      <th>1</th>\n",
              "      <th>2</th>\n",
              "      <th>3</th>\n",
              "    </tr>\n",
              "  </thead>\n",
              "  <tbody>\n",
              "    <tr>\n",
              "      <th>4</th>\n",
              "      <td>16</td>\n",
              "      <td>17</td>\n",
              "      <td>18</td>\n",
              "      <td>19</td>\n",
              "    </tr>\n",
              "    <tr>\n",
              "      <th>0</th>\n",
              "      <td>0</td>\n",
              "      <td>1</td>\n",
              "      <td>2</td>\n",
              "      <td>3</td>\n",
              "    </tr>\n",
              "  </tbody>\n",
              "</table>\n",
              "</div>"
            ],
            "text/plain": [
              "    0   1   2   3\n",
              "4  16  17  18  19\n",
              "0   0   1   2   3"
            ]
          },
          "metadata": {},
          "execution_count": 81
        }
      ]
    },
    {
      "cell_type": "code",
      "metadata": {
        "colab": {
          "base_uri": "https://localhost:8080/",
          "height": 0
        },
        "id": "intensive-concord",
        "outputId": "b99dccbb-eea7-444e-ded7-a94c9807cffa"
      },
      "source": [
        "df20.sample(n=7, replace=True)"
      ],
      "id": "intensive-concord",
      "execution_count": 82,
      "outputs": [
        {
          "output_type": "execute_result",
          "data": {
            "text/html": [
              "<div>\n",
              "<style scoped>\n",
              "    .dataframe tbody tr th:only-of-type {\n",
              "        vertical-align: middle;\n",
              "    }\n",
              "\n",
              "    .dataframe tbody tr th {\n",
              "        vertical-align: top;\n",
              "    }\n",
              "\n",
              "    .dataframe thead th {\n",
              "        text-align: right;\n",
              "    }\n",
              "</style>\n",
              "<table border=\"1\" class=\"dataframe\">\n",
              "  <thead>\n",
              "    <tr style=\"text-align: right;\">\n",
              "      <th></th>\n",
              "      <th>0</th>\n",
              "      <th>1</th>\n",
              "      <th>2</th>\n",
              "      <th>3</th>\n",
              "    </tr>\n",
              "  </thead>\n",
              "  <tbody>\n",
              "    <tr>\n",
              "      <th>3</th>\n",
              "      <td>12</td>\n",
              "      <td>13</td>\n",
              "      <td>14</td>\n",
              "      <td>15</td>\n",
              "    </tr>\n",
              "    <tr>\n",
              "      <th>3</th>\n",
              "      <td>12</td>\n",
              "      <td>13</td>\n",
              "      <td>14</td>\n",
              "      <td>15</td>\n",
              "    </tr>\n",
              "    <tr>\n",
              "      <th>2</th>\n",
              "      <td>8</td>\n",
              "      <td>9</td>\n",
              "      <td>10</td>\n",
              "      <td>11</td>\n",
              "    </tr>\n",
              "    <tr>\n",
              "      <th>3</th>\n",
              "      <td>12</td>\n",
              "      <td>13</td>\n",
              "      <td>14</td>\n",
              "      <td>15</td>\n",
              "    </tr>\n",
              "    <tr>\n",
              "      <th>0</th>\n",
              "      <td>0</td>\n",
              "      <td>1</td>\n",
              "      <td>2</td>\n",
              "      <td>3</td>\n",
              "    </tr>\n",
              "    <tr>\n",
              "      <th>2</th>\n",
              "      <td>8</td>\n",
              "      <td>9</td>\n",
              "      <td>10</td>\n",
              "      <td>11</td>\n",
              "    </tr>\n",
              "    <tr>\n",
              "      <th>0</th>\n",
              "      <td>0</td>\n",
              "      <td>1</td>\n",
              "      <td>2</td>\n",
              "      <td>3</td>\n",
              "    </tr>\n",
              "  </tbody>\n",
              "</table>\n",
              "</div>"
            ],
            "text/plain": [
              "    0   1   2   3\n",
              "3  12  13  14  15\n",
              "3  12  13  14  15\n",
              "2   8   9  10  11\n",
              "3  12  13  14  15\n",
              "0   0   1   2   3\n",
              "2   8   9  10  11\n",
              "0   0   1   2   3"
            ]
          },
          "metadata": {},
          "execution_count": 82
        }
      ]
    },
    {
      "cell_type": "markdown",
      "metadata": {
        "id": "prescribed-discretion"
      },
      "source": [
        "-------------------------------------------------------------------------------------------------------"
      ],
      "id": "prescribed-discretion"
    },
    {
      "cell_type": "markdown",
      "metadata": {
        "id": "agricultural-manor"
      },
      "source": [
        "## Dummies"
      ],
      "id": "agricultural-manor"
    },
    {
      "cell_type": "markdown",
      "metadata": {
        "id": "popular-vanilla"
      },
      "source": [
        "### pd.get_dummies()\n",
        "#### Indica se uma determinada linha tem tal elemento (1) ou não (0)."
      ],
      "id": "popular-vanilla"
    },
    {
      "cell_type": "code",
      "metadata": {
        "colab": {
          "base_uri": "https://localhost:8080/",
          "height": 0
        },
        "id": "alone-carter",
        "outputId": "9fc54b76-256b-414a-edfd-db121136ec67"
      },
      "source": [
        "df21 = pd.DataFrame({'chave': ['b', 'b', 'a', 'c', 'a', 'b'], \n",
        "                     'data1': range(6)})\n",
        "df21"
      ],
      "id": "alone-carter",
      "execution_count": 83,
      "outputs": [
        {
          "output_type": "execute_result",
          "data": {
            "text/html": [
              "<div>\n",
              "<style scoped>\n",
              "    .dataframe tbody tr th:only-of-type {\n",
              "        vertical-align: middle;\n",
              "    }\n",
              "\n",
              "    .dataframe tbody tr th {\n",
              "        vertical-align: top;\n",
              "    }\n",
              "\n",
              "    .dataframe thead th {\n",
              "        text-align: right;\n",
              "    }\n",
              "</style>\n",
              "<table border=\"1\" class=\"dataframe\">\n",
              "  <thead>\n",
              "    <tr style=\"text-align: right;\">\n",
              "      <th></th>\n",
              "      <th>chave</th>\n",
              "      <th>data1</th>\n",
              "    </tr>\n",
              "  </thead>\n",
              "  <tbody>\n",
              "    <tr>\n",
              "      <th>0</th>\n",
              "      <td>b</td>\n",
              "      <td>0</td>\n",
              "    </tr>\n",
              "    <tr>\n",
              "      <th>1</th>\n",
              "      <td>b</td>\n",
              "      <td>1</td>\n",
              "    </tr>\n",
              "    <tr>\n",
              "      <th>2</th>\n",
              "      <td>a</td>\n",
              "      <td>2</td>\n",
              "    </tr>\n",
              "    <tr>\n",
              "      <th>3</th>\n",
              "      <td>c</td>\n",
              "      <td>3</td>\n",
              "    </tr>\n",
              "    <tr>\n",
              "      <th>4</th>\n",
              "      <td>a</td>\n",
              "      <td>4</td>\n",
              "    </tr>\n",
              "    <tr>\n",
              "      <th>5</th>\n",
              "      <td>b</td>\n",
              "      <td>5</td>\n",
              "    </tr>\n",
              "  </tbody>\n",
              "</table>\n",
              "</div>"
            ],
            "text/plain": [
              "  chave  data1\n",
              "0     b      0\n",
              "1     b      1\n",
              "2     a      2\n",
              "3     c      3\n",
              "4     a      4\n",
              "5     b      5"
            ]
          },
          "metadata": {},
          "execution_count": 83
        }
      ]
    },
    {
      "cell_type": "code",
      "metadata": {
        "colab": {
          "base_uri": "https://localhost:8080/",
          "height": 0
        },
        "id": "eight-daniel",
        "outputId": "b94e0946-41c6-42ef-a3d0-935c20a9a034"
      },
      "source": [
        "pd.get_dummies(df21['chave'], prefix='chave')"
      ],
      "id": "eight-daniel",
      "execution_count": 84,
      "outputs": [
        {
          "output_type": "execute_result",
          "data": {
            "text/html": [
              "<div>\n",
              "<style scoped>\n",
              "    .dataframe tbody tr th:only-of-type {\n",
              "        vertical-align: middle;\n",
              "    }\n",
              "\n",
              "    .dataframe tbody tr th {\n",
              "        vertical-align: top;\n",
              "    }\n",
              "\n",
              "    .dataframe thead th {\n",
              "        text-align: right;\n",
              "    }\n",
              "</style>\n",
              "<table border=\"1\" class=\"dataframe\">\n",
              "  <thead>\n",
              "    <tr style=\"text-align: right;\">\n",
              "      <th></th>\n",
              "      <th>chave_a</th>\n",
              "      <th>chave_b</th>\n",
              "      <th>chave_c</th>\n",
              "    </tr>\n",
              "  </thead>\n",
              "  <tbody>\n",
              "    <tr>\n",
              "      <th>0</th>\n",
              "      <td>0</td>\n",
              "      <td>1</td>\n",
              "      <td>0</td>\n",
              "    </tr>\n",
              "    <tr>\n",
              "      <th>1</th>\n",
              "      <td>0</td>\n",
              "      <td>1</td>\n",
              "      <td>0</td>\n",
              "    </tr>\n",
              "    <tr>\n",
              "      <th>2</th>\n",
              "      <td>1</td>\n",
              "      <td>0</td>\n",
              "      <td>0</td>\n",
              "    </tr>\n",
              "    <tr>\n",
              "      <th>3</th>\n",
              "      <td>0</td>\n",
              "      <td>0</td>\n",
              "      <td>1</td>\n",
              "    </tr>\n",
              "    <tr>\n",
              "      <th>4</th>\n",
              "      <td>1</td>\n",
              "      <td>0</td>\n",
              "      <td>0</td>\n",
              "    </tr>\n",
              "    <tr>\n",
              "      <th>5</th>\n",
              "      <td>0</td>\n",
              "      <td>1</td>\n",
              "      <td>0</td>\n",
              "    </tr>\n",
              "  </tbody>\n",
              "</table>\n",
              "</div>"
            ],
            "text/plain": [
              "   chave_a  chave_b  chave_c\n",
              "0        0        1        0\n",
              "1        0        1        0\n",
              "2        1        0        0\n",
              "3        0        0        1\n",
              "4        1        0        0\n",
              "5        0        1        0"
            ]
          },
          "metadata": {},
          "execution_count": 84
        }
      ]
    },
    {
      "cell_type": "markdown",
      "metadata": {
        "id": "billion-observer"
      },
      "source": [
        "-------------------------------------------------------------------------------------------------------"
      ],
      "id": "billion-observer"
    },
    {
      "cell_type": "markdown",
      "metadata": {
        "id": "gothic-kelly"
      },
      "source": [
        "## Junção"
      ],
      "id": "gothic-kelly"
    },
    {
      "cell_type": "markdown",
      "metadata": {
        "id": "danish-house"
      },
      "source": [
        "### pd.merge() e join()\n",
        "#### Ambas as funções usam notação de SQL para fazerem junções de tabelas. Os valores dos argumentos, assim como aqueles vistos em SQL, são left, right, outer, cross e inner para how, sendo inner o valor default. left_on e right_on são os argumentos das colunas comparativas, e left_index e right_index são usados quando as chaves comparativas estão em algum índice."
      ],
      "id": "danish-house"
    },
    {
      "cell_type": "code",
      "metadata": {
        "colab": {
          "base_uri": "https://localhost:8080/",
          "height": 0
        },
        "id": "clinical-pastor",
        "outputId": "50d86515-6184-4352-94e1-ca1e7dfd0f59"
      },
      "source": [
        "df22 = pd.DataFrame({'chave': ['b', 'b', 'a', 'c', 'a', 'a', 'b'], \n",
        "                    'data1': range(7)})\n",
        "df22"
      ],
      "id": "clinical-pastor",
      "execution_count": 85,
      "outputs": [
        {
          "output_type": "execute_result",
          "data": {
            "text/html": [
              "<div>\n",
              "<style scoped>\n",
              "    .dataframe tbody tr th:only-of-type {\n",
              "        vertical-align: middle;\n",
              "    }\n",
              "\n",
              "    .dataframe tbody tr th {\n",
              "        vertical-align: top;\n",
              "    }\n",
              "\n",
              "    .dataframe thead th {\n",
              "        text-align: right;\n",
              "    }\n",
              "</style>\n",
              "<table border=\"1\" class=\"dataframe\">\n",
              "  <thead>\n",
              "    <tr style=\"text-align: right;\">\n",
              "      <th></th>\n",
              "      <th>chave</th>\n",
              "      <th>data1</th>\n",
              "    </tr>\n",
              "  </thead>\n",
              "  <tbody>\n",
              "    <tr>\n",
              "      <th>0</th>\n",
              "      <td>b</td>\n",
              "      <td>0</td>\n",
              "    </tr>\n",
              "    <tr>\n",
              "      <th>1</th>\n",
              "      <td>b</td>\n",
              "      <td>1</td>\n",
              "    </tr>\n",
              "    <tr>\n",
              "      <th>2</th>\n",
              "      <td>a</td>\n",
              "      <td>2</td>\n",
              "    </tr>\n",
              "    <tr>\n",
              "      <th>3</th>\n",
              "      <td>c</td>\n",
              "      <td>3</td>\n",
              "    </tr>\n",
              "    <tr>\n",
              "      <th>4</th>\n",
              "      <td>a</td>\n",
              "      <td>4</td>\n",
              "    </tr>\n",
              "    <tr>\n",
              "      <th>5</th>\n",
              "      <td>a</td>\n",
              "      <td>5</td>\n",
              "    </tr>\n",
              "    <tr>\n",
              "      <th>6</th>\n",
              "      <td>b</td>\n",
              "      <td>6</td>\n",
              "    </tr>\n",
              "  </tbody>\n",
              "</table>\n",
              "</div>"
            ],
            "text/plain": [
              "  chave  data1\n",
              "0     b      0\n",
              "1     b      1\n",
              "2     a      2\n",
              "3     c      3\n",
              "4     a      4\n",
              "5     a      5\n",
              "6     b      6"
            ]
          },
          "metadata": {},
          "execution_count": 85
        }
      ]
    },
    {
      "cell_type": "code",
      "metadata": {
        "colab": {
          "base_uri": "https://localhost:8080/",
          "height": 0
        },
        "id": "relative-australian",
        "outputId": "f6d1f023-a660-4ec7-9ef7-1a96ed1089a5"
      },
      "source": [
        "df23 = pd.DataFrame({'chave': ['a', 'b', 'd', np.nan], \n",
        "                    'data2': range(4)})\n",
        "df23"
      ],
      "id": "relative-australian",
      "execution_count": 86,
      "outputs": [
        {
          "output_type": "execute_result",
          "data": {
            "text/html": [
              "<div>\n",
              "<style scoped>\n",
              "    .dataframe tbody tr th:only-of-type {\n",
              "        vertical-align: middle;\n",
              "    }\n",
              "\n",
              "    .dataframe tbody tr th {\n",
              "        vertical-align: top;\n",
              "    }\n",
              "\n",
              "    .dataframe thead th {\n",
              "        text-align: right;\n",
              "    }\n",
              "</style>\n",
              "<table border=\"1\" class=\"dataframe\">\n",
              "  <thead>\n",
              "    <tr style=\"text-align: right;\">\n",
              "      <th></th>\n",
              "      <th>chave</th>\n",
              "      <th>data2</th>\n",
              "    </tr>\n",
              "  </thead>\n",
              "  <tbody>\n",
              "    <tr>\n",
              "      <th>0</th>\n",
              "      <td>a</td>\n",
              "      <td>0</td>\n",
              "    </tr>\n",
              "    <tr>\n",
              "      <th>1</th>\n",
              "      <td>b</td>\n",
              "      <td>1</td>\n",
              "    </tr>\n",
              "    <tr>\n",
              "      <th>2</th>\n",
              "      <td>d</td>\n",
              "      <td>2</td>\n",
              "    </tr>\n",
              "    <tr>\n",
              "      <th>3</th>\n",
              "      <td>NaN</td>\n",
              "      <td>3</td>\n",
              "    </tr>\n",
              "  </tbody>\n",
              "</table>\n",
              "</div>"
            ],
            "text/plain": [
              "  chave  data2\n",
              "0     a      0\n",
              "1     b      1\n",
              "2     d      2\n",
              "3   NaN      3"
            ]
          },
          "metadata": {},
          "execution_count": 86
        }
      ]
    },
    {
      "cell_type": "code",
      "metadata": {
        "colab": {
          "base_uri": "https://localhost:8080/",
          "height": 0
        },
        "id": "unsigned-resistance",
        "outputId": "0d25ccb3-b072-4805-e208-66d786baa156"
      },
      "source": [
        "pd.merge(right=df22, left=df23, on='chave', how='left')"
      ],
      "id": "unsigned-resistance",
      "execution_count": 87,
      "outputs": [
        {
          "output_type": "execute_result",
          "data": {
            "text/html": [
              "<div>\n",
              "<style scoped>\n",
              "    .dataframe tbody tr th:only-of-type {\n",
              "        vertical-align: middle;\n",
              "    }\n",
              "\n",
              "    .dataframe tbody tr th {\n",
              "        vertical-align: top;\n",
              "    }\n",
              "\n",
              "    .dataframe thead th {\n",
              "        text-align: right;\n",
              "    }\n",
              "</style>\n",
              "<table border=\"1\" class=\"dataframe\">\n",
              "  <thead>\n",
              "    <tr style=\"text-align: right;\">\n",
              "      <th></th>\n",
              "      <th>chave</th>\n",
              "      <th>data2</th>\n",
              "      <th>data1</th>\n",
              "    </tr>\n",
              "  </thead>\n",
              "  <tbody>\n",
              "    <tr>\n",
              "      <th>0</th>\n",
              "      <td>a</td>\n",
              "      <td>0</td>\n",
              "      <td>2.0</td>\n",
              "    </tr>\n",
              "    <tr>\n",
              "      <th>1</th>\n",
              "      <td>a</td>\n",
              "      <td>0</td>\n",
              "      <td>4.0</td>\n",
              "    </tr>\n",
              "    <tr>\n",
              "      <th>2</th>\n",
              "      <td>a</td>\n",
              "      <td>0</td>\n",
              "      <td>5.0</td>\n",
              "    </tr>\n",
              "    <tr>\n",
              "      <th>3</th>\n",
              "      <td>b</td>\n",
              "      <td>1</td>\n",
              "      <td>0.0</td>\n",
              "    </tr>\n",
              "    <tr>\n",
              "      <th>4</th>\n",
              "      <td>b</td>\n",
              "      <td>1</td>\n",
              "      <td>1.0</td>\n",
              "    </tr>\n",
              "    <tr>\n",
              "      <th>5</th>\n",
              "      <td>b</td>\n",
              "      <td>1</td>\n",
              "      <td>6.0</td>\n",
              "    </tr>\n",
              "    <tr>\n",
              "      <th>6</th>\n",
              "      <td>d</td>\n",
              "      <td>2</td>\n",
              "      <td>NaN</td>\n",
              "    </tr>\n",
              "    <tr>\n",
              "      <th>7</th>\n",
              "      <td>NaN</td>\n",
              "      <td>3</td>\n",
              "      <td>NaN</td>\n",
              "    </tr>\n",
              "  </tbody>\n",
              "</table>\n",
              "</div>"
            ],
            "text/plain": [
              "  chave  data2  data1\n",
              "0     a      0    2.0\n",
              "1     a      0    4.0\n",
              "2     a      0    5.0\n",
              "3     b      1    0.0\n",
              "4     b      1    1.0\n",
              "5     b      1    6.0\n",
              "6     d      2    NaN\n",
              "7   NaN      3    NaN"
            ]
          },
          "metadata": {},
          "execution_count": 87
        }
      ]
    },
    {
      "cell_type": "code",
      "metadata": {
        "colab": {
          "base_uri": "https://localhost:8080/",
          "height": 0
        },
        "id": "handmade-ghost",
        "outputId": "20cfef07-ace2-4ebe-e090-b3fa4bed0f2a"
      },
      "source": [
        "df24 = pd.DataFrame({'chave1': ['a', 'd', 'b', 'c'], \n",
        "                    'data1': range(4)})\n",
        "df24"
      ],
      "id": "handmade-ghost",
      "execution_count": 88,
      "outputs": [
        {
          "output_type": "execute_result",
          "data": {
            "text/html": [
              "<div>\n",
              "<style scoped>\n",
              "    .dataframe tbody tr th:only-of-type {\n",
              "        vertical-align: middle;\n",
              "    }\n",
              "\n",
              "    .dataframe tbody tr th {\n",
              "        vertical-align: top;\n",
              "    }\n",
              "\n",
              "    .dataframe thead th {\n",
              "        text-align: right;\n",
              "    }\n",
              "</style>\n",
              "<table border=\"1\" class=\"dataframe\">\n",
              "  <thead>\n",
              "    <tr style=\"text-align: right;\">\n",
              "      <th></th>\n",
              "      <th>chave1</th>\n",
              "      <th>data1</th>\n",
              "    </tr>\n",
              "  </thead>\n",
              "  <tbody>\n",
              "    <tr>\n",
              "      <th>0</th>\n",
              "      <td>a</td>\n",
              "      <td>0</td>\n",
              "    </tr>\n",
              "    <tr>\n",
              "      <th>1</th>\n",
              "      <td>d</td>\n",
              "      <td>1</td>\n",
              "    </tr>\n",
              "    <tr>\n",
              "      <th>2</th>\n",
              "      <td>b</td>\n",
              "      <td>2</td>\n",
              "    </tr>\n",
              "    <tr>\n",
              "      <th>3</th>\n",
              "      <td>c</td>\n",
              "      <td>3</td>\n",
              "    </tr>\n",
              "  </tbody>\n",
              "</table>\n",
              "</div>"
            ],
            "text/plain": [
              "  chave1  data1\n",
              "0      a      0\n",
              "1      d      1\n",
              "2      b      2\n",
              "3      c      3"
            ]
          },
          "metadata": {},
          "execution_count": 88
        }
      ]
    },
    {
      "cell_type": "code",
      "metadata": {
        "colab": {
          "base_uri": "https://localhost:8080/",
          "height": 0
        },
        "id": "changing-physics",
        "outputId": "1819d028-8257-41f9-f206-978a82a2ca20"
      },
      "source": [
        "df25= pd.DataFrame({'chave2': ['c', 'a', 'b'], \n",
        "                    'data2': range(3)})\n",
        "df25"
      ],
      "id": "changing-physics",
      "execution_count": 89,
      "outputs": [
        {
          "output_type": "execute_result",
          "data": {
            "text/html": [
              "<div>\n",
              "<style scoped>\n",
              "    .dataframe tbody tr th:only-of-type {\n",
              "        vertical-align: middle;\n",
              "    }\n",
              "\n",
              "    .dataframe tbody tr th {\n",
              "        vertical-align: top;\n",
              "    }\n",
              "\n",
              "    .dataframe thead th {\n",
              "        text-align: right;\n",
              "    }\n",
              "</style>\n",
              "<table border=\"1\" class=\"dataframe\">\n",
              "  <thead>\n",
              "    <tr style=\"text-align: right;\">\n",
              "      <th></th>\n",
              "      <th>chave2</th>\n",
              "      <th>data2</th>\n",
              "    </tr>\n",
              "  </thead>\n",
              "  <tbody>\n",
              "    <tr>\n",
              "      <th>0</th>\n",
              "      <td>c</td>\n",
              "      <td>0</td>\n",
              "    </tr>\n",
              "    <tr>\n",
              "      <th>1</th>\n",
              "      <td>a</td>\n",
              "      <td>1</td>\n",
              "    </tr>\n",
              "    <tr>\n",
              "      <th>2</th>\n",
              "      <td>b</td>\n",
              "      <td>2</td>\n",
              "    </tr>\n",
              "  </tbody>\n",
              "</table>\n",
              "</div>"
            ],
            "text/plain": [
              "  chave2  data2\n",
              "0      c      0\n",
              "1      a      1\n",
              "2      b      2"
            ]
          },
          "metadata": {},
          "execution_count": 89
        }
      ]
    },
    {
      "cell_type": "code",
      "metadata": {
        "colab": {
          "base_uri": "https://localhost:8080/",
          "height": 0
        },
        "id": "different-character",
        "outputId": "3794ed38-f7fb-4344-8c39-6a6545dafe95"
      },
      "source": [
        "pd.merge(right=df24, left=df25, left_on='chave2', right_on='chave1', indicator=True, how='right')"
      ],
      "id": "different-character",
      "execution_count": 90,
      "outputs": [
        {
          "output_type": "execute_result",
          "data": {
            "text/html": [
              "<div>\n",
              "<style scoped>\n",
              "    .dataframe tbody tr th:only-of-type {\n",
              "        vertical-align: middle;\n",
              "    }\n",
              "\n",
              "    .dataframe tbody tr th {\n",
              "        vertical-align: top;\n",
              "    }\n",
              "\n",
              "    .dataframe thead th {\n",
              "        text-align: right;\n",
              "    }\n",
              "</style>\n",
              "<table border=\"1\" class=\"dataframe\">\n",
              "  <thead>\n",
              "    <tr style=\"text-align: right;\">\n",
              "      <th></th>\n",
              "      <th>chave2</th>\n",
              "      <th>data2</th>\n",
              "      <th>chave1</th>\n",
              "      <th>data1</th>\n",
              "      <th>_merge</th>\n",
              "    </tr>\n",
              "  </thead>\n",
              "  <tbody>\n",
              "    <tr>\n",
              "      <th>0</th>\n",
              "      <td>a</td>\n",
              "      <td>1.0</td>\n",
              "      <td>a</td>\n",
              "      <td>0</td>\n",
              "      <td>both</td>\n",
              "    </tr>\n",
              "    <tr>\n",
              "      <th>1</th>\n",
              "      <td>NaN</td>\n",
              "      <td>NaN</td>\n",
              "      <td>d</td>\n",
              "      <td>1</td>\n",
              "      <td>right_only</td>\n",
              "    </tr>\n",
              "    <tr>\n",
              "      <th>2</th>\n",
              "      <td>b</td>\n",
              "      <td>2.0</td>\n",
              "      <td>b</td>\n",
              "      <td>2</td>\n",
              "      <td>both</td>\n",
              "    </tr>\n",
              "    <tr>\n",
              "      <th>3</th>\n",
              "      <td>c</td>\n",
              "      <td>0.0</td>\n",
              "      <td>c</td>\n",
              "      <td>3</td>\n",
              "      <td>both</td>\n",
              "    </tr>\n",
              "  </tbody>\n",
              "</table>\n",
              "</div>"
            ],
            "text/plain": [
              "  chave2  data2 chave1  data1      _merge\n",
              "0      a    1.0      a      0        both\n",
              "1    NaN    NaN      d      1  right_only\n",
              "2      b    2.0      b      2        both\n",
              "3      c    0.0      c      3        both"
            ]
          },
          "metadata": {},
          "execution_count": 90
        }
      ]
    },
    {
      "cell_type": "code",
      "metadata": {
        "colab": {
          "base_uri": "https://localhost:8080/",
          "height": 0
        },
        "id": "contrary-prototype",
        "outputId": "0cfc6dcb-b5b6-4585-b268-f9dbbcf44f77"
      },
      "source": [
        "df26 = pd.DataFrame([[1., 2.], [3., 4.], [5., 6.]], \n",
        "                   index=['a', 'c', 'e'], \n",
        "                   columns=['Rio de Janeiro', 'São Paulo'])\n",
        "df26"
      ],
      "id": "contrary-prototype",
      "execution_count": 91,
      "outputs": [
        {
          "output_type": "execute_result",
          "data": {
            "text/html": [
              "<div>\n",
              "<style scoped>\n",
              "    .dataframe tbody tr th:only-of-type {\n",
              "        vertical-align: middle;\n",
              "    }\n",
              "\n",
              "    .dataframe tbody tr th {\n",
              "        vertical-align: top;\n",
              "    }\n",
              "\n",
              "    .dataframe thead th {\n",
              "        text-align: right;\n",
              "    }\n",
              "</style>\n",
              "<table border=\"1\" class=\"dataframe\">\n",
              "  <thead>\n",
              "    <tr style=\"text-align: right;\">\n",
              "      <th></th>\n",
              "      <th>Rio de Janeiro</th>\n",
              "      <th>São Paulo</th>\n",
              "    </tr>\n",
              "  </thead>\n",
              "  <tbody>\n",
              "    <tr>\n",
              "      <th>a</th>\n",
              "      <td>1.0</td>\n",
              "      <td>2.0</td>\n",
              "    </tr>\n",
              "    <tr>\n",
              "      <th>c</th>\n",
              "      <td>3.0</td>\n",
              "      <td>4.0</td>\n",
              "    </tr>\n",
              "    <tr>\n",
              "      <th>e</th>\n",
              "      <td>5.0</td>\n",
              "      <td>6.0</td>\n",
              "    </tr>\n",
              "  </tbody>\n",
              "</table>\n",
              "</div>"
            ],
            "text/plain": [
              "   Rio de Janeiro  São Paulo\n",
              "a             1.0        2.0\n",
              "c             3.0        4.0\n",
              "e             5.0        6.0"
            ]
          },
          "metadata": {},
          "execution_count": 91
        }
      ]
    },
    {
      "cell_type": "code",
      "metadata": {
        "colab": {
          "base_uri": "https://localhost:8080/",
          "height": 0
        },
        "id": "signed-proposition",
        "outputId": "677e78df-e4e2-4fd1-d394-23c0d8a5eae7"
      },
      "source": [
        "df27 = pd.DataFrame([[7., 8.], [9., 10.], [11., 12.], [13., 14]], \n",
        "                   index=['b', 'c', 'd', 'e'], \n",
        "                   columns=['Minas Gerais', 'Santa Catarina'] )\n",
        "df27"
      ],
      "id": "signed-proposition",
      "execution_count": 92,
      "outputs": [
        {
          "output_type": "execute_result",
          "data": {
            "text/html": [
              "<div>\n",
              "<style scoped>\n",
              "    .dataframe tbody tr th:only-of-type {\n",
              "        vertical-align: middle;\n",
              "    }\n",
              "\n",
              "    .dataframe tbody tr th {\n",
              "        vertical-align: top;\n",
              "    }\n",
              "\n",
              "    .dataframe thead th {\n",
              "        text-align: right;\n",
              "    }\n",
              "</style>\n",
              "<table border=\"1\" class=\"dataframe\">\n",
              "  <thead>\n",
              "    <tr style=\"text-align: right;\">\n",
              "      <th></th>\n",
              "      <th>Minas Gerais</th>\n",
              "      <th>Santa Catarina</th>\n",
              "    </tr>\n",
              "  </thead>\n",
              "  <tbody>\n",
              "    <tr>\n",
              "      <th>b</th>\n",
              "      <td>7.0</td>\n",
              "      <td>8.0</td>\n",
              "    </tr>\n",
              "    <tr>\n",
              "      <th>c</th>\n",
              "      <td>9.0</td>\n",
              "      <td>10.0</td>\n",
              "    </tr>\n",
              "    <tr>\n",
              "      <th>d</th>\n",
              "      <td>11.0</td>\n",
              "      <td>12.0</td>\n",
              "    </tr>\n",
              "    <tr>\n",
              "      <th>e</th>\n",
              "      <td>13.0</td>\n",
              "      <td>14.0</td>\n",
              "    </tr>\n",
              "  </tbody>\n",
              "</table>\n",
              "</div>"
            ],
            "text/plain": [
              "   Minas Gerais  Santa Catarina\n",
              "b           7.0             8.0\n",
              "c           9.0            10.0\n",
              "d          11.0            12.0\n",
              "e          13.0            14.0"
            ]
          },
          "metadata": {},
          "execution_count": 92
        }
      ]
    },
    {
      "cell_type": "code",
      "metadata": {
        "colab": {
          "base_uri": "https://localhost:8080/",
          "height": 0
        },
        "id": "offshore-offset",
        "outputId": "75521346-82cf-479c-a421-7ed20758d4b1"
      },
      "source": [
        "# As colunas do argumento devem ser diferentes daquelas da instância. Por default how='left'.\n",
        "df26.join(df27, how='outer')"
      ],
      "id": "offshore-offset",
      "execution_count": 93,
      "outputs": [
        {
          "output_type": "execute_result",
          "data": {
            "text/html": [
              "<div>\n",
              "<style scoped>\n",
              "    .dataframe tbody tr th:only-of-type {\n",
              "        vertical-align: middle;\n",
              "    }\n",
              "\n",
              "    .dataframe tbody tr th {\n",
              "        vertical-align: top;\n",
              "    }\n",
              "\n",
              "    .dataframe thead th {\n",
              "        text-align: right;\n",
              "    }\n",
              "</style>\n",
              "<table border=\"1\" class=\"dataframe\">\n",
              "  <thead>\n",
              "    <tr style=\"text-align: right;\">\n",
              "      <th></th>\n",
              "      <th>Rio de Janeiro</th>\n",
              "      <th>São Paulo</th>\n",
              "      <th>Minas Gerais</th>\n",
              "      <th>Santa Catarina</th>\n",
              "    </tr>\n",
              "  </thead>\n",
              "  <tbody>\n",
              "    <tr>\n",
              "      <th>a</th>\n",
              "      <td>1.0</td>\n",
              "      <td>2.0</td>\n",
              "      <td>NaN</td>\n",
              "      <td>NaN</td>\n",
              "    </tr>\n",
              "    <tr>\n",
              "      <th>b</th>\n",
              "      <td>NaN</td>\n",
              "      <td>NaN</td>\n",
              "      <td>7.0</td>\n",
              "      <td>8.0</td>\n",
              "    </tr>\n",
              "    <tr>\n",
              "      <th>c</th>\n",
              "      <td>3.0</td>\n",
              "      <td>4.0</td>\n",
              "      <td>9.0</td>\n",
              "      <td>10.0</td>\n",
              "    </tr>\n",
              "    <tr>\n",
              "      <th>d</th>\n",
              "      <td>NaN</td>\n",
              "      <td>NaN</td>\n",
              "      <td>11.0</td>\n",
              "      <td>12.0</td>\n",
              "    </tr>\n",
              "    <tr>\n",
              "      <th>e</th>\n",
              "      <td>5.0</td>\n",
              "      <td>6.0</td>\n",
              "      <td>13.0</td>\n",
              "      <td>14.0</td>\n",
              "    </tr>\n",
              "  </tbody>\n",
              "</table>\n",
              "</div>"
            ],
            "text/plain": [
              "   Rio de Janeiro  São Paulo  Minas Gerais  Santa Catarina\n",
              "a             1.0        2.0           NaN             NaN\n",
              "b             NaN        NaN           7.0             8.0\n",
              "c             3.0        4.0           9.0            10.0\n",
              "d             NaN        NaN          11.0            12.0\n",
              "e             5.0        6.0          13.0            14.0"
            ]
          },
          "metadata": {},
          "execution_count": 93
        }
      ]
    },
    {
      "cell_type": "markdown",
      "metadata": {
        "id": "clinical-object"
      },
      "source": [
        "### pd.concat()\n",
        "#### Concatena estruturas de dados."
      ],
      "id": "clinical-object"
    },
    {
      "cell_type": "code",
      "metadata": {
        "colab": {
          "base_uri": "https://localhost:8080/"
        },
        "id": "enhanced-behavior",
        "outputId": "7cac650c-f769-4061-acab-5af4c727b579"
      },
      "source": [
        "s5 = pd.Series([0, 1], index=['a', 'b'])\n",
        "s6 = pd.Series([2, 3, 4], index=['c', 'd', 'e'])\n",
        "s7 = pd.Series([5, 6], index=['f', 'g'])\n",
        "s5.name, s6.name, s7.name = 's5', 's6', 's7'\n",
        "\n",
        "s5"
      ],
      "id": "enhanced-behavior",
      "execution_count": 94,
      "outputs": [
        {
          "output_type": "execute_result",
          "data": {
            "text/plain": [
              "a    0\n",
              "b    1\n",
              "Name: s5, dtype: int64"
            ]
          },
          "metadata": {},
          "execution_count": 94
        }
      ]
    },
    {
      "cell_type": "code",
      "metadata": {
        "colab": {
          "base_uri": "https://localhost:8080/"
        },
        "id": "nonprofit-algebra",
        "outputId": "370e4363-db84-47c5-a6ce-21bbe77fff07"
      },
      "source": [
        "s6"
      ],
      "id": "nonprofit-algebra",
      "execution_count": 95,
      "outputs": [
        {
          "output_type": "execute_result",
          "data": {
            "text/plain": [
              "c    2\n",
              "d    3\n",
              "e    4\n",
              "Name: s6, dtype: int64"
            ]
          },
          "metadata": {},
          "execution_count": 95
        }
      ]
    },
    {
      "cell_type": "code",
      "metadata": {
        "colab": {
          "base_uri": "https://localhost:8080/"
        },
        "id": "biological-stanford",
        "outputId": "92c4a397-f46b-4546-93b1-8e3c7a5dc32b"
      },
      "source": [
        "s7"
      ],
      "id": "biological-stanford",
      "execution_count": 96,
      "outputs": [
        {
          "output_type": "execute_result",
          "data": {
            "text/plain": [
              "f    5\n",
              "g    6\n",
              "Name: s7, dtype: int64"
            ]
          },
          "metadata": {},
          "execution_count": 96
        }
      ]
    },
    {
      "cell_type": "code",
      "metadata": {
        "colab": {
          "base_uri": "https://localhost:8080/",
          "height": 0
        },
        "id": "normal-employee",
        "outputId": "8de442cd-149b-4cfb-a197-e677817c7e95"
      },
      "source": [
        "# Concatenando ao longo das colunas, gerando um DataFrame.\n",
        "pd.concat([s5, s6, s7], axis='columns')"
      ],
      "id": "normal-employee",
      "execution_count": 97,
      "outputs": [
        {
          "output_type": "execute_result",
          "data": {
            "text/html": [
              "<div>\n",
              "<style scoped>\n",
              "    .dataframe tbody tr th:only-of-type {\n",
              "        vertical-align: middle;\n",
              "    }\n",
              "\n",
              "    .dataframe tbody tr th {\n",
              "        vertical-align: top;\n",
              "    }\n",
              "\n",
              "    .dataframe thead th {\n",
              "        text-align: right;\n",
              "    }\n",
              "</style>\n",
              "<table border=\"1\" class=\"dataframe\">\n",
              "  <thead>\n",
              "    <tr style=\"text-align: right;\">\n",
              "      <th></th>\n",
              "      <th>s5</th>\n",
              "      <th>s6</th>\n",
              "      <th>s7</th>\n",
              "    </tr>\n",
              "  </thead>\n",
              "  <tbody>\n",
              "    <tr>\n",
              "      <th>a</th>\n",
              "      <td>0.0</td>\n",
              "      <td>NaN</td>\n",
              "      <td>NaN</td>\n",
              "    </tr>\n",
              "    <tr>\n",
              "      <th>b</th>\n",
              "      <td>1.0</td>\n",
              "      <td>NaN</td>\n",
              "      <td>NaN</td>\n",
              "    </tr>\n",
              "    <tr>\n",
              "      <th>c</th>\n",
              "      <td>NaN</td>\n",
              "      <td>2.0</td>\n",
              "      <td>NaN</td>\n",
              "    </tr>\n",
              "    <tr>\n",
              "      <th>d</th>\n",
              "      <td>NaN</td>\n",
              "      <td>3.0</td>\n",
              "      <td>NaN</td>\n",
              "    </tr>\n",
              "    <tr>\n",
              "      <th>e</th>\n",
              "      <td>NaN</td>\n",
              "      <td>4.0</td>\n",
              "      <td>NaN</td>\n",
              "    </tr>\n",
              "    <tr>\n",
              "      <th>f</th>\n",
              "      <td>NaN</td>\n",
              "      <td>NaN</td>\n",
              "      <td>5.0</td>\n",
              "    </tr>\n",
              "    <tr>\n",
              "      <th>g</th>\n",
              "      <td>NaN</td>\n",
              "      <td>NaN</td>\n",
              "      <td>6.0</td>\n",
              "    </tr>\n",
              "  </tbody>\n",
              "</table>\n",
              "</div>"
            ],
            "text/plain": [
              "    s5   s6   s7\n",
              "a  0.0  NaN  NaN\n",
              "b  1.0  NaN  NaN\n",
              "c  NaN  2.0  NaN\n",
              "d  NaN  3.0  NaN\n",
              "e  NaN  4.0  NaN\n",
              "f  NaN  NaN  5.0\n",
              "g  NaN  NaN  6.0"
            ]
          },
          "metadata": {},
          "execution_count": 97
        }
      ]
    },
    {
      "cell_type": "code",
      "metadata": {
        "colab": {
          "base_uri": "https://localhost:8080/"
        },
        "id": "civil-washington",
        "outputId": "fbcd78dd-8d02-4db0-cf2a-ec2a79d3c003"
      },
      "source": [
        "# Concatenando ao longo das linhas, gerando outra Serie.\n",
        "pd.concat([s5, s6, s7], axis='index')"
      ],
      "id": "civil-washington",
      "execution_count": 98,
      "outputs": [
        {
          "output_type": "execute_result",
          "data": {
            "text/plain": [
              "a    0\n",
              "b    1\n",
              "c    2\n",
              "d    3\n",
              "e    4\n",
              "f    5\n",
              "g    6\n",
              "dtype: int64"
            ]
          },
          "metadata": {},
          "execution_count": 98
        }
      ]
    },
    {
      "cell_type": "code",
      "metadata": {
        "colab": {
          "base_uri": "https://localhost:8080/"
        },
        "id": "graduate-cargo",
        "outputId": "f58f88aa-3287-4fbf-b057-33f153077859"
      },
      "source": [
        "s8, s8.name = pd.concat([s5, s7]), 's8'\n",
        "s8"
      ],
      "id": "graduate-cargo",
      "execution_count": 99,
      "outputs": [
        {
          "output_type": "execute_result",
          "data": {
            "text/plain": [
              "a    0\n",
              "b    1\n",
              "f    5\n",
              "g    6\n",
              "Name: s8, dtype: int64"
            ]
          },
          "metadata": {},
          "execution_count": 99
        }
      ]
    },
    {
      "cell_type": "code",
      "metadata": {
        "colab": {
          "base_uri": "https://localhost:8080/",
          "height": 0
        },
        "id": "billion-rubber",
        "outputId": "e786c353-3d67-48db-832a-1c2f5604d50b"
      },
      "source": [
        "pd.concat([s5, s8], axis=1, join='inner') # Faz um inner join usando os índices como chave."
      ],
      "id": "billion-rubber",
      "execution_count": 100,
      "outputs": [
        {
          "output_type": "execute_result",
          "data": {
            "text/html": [
              "<div>\n",
              "<style scoped>\n",
              "    .dataframe tbody tr th:only-of-type {\n",
              "        vertical-align: middle;\n",
              "    }\n",
              "\n",
              "    .dataframe tbody tr th {\n",
              "        vertical-align: top;\n",
              "    }\n",
              "\n",
              "    .dataframe thead th {\n",
              "        text-align: right;\n",
              "    }\n",
              "</style>\n",
              "<table border=\"1\" class=\"dataframe\">\n",
              "  <thead>\n",
              "    <tr style=\"text-align: right;\">\n",
              "      <th></th>\n",
              "      <th>s5</th>\n",
              "      <th>s8</th>\n",
              "    </tr>\n",
              "  </thead>\n",
              "  <tbody>\n",
              "    <tr>\n",
              "      <th>a</th>\n",
              "      <td>0</td>\n",
              "      <td>0</td>\n",
              "    </tr>\n",
              "    <tr>\n",
              "      <th>b</th>\n",
              "      <td>1</td>\n",
              "      <td>1</td>\n",
              "    </tr>\n",
              "  </tbody>\n",
              "</table>\n",
              "</div>"
            ],
            "text/plain": [
              "   s5  s8\n",
              "a   0   0\n",
              "b   1   1"
            ]
          },
          "metadata": {},
          "execution_count": 100
        }
      ]
    },
    {
      "cell_type": "code",
      "metadata": {
        "colab": {
          "base_uri": "https://localhost:8080/"
        },
        "id": "sealed-russell",
        "outputId": "ef13e921-3013-4998-92a4-4df4102e2ba2"
      },
      "source": [
        "# O argumento keys cria índices hierarquizados.\n",
        "pd.concat([s5, s6, s7], keys=['cinco', 'seis', 'sete'])"
      ],
      "id": "sealed-russell",
      "execution_count": 101,
      "outputs": [
        {
          "output_type": "execute_result",
          "data": {
            "text/plain": [
              "cinco  a    0\n",
              "       b    1\n",
              "seis   c    2\n",
              "       d    3\n",
              "       e    4\n",
              "sete   f    5\n",
              "       g    6\n",
              "dtype: int64"
            ]
          },
          "metadata": {},
          "execution_count": 101
        }
      ]
    },
    {
      "cell_type": "code",
      "metadata": {
        "colab": {
          "base_uri": "https://localhost:8080/"
        },
        "id": "disturbed-tiffany",
        "outputId": "48242e2b-3394-446f-9e56-56a1ef4b10dc"
      },
      "source": [
        "# O argumento ignore_index = True ignorará os índices.\n",
        "pd.concat([s6, s7], ignore_index=True)"
      ],
      "id": "disturbed-tiffany",
      "execution_count": 102,
      "outputs": [
        {
          "output_type": "execute_result",
          "data": {
            "text/plain": [
              "0    2\n",
              "1    3\n",
              "2    4\n",
              "3    5\n",
              "4    6\n",
              "dtype: int64"
            ]
          },
          "metadata": {},
          "execution_count": 102
        }
      ]
    },
    {
      "cell_type": "code",
      "metadata": {
        "colab": {
          "base_uri": "https://localhost:8080/"
        },
        "id": "common-investment",
        "outputId": "6baa54de-25c4-4f3f-af73-77494804ca5d"
      },
      "source": [
        "s9 = pd.Series([1], index=['b'])\n",
        "s9"
      ],
      "id": "common-investment",
      "execution_count": 103,
      "outputs": [
        {
          "output_type": "execute_result",
          "data": {
            "text/plain": [
              "b    1\n",
              "dtype: int64"
            ]
          },
          "metadata": {},
          "execution_count": 103
        }
      ]
    },
    {
      "cell_type": "markdown",
      "metadata": {
        "id": "amber-brand"
      },
      "source": [
        "### df1.combine_first(df2)\n",
        "#### Funciona como np.where(df1.isnull(), df2, df1)"
      ],
      "id": "amber-brand"
    },
    {
      "cell_type": "code",
      "metadata": {
        "colab": {
          "base_uri": "https://localhost:8080/",
          "height": 0
        },
        "id": "separate-classics",
        "outputId": "a21598c7-aabe-4961-925e-a06448a902a6"
      },
      "source": [
        "df28 = pd.DataFrame([[1, 2, np.nan], \n",
        "                    [3, np.nan, 4], \n",
        "                    [np.nan, np.nan, 5]], index=list('abc'))\n",
        "df28"
      ],
      "id": "separate-classics",
      "execution_count": 104,
      "outputs": [
        {
          "output_type": "execute_result",
          "data": {
            "text/html": [
              "<div>\n",
              "<style scoped>\n",
              "    .dataframe tbody tr th:only-of-type {\n",
              "        vertical-align: middle;\n",
              "    }\n",
              "\n",
              "    .dataframe tbody tr th {\n",
              "        vertical-align: top;\n",
              "    }\n",
              "\n",
              "    .dataframe thead th {\n",
              "        text-align: right;\n",
              "    }\n",
              "</style>\n",
              "<table border=\"1\" class=\"dataframe\">\n",
              "  <thead>\n",
              "    <tr style=\"text-align: right;\">\n",
              "      <th></th>\n",
              "      <th>0</th>\n",
              "      <th>1</th>\n",
              "      <th>2</th>\n",
              "    </tr>\n",
              "  </thead>\n",
              "  <tbody>\n",
              "    <tr>\n",
              "      <th>a</th>\n",
              "      <td>1.0</td>\n",
              "      <td>2.0</td>\n",
              "      <td>NaN</td>\n",
              "    </tr>\n",
              "    <tr>\n",
              "      <th>b</th>\n",
              "      <td>3.0</td>\n",
              "      <td>NaN</td>\n",
              "      <td>4.0</td>\n",
              "    </tr>\n",
              "    <tr>\n",
              "      <th>c</th>\n",
              "      <td>NaN</td>\n",
              "      <td>NaN</td>\n",
              "      <td>5.0</td>\n",
              "    </tr>\n",
              "  </tbody>\n",
              "</table>\n",
              "</div>"
            ],
            "text/plain": [
              "     0    1    2\n",
              "a  1.0  2.0  NaN\n",
              "b  3.0  NaN  4.0\n",
              "c  NaN  NaN  5.0"
            ]
          },
          "metadata": {},
          "execution_count": 104
        }
      ]
    },
    {
      "cell_type": "code",
      "metadata": {
        "colab": {
          "base_uri": "https://localhost:8080/",
          "height": 0
        },
        "id": "standing-bolivia",
        "outputId": "4a0edde9-d0f5-4c51-a4c4-6cc010f409f5"
      },
      "source": [
        "df29 = pd.DataFrame(np.arange(12).reshape(4, 3), index=list('abcd'))\n",
        "df29"
      ],
      "id": "standing-bolivia",
      "execution_count": 105,
      "outputs": [
        {
          "output_type": "execute_result",
          "data": {
            "text/html": [
              "<div>\n",
              "<style scoped>\n",
              "    .dataframe tbody tr th:only-of-type {\n",
              "        vertical-align: middle;\n",
              "    }\n",
              "\n",
              "    .dataframe tbody tr th {\n",
              "        vertical-align: top;\n",
              "    }\n",
              "\n",
              "    .dataframe thead th {\n",
              "        text-align: right;\n",
              "    }\n",
              "</style>\n",
              "<table border=\"1\" class=\"dataframe\">\n",
              "  <thead>\n",
              "    <tr style=\"text-align: right;\">\n",
              "      <th></th>\n",
              "      <th>0</th>\n",
              "      <th>1</th>\n",
              "      <th>2</th>\n",
              "    </tr>\n",
              "  </thead>\n",
              "  <tbody>\n",
              "    <tr>\n",
              "      <th>a</th>\n",
              "      <td>0</td>\n",
              "      <td>1</td>\n",
              "      <td>2</td>\n",
              "    </tr>\n",
              "    <tr>\n",
              "      <th>b</th>\n",
              "      <td>3</td>\n",
              "      <td>4</td>\n",
              "      <td>5</td>\n",
              "    </tr>\n",
              "    <tr>\n",
              "      <th>c</th>\n",
              "      <td>6</td>\n",
              "      <td>7</td>\n",
              "      <td>8</td>\n",
              "    </tr>\n",
              "    <tr>\n",
              "      <th>d</th>\n",
              "      <td>9</td>\n",
              "      <td>10</td>\n",
              "      <td>11</td>\n",
              "    </tr>\n",
              "  </tbody>\n",
              "</table>\n",
              "</div>"
            ],
            "text/plain": [
              "   0   1   2\n",
              "a  0   1   2\n",
              "b  3   4   5\n",
              "c  6   7   8\n",
              "d  9  10  11"
            ]
          },
          "metadata": {},
          "execution_count": 105
        }
      ]
    },
    {
      "cell_type": "code",
      "metadata": {
        "colab": {
          "base_uri": "https://localhost:8080/",
          "height": 0
        },
        "id": "advisory-bandwidth",
        "outputId": "d133d77c-1b1b-49e9-f0e0-5e3039f66fdb"
      },
      "source": [
        "df28.combine_first(df29)"
      ],
      "id": "advisory-bandwidth",
      "execution_count": 106,
      "outputs": [
        {
          "output_type": "execute_result",
          "data": {
            "text/html": [
              "<div>\n",
              "<style scoped>\n",
              "    .dataframe tbody tr th:only-of-type {\n",
              "        vertical-align: middle;\n",
              "    }\n",
              "\n",
              "    .dataframe tbody tr th {\n",
              "        vertical-align: top;\n",
              "    }\n",
              "\n",
              "    .dataframe thead th {\n",
              "        text-align: right;\n",
              "    }\n",
              "</style>\n",
              "<table border=\"1\" class=\"dataframe\">\n",
              "  <thead>\n",
              "    <tr style=\"text-align: right;\">\n",
              "      <th></th>\n",
              "      <th>0</th>\n",
              "      <th>1</th>\n",
              "      <th>2</th>\n",
              "    </tr>\n",
              "  </thead>\n",
              "  <tbody>\n",
              "    <tr>\n",
              "      <th>a</th>\n",
              "      <td>1.0</td>\n",
              "      <td>2.0</td>\n",
              "      <td>2.0</td>\n",
              "    </tr>\n",
              "    <tr>\n",
              "      <th>b</th>\n",
              "      <td>3.0</td>\n",
              "      <td>4.0</td>\n",
              "      <td>4.0</td>\n",
              "    </tr>\n",
              "    <tr>\n",
              "      <th>c</th>\n",
              "      <td>6.0</td>\n",
              "      <td>7.0</td>\n",
              "      <td>5.0</td>\n",
              "    </tr>\n",
              "    <tr>\n",
              "      <th>d</th>\n",
              "      <td>9.0</td>\n",
              "      <td>10.0</td>\n",
              "      <td>11.0</td>\n",
              "    </tr>\n",
              "  </tbody>\n",
              "</table>\n",
              "</div>"
            ],
            "text/plain": [
              "     0     1     2\n",
              "a  1.0   2.0   2.0\n",
              "b  3.0   4.0   4.0\n",
              "c  6.0   7.0   5.0\n",
              "d  9.0  10.0  11.0"
            ]
          },
          "metadata": {},
          "execution_count": 106
        }
      ]
    }
  ]
}