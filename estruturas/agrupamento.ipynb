{
  "nbformat": 4,
  "nbformat_minor": 5,
  "metadata": {
    "kernelspec": {
      "display_name": "Python 3",
      "language": "python",
      "name": "python3"
    },
    "language_info": {
      "codemirror_mode": {
        "name": "ipython",
        "version": 3
      },
      "file_extension": ".py",
      "mimetype": "text/x-python",
      "name": "python",
      "nbconvert_exporter": "python",
      "pygments_lexer": "ipython3",
      "version": "3.8.5"
    },
    "colab": {
      "name": "Agrupamento.ipynb",
      "provenance": []
    }
  },
  "cells": [
    {
      "cell_type": "markdown",
      "metadata": {
        "id": "recent-division"
      },
      "source": [
        "# Agrupamento\n",
        "\n",
        "### Os métodos de agrupamento consistem em dividir um conjunto de dados baseados em um ou mais critérios, também chamados de chaves. O agrupamento gerado podem então ser usado para análises estatísticas de grupo."
      ],
      "id": "recent-division"
    },
    {
      "cell_type": "markdown",
      "metadata": {
        "id": "Fgef4OthGnnG"
      },
      "source": [
        "## Bibliotecas"
      ],
      "id": "Fgef4OthGnnG"
    },
    {
      "cell_type": "code",
      "metadata": {
        "id": "opposed-retreat"
      },
      "source": [
        "import pandas as pd\n",
        "import numpy as np"
      ],
      "id": "opposed-retreat",
      "execution_count": 1,
      "outputs": []
    },
    {
      "cell_type": "markdown",
      "metadata": {
        "id": "informal-moses"
      },
      "source": [
        "### groupby([critérios de agrupamento])\n",
        "#### O método mais comum para agrupamento de dados é o groupby. Esse método recebe como parâmetros as chaves que vão agrupar os dados."
      ],
      "id": "informal-moses"
    },
    {
      "cell_type": "code",
      "metadata": {
        "id": "lonely-durham",
        "outputId": "1116df89-a21d-4224-ddd3-469f2937e23e",
        "colab": {
          "base_uri": "https://localhost:8080/",
          "height": 206
        }
      },
      "source": [
        "df1 = pd.DataFrame({'data1': np.random.randn(5), \n",
        "                    'data2': np.random.normal(10, 4, size=5),\n",
        "                    'chave1': [0, 1, 1, 0, 0],\n",
        "                    'chave2': ['a', 'a', 'b', 'a', 'b']})\n",
        "\n",
        "df1"
      ],
      "id": "lonely-durham",
      "execution_count": 2,
      "outputs": [
        {
          "output_type": "execute_result",
          "data": {
            "text/html": [
              "<div>\n",
              "<style scoped>\n",
              "    .dataframe tbody tr th:only-of-type {\n",
              "        vertical-align: middle;\n",
              "    }\n",
              "\n",
              "    .dataframe tbody tr th {\n",
              "        vertical-align: top;\n",
              "    }\n",
              "\n",
              "    .dataframe thead th {\n",
              "        text-align: right;\n",
              "    }\n",
              "</style>\n",
              "<table border=\"1\" class=\"dataframe\">\n",
              "  <thead>\n",
              "    <tr style=\"text-align: right;\">\n",
              "      <th></th>\n",
              "      <th>data1</th>\n",
              "      <th>data2</th>\n",
              "      <th>chave1</th>\n",
              "      <th>chave2</th>\n",
              "    </tr>\n",
              "  </thead>\n",
              "  <tbody>\n",
              "    <tr>\n",
              "      <th>0</th>\n",
              "      <td>0.271696</td>\n",
              "      <td>6.580766</td>\n",
              "      <td>0</td>\n",
              "      <td>a</td>\n",
              "    </tr>\n",
              "    <tr>\n",
              "      <th>1</th>\n",
              "      <td>0.292757</td>\n",
              "      <td>10.623011</td>\n",
              "      <td>1</td>\n",
              "      <td>a</td>\n",
              "    </tr>\n",
              "    <tr>\n",
              "      <th>2</th>\n",
              "      <td>0.306635</td>\n",
              "      <td>7.952431</td>\n",
              "      <td>1</td>\n",
              "      <td>b</td>\n",
              "    </tr>\n",
              "    <tr>\n",
              "      <th>3</th>\n",
              "      <td>0.647462</td>\n",
              "      <td>-0.024227</td>\n",
              "      <td>0</td>\n",
              "      <td>a</td>\n",
              "    </tr>\n",
              "    <tr>\n",
              "      <th>4</th>\n",
              "      <td>0.480225</td>\n",
              "      <td>16.412569</td>\n",
              "      <td>0</td>\n",
              "      <td>b</td>\n",
              "    </tr>\n",
              "  </tbody>\n",
              "</table>\n",
              "</div>"
            ],
            "text/plain": [
              "      data1      data2  chave1 chave2\n",
              "0  0.271696   6.580766       0      a\n",
              "1  0.292757  10.623011       1      a\n",
              "2  0.306635   7.952431       1      b\n",
              "3  0.647462  -0.024227       0      a\n",
              "4  0.480225  16.412569       0      b"
            ]
          },
          "metadata": {},
          "execution_count": 2
        }
      ]
    },
    {
      "cell_type": "code",
      "metadata": {
        "id": "aquatic-cooking",
        "outputId": "79d3b5da-d9d9-4d85-fbec-90c59dc5e1c5",
        "colab": {
          "base_uri": "https://localhost:8080/"
        }
      },
      "source": [
        "# Criando um elemento agrupado.\n",
        "grupo1 = df1.groupby(['chave1', 'chave2'])\n",
        "grupo1"
      ],
      "id": "aquatic-cooking",
      "execution_count": 3,
      "outputs": [
        {
          "output_type": "execute_result",
          "data": {
            "text/plain": [
              "<pandas.core.groupby.generic.DataFrameGroupBy object at 0x7f198bcdc750>"
            ]
          },
          "metadata": {},
          "execution_count": 3
        }
      ]
    },
    {
      "cell_type": "code",
      "metadata": {
        "scrolled": true,
        "id": "entire-garage",
        "outputId": "44f52ac1-7468-416e-d999-7ded05708272",
        "colab": {
          "base_uri": "https://localhost:8080/",
          "height": 206
        }
      },
      "source": [
        "# Fazendo a média por grupos.\n",
        "df2 = grupo1.mean()\n",
        "pd.DataFrame(df2)"
      ],
      "id": "entire-garage",
      "execution_count": 4,
      "outputs": [
        {
          "output_type": "execute_result",
          "data": {
            "text/html": [
              "<div>\n",
              "<style scoped>\n",
              "    .dataframe tbody tr th:only-of-type {\n",
              "        vertical-align: middle;\n",
              "    }\n",
              "\n",
              "    .dataframe tbody tr th {\n",
              "        vertical-align: top;\n",
              "    }\n",
              "\n",
              "    .dataframe thead th {\n",
              "        text-align: right;\n",
              "    }\n",
              "</style>\n",
              "<table border=\"1\" class=\"dataframe\">\n",
              "  <thead>\n",
              "    <tr style=\"text-align: right;\">\n",
              "      <th></th>\n",
              "      <th></th>\n",
              "      <th>data1</th>\n",
              "      <th>data2</th>\n",
              "    </tr>\n",
              "    <tr>\n",
              "      <th>chave1</th>\n",
              "      <th>chave2</th>\n",
              "      <th></th>\n",
              "      <th></th>\n",
              "    </tr>\n",
              "  </thead>\n",
              "  <tbody>\n",
              "    <tr>\n",
              "      <th rowspan=\"2\" valign=\"top\">0</th>\n",
              "      <th>a</th>\n",
              "      <td>0.459579</td>\n",
              "      <td>3.278269</td>\n",
              "    </tr>\n",
              "    <tr>\n",
              "      <th>b</th>\n",
              "      <td>0.480225</td>\n",
              "      <td>16.412569</td>\n",
              "    </tr>\n",
              "    <tr>\n",
              "      <th rowspan=\"2\" valign=\"top\">1</th>\n",
              "      <th>a</th>\n",
              "      <td>0.292757</td>\n",
              "      <td>10.623011</td>\n",
              "    </tr>\n",
              "    <tr>\n",
              "      <th>b</th>\n",
              "      <td>0.306635</td>\n",
              "      <td>7.952431</td>\n",
              "    </tr>\n",
              "  </tbody>\n",
              "</table>\n",
              "</div>"
            ],
            "text/plain": [
              "                  data1      data2\n",
              "chave1 chave2                     \n",
              "0      a       0.459579   3.278269\n",
              "       b       0.480225  16.412569\n",
              "1      a       0.292757  10.623011\n",
              "       b       0.306635   7.952431"
            ]
          },
          "metadata": {},
          "execution_count": 4
        }
      ]
    },
    {
      "cell_type": "code",
      "metadata": {
        "id": "driving-address",
        "outputId": "5cab6897-a47e-4092-8659-84364bf411ab",
        "colab": {
          "base_uri": "https://localhost:8080/",
          "height": 175
        }
      },
      "source": [
        "df3 = df2.unstack()\n",
        "pd.DataFrame(df3)"
      ],
      "id": "driving-address",
      "execution_count": 5,
      "outputs": [
        {
          "output_type": "execute_result",
          "data": {
            "text/html": [
              "<div>\n",
              "<style scoped>\n",
              "    .dataframe tbody tr th:only-of-type {\n",
              "        vertical-align: middle;\n",
              "    }\n",
              "\n",
              "    .dataframe tbody tr th {\n",
              "        vertical-align: top;\n",
              "    }\n",
              "\n",
              "    .dataframe thead tr th {\n",
              "        text-align: left;\n",
              "    }\n",
              "\n",
              "    .dataframe thead tr:last-of-type th {\n",
              "        text-align: right;\n",
              "    }\n",
              "</style>\n",
              "<table border=\"1\" class=\"dataframe\">\n",
              "  <thead>\n",
              "    <tr>\n",
              "      <th></th>\n",
              "      <th colspan=\"2\" halign=\"left\">data1</th>\n",
              "      <th colspan=\"2\" halign=\"left\">data2</th>\n",
              "    </tr>\n",
              "    <tr>\n",
              "      <th>chave2</th>\n",
              "      <th>a</th>\n",
              "      <th>b</th>\n",
              "      <th>a</th>\n",
              "      <th>b</th>\n",
              "    </tr>\n",
              "    <tr>\n",
              "      <th>chave1</th>\n",
              "      <th></th>\n",
              "      <th></th>\n",
              "      <th></th>\n",
              "      <th></th>\n",
              "    </tr>\n",
              "  </thead>\n",
              "  <tbody>\n",
              "    <tr>\n",
              "      <th>0</th>\n",
              "      <td>0.459579</td>\n",
              "      <td>0.480225</td>\n",
              "      <td>3.278269</td>\n",
              "      <td>16.412569</td>\n",
              "    </tr>\n",
              "    <tr>\n",
              "      <th>1</th>\n",
              "      <td>0.292757</td>\n",
              "      <td>0.306635</td>\n",
              "      <td>10.623011</td>\n",
              "      <td>7.952431</td>\n",
              "    </tr>\n",
              "  </tbody>\n",
              "</table>\n",
              "</div>"
            ],
            "text/plain": [
              "           data1                data2           \n",
              "chave2         a         b          a          b\n",
              "chave1                                          \n",
              "0       0.459579  0.480225   3.278269  16.412569\n",
              "1       0.292757  0.306635  10.623011   7.952431"
            ]
          },
          "metadata": {},
          "execution_count": 5
        }
      ]
    },
    {
      "cell_type": "code",
      "metadata": {
        "id": "generous-delight",
        "outputId": "242a45f2-5f84-4ea2-c385-785f5653982e",
        "colab": {
          "base_uri": "https://localhost:8080/"
        }
      },
      "source": [
        "# Agrupando por tipos no eixo das colunas.\n",
        "df4 = df1.groupby(df1.dtypes, axis=1)\n",
        "\n",
        "for chave, grupo in df4:\n",
        "    print(chave)\n",
        "    print(grupo)"
      ],
      "id": "generous-delight",
      "execution_count": 6,
      "outputs": [
        {
          "output_type": "stream",
          "name": "stdout",
          "text": [
            "int64\n",
            "   chave1\n",
            "0       0\n",
            "1       1\n",
            "2       1\n",
            "3       0\n",
            "4       0\n",
            "float64\n",
            "      data1      data2\n",
            "0  0.271696   6.580766\n",
            "1  0.292757  10.623011\n",
            "2  0.306635   7.952431\n",
            "3  0.647462  -0.024227\n",
            "4  0.480225  16.412569\n",
            "object\n",
            "  chave2\n",
            "0      a\n",
            "1      a\n",
            "2      b\n",
            "3      a\n",
            "4      b\n"
          ]
        }
      ]
    },
    {
      "cell_type": "code",
      "metadata": {
        "id": "nearby-characteristic",
        "outputId": "98c9da2e-8d6b-4832-cb55-18fc1402726a",
        "colab": {
          "base_uri": "https://localhost:8080/"
        }
      },
      "source": [
        "df1.groupby(['chave1', 'chave2'])['data2'].mean()"
      ],
      "id": "nearby-characteristic",
      "execution_count": 7,
      "outputs": [
        {
          "output_type": "execute_result",
          "data": {
            "text/plain": [
              "chave1  chave2\n",
              "0       a          3.278269\n",
              "        b         16.412569\n",
              "1       a         10.623011\n",
              "        b          7.952431\n",
              "Name: data2, dtype: float64"
            ]
          },
          "metadata": {},
          "execution_count": 7
        }
      ]
    },
    {
      "cell_type": "code",
      "metadata": {
        "id": "reflected-force",
        "outputId": "575ee575-cf95-423c-988a-99828ec3846b",
        "colab": {
          "base_uri": "https://localhost:8080/",
          "height": 206
        }
      },
      "source": [
        "# Funções, Series, dicionários, listas e tuplas mapeiam e agrupam baseado no resultado do mapeamento.\n",
        "\n",
        "df5 = pd.DataFrame(np.random.randn(5, 5), \n",
        "                      index=['SQL', 'HTML', 'PHP', 'PYTHON', 'CSS'], \n",
        "                      columns=['a', 'b', 'c', 'd', 'e'])\n",
        "\n",
        "df5"
      ],
      "id": "reflected-force",
      "execution_count": 8,
      "outputs": [
        {
          "output_type": "execute_result",
          "data": {
            "text/html": [
              "<div>\n",
              "<style scoped>\n",
              "    .dataframe tbody tr th:only-of-type {\n",
              "        vertical-align: middle;\n",
              "    }\n",
              "\n",
              "    .dataframe tbody tr th {\n",
              "        vertical-align: top;\n",
              "    }\n",
              "\n",
              "    .dataframe thead th {\n",
              "        text-align: right;\n",
              "    }\n",
              "</style>\n",
              "<table border=\"1\" class=\"dataframe\">\n",
              "  <thead>\n",
              "    <tr style=\"text-align: right;\">\n",
              "      <th></th>\n",
              "      <th>a</th>\n",
              "      <th>b</th>\n",
              "      <th>c</th>\n",
              "      <th>d</th>\n",
              "      <th>e</th>\n",
              "    </tr>\n",
              "  </thead>\n",
              "  <tbody>\n",
              "    <tr>\n",
              "      <th>SQL</th>\n",
              "      <td>-0.363111</td>\n",
              "      <td>0.663725</td>\n",
              "      <td>1.718516</td>\n",
              "      <td>-2.084355</td>\n",
              "      <td>1.264812</td>\n",
              "    </tr>\n",
              "    <tr>\n",
              "      <th>HTML</th>\n",
              "      <td>1.835621</td>\n",
              "      <td>-0.592999</td>\n",
              "      <td>0.352199</td>\n",
              "      <td>1.071627</td>\n",
              "      <td>-1.535518</td>\n",
              "    </tr>\n",
              "    <tr>\n",
              "      <th>PHP</th>\n",
              "      <td>-0.699256</td>\n",
              "      <td>0.034983</td>\n",
              "      <td>-0.421703</td>\n",
              "      <td>-0.604612</td>\n",
              "      <td>0.284065</td>\n",
              "    </tr>\n",
              "    <tr>\n",
              "      <th>PYTHON</th>\n",
              "      <td>-1.806085</td>\n",
              "      <td>-0.945749</td>\n",
              "      <td>-1.419529</td>\n",
              "      <td>-1.654601</td>\n",
              "      <td>0.702258</td>\n",
              "    </tr>\n",
              "    <tr>\n",
              "      <th>CSS</th>\n",
              "      <td>-1.943218</td>\n",
              "      <td>1.690981</td>\n",
              "      <td>1.033176</td>\n",
              "      <td>-0.509614</td>\n",
              "      <td>-0.937739</td>\n",
              "    </tr>\n",
              "  </tbody>\n",
              "</table>\n",
              "</div>"
            ],
            "text/plain": [
              "               a         b         c         d         e\n",
              "SQL    -0.363111  0.663725  1.718516 -2.084355  1.264812\n",
              "HTML    1.835621 -0.592999  0.352199  1.071627 -1.535518\n",
              "PHP    -0.699256  0.034983 -0.421703 -0.604612  0.284065\n",
              "PYTHON -1.806085 -0.945749 -1.419529 -1.654601  0.702258\n",
              "CSS    -1.943218  1.690981  1.033176 -0.509614 -0.937739"
            ]
          },
          "metadata": {},
          "execution_count": 8
        }
      ]
    },
    {
      "cell_type": "code",
      "metadata": {
        "id": "close-train",
        "outputId": "a78d22d2-2b49-4789-fe81-9d8cff390111",
        "colab": {
          "base_uri": "https://localhost:8080/",
          "height": 206
        }
      },
      "source": [
        "mapeamento = {'a': 1, 'b': 0, 'c': 0, 'd': 1, 'e': 0}\n",
        "df5.groupby(mapeamento, axis=1).sum()"
      ],
      "id": "close-train",
      "execution_count": 9,
      "outputs": [
        {
          "output_type": "execute_result",
          "data": {
            "text/html": [
              "<div>\n",
              "<style scoped>\n",
              "    .dataframe tbody tr th:only-of-type {\n",
              "        vertical-align: middle;\n",
              "    }\n",
              "\n",
              "    .dataframe tbody tr th {\n",
              "        vertical-align: top;\n",
              "    }\n",
              "\n",
              "    .dataframe thead th {\n",
              "        text-align: right;\n",
              "    }\n",
              "</style>\n",
              "<table border=\"1\" class=\"dataframe\">\n",
              "  <thead>\n",
              "    <tr style=\"text-align: right;\">\n",
              "      <th></th>\n",
              "      <th>0</th>\n",
              "      <th>1</th>\n",
              "    </tr>\n",
              "  </thead>\n",
              "  <tbody>\n",
              "    <tr>\n",
              "      <th>SQL</th>\n",
              "      <td>3.647054</td>\n",
              "      <td>-2.447466</td>\n",
              "    </tr>\n",
              "    <tr>\n",
              "      <th>HTML</th>\n",
              "      <td>-1.776318</td>\n",
              "      <td>2.907248</td>\n",
              "    </tr>\n",
              "    <tr>\n",
              "      <th>PHP</th>\n",
              "      <td>-0.102655</td>\n",
              "      <td>-1.303868</td>\n",
              "    </tr>\n",
              "    <tr>\n",
              "      <th>PYTHON</th>\n",
              "      <td>-1.663020</td>\n",
              "      <td>-3.460686</td>\n",
              "    </tr>\n",
              "    <tr>\n",
              "      <th>CSS</th>\n",
              "      <td>1.786419</td>\n",
              "      <td>-2.452832</td>\n",
              "    </tr>\n",
              "  </tbody>\n",
              "</table>\n",
              "</div>"
            ],
            "text/plain": [
              "               0         1\n",
              "SQL     3.647054 -2.447466\n",
              "HTML   -1.776318  2.907248\n",
              "PHP    -0.102655 -1.303868\n",
              "PYTHON -1.663020 -3.460686\n",
              "CSS     1.786419 -2.452832"
            ]
          },
          "metadata": {},
          "execution_count": 9
        }
      ]
    },
    {
      "cell_type": "code",
      "metadata": {
        "scrolled": true,
        "id": "small-arthritis",
        "outputId": "05e2d77f-5cba-4ee3-ecf1-128f0d888077",
        "colab": {
          "base_uri": "https://localhost:8080/",
          "height": 175
        }
      },
      "source": [
        "lista_chaves = ['um', 'um', 'um', 'dois', 'dois']\n",
        "\n",
        "# Mapeando as posições dos registros e agrupando por tamanho e posição.\n",
        "grupo2 = df5.groupby([len, lista_chaves])\n",
        "\n",
        "# Encontrando o valor mínimo por grupo em cada coluna.\n",
        "df6 = grupo2.min()\n",
        "df6"
      ],
      "id": "small-arthritis",
      "execution_count": 10,
      "outputs": [
        {
          "output_type": "execute_result",
          "data": {
            "text/html": [
              "<div>\n",
              "<style scoped>\n",
              "    .dataframe tbody tr th:only-of-type {\n",
              "        vertical-align: middle;\n",
              "    }\n",
              "\n",
              "    .dataframe tbody tr th {\n",
              "        vertical-align: top;\n",
              "    }\n",
              "\n",
              "    .dataframe thead th {\n",
              "        text-align: right;\n",
              "    }\n",
              "</style>\n",
              "<table border=\"1\" class=\"dataframe\">\n",
              "  <thead>\n",
              "    <tr style=\"text-align: right;\">\n",
              "      <th></th>\n",
              "      <th></th>\n",
              "      <th>a</th>\n",
              "      <th>b</th>\n",
              "      <th>c</th>\n",
              "      <th>d</th>\n",
              "      <th>e</th>\n",
              "    </tr>\n",
              "  </thead>\n",
              "  <tbody>\n",
              "    <tr>\n",
              "      <th rowspan=\"2\" valign=\"top\">3</th>\n",
              "      <th>dois</th>\n",
              "      <td>-1.943218</td>\n",
              "      <td>1.690981</td>\n",
              "      <td>1.033176</td>\n",
              "      <td>-0.509614</td>\n",
              "      <td>-0.937739</td>\n",
              "    </tr>\n",
              "    <tr>\n",
              "      <th>um</th>\n",
              "      <td>-0.699256</td>\n",
              "      <td>0.034983</td>\n",
              "      <td>-0.421703</td>\n",
              "      <td>-2.084355</td>\n",
              "      <td>0.284065</td>\n",
              "    </tr>\n",
              "    <tr>\n",
              "      <th>4</th>\n",
              "      <th>um</th>\n",
              "      <td>1.835621</td>\n",
              "      <td>-0.592999</td>\n",
              "      <td>0.352199</td>\n",
              "      <td>1.071627</td>\n",
              "      <td>-1.535518</td>\n",
              "    </tr>\n",
              "    <tr>\n",
              "      <th>6</th>\n",
              "      <th>dois</th>\n",
              "      <td>-1.806085</td>\n",
              "      <td>-0.945749</td>\n",
              "      <td>-1.419529</td>\n",
              "      <td>-1.654601</td>\n",
              "      <td>0.702258</td>\n",
              "    </tr>\n",
              "  </tbody>\n",
              "</table>\n",
              "</div>"
            ],
            "text/plain": [
              "               a         b         c         d         e\n",
              "3 dois -1.943218  1.690981  1.033176 -0.509614 -0.937739\n",
              "  um   -0.699256  0.034983 -0.421703 -2.084355  0.284065\n",
              "4 um    1.835621 -0.592999  0.352199  1.071627 -1.535518\n",
              "6 dois -1.806085 -0.945749 -1.419529 -1.654601  0.702258"
            ]
          },
          "metadata": {},
          "execution_count": 10
        }
      ]
    },
    {
      "cell_type": "code",
      "metadata": {
        "scrolled": true,
        "id": "incorrect-infrastructure",
        "outputId": "360b7bc1-b142-4d2d-cf4e-2ccb3d1d780d",
        "colab": {
          "base_uri": "https://localhost:8080/",
          "height": 238
        }
      },
      "source": [
        "# Agrupando por nível.\n",
        "\n",
        "colunas = pd.MultiIndex.from_arrays([['EUA', 'EUA', 'EUA', 'JP', 'JP'], \n",
        "                                     [1, 3, 5, 1, 3]], names=['País', 'Período'])\n",
        "\n",
        "df7 = pd.DataFrame(np.random.randint(10, size=20).reshape(4, 5), columns = colunas)\n",
        "df7.index.name = 'Índice'\n",
        "df7"
      ],
      "id": "incorrect-infrastructure",
      "execution_count": 11,
      "outputs": [
        {
          "output_type": "execute_result",
          "data": {
            "text/html": [
              "<div>\n",
              "<style scoped>\n",
              "    .dataframe tbody tr th:only-of-type {\n",
              "        vertical-align: middle;\n",
              "    }\n",
              "\n",
              "    .dataframe tbody tr th {\n",
              "        vertical-align: top;\n",
              "    }\n",
              "\n",
              "    .dataframe thead tr th {\n",
              "        text-align: left;\n",
              "    }\n",
              "\n",
              "    .dataframe thead tr:last-of-type th {\n",
              "        text-align: right;\n",
              "    }\n",
              "</style>\n",
              "<table border=\"1\" class=\"dataframe\">\n",
              "  <thead>\n",
              "    <tr>\n",
              "      <th>País</th>\n",
              "      <th colspan=\"3\" halign=\"left\">EUA</th>\n",
              "      <th colspan=\"2\" halign=\"left\">JP</th>\n",
              "    </tr>\n",
              "    <tr>\n",
              "      <th>Período</th>\n",
              "      <th>1</th>\n",
              "      <th>3</th>\n",
              "      <th>5</th>\n",
              "      <th>1</th>\n",
              "      <th>3</th>\n",
              "    </tr>\n",
              "    <tr>\n",
              "      <th>Índice</th>\n",
              "      <th></th>\n",
              "      <th></th>\n",
              "      <th></th>\n",
              "      <th></th>\n",
              "      <th></th>\n",
              "    </tr>\n",
              "  </thead>\n",
              "  <tbody>\n",
              "    <tr>\n",
              "      <th>0</th>\n",
              "      <td>8</td>\n",
              "      <td>8</td>\n",
              "      <td>7</td>\n",
              "      <td>3</td>\n",
              "      <td>7</td>\n",
              "    </tr>\n",
              "    <tr>\n",
              "      <th>1</th>\n",
              "      <td>4</td>\n",
              "      <td>4</td>\n",
              "      <td>8</td>\n",
              "      <td>4</td>\n",
              "      <td>5</td>\n",
              "    </tr>\n",
              "    <tr>\n",
              "      <th>2</th>\n",
              "      <td>3</td>\n",
              "      <td>0</td>\n",
              "      <td>8</td>\n",
              "      <td>7</td>\n",
              "      <td>3</td>\n",
              "    </tr>\n",
              "    <tr>\n",
              "      <th>3</th>\n",
              "      <td>9</td>\n",
              "      <td>9</td>\n",
              "      <td>1</td>\n",
              "      <td>5</td>\n",
              "      <td>6</td>\n",
              "    </tr>\n",
              "  </tbody>\n",
              "</table>\n",
              "</div>"
            ],
            "text/plain": [
              "País    EUA       JP   \n",
              "Período   1  3  5  1  3\n",
              "Índice                 \n",
              "0         8  8  7  3  7\n",
              "1         4  4  8  4  5\n",
              "2         3  0  8  7  3\n",
              "3         9  9  1  5  6"
            ]
          },
          "metadata": {},
          "execution_count": 11
        }
      ]
    },
    {
      "cell_type": "code",
      "metadata": {
        "scrolled": true,
        "id": "forbidden-editing",
        "outputId": "18676f58-2f3b-400d-9aa8-0fdda26c3278",
        "colab": {
          "base_uri": "https://localhost:8080/",
          "height": 206
        }
      },
      "source": [
        "# Agrupando pelo nível 'País' no eixo das colunas.\n",
        "df7.groupby(level='País', axis=1).max()"
      ],
      "id": "forbidden-editing",
      "execution_count": 12,
      "outputs": [
        {
          "output_type": "execute_result",
          "data": {
            "text/html": [
              "<div>\n",
              "<style scoped>\n",
              "    .dataframe tbody tr th:only-of-type {\n",
              "        vertical-align: middle;\n",
              "    }\n",
              "\n",
              "    .dataframe tbody tr th {\n",
              "        vertical-align: top;\n",
              "    }\n",
              "\n",
              "    .dataframe thead th {\n",
              "        text-align: right;\n",
              "    }\n",
              "</style>\n",
              "<table border=\"1\" class=\"dataframe\">\n",
              "  <thead>\n",
              "    <tr style=\"text-align: right;\">\n",
              "      <th>País</th>\n",
              "      <th>EUA</th>\n",
              "      <th>JP</th>\n",
              "    </tr>\n",
              "    <tr>\n",
              "      <th>Índice</th>\n",
              "      <th></th>\n",
              "      <th></th>\n",
              "    </tr>\n",
              "  </thead>\n",
              "  <tbody>\n",
              "    <tr>\n",
              "      <th>0</th>\n",
              "      <td>8</td>\n",
              "      <td>7</td>\n",
              "    </tr>\n",
              "    <tr>\n",
              "      <th>1</th>\n",
              "      <td>8</td>\n",
              "      <td>5</td>\n",
              "    </tr>\n",
              "    <tr>\n",
              "      <th>2</th>\n",
              "      <td>8</td>\n",
              "      <td>7</td>\n",
              "    </tr>\n",
              "    <tr>\n",
              "      <th>3</th>\n",
              "      <td>9</td>\n",
              "      <td>6</td>\n",
              "    </tr>\n",
              "  </tbody>\n",
              "</table>\n",
              "</div>"
            ],
            "text/plain": [
              "País    EUA  JP\n",
              "Índice         \n",
              "0         8   7\n",
              "1         8   5\n",
              "2         8   7\n",
              "3         9   6"
            ]
          },
          "metadata": {},
          "execution_count": 12
        }
      ]
    },
    {
      "cell_type": "markdown",
      "metadata": {
        "id": "peripheral-plenty"
      },
      "source": [
        "-------------------------------------------------------------------------------------------------------"
      ],
      "id": "peripheral-plenty"
    },
    {
      "cell_type": "markdown",
      "metadata": {
        "id": "earlier-decrease"
      },
      "source": [
        "### agg([funções])\n",
        "#### Depois dos dados terem sido agrupados podemos aplicar inúmeras funções (padrões ou criadas pelo usuário) sobre todas as colunas que não levantam excessões. As funções devem ser capazes de receber uma Array de dados e retornar um valor escalar. Para melhorar a legibilidade podemos passar um alias às funções quando elas forem apresentadas no resultado final."
      ],
      "id": "earlier-decrease"
    },
    {
      "cell_type": "code",
      "metadata": {
        "scrolled": true,
        "id": "acting-professional",
        "outputId": "4fe92a0a-1cd0-4a5e-afdb-2ed04100ba9b",
        "colab": {
          "base_uri": "https://localhost:8080/",
          "height": 206
        }
      },
      "source": [
        "def intervalo_entre_os_extremos(arr):\n",
        "    return arr.max() - arr.min()\n",
        "\n",
        "df1"
      ],
      "id": "acting-professional",
      "execution_count": 13,
      "outputs": [
        {
          "output_type": "execute_result",
          "data": {
            "text/html": [
              "<div>\n",
              "<style scoped>\n",
              "    .dataframe tbody tr th:only-of-type {\n",
              "        vertical-align: middle;\n",
              "    }\n",
              "\n",
              "    .dataframe tbody tr th {\n",
              "        vertical-align: top;\n",
              "    }\n",
              "\n",
              "    .dataframe thead th {\n",
              "        text-align: right;\n",
              "    }\n",
              "</style>\n",
              "<table border=\"1\" class=\"dataframe\">\n",
              "  <thead>\n",
              "    <tr style=\"text-align: right;\">\n",
              "      <th></th>\n",
              "      <th>data1</th>\n",
              "      <th>data2</th>\n",
              "      <th>chave1</th>\n",
              "      <th>chave2</th>\n",
              "    </tr>\n",
              "  </thead>\n",
              "  <tbody>\n",
              "    <tr>\n",
              "      <th>0</th>\n",
              "      <td>0.271696</td>\n",
              "      <td>6.580766</td>\n",
              "      <td>0</td>\n",
              "      <td>a</td>\n",
              "    </tr>\n",
              "    <tr>\n",
              "      <th>1</th>\n",
              "      <td>0.292757</td>\n",
              "      <td>10.623011</td>\n",
              "      <td>1</td>\n",
              "      <td>a</td>\n",
              "    </tr>\n",
              "    <tr>\n",
              "      <th>2</th>\n",
              "      <td>0.306635</td>\n",
              "      <td>7.952431</td>\n",
              "      <td>1</td>\n",
              "      <td>b</td>\n",
              "    </tr>\n",
              "    <tr>\n",
              "      <th>3</th>\n",
              "      <td>0.647462</td>\n",
              "      <td>-0.024227</td>\n",
              "      <td>0</td>\n",
              "      <td>a</td>\n",
              "    </tr>\n",
              "    <tr>\n",
              "      <th>4</th>\n",
              "      <td>0.480225</td>\n",
              "      <td>16.412569</td>\n",
              "      <td>0</td>\n",
              "      <td>b</td>\n",
              "    </tr>\n",
              "  </tbody>\n",
              "</table>\n",
              "</div>"
            ],
            "text/plain": [
              "      data1      data2  chave1 chave2\n",
              "0  0.271696   6.580766       0      a\n",
              "1  0.292757  10.623011       1      a\n",
              "2  0.306635   7.952431       1      b\n",
              "3  0.647462  -0.024227       0      a\n",
              "4  0.480225  16.412569       0      b"
            ]
          },
          "metadata": {},
          "execution_count": 13
        }
      ]
    },
    {
      "cell_type": "code",
      "metadata": {
        "id": "pressing-lafayette",
        "outputId": "21e6f483-865b-4deb-8511-897a97d9030e",
        "colab": {
          "base_uri": "https://localhost:8080/",
          "height": 143
        }
      },
      "source": [
        "grupo3 = df1.groupby('chave1')\n",
        "grupo3.agg(intervalo_entre_os_extremos)"
      ],
      "id": "pressing-lafayette",
      "execution_count": 14,
      "outputs": [
        {
          "output_type": "execute_result",
          "data": {
            "text/html": [
              "<div>\n",
              "<style scoped>\n",
              "    .dataframe tbody tr th:only-of-type {\n",
              "        vertical-align: middle;\n",
              "    }\n",
              "\n",
              "    .dataframe tbody tr th {\n",
              "        vertical-align: top;\n",
              "    }\n",
              "\n",
              "    .dataframe thead th {\n",
              "        text-align: right;\n",
              "    }\n",
              "</style>\n",
              "<table border=\"1\" class=\"dataframe\">\n",
              "  <thead>\n",
              "    <tr style=\"text-align: right;\">\n",
              "      <th></th>\n",
              "      <th>data1</th>\n",
              "      <th>data2</th>\n",
              "    </tr>\n",
              "    <tr>\n",
              "      <th>chave1</th>\n",
              "      <th></th>\n",
              "      <th></th>\n",
              "    </tr>\n",
              "  </thead>\n",
              "  <tbody>\n",
              "    <tr>\n",
              "      <th>0</th>\n",
              "      <td>0.375765</td>\n",
              "      <td>16.436796</td>\n",
              "    </tr>\n",
              "    <tr>\n",
              "      <th>1</th>\n",
              "      <td>0.013878</td>\n",
              "      <td>2.670581</td>\n",
              "    </tr>\n",
              "  </tbody>\n",
              "</table>\n",
              "</div>"
            ],
            "text/plain": [
              "           data1      data2\n",
              "chave1                     \n",
              "0       0.375765  16.436796\n",
              "1       0.013878   2.670581"
            ]
          },
          "metadata": {},
          "execution_count": 14
        }
      ]
    },
    {
      "cell_type": "code",
      "metadata": {
        "scrolled": true,
        "id": "interpreted-tiger",
        "outputId": "34374aad-274f-463b-d18b-e9f5840e236a",
        "colab": {
          "base_uri": "https://localhost:8080/",
          "height": 195
        }
      },
      "source": [
        "grupo3.describe()"
      ],
      "id": "interpreted-tiger",
      "execution_count": 15,
      "outputs": [
        {
          "output_type": "execute_result",
          "data": {
            "text/html": [
              "<div>\n",
              "<style scoped>\n",
              "    .dataframe tbody tr th:only-of-type {\n",
              "        vertical-align: middle;\n",
              "    }\n",
              "\n",
              "    .dataframe tbody tr th {\n",
              "        vertical-align: top;\n",
              "    }\n",
              "\n",
              "    .dataframe thead tr th {\n",
              "        text-align: left;\n",
              "    }\n",
              "\n",
              "    .dataframe thead tr:last-of-type th {\n",
              "        text-align: right;\n",
              "    }\n",
              "</style>\n",
              "<table border=\"1\" class=\"dataframe\">\n",
              "  <thead>\n",
              "    <tr>\n",
              "      <th></th>\n",
              "      <th colspan=\"8\" halign=\"left\">data1</th>\n",
              "      <th colspan=\"8\" halign=\"left\">data2</th>\n",
              "    </tr>\n",
              "    <tr>\n",
              "      <th></th>\n",
              "      <th>count</th>\n",
              "      <th>mean</th>\n",
              "      <th>std</th>\n",
              "      <th>min</th>\n",
              "      <th>25%</th>\n",
              "      <th>50%</th>\n",
              "      <th>75%</th>\n",
              "      <th>max</th>\n",
              "      <th>count</th>\n",
              "      <th>mean</th>\n",
              "      <th>std</th>\n",
              "      <th>min</th>\n",
              "      <th>25%</th>\n",
              "      <th>50%</th>\n",
              "      <th>75%</th>\n",
              "      <th>max</th>\n",
              "    </tr>\n",
              "    <tr>\n",
              "      <th>chave1</th>\n",
              "      <th></th>\n",
              "      <th></th>\n",
              "      <th></th>\n",
              "      <th></th>\n",
              "      <th></th>\n",
              "      <th></th>\n",
              "      <th></th>\n",
              "      <th></th>\n",
              "      <th></th>\n",
              "      <th></th>\n",
              "      <th></th>\n",
              "      <th></th>\n",
              "      <th></th>\n",
              "      <th></th>\n",
              "      <th></th>\n",
              "      <th></th>\n",
              "    </tr>\n",
              "  </thead>\n",
              "  <tbody>\n",
              "    <tr>\n",
              "      <th>0</th>\n",
              "      <td>3.0</td>\n",
              "      <td>0.466461</td>\n",
              "      <td>0.188260</td>\n",
              "      <td>0.271696</td>\n",
              "      <td>0.375961</td>\n",
              "      <td>0.480225</td>\n",
              "      <td>0.563844</td>\n",
              "      <td>0.647462</td>\n",
              "      <td>3.0</td>\n",
              "      <td>7.656369</td>\n",
              "      <td>8.271019</td>\n",
              "      <td>-0.024227</td>\n",
              "      <td>3.278269</td>\n",
              "      <td>6.580766</td>\n",
              "      <td>11.496667</td>\n",
              "      <td>16.412569</td>\n",
              "    </tr>\n",
              "    <tr>\n",
              "      <th>1</th>\n",
              "      <td>2.0</td>\n",
              "      <td>0.299696</td>\n",
              "      <td>0.009813</td>\n",
              "      <td>0.292757</td>\n",
              "      <td>0.296226</td>\n",
              "      <td>0.299696</td>\n",
              "      <td>0.303165</td>\n",
              "      <td>0.306635</td>\n",
              "      <td>2.0</td>\n",
              "      <td>9.287721</td>\n",
              "      <td>1.888386</td>\n",
              "      <td>7.952431</td>\n",
              "      <td>8.620076</td>\n",
              "      <td>9.287721</td>\n",
              "      <td>9.955366</td>\n",
              "      <td>10.623011</td>\n",
              "    </tr>\n",
              "  </tbody>\n",
              "</table>\n",
              "</div>"
            ],
            "text/plain": [
              "       data1                      ...     data2                      \n",
              "       count      mean       std  ...       50%        75%        max\n",
              "chave1                            ...                                \n",
              "0        3.0  0.466461  0.188260  ...  6.580766  11.496667  16.412569\n",
              "1        2.0  0.299696  0.009813  ...  9.287721   9.955366  10.623011\n",
              "\n",
              "[2 rows x 16 columns]"
            ]
          },
          "metadata": {},
          "execution_count": 15
        }
      ]
    },
    {
      "cell_type": "code",
      "metadata": {
        "id": "classified-novelty",
        "outputId": "650a39a0-cd3e-45da-cb02-415ff2d2b943",
        "colab": {
          "base_uri": "https://localhost:8080/",
          "height": 206
        }
      },
      "source": [
        "# Aplicando várias funções em várias colunas.\n",
        "\n",
        "gorjetas = pd.read_csv('tips.csv')\n",
        "\n",
        "gorjetas.head()"
      ],
      "id": "classified-novelty",
      "execution_count": 16,
      "outputs": [
        {
          "output_type": "execute_result",
          "data": {
            "text/html": [
              "<div>\n",
              "<style scoped>\n",
              "    .dataframe tbody tr th:only-of-type {\n",
              "        vertical-align: middle;\n",
              "    }\n",
              "\n",
              "    .dataframe tbody tr th {\n",
              "        vertical-align: top;\n",
              "    }\n",
              "\n",
              "    .dataframe thead th {\n",
              "        text-align: right;\n",
              "    }\n",
              "</style>\n",
              "<table border=\"1\" class=\"dataframe\">\n",
              "  <thead>\n",
              "    <tr style=\"text-align: right;\">\n",
              "      <th></th>\n",
              "      <th>total_bill</th>\n",
              "      <th>tip</th>\n",
              "      <th>smoker</th>\n",
              "      <th>day</th>\n",
              "      <th>time</th>\n",
              "      <th>size</th>\n",
              "    </tr>\n",
              "  </thead>\n",
              "  <tbody>\n",
              "    <tr>\n",
              "      <th>0</th>\n",
              "      <td>16.99</td>\n",
              "      <td>1.01</td>\n",
              "      <td>No</td>\n",
              "      <td>Sun</td>\n",
              "      <td>Dinner</td>\n",
              "      <td>2</td>\n",
              "    </tr>\n",
              "    <tr>\n",
              "      <th>1</th>\n",
              "      <td>10.34</td>\n",
              "      <td>1.66</td>\n",
              "      <td>No</td>\n",
              "      <td>Sun</td>\n",
              "      <td>Dinner</td>\n",
              "      <td>3</td>\n",
              "    </tr>\n",
              "    <tr>\n",
              "      <th>2</th>\n",
              "      <td>21.01</td>\n",
              "      <td>3.50</td>\n",
              "      <td>No</td>\n",
              "      <td>Sun</td>\n",
              "      <td>Dinner</td>\n",
              "      <td>3</td>\n",
              "    </tr>\n",
              "    <tr>\n",
              "      <th>3</th>\n",
              "      <td>23.68</td>\n",
              "      <td>3.31</td>\n",
              "      <td>No</td>\n",
              "      <td>Sun</td>\n",
              "      <td>Dinner</td>\n",
              "      <td>2</td>\n",
              "    </tr>\n",
              "    <tr>\n",
              "      <th>4</th>\n",
              "      <td>24.59</td>\n",
              "      <td>3.61</td>\n",
              "      <td>No</td>\n",
              "      <td>Sun</td>\n",
              "      <td>Dinner</td>\n",
              "      <td>4</td>\n",
              "    </tr>\n",
              "  </tbody>\n",
              "</table>\n",
              "</div>"
            ],
            "text/plain": [
              "   total_bill   tip smoker  day    time  size\n",
              "0       16.99  1.01     No  Sun  Dinner     2\n",
              "1       10.34  1.66     No  Sun  Dinner     3\n",
              "2       21.01  3.50     No  Sun  Dinner     3\n",
              "3       23.68  3.31     No  Sun  Dinner     2\n",
              "4       24.59  3.61     No  Sun  Dinner     4"
            ]
          },
          "metadata": {},
          "execution_count": 16
        }
      ]
    },
    {
      "cell_type": "code",
      "metadata": {
        "id": "manual-running",
        "outputId": "7f459785-07e0-4b53-fcff-0c8fa74b12ed",
        "colab": {
          "base_uri": "https://localhost:8080/",
          "height": 206
        }
      },
      "source": [
        "# Formatando gorjetas\n",
        "# ------------------------------------------------------------------------------------------------------\n",
        "gorjetas['day'].replace({'Sun': 'Dom', 'Fri': 'Sex', 'Sat': 'Sab', 'Thur': 'Qui'}, inplace=True)\n",
        "gorjetas['smoker'].replace({'No': 'Não', 'Yes': 'Sim'}, inplace=True)\n",
        "gorjetas['time'].replace({'Dinner': 'Janta', 'Lunch': 'Almoço'}, inplace=True)\n",
        "gorjetas.rename(columns={'day': 'Dia', \n",
        "                         'smoker': 'Fumante', \n",
        "                         'size': 'Tamanho', \n",
        "                         'total_bill': 'Conta', \n",
        "                         'tip': 'Gorjeta', \n",
        "                         'time': 'Hora'}, inplace=True)\n",
        "# ------------------------------------------------------------------------------------------------------\n",
        "\n",
        "gorjetas.head()"
      ],
      "id": "manual-running",
      "execution_count": 17,
      "outputs": [
        {
          "output_type": "execute_result",
          "data": {
            "text/html": [
              "<div>\n",
              "<style scoped>\n",
              "    .dataframe tbody tr th:only-of-type {\n",
              "        vertical-align: middle;\n",
              "    }\n",
              "\n",
              "    .dataframe tbody tr th {\n",
              "        vertical-align: top;\n",
              "    }\n",
              "\n",
              "    .dataframe thead th {\n",
              "        text-align: right;\n",
              "    }\n",
              "</style>\n",
              "<table border=\"1\" class=\"dataframe\">\n",
              "  <thead>\n",
              "    <tr style=\"text-align: right;\">\n",
              "      <th></th>\n",
              "      <th>Conta</th>\n",
              "      <th>Gorjeta</th>\n",
              "      <th>Fumante</th>\n",
              "      <th>Dia</th>\n",
              "      <th>Hora</th>\n",
              "      <th>Tamanho</th>\n",
              "    </tr>\n",
              "  </thead>\n",
              "  <tbody>\n",
              "    <tr>\n",
              "      <th>0</th>\n",
              "      <td>16.99</td>\n",
              "      <td>1.01</td>\n",
              "      <td>Não</td>\n",
              "      <td>Dom</td>\n",
              "      <td>Janta</td>\n",
              "      <td>2</td>\n",
              "    </tr>\n",
              "    <tr>\n",
              "      <th>1</th>\n",
              "      <td>10.34</td>\n",
              "      <td>1.66</td>\n",
              "      <td>Não</td>\n",
              "      <td>Dom</td>\n",
              "      <td>Janta</td>\n",
              "      <td>3</td>\n",
              "    </tr>\n",
              "    <tr>\n",
              "      <th>2</th>\n",
              "      <td>21.01</td>\n",
              "      <td>3.50</td>\n",
              "      <td>Não</td>\n",
              "      <td>Dom</td>\n",
              "      <td>Janta</td>\n",
              "      <td>3</td>\n",
              "    </tr>\n",
              "    <tr>\n",
              "      <th>3</th>\n",
              "      <td>23.68</td>\n",
              "      <td>3.31</td>\n",
              "      <td>Não</td>\n",
              "      <td>Dom</td>\n",
              "      <td>Janta</td>\n",
              "      <td>2</td>\n",
              "    </tr>\n",
              "    <tr>\n",
              "      <th>4</th>\n",
              "      <td>24.59</td>\n",
              "      <td>3.61</td>\n",
              "      <td>Não</td>\n",
              "      <td>Dom</td>\n",
              "      <td>Janta</td>\n",
              "      <td>4</td>\n",
              "    </tr>\n",
              "  </tbody>\n",
              "</table>\n",
              "</div>"
            ],
            "text/plain": [
              "   Conta  Gorjeta Fumante  Dia   Hora  Tamanho\n",
              "0  16.99     1.01     Não  Dom  Janta        2\n",
              "1  10.34     1.66     Não  Dom  Janta        3\n",
              "2  21.01     3.50     Não  Dom  Janta        3\n",
              "3  23.68     3.31     Não  Dom  Janta        2\n",
              "4  24.59     3.61     Não  Dom  Janta        4"
            ]
          },
          "metadata": {},
          "execution_count": 17
        }
      ]
    },
    {
      "cell_type": "code",
      "metadata": {
        "id": "dress-spanking",
        "outputId": "54f05386-a2a0-4282-e0e1-1f0d457040cb",
        "colab": {
          "base_uri": "https://localhost:8080/",
          "height": 206
        }
      },
      "source": [
        "# Criando a coluna de porcentagem de gorjetas em relação ao valor total da conta.\n",
        "gorjetas['Gorjeta(%)'] = gorjetas['Gorjeta']/gorjetas['Conta']\n",
        "gorjetas.head()"
      ],
      "id": "dress-spanking",
      "execution_count": 18,
      "outputs": [
        {
          "output_type": "execute_result",
          "data": {
            "text/html": [
              "<div>\n",
              "<style scoped>\n",
              "    .dataframe tbody tr th:only-of-type {\n",
              "        vertical-align: middle;\n",
              "    }\n",
              "\n",
              "    .dataframe tbody tr th {\n",
              "        vertical-align: top;\n",
              "    }\n",
              "\n",
              "    .dataframe thead th {\n",
              "        text-align: right;\n",
              "    }\n",
              "</style>\n",
              "<table border=\"1\" class=\"dataframe\">\n",
              "  <thead>\n",
              "    <tr style=\"text-align: right;\">\n",
              "      <th></th>\n",
              "      <th>Conta</th>\n",
              "      <th>Gorjeta</th>\n",
              "      <th>Fumante</th>\n",
              "      <th>Dia</th>\n",
              "      <th>Hora</th>\n",
              "      <th>Tamanho</th>\n",
              "      <th>Gorjeta(%)</th>\n",
              "    </tr>\n",
              "  </thead>\n",
              "  <tbody>\n",
              "    <tr>\n",
              "      <th>0</th>\n",
              "      <td>16.99</td>\n",
              "      <td>1.01</td>\n",
              "      <td>Não</td>\n",
              "      <td>Dom</td>\n",
              "      <td>Janta</td>\n",
              "      <td>2</td>\n",
              "      <td>0.059447</td>\n",
              "    </tr>\n",
              "    <tr>\n",
              "      <th>1</th>\n",
              "      <td>10.34</td>\n",
              "      <td>1.66</td>\n",
              "      <td>Não</td>\n",
              "      <td>Dom</td>\n",
              "      <td>Janta</td>\n",
              "      <td>3</td>\n",
              "      <td>0.160542</td>\n",
              "    </tr>\n",
              "    <tr>\n",
              "      <th>2</th>\n",
              "      <td>21.01</td>\n",
              "      <td>3.50</td>\n",
              "      <td>Não</td>\n",
              "      <td>Dom</td>\n",
              "      <td>Janta</td>\n",
              "      <td>3</td>\n",
              "      <td>0.166587</td>\n",
              "    </tr>\n",
              "    <tr>\n",
              "      <th>3</th>\n",
              "      <td>23.68</td>\n",
              "      <td>3.31</td>\n",
              "      <td>Não</td>\n",
              "      <td>Dom</td>\n",
              "      <td>Janta</td>\n",
              "      <td>2</td>\n",
              "      <td>0.139780</td>\n",
              "    </tr>\n",
              "    <tr>\n",
              "      <th>4</th>\n",
              "      <td>24.59</td>\n",
              "      <td>3.61</td>\n",
              "      <td>Não</td>\n",
              "      <td>Dom</td>\n",
              "      <td>Janta</td>\n",
              "      <td>4</td>\n",
              "      <td>0.146808</td>\n",
              "    </tr>\n",
              "  </tbody>\n",
              "</table>\n",
              "</div>"
            ],
            "text/plain": [
              "   Conta  Gorjeta Fumante  Dia   Hora  Tamanho  Gorjeta(%)\n",
              "0  16.99     1.01     Não  Dom  Janta        2    0.059447\n",
              "1  10.34     1.66     Não  Dom  Janta        3    0.160542\n",
              "2  21.01     3.50     Não  Dom  Janta        3    0.166587\n",
              "3  23.68     3.31     Não  Dom  Janta        2    0.139780\n",
              "4  24.59     3.61     Não  Dom  Janta        4    0.146808"
            ]
          },
          "metadata": {},
          "execution_count": 18
        }
      ]
    },
    {
      "cell_type": "code",
      "metadata": {
        "id": "foreign-physiology",
        "outputId": "a5cc4a97-56f6-4e4b-aadc-b6e7338ded97",
        "colab": {
          "base_uri": "https://localhost:8080/"
        }
      },
      "source": [
        "grupo4 = gorjetas.groupby(['Dia', 'Fumante'])\n",
        "# Fazendo a média da porcentagem de gorjetas por dia, com fumantes ou não.\n",
        "grupo4['Gorjeta(%)'].agg('mean')"
      ],
      "id": "foreign-physiology",
      "execution_count": 19,
      "outputs": [
        {
          "output_type": "execute_result",
          "data": {
            "text/plain": [
              "Dia  Fumante\n",
              "Dom  Não        0.160113\n",
              "     Sim        0.187250\n",
              "Qui  Não        0.160298\n",
              "     Sim        0.163863\n",
              "Sab  Não        0.158048\n",
              "     Sim        0.147906\n",
              "Sex  Não        0.151650\n",
              "     Sim        0.174783\n",
              "Name: Gorjeta(%), dtype: float64"
            ]
          },
          "metadata": {},
          "execution_count": 19
        }
      ]
    },
    {
      "cell_type": "code",
      "metadata": {
        "id": "premium-pennsylvania",
        "outputId": "1be7c796-f1ba-4d0d-a026-b443c158a84d",
        "colab": {
          "base_uri": "https://localhost:8080/",
          "height": 332
        }
      },
      "source": [
        "# Várias funções sobre a coluna 'Gorjeta(%)'.\n",
        "grupo4['Gorjeta(%)'].agg([('Média', 'mean'), \n",
        "                             ('Desvio Padrão', 'std'), \n",
        "                             ('Intervalo', intervalo_entre_os_extremos)])"
      ],
      "id": "premium-pennsylvania",
      "execution_count": 20,
      "outputs": [
        {
          "output_type": "execute_result",
          "data": {
            "text/html": [
              "<div>\n",
              "<style scoped>\n",
              "    .dataframe tbody tr th:only-of-type {\n",
              "        vertical-align: middle;\n",
              "    }\n",
              "\n",
              "    .dataframe tbody tr th {\n",
              "        vertical-align: top;\n",
              "    }\n",
              "\n",
              "    .dataframe thead th {\n",
              "        text-align: right;\n",
              "    }\n",
              "</style>\n",
              "<table border=\"1\" class=\"dataframe\">\n",
              "  <thead>\n",
              "    <tr style=\"text-align: right;\">\n",
              "      <th></th>\n",
              "      <th></th>\n",
              "      <th>Média</th>\n",
              "      <th>Desvio Padrão</th>\n",
              "      <th>Intervalo</th>\n",
              "    </tr>\n",
              "    <tr>\n",
              "      <th>Dia</th>\n",
              "      <th>Fumante</th>\n",
              "      <th></th>\n",
              "      <th></th>\n",
              "      <th></th>\n",
              "    </tr>\n",
              "  </thead>\n",
              "  <tbody>\n",
              "    <tr>\n",
              "      <th rowspan=\"2\" valign=\"top\">Dom</th>\n",
              "      <th>Não</th>\n",
              "      <td>0.160113</td>\n",
              "      <td>0.042347</td>\n",
              "      <td>0.193226</td>\n",
              "    </tr>\n",
              "    <tr>\n",
              "      <th>Sim</th>\n",
              "      <td>0.187250</td>\n",
              "      <td>0.154134</td>\n",
              "      <td>0.644685</td>\n",
              "    </tr>\n",
              "    <tr>\n",
              "      <th rowspan=\"2\" valign=\"top\">Qui</th>\n",
              "      <th>Não</th>\n",
              "      <td>0.160298</td>\n",
              "      <td>0.038774</td>\n",
              "      <td>0.193350</td>\n",
              "    </tr>\n",
              "    <tr>\n",
              "      <th>Sim</th>\n",
              "      <td>0.163863</td>\n",
              "      <td>0.039389</td>\n",
              "      <td>0.151240</td>\n",
              "    </tr>\n",
              "    <tr>\n",
              "      <th rowspan=\"2\" valign=\"top\">Sab</th>\n",
              "      <th>Não</th>\n",
              "      <td>0.158048</td>\n",
              "      <td>0.039767</td>\n",
              "      <td>0.235193</td>\n",
              "    </tr>\n",
              "    <tr>\n",
              "      <th>Sim</th>\n",
              "      <td>0.147906</td>\n",
              "      <td>0.061375</td>\n",
              "      <td>0.290095</td>\n",
              "    </tr>\n",
              "    <tr>\n",
              "      <th rowspan=\"2\" valign=\"top\">Sex</th>\n",
              "      <th>Não</th>\n",
              "      <td>0.151650</td>\n",
              "      <td>0.028123</td>\n",
              "      <td>0.067349</td>\n",
              "    </tr>\n",
              "    <tr>\n",
              "      <th>Sim</th>\n",
              "      <td>0.174783</td>\n",
              "      <td>0.051293</td>\n",
              "      <td>0.159925</td>\n",
              "    </tr>\n",
              "  </tbody>\n",
              "</table>\n",
              "</div>"
            ],
            "text/plain": [
              "                Média  Desvio Padrão  Intervalo\n",
              "Dia Fumante                                    \n",
              "Dom Não      0.160113       0.042347   0.193226\n",
              "    Sim      0.187250       0.154134   0.644685\n",
              "Qui Não      0.160298       0.038774   0.193350\n",
              "    Sim      0.163863       0.039389   0.151240\n",
              "Sab Não      0.158048       0.039767   0.235193\n",
              "    Sim      0.147906       0.061375   0.290095\n",
              "Sex Não      0.151650       0.028123   0.067349\n",
              "    Sim      0.174783       0.051293   0.159925"
            ]
          },
          "metadata": {},
          "execution_count": 20
        }
      ]
    },
    {
      "cell_type": "code",
      "metadata": {
        "scrolled": true,
        "id": "level-spring",
        "outputId": "06b901a6-1632-4a12-fad3-54ee1d9eae5d",
        "colab": {
          "base_uri": "https://localhost:8080/",
          "height": 363
        }
      },
      "source": [
        "# Várias funções sobre diferentes colunas.\n",
        "grupo4.agg({'Gorjeta(%)': [('Mínimo', 'min'), \n",
        "                             ('Máximo', 'max'), \n",
        "                             ('Média', 'mean'), \n",
        "                             ('Desvio Padrão', 'std')], \n",
        "              'Tamanho': [('Soma', 'sum')]})"
      ],
      "id": "level-spring",
      "execution_count": 21,
      "outputs": [
        {
          "output_type": "execute_result",
          "data": {
            "text/html": [
              "<div>\n",
              "<style scoped>\n",
              "    .dataframe tbody tr th:only-of-type {\n",
              "        vertical-align: middle;\n",
              "    }\n",
              "\n",
              "    .dataframe tbody tr th {\n",
              "        vertical-align: top;\n",
              "    }\n",
              "\n",
              "    .dataframe thead tr th {\n",
              "        text-align: left;\n",
              "    }\n",
              "\n",
              "    .dataframe thead tr:last-of-type th {\n",
              "        text-align: right;\n",
              "    }\n",
              "</style>\n",
              "<table border=\"1\" class=\"dataframe\">\n",
              "  <thead>\n",
              "    <tr>\n",
              "      <th></th>\n",
              "      <th></th>\n",
              "      <th colspan=\"4\" halign=\"left\">Gorjeta(%)</th>\n",
              "      <th>Tamanho</th>\n",
              "    </tr>\n",
              "    <tr>\n",
              "      <th></th>\n",
              "      <th></th>\n",
              "      <th>Mínimo</th>\n",
              "      <th>Máximo</th>\n",
              "      <th>Média</th>\n",
              "      <th>Desvio Padrão</th>\n",
              "      <th>Soma</th>\n",
              "    </tr>\n",
              "    <tr>\n",
              "      <th>Dia</th>\n",
              "      <th>Fumante</th>\n",
              "      <th></th>\n",
              "      <th></th>\n",
              "      <th></th>\n",
              "      <th></th>\n",
              "      <th></th>\n",
              "    </tr>\n",
              "  </thead>\n",
              "  <tbody>\n",
              "    <tr>\n",
              "      <th rowspan=\"2\" valign=\"top\">Dom</th>\n",
              "      <th>Não</th>\n",
              "      <td>0.059447</td>\n",
              "      <td>0.252672</td>\n",
              "      <td>0.160113</td>\n",
              "      <td>0.042347</td>\n",
              "      <td>167</td>\n",
              "    </tr>\n",
              "    <tr>\n",
              "      <th>Sim</th>\n",
              "      <td>0.065660</td>\n",
              "      <td>0.710345</td>\n",
              "      <td>0.187250</td>\n",
              "      <td>0.154134</td>\n",
              "      <td>49</td>\n",
              "    </tr>\n",
              "    <tr>\n",
              "      <th rowspan=\"2\" valign=\"top\">Qui</th>\n",
              "      <th>Não</th>\n",
              "      <td>0.072961</td>\n",
              "      <td>0.266312</td>\n",
              "      <td>0.160298</td>\n",
              "      <td>0.038774</td>\n",
              "      <td>112</td>\n",
              "    </tr>\n",
              "    <tr>\n",
              "      <th>Sim</th>\n",
              "      <td>0.090014</td>\n",
              "      <td>0.241255</td>\n",
              "      <td>0.163863</td>\n",
              "      <td>0.039389</td>\n",
              "      <td>40</td>\n",
              "    </tr>\n",
              "    <tr>\n",
              "      <th rowspan=\"2\" valign=\"top\">Sab</th>\n",
              "      <th>Não</th>\n",
              "      <td>0.056797</td>\n",
              "      <td>0.291990</td>\n",
              "      <td>0.158048</td>\n",
              "      <td>0.039767</td>\n",
              "      <td>115</td>\n",
              "    </tr>\n",
              "    <tr>\n",
              "      <th>Sim</th>\n",
              "      <td>0.035638</td>\n",
              "      <td>0.325733</td>\n",
              "      <td>0.147906</td>\n",
              "      <td>0.061375</td>\n",
              "      <td>104</td>\n",
              "    </tr>\n",
              "    <tr>\n",
              "      <th rowspan=\"2\" valign=\"top\">Sex</th>\n",
              "      <th>Não</th>\n",
              "      <td>0.120385</td>\n",
              "      <td>0.187735</td>\n",
              "      <td>0.151650</td>\n",
              "      <td>0.028123</td>\n",
              "      <td>9</td>\n",
              "    </tr>\n",
              "    <tr>\n",
              "      <th>Sim</th>\n",
              "      <td>0.103555</td>\n",
              "      <td>0.263480</td>\n",
              "      <td>0.174783</td>\n",
              "      <td>0.051293</td>\n",
              "      <td>31</td>\n",
              "    </tr>\n",
              "  </tbody>\n",
              "</table>\n",
              "</div>"
            ],
            "text/plain": [
              "            Gorjeta(%)                                   Tamanho\n",
              "                Mínimo    Máximo     Média Desvio Padrão    Soma\n",
              "Dia Fumante                                                     \n",
              "Dom Não       0.059447  0.252672  0.160113      0.042347     167\n",
              "    Sim       0.065660  0.710345  0.187250      0.154134      49\n",
              "Qui Não       0.072961  0.266312  0.160298      0.038774     112\n",
              "    Sim       0.090014  0.241255  0.163863      0.039389      40\n",
              "Sab Não       0.056797  0.291990  0.158048      0.039767     115\n",
              "    Sim       0.035638  0.325733  0.147906      0.061375     104\n",
              "Sex Não       0.120385  0.187735  0.151650      0.028123       9\n",
              "    Sim       0.103555  0.263480  0.174783      0.051293      31"
            ]
          },
          "metadata": {},
          "execution_count": 21
        }
      ]
    },
    {
      "cell_type": "markdown",
      "metadata": {
        "id": "spare-small"
      },
      "source": [
        "-------------------------------------------------------------------------------------------------------"
      ],
      "id": "spare-small"
    },
    {
      "cell_type": "markdown",
      "metadata": {
        "id": "fluid-melissa"
      },
      "source": [
        "### apply([funções])\n",
        "#### Parecido com agg(), mas é usado quando as funções aceitam mais argumentos."
      ],
      "id": "fluid-melissa"
    },
    {
      "cell_type": "code",
      "metadata": {
        "id": "passive-hobby",
        "outputId": "76a275fb-a304-4c75-af14-32bcea33d940",
        "colab": {
          "base_uri": "https://localhost:8080/",
          "height": 206
        }
      },
      "source": [
        "def topo(df, column='Gorjeta(%)'):\n",
        "    return df[column].max()\n",
        "\n",
        "gorjetas.head()"
      ],
      "id": "passive-hobby",
      "execution_count": 22,
      "outputs": [
        {
          "output_type": "execute_result",
          "data": {
            "text/html": [
              "<div>\n",
              "<style scoped>\n",
              "    .dataframe tbody tr th:only-of-type {\n",
              "        vertical-align: middle;\n",
              "    }\n",
              "\n",
              "    .dataframe tbody tr th {\n",
              "        vertical-align: top;\n",
              "    }\n",
              "\n",
              "    .dataframe thead th {\n",
              "        text-align: right;\n",
              "    }\n",
              "</style>\n",
              "<table border=\"1\" class=\"dataframe\">\n",
              "  <thead>\n",
              "    <tr style=\"text-align: right;\">\n",
              "      <th></th>\n",
              "      <th>Conta</th>\n",
              "      <th>Gorjeta</th>\n",
              "      <th>Fumante</th>\n",
              "      <th>Dia</th>\n",
              "      <th>Hora</th>\n",
              "      <th>Tamanho</th>\n",
              "      <th>Gorjeta(%)</th>\n",
              "    </tr>\n",
              "  </thead>\n",
              "  <tbody>\n",
              "    <tr>\n",
              "      <th>0</th>\n",
              "      <td>16.99</td>\n",
              "      <td>1.01</td>\n",
              "      <td>Não</td>\n",
              "      <td>Dom</td>\n",
              "      <td>Janta</td>\n",
              "      <td>2</td>\n",
              "      <td>0.059447</td>\n",
              "    </tr>\n",
              "    <tr>\n",
              "      <th>1</th>\n",
              "      <td>10.34</td>\n",
              "      <td>1.66</td>\n",
              "      <td>Não</td>\n",
              "      <td>Dom</td>\n",
              "      <td>Janta</td>\n",
              "      <td>3</td>\n",
              "      <td>0.160542</td>\n",
              "    </tr>\n",
              "    <tr>\n",
              "      <th>2</th>\n",
              "      <td>21.01</td>\n",
              "      <td>3.50</td>\n",
              "      <td>Não</td>\n",
              "      <td>Dom</td>\n",
              "      <td>Janta</td>\n",
              "      <td>3</td>\n",
              "      <td>0.166587</td>\n",
              "    </tr>\n",
              "    <tr>\n",
              "      <th>3</th>\n",
              "      <td>23.68</td>\n",
              "      <td>3.31</td>\n",
              "      <td>Não</td>\n",
              "      <td>Dom</td>\n",
              "      <td>Janta</td>\n",
              "      <td>2</td>\n",
              "      <td>0.139780</td>\n",
              "    </tr>\n",
              "    <tr>\n",
              "      <th>4</th>\n",
              "      <td>24.59</td>\n",
              "      <td>3.61</td>\n",
              "      <td>Não</td>\n",
              "      <td>Dom</td>\n",
              "      <td>Janta</td>\n",
              "      <td>4</td>\n",
              "      <td>0.146808</td>\n",
              "    </tr>\n",
              "  </tbody>\n",
              "</table>\n",
              "</div>"
            ],
            "text/plain": [
              "   Conta  Gorjeta Fumante  Dia   Hora  Tamanho  Gorjeta(%)\n",
              "0  16.99     1.01     Não  Dom  Janta        2    0.059447\n",
              "1  10.34     1.66     Não  Dom  Janta        3    0.160542\n",
              "2  21.01     3.50     Não  Dom  Janta        3    0.166587\n",
              "3  23.68     3.31     Não  Dom  Janta        2    0.139780\n",
              "4  24.59     3.61     Não  Dom  Janta        4    0.146808"
            ]
          },
          "metadata": {},
          "execution_count": 22
        }
      ]
    },
    {
      "cell_type": "code",
      "metadata": {
        "id": "incorporated-corps",
        "outputId": "bd82221c-fbb5-4f87-f3fa-7cb6dbe37030",
        "colab": {
          "base_uri": "https://localhost:8080/"
        }
      },
      "source": [
        "topo(gorjetas, 'Conta')"
      ],
      "id": "incorporated-corps",
      "execution_count": 23,
      "outputs": [
        {
          "output_type": "execute_result",
          "data": {
            "text/plain": [
              "50.81"
            ]
          },
          "metadata": {},
          "execution_count": 23
        }
      ]
    },
    {
      "cell_type": "code",
      "metadata": {
        "id": "contemporary-summit",
        "outputId": "bd9d8646-17d0-4f64-d680-a3e39252ed58",
        "colab": {
          "base_uri": "https://localhost:8080/"
        }
      },
      "source": [
        "gorjetas['Conta'].idxmax()"
      ],
      "id": "contemporary-summit",
      "execution_count": 24,
      "outputs": [
        {
          "output_type": "execute_result",
          "data": {
            "text/plain": [
              "170"
            ]
          },
          "metadata": {},
          "execution_count": 24
        }
      ]
    },
    {
      "cell_type": "code",
      "metadata": {
        "id": "detected-chambers",
        "outputId": "1275c4ef-fe4f-4f54-a088-e15d31c71cc4",
        "colab": {
          "base_uri": "https://localhost:8080/"
        }
      },
      "source": [
        "gorjetas.loc[170].loc[['Conta', 'Dia']] # Prova real."
      ],
      "id": "detected-chambers",
      "execution_count": 25,
      "outputs": [
        {
          "output_type": "execute_result",
          "data": {
            "text/plain": [
              "Conta    50.81\n",
              "Dia        Sab\n",
              "Name: 170, dtype: object"
            ]
          },
          "metadata": {},
          "execution_count": 25
        }
      ]
    },
    {
      "cell_type": "code",
      "metadata": {
        "id": "unable-chancellor",
        "outputId": "ddf16471-f173-4f4a-c24d-3004ee1602d7",
        "colab": {
          "base_uri": "https://localhost:8080/"
        }
      },
      "source": [
        "# Agrupando por 'Dia' e aplicando a função 'topo' sobre a coluna 'Conta'. Os valores retornados são os \n",
        "# valores máximos de 'Conta' por 'Dia'.\n",
        "gorjetas.groupby('Dia').apply(topo, 'Conta')"
      ],
      "id": "unable-chancellor",
      "execution_count": 26,
      "outputs": [
        {
          "output_type": "execute_result",
          "data": {
            "text/plain": [
              "Dia\n",
              "Dom    48.17\n",
              "Qui    43.11\n",
              "Sab    50.81\n",
              "Sex    40.17\n",
              "dtype: float64"
            ]
          },
          "metadata": {},
          "execution_count": 26
        }
      ]
    },
    {
      "cell_type": "markdown",
      "metadata": {
        "id": "returning-turning"
      },
      "source": [
        "-------------------------------------------------------------------------------------------------------"
      ],
      "id": "returning-turning"
    },
    {
      "cell_type": "markdown",
      "metadata": {
        "id": "funny-indie"
      },
      "source": [
        "### transform([funções])\n",
        "#### Retorna uma array do mesmo tamanho que a instância agrupada. Os valores individuais, que foram agrupados, serão substituídos pelos resultados das funções de agregação."
      ],
      "id": "funny-indie"
    },
    {
      "cell_type": "code",
      "metadata": {
        "id": "plastic-cancellation",
        "outputId": "7c640e40-308f-4c5b-a680-84dc8d137c88",
        "colab": {
          "base_uri": "https://localhost:8080/",
          "height": 426
        }
      },
      "source": [
        "df8 = pd.DataFrame({'chave': ['a', 'b', 'c'] * 4, 'valor': np.arange(12.)})\n",
        "df8"
      ],
      "id": "plastic-cancellation",
      "execution_count": 27,
      "outputs": [
        {
          "output_type": "execute_result",
          "data": {
            "text/html": [
              "<div>\n",
              "<style scoped>\n",
              "    .dataframe tbody tr th:only-of-type {\n",
              "        vertical-align: middle;\n",
              "    }\n",
              "\n",
              "    .dataframe tbody tr th {\n",
              "        vertical-align: top;\n",
              "    }\n",
              "\n",
              "    .dataframe thead th {\n",
              "        text-align: right;\n",
              "    }\n",
              "</style>\n",
              "<table border=\"1\" class=\"dataframe\">\n",
              "  <thead>\n",
              "    <tr style=\"text-align: right;\">\n",
              "      <th></th>\n",
              "      <th>chave</th>\n",
              "      <th>valor</th>\n",
              "    </tr>\n",
              "  </thead>\n",
              "  <tbody>\n",
              "    <tr>\n",
              "      <th>0</th>\n",
              "      <td>a</td>\n",
              "      <td>0.0</td>\n",
              "    </tr>\n",
              "    <tr>\n",
              "      <th>1</th>\n",
              "      <td>b</td>\n",
              "      <td>1.0</td>\n",
              "    </tr>\n",
              "    <tr>\n",
              "      <th>2</th>\n",
              "      <td>c</td>\n",
              "      <td>2.0</td>\n",
              "    </tr>\n",
              "    <tr>\n",
              "      <th>3</th>\n",
              "      <td>a</td>\n",
              "      <td>3.0</td>\n",
              "    </tr>\n",
              "    <tr>\n",
              "      <th>4</th>\n",
              "      <td>b</td>\n",
              "      <td>4.0</td>\n",
              "    </tr>\n",
              "    <tr>\n",
              "      <th>5</th>\n",
              "      <td>c</td>\n",
              "      <td>5.0</td>\n",
              "    </tr>\n",
              "    <tr>\n",
              "      <th>6</th>\n",
              "      <td>a</td>\n",
              "      <td>6.0</td>\n",
              "    </tr>\n",
              "    <tr>\n",
              "      <th>7</th>\n",
              "      <td>b</td>\n",
              "      <td>7.0</td>\n",
              "    </tr>\n",
              "    <tr>\n",
              "      <th>8</th>\n",
              "      <td>c</td>\n",
              "      <td>8.0</td>\n",
              "    </tr>\n",
              "    <tr>\n",
              "      <th>9</th>\n",
              "      <td>a</td>\n",
              "      <td>9.0</td>\n",
              "    </tr>\n",
              "    <tr>\n",
              "      <th>10</th>\n",
              "      <td>b</td>\n",
              "      <td>10.0</td>\n",
              "    </tr>\n",
              "    <tr>\n",
              "      <th>11</th>\n",
              "      <td>c</td>\n",
              "      <td>11.0</td>\n",
              "    </tr>\n",
              "  </tbody>\n",
              "</table>\n",
              "</div>"
            ],
            "text/plain": [
              "   chave  valor\n",
              "0      a    0.0\n",
              "1      b    1.0\n",
              "2      c    2.0\n",
              "3      a    3.0\n",
              "4      b    4.0\n",
              "5      c    5.0\n",
              "6      a    6.0\n",
              "7      b    7.0\n",
              "8      c    8.0\n",
              "9      a    9.0\n",
              "10     b   10.0\n",
              "11     c   11.0"
            ]
          },
          "metadata": {},
          "execution_count": 27
        }
      ]
    },
    {
      "cell_type": "code",
      "metadata": {
        "scrolled": true,
        "id": "bright-writer",
        "outputId": "80b21cf2-c9da-4f90-f721-0f2c053b8f5b",
        "colab": {
          "base_uri": "https://localhost:8080/",
          "height": 426
        }
      },
      "source": [
        "grupo5 = df8.groupby('chave')\n",
        "grupo5.transform('mean')"
      ],
      "id": "bright-writer",
      "execution_count": 28,
      "outputs": [
        {
          "output_type": "execute_result",
          "data": {
            "text/html": [
              "<div>\n",
              "<style scoped>\n",
              "    .dataframe tbody tr th:only-of-type {\n",
              "        vertical-align: middle;\n",
              "    }\n",
              "\n",
              "    .dataframe tbody tr th {\n",
              "        vertical-align: top;\n",
              "    }\n",
              "\n",
              "    .dataframe thead th {\n",
              "        text-align: right;\n",
              "    }\n",
              "</style>\n",
              "<table border=\"1\" class=\"dataframe\">\n",
              "  <thead>\n",
              "    <tr style=\"text-align: right;\">\n",
              "      <th></th>\n",
              "      <th>valor</th>\n",
              "    </tr>\n",
              "  </thead>\n",
              "  <tbody>\n",
              "    <tr>\n",
              "      <th>0</th>\n",
              "      <td>4.5</td>\n",
              "    </tr>\n",
              "    <tr>\n",
              "      <th>1</th>\n",
              "      <td>5.5</td>\n",
              "    </tr>\n",
              "    <tr>\n",
              "      <th>2</th>\n",
              "      <td>6.5</td>\n",
              "    </tr>\n",
              "    <tr>\n",
              "      <th>3</th>\n",
              "      <td>4.5</td>\n",
              "    </tr>\n",
              "    <tr>\n",
              "      <th>4</th>\n",
              "      <td>5.5</td>\n",
              "    </tr>\n",
              "    <tr>\n",
              "      <th>5</th>\n",
              "      <td>6.5</td>\n",
              "    </tr>\n",
              "    <tr>\n",
              "      <th>6</th>\n",
              "      <td>4.5</td>\n",
              "    </tr>\n",
              "    <tr>\n",
              "      <th>7</th>\n",
              "      <td>5.5</td>\n",
              "    </tr>\n",
              "    <tr>\n",
              "      <th>8</th>\n",
              "      <td>6.5</td>\n",
              "    </tr>\n",
              "    <tr>\n",
              "      <th>9</th>\n",
              "      <td>4.5</td>\n",
              "    </tr>\n",
              "    <tr>\n",
              "      <th>10</th>\n",
              "      <td>5.5</td>\n",
              "    </tr>\n",
              "    <tr>\n",
              "      <th>11</th>\n",
              "      <td>6.5</td>\n",
              "    </tr>\n",
              "  </tbody>\n",
              "</table>\n",
              "</div>"
            ],
            "text/plain": [
              "    valor\n",
              "0     4.5\n",
              "1     5.5\n",
              "2     6.5\n",
              "3     4.5\n",
              "4     5.5\n",
              "5     6.5\n",
              "6     4.5\n",
              "7     5.5\n",
              "8     6.5\n",
              "9     4.5\n",
              "10    5.5\n",
              "11    6.5"
            ]
          },
          "metadata": {},
          "execution_count": 28
        }
      ]
    },
    {
      "cell_type": "code",
      "metadata": {
        "id": "medium-hello",
        "outputId": "a5acb0ff-687c-4f0a-ead8-5a0747304871",
        "colab": {
          "base_uri": "https://localhost:8080/"
        }
      },
      "source": [
        "s1 = pd.Series(np.arange(6))\n",
        "s1"
      ],
      "id": "medium-hello",
      "execution_count": 29,
      "outputs": [
        {
          "output_type": "execute_result",
          "data": {
            "text/plain": [
              "0    0\n",
              "1    1\n",
              "2    2\n",
              "3    3\n",
              "4    4\n",
              "5    5\n",
              "dtype: int64"
            ]
          },
          "metadata": {},
          "execution_count": 29
        }
      ]
    },
    {
      "cell_type": "code",
      "metadata": {
        "id": "english-boating",
        "outputId": "87a6956d-83d2-48ba-b3c7-03b981956f2d",
        "colab": {
          "base_uri": "https://localhost:8080/"
        }
      },
      "source": [
        "s1 ** 2"
      ],
      "id": "english-boating",
      "execution_count": 30,
      "outputs": [
        {
          "output_type": "execute_result",
          "data": {
            "text/plain": [
              "0     0\n",
              "1     1\n",
              "2     4\n",
              "3     9\n",
              "4    16\n",
              "5    25\n",
              "dtype: int64"
            ]
          },
          "metadata": {},
          "execution_count": 30
        }
      ]
    },
    {
      "cell_type": "code",
      "metadata": {
        "scrolled": false,
        "id": "accurate-measure",
        "outputId": "10bc8f0e-1f33-4b63-b0b9-042853b3789e",
        "colab": {
          "base_uri": "https://localhost:8080/",
          "height": 426
        }
      },
      "source": [
        "grupo5.transform(lambda s: s ** 2)"
      ],
      "id": "accurate-measure",
      "execution_count": 31,
      "outputs": [
        {
          "output_type": "execute_result",
          "data": {
            "text/html": [
              "<div>\n",
              "<style scoped>\n",
              "    .dataframe tbody tr th:only-of-type {\n",
              "        vertical-align: middle;\n",
              "    }\n",
              "\n",
              "    .dataframe tbody tr th {\n",
              "        vertical-align: top;\n",
              "    }\n",
              "\n",
              "    .dataframe thead th {\n",
              "        text-align: right;\n",
              "    }\n",
              "</style>\n",
              "<table border=\"1\" class=\"dataframe\">\n",
              "  <thead>\n",
              "    <tr style=\"text-align: right;\">\n",
              "      <th></th>\n",
              "      <th>valor</th>\n",
              "    </tr>\n",
              "  </thead>\n",
              "  <tbody>\n",
              "    <tr>\n",
              "      <th>0</th>\n",
              "      <td>0.0</td>\n",
              "    </tr>\n",
              "    <tr>\n",
              "      <th>1</th>\n",
              "      <td>1.0</td>\n",
              "    </tr>\n",
              "    <tr>\n",
              "      <th>2</th>\n",
              "      <td>4.0</td>\n",
              "    </tr>\n",
              "    <tr>\n",
              "      <th>3</th>\n",
              "      <td>9.0</td>\n",
              "    </tr>\n",
              "    <tr>\n",
              "      <th>4</th>\n",
              "      <td>16.0</td>\n",
              "    </tr>\n",
              "    <tr>\n",
              "      <th>5</th>\n",
              "      <td>25.0</td>\n",
              "    </tr>\n",
              "    <tr>\n",
              "      <th>6</th>\n",
              "      <td>36.0</td>\n",
              "    </tr>\n",
              "    <tr>\n",
              "      <th>7</th>\n",
              "      <td>49.0</td>\n",
              "    </tr>\n",
              "    <tr>\n",
              "      <th>8</th>\n",
              "      <td>64.0</td>\n",
              "    </tr>\n",
              "    <tr>\n",
              "      <th>9</th>\n",
              "      <td>81.0</td>\n",
              "    </tr>\n",
              "    <tr>\n",
              "      <th>10</th>\n",
              "      <td>100.0</td>\n",
              "    </tr>\n",
              "    <tr>\n",
              "      <th>11</th>\n",
              "      <td>121.0</td>\n",
              "    </tr>\n",
              "  </tbody>\n",
              "</table>\n",
              "</div>"
            ],
            "text/plain": [
              "    valor\n",
              "0     0.0\n",
              "1     1.0\n",
              "2     4.0\n",
              "3     9.0\n",
              "4    16.0\n",
              "5    25.0\n",
              "6    36.0\n",
              "7    49.0\n",
              "8    64.0\n",
              "9    81.0\n",
              "10  100.0\n",
              "11  121.0"
            ]
          },
          "metadata": {},
          "execution_count": 31
        }
      ]
    },
    {
      "cell_type": "markdown",
      "metadata": {
        "id": "binding-problem"
      },
      "source": [
        "-------------------------------------------------------------------------------------------------------"
      ],
      "id": "binding-problem"
    },
    {
      "cell_type": "markdown",
      "metadata": {
        "id": "growing-kennedy"
      },
      "source": [
        "### pivot_table(c, index=agg1, columns=agg2, aggfunc=func)\n",
        "#### Funciona como groupby, criará um DataFrame com o dados da coluna c agrupados baseados nos índices agg1 e colunas agg2, com a função func aplicada."
      ],
      "id": "growing-kennedy"
    },
    {
      "cell_type": "code",
      "metadata": {
        "id": "wrapped-thermal",
        "outputId": "8016850e-a619-48bb-e55a-2e0b99d19e73",
        "colab": {
          "base_uri": "https://localhost:8080/",
          "height": 206
        }
      },
      "source": [
        "df1"
      ],
      "id": "wrapped-thermal",
      "execution_count": 32,
      "outputs": [
        {
          "output_type": "execute_result",
          "data": {
            "text/html": [
              "<div>\n",
              "<style scoped>\n",
              "    .dataframe tbody tr th:only-of-type {\n",
              "        vertical-align: middle;\n",
              "    }\n",
              "\n",
              "    .dataframe tbody tr th {\n",
              "        vertical-align: top;\n",
              "    }\n",
              "\n",
              "    .dataframe thead th {\n",
              "        text-align: right;\n",
              "    }\n",
              "</style>\n",
              "<table border=\"1\" class=\"dataframe\">\n",
              "  <thead>\n",
              "    <tr style=\"text-align: right;\">\n",
              "      <th></th>\n",
              "      <th>data1</th>\n",
              "      <th>data2</th>\n",
              "      <th>chave1</th>\n",
              "      <th>chave2</th>\n",
              "    </tr>\n",
              "  </thead>\n",
              "  <tbody>\n",
              "    <tr>\n",
              "      <th>0</th>\n",
              "      <td>0.271696</td>\n",
              "      <td>6.580766</td>\n",
              "      <td>0</td>\n",
              "      <td>a</td>\n",
              "    </tr>\n",
              "    <tr>\n",
              "      <th>1</th>\n",
              "      <td>0.292757</td>\n",
              "      <td>10.623011</td>\n",
              "      <td>1</td>\n",
              "      <td>a</td>\n",
              "    </tr>\n",
              "    <tr>\n",
              "      <th>2</th>\n",
              "      <td>0.306635</td>\n",
              "      <td>7.952431</td>\n",
              "      <td>1</td>\n",
              "      <td>b</td>\n",
              "    </tr>\n",
              "    <tr>\n",
              "      <th>3</th>\n",
              "      <td>0.647462</td>\n",
              "      <td>-0.024227</td>\n",
              "      <td>0</td>\n",
              "      <td>a</td>\n",
              "    </tr>\n",
              "    <tr>\n",
              "      <th>4</th>\n",
              "      <td>0.480225</td>\n",
              "      <td>16.412569</td>\n",
              "      <td>0</td>\n",
              "      <td>b</td>\n",
              "    </tr>\n",
              "  </tbody>\n",
              "</table>\n",
              "</div>"
            ],
            "text/plain": [
              "      data1      data2  chave1 chave2\n",
              "0  0.271696   6.580766       0      a\n",
              "1  0.292757  10.623011       1      a\n",
              "2  0.306635   7.952431       1      b\n",
              "3  0.647462  -0.024227       0      a\n",
              "4  0.480225  16.412569       0      b"
            ]
          },
          "metadata": {},
          "execution_count": 32
        }
      ]
    },
    {
      "cell_type": "code",
      "metadata": {
        "scrolled": true,
        "id": "fabulous-surgeon",
        "outputId": "a2c5e50b-84c4-4667-de13-3c33fa36c285",
        "colab": {
          "base_uri": "https://localhost:8080/",
          "height": 206
        }
      },
      "source": [
        "tabela_pivo = df1.pivot_table(['data1', 'data2'], index='chave1', columns='chave2', aggfunc='mean').stack()\n",
        "tabela_pivo"
      ],
      "id": "fabulous-surgeon",
      "execution_count": 33,
      "outputs": [
        {
          "output_type": "execute_result",
          "data": {
            "text/html": [
              "<div>\n",
              "<style scoped>\n",
              "    .dataframe tbody tr th:only-of-type {\n",
              "        vertical-align: middle;\n",
              "    }\n",
              "\n",
              "    .dataframe tbody tr th {\n",
              "        vertical-align: top;\n",
              "    }\n",
              "\n",
              "    .dataframe thead th {\n",
              "        text-align: right;\n",
              "    }\n",
              "</style>\n",
              "<table border=\"1\" class=\"dataframe\">\n",
              "  <thead>\n",
              "    <tr style=\"text-align: right;\">\n",
              "      <th></th>\n",
              "      <th></th>\n",
              "      <th>data1</th>\n",
              "      <th>data2</th>\n",
              "    </tr>\n",
              "    <tr>\n",
              "      <th>chave1</th>\n",
              "      <th>chave2</th>\n",
              "      <th></th>\n",
              "      <th></th>\n",
              "    </tr>\n",
              "  </thead>\n",
              "  <tbody>\n",
              "    <tr>\n",
              "      <th rowspan=\"2\" valign=\"top\">0</th>\n",
              "      <th>a</th>\n",
              "      <td>0.459579</td>\n",
              "      <td>3.278269</td>\n",
              "    </tr>\n",
              "    <tr>\n",
              "      <th>b</th>\n",
              "      <td>0.480225</td>\n",
              "      <td>16.412569</td>\n",
              "    </tr>\n",
              "    <tr>\n",
              "      <th rowspan=\"2\" valign=\"top\">1</th>\n",
              "      <th>a</th>\n",
              "      <td>0.292757</td>\n",
              "      <td>10.623011</td>\n",
              "    </tr>\n",
              "    <tr>\n",
              "      <th>b</th>\n",
              "      <td>0.306635</td>\n",
              "      <td>7.952431</td>\n",
              "    </tr>\n",
              "  </tbody>\n",
              "</table>\n",
              "</div>"
            ],
            "text/plain": [
              "                  data1      data2\n",
              "chave1 chave2                     \n",
              "0      a       0.459579   3.278269\n",
              "       b       0.480225  16.412569\n",
              "1      a       0.292757  10.623011\n",
              "       b       0.306635   7.952431"
            ]
          },
          "metadata": {},
          "execution_count": 33
        }
      ]
    },
    {
      "cell_type": "markdown",
      "metadata": {
        "id": "champion-banana"
      },
      "source": [
        "-------------------------------------------------------------------------------------------------------"
      ],
      "id": "champion-banana"
    },
    {
      "cell_type": "markdown",
      "metadata": {
        "id": "indian-basic"
      },
      "source": [
        "### size()\n",
        "#### Retorna a quantidade de elementos em cada grupo."
      ],
      "id": "indian-basic"
    },
    {
      "cell_type": "code",
      "metadata": {
        "scrolled": true,
        "id": "logical-ethnic",
        "outputId": "b0283e96-4a76-4069-92f6-0936dcf03a59",
        "colab": {
          "base_uri": "https://localhost:8080/",
          "height": 206
        }
      },
      "source": [
        "df1"
      ],
      "id": "logical-ethnic",
      "execution_count": 34,
      "outputs": [
        {
          "output_type": "execute_result",
          "data": {
            "text/html": [
              "<div>\n",
              "<style scoped>\n",
              "    .dataframe tbody tr th:only-of-type {\n",
              "        vertical-align: middle;\n",
              "    }\n",
              "\n",
              "    .dataframe tbody tr th {\n",
              "        vertical-align: top;\n",
              "    }\n",
              "\n",
              "    .dataframe thead th {\n",
              "        text-align: right;\n",
              "    }\n",
              "</style>\n",
              "<table border=\"1\" class=\"dataframe\">\n",
              "  <thead>\n",
              "    <tr style=\"text-align: right;\">\n",
              "      <th></th>\n",
              "      <th>data1</th>\n",
              "      <th>data2</th>\n",
              "      <th>chave1</th>\n",
              "      <th>chave2</th>\n",
              "    </tr>\n",
              "  </thead>\n",
              "  <tbody>\n",
              "    <tr>\n",
              "      <th>0</th>\n",
              "      <td>0.271696</td>\n",
              "      <td>6.580766</td>\n",
              "      <td>0</td>\n",
              "      <td>a</td>\n",
              "    </tr>\n",
              "    <tr>\n",
              "      <th>1</th>\n",
              "      <td>0.292757</td>\n",
              "      <td>10.623011</td>\n",
              "      <td>1</td>\n",
              "      <td>a</td>\n",
              "    </tr>\n",
              "    <tr>\n",
              "      <th>2</th>\n",
              "      <td>0.306635</td>\n",
              "      <td>7.952431</td>\n",
              "      <td>1</td>\n",
              "      <td>b</td>\n",
              "    </tr>\n",
              "    <tr>\n",
              "      <th>3</th>\n",
              "      <td>0.647462</td>\n",
              "      <td>-0.024227</td>\n",
              "      <td>0</td>\n",
              "      <td>a</td>\n",
              "    </tr>\n",
              "    <tr>\n",
              "      <th>4</th>\n",
              "      <td>0.480225</td>\n",
              "      <td>16.412569</td>\n",
              "      <td>0</td>\n",
              "      <td>b</td>\n",
              "    </tr>\n",
              "  </tbody>\n",
              "</table>\n",
              "</div>"
            ],
            "text/plain": [
              "      data1      data2  chave1 chave2\n",
              "0  0.271696   6.580766       0      a\n",
              "1  0.292757  10.623011       1      a\n",
              "2  0.306635   7.952431       1      b\n",
              "3  0.647462  -0.024227       0      a\n",
              "4  0.480225  16.412569       0      b"
            ]
          },
          "metadata": {},
          "execution_count": 34
        }
      ]
    },
    {
      "cell_type": "code",
      "metadata": {
        "id": "hawaiian-mortality",
        "outputId": "3a664154-1458-49e8-d6e7-50dbdb115791",
        "colab": {
          "base_uri": "https://localhost:8080/"
        }
      },
      "source": [
        "df1.groupby(['chave1', 'chave2']).size()"
      ],
      "id": "hawaiian-mortality",
      "execution_count": 35,
      "outputs": [
        {
          "output_type": "execute_result",
          "data": {
            "text/plain": [
              "chave1  chave2\n",
              "0       a         2\n",
              "        b         1\n",
              "1       a         1\n",
              "        b         1\n",
              "dtype: int64"
            ]
          },
          "metadata": {},
          "execution_count": 35
        }
      ]
    }
  ]
}